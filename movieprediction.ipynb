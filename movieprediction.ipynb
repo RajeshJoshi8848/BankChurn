{
  "nbformat": 4,
  "nbformat_minor": 0,
  "metadata": {
    "colab": {
      "provenance": [],
      "authorship_tag": "ABX9TyNuXid4pUd057/HmGswKaUV",
      "include_colab_link": true
    },
    "kernelspec": {
      "name": "python3",
      "display_name": "Python 3"
    },
    "language_info": {
      "name": "python"
    }
  },
  "cells": [
    {
      "cell_type": "markdown",
      "metadata": {
        "id": "view-in-github",
        "colab_type": "text"
      },
      "source": [
        "<a href=\"https://colab.research.google.com/github/RajeshJoshi8848/BankChurn/blob/main/movieprediction.ipynb\" target=\"_parent\"><img src=\"https://colab.research.google.com/assets/colab-badge.svg\" alt=\"Open In Colab\"/></a>"
      ]
    },
    {
      "cell_type": "markdown",
      "source": [
        "Import Library"
      ],
      "metadata": {
        "id": "OqfpRJ_u6FB1"
      }
    },
    {
      "cell_type": "code",
      "source": [
        "import pandas as pd"
      ],
      "metadata": {
        "id": "AeB8SSmG6Hf8"
      },
      "execution_count": null,
      "outputs": []
    },
    {
      "cell_type": "code",
      "source": [
        "import numpy as np"
      ],
      "metadata": {
        "id": "z9VsCIrA6XU7"
      },
      "execution_count": null,
      "outputs": []
    },
    {
      "cell_type": "markdown",
      "source": [
        "Import Dataset\n"
      ],
      "metadata": {
        "id": "KynWeVal6c-W"
      }
    },
    {
      "cell_type": "code",
      "source": [
        "df=pd.read_csv('https://github.com/YBI-Foundation/Dataset/raw/main/Movies%20Recommendation.csv')"
      ],
      "metadata": {
        "id": "F2cSh0sH6e3n"
      },
      "execution_count": null,
      "outputs": []
    },
    {
      "cell_type": "code",
      "source": [
        "df.info()"
      ],
      "metadata": {
        "colab": {
          "base_uri": "https://localhost:8080/"
        },
        "id": "4OQVC7_k7afi",
        "outputId": "e81d8f94-5e21-4c47-cae5-1eae65afffaf"
      },
      "execution_count": null,
      "outputs": [
        {
          "output_type": "stream",
          "name": "stdout",
          "text": [
            "<class 'pandas.core.frame.DataFrame'>\n",
            "RangeIndex: 4760 entries, 0 to 4759\n",
            "Data columns (total 21 columns):\n",
            " #   Column                    Non-Null Count  Dtype  \n",
            "---  ------                    --------------  -----  \n",
            " 0   Movie_ID                  4760 non-null   int64  \n",
            " 1   Movie_Title               4760 non-null   object \n",
            " 2   Movie_Genre               4760 non-null   object \n",
            " 3   Movie_Language            4760 non-null   object \n",
            " 4   Movie_Budget              4760 non-null   int64  \n",
            " 5   Movie_Popularity          4760 non-null   float64\n",
            " 6   Movie_Release_Date        4760 non-null   object \n",
            " 7   Movie_Revenue             4760 non-null   int64  \n",
            " 8   Movie_Runtime             4758 non-null   float64\n",
            " 9   Movie_Vote                4760 non-null   float64\n",
            " 10  Movie_Vote_Count          4760 non-null   int64  \n",
            " 11  Movie_Homepage            1699 non-null   object \n",
            " 12  Movie_Keywords            4373 non-null   object \n",
            " 13  Movie_Overview            4757 non-null   object \n",
            " 14  Movie_Production_House    4760 non-null   object \n",
            " 15  Movie_Production_Country  4760 non-null   object \n",
            " 16  Movie_Spoken_Language     4760 non-null   object \n",
            " 17  Movie_Tagline             3942 non-null   object \n",
            " 18  Movie_Cast                4733 non-null   object \n",
            " 19  Movie_Crew                4760 non-null   object \n",
            " 20  Movie_Director            4738 non-null   object \n",
            "dtypes: float64(3), int64(4), object(14)\n",
            "memory usage: 781.1+ KB\n"
          ]
        }
      ]
    },
    {
      "cell_type": "code",
      "source": [
        "df.head()"
      ],
      "metadata": {
        "colab": {
          "base_uri": "https://localhost:8080/",
          "height": 672
        },
        "id": "RXabXDnn7d_G",
        "outputId": "e581c849-c0a6-4b82-bdd6-d0a1b101c606"
      },
      "execution_count": null,
      "outputs": [
        {
          "output_type": "execute_result",
          "data": {
            "text/plain": [
              "   Movie_ID      Movie_Title                       Movie_Genre Movie_Language  \\\n",
              "0         1       Four Rooms                      Crime Comedy             en   \n",
              "1         2        Star Wars  Adventure Action Science Fiction             en   \n",
              "2         3     Finding Nemo                  Animation Family             en   \n",
              "3         4     Forrest Gump              Comedy Drama Romance             en   \n",
              "4         5  American Beauty                             Drama             en   \n",
              "\n",
              "   Movie_Budget  Movie_Popularity Movie_Release_Date  Movie_Revenue  \\\n",
              "0       4000000         22.876230         09-12-1995        4300000   \n",
              "1      11000000        126.393695         25-05-1977      775398007   \n",
              "2      94000000         85.688789         30-05-2003      940335536   \n",
              "3      55000000        138.133331         06-07-1994      677945399   \n",
              "4      15000000         80.878605         15-09-1999      356296601   \n",
              "\n",
              "   Movie_Runtime  Movie_Vote  ...  \\\n",
              "0           98.0         6.5  ...   \n",
              "1          121.0         8.1  ...   \n",
              "2          100.0         7.6  ...   \n",
              "3          142.0         8.2  ...   \n",
              "4          122.0         7.9  ...   \n",
              "\n",
              "                                      Movie_Homepage  \\\n",
              "0                                                NaN   \n",
              "1  http://www.starwars.com/films/star-wars-episod...   \n",
              "2              http://movies.disney.com/finding-nemo   \n",
              "3                                                NaN   \n",
              "4                      http://www.dreamworks.com/ab/   \n",
              "\n",
              "                                      Movie_Keywords  \\\n",
              "0          hotel new year's eve witch bet hotel room   \n",
              "1        android galaxy hermit death star lightsaber   \n",
              "2  father son relationship harbor underwater fish...   \n",
              "3  vietnam veteran hippie mentally disabled runni...   \n",
              "4  male nudity female nudity adultery midlife cri...   \n",
              "\n",
              "                                      Movie_Overview  \\\n",
              "0  It's Ted the Bellhop's first night on the job....   \n",
              "1  Princess Leia is captured and held hostage by ...   \n",
              "2  Nemo, an adventurous young clownfish, is unexp...   \n",
              "3  A man with a low IQ has accomplished great thi...   \n",
              "4  Lester Burnham, a depressed suburban father in...   \n",
              "\n",
              "                              Movie_Production_House  \\\n",
              "0  [{\"name\": \"Miramax Films\", \"id\": 14}, {\"name\":...   \n",
              "1  [{\"name\": \"Lucasfilm\", \"id\": 1}, {\"name\": \"Twe...   \n",
              "2     [{\"name\": \"Pixar Animation Studios\", \"id\": 3}]   \n",
              "3          [{\"name\": \"Paramount Pictures\", \"id\": 4}]   \n",
              "4  [{\"name\": \"DreamWorks SKG\", \"id\": 27}, {\"name\"...   \n",
              "\n",
              "                            Movie_Production_Country  \\\n",
              "0  [{\"iso_3166_1\": \"US\", \"name\": \"United States o...   \n",
              "1  [{\"iso_3166_1\": \"US\", \"name\": \"United States o...   \n",
              "2  [{\"iso_3166_1\": \"US\", \"name\": \"United States o...   \n",
              "3  [{\"iso_3166_1\": \"US\", \"name\": \"United States o...   \n",
              "4  [{\"iso_3166_1\": \"US\", \"name\": \"United States o...   \n",
              "\n",
              "                      Movie_Spoken_Language  \\\n",
              "0  [{\"iso_639_1\": \"en\", \"name\": \"English\"}]   \n",
              "1  [{\"iso_639_1\": \"en\", \"name\": \"English\"}]   \n",
              "2  [{\"iso_639_1\": \"en\", \"name\": \"English\"}]   \n",
              "3  [{\"iso_639_1\": \"en\", \"name\": \"English\"}]   \n",
              "4  [{\"iso_639_1\": \"en\", \"name\": \"English\"}]   \n",
              "\n",
              "                                       Movie_Tagline  \\\n",
              "0  Twelve outrageous guests. Four scandalous requ...   \n",
              "1       A long time ago in a galaxy far, far away...   \n",
              "2  There are 3.7 trillion fish in the ocean, they...   \n",
              "3  The world will never be the same, once you've ...   \n",
              "4                                       Look closer.   \n",
              "\n",
              "                                          Movie_Cast  \\\n",
              "0  Tim Roth Antonio Banderas Jennifer Beals Madon...   \n",
              "1  Mark Hamill Harrison Ford Carrie Fisher Peter ...   \n",
              "2  Albert Brooks Ellen DeGeneres Alexander Gould ...   \n",
              "3  Tom Hanks Robin Wright Gary Sinise Mykelti Wil...   \n",
              "4  Kevin Spacey Annette Bening Thora Birch Wes Be...   \n",
              "\n",
              "                                          Movie_Crew   Movie_Director  \n",
              "0  [{'name': 'Allison Anders', 'gender': 1, 'depa...   Allison Anders  \n",
              "1  [{'name': 'George Lucas', 'gender': 2, 'depart...     George Lucas  \n",
              "2  [{'name': 'Andrew Stanton', 'gender': 2, 'depa...   Andrew Stanton  \n",
              "3  [{'name': 'Alan Silvestri', 'gender': 2, 'depa...  Robert Zemeckis  \n",
              "4  [{'name': 'Thomas Newman', 'gender': 2, 'depar...       Sam Mendes  \n",
              "\n",
              "[5 rows x 21 columns]"
            ],
            "text/html": [
              "\n",
              "  <div id=\"df-edad681e-a95f-48c7-82b5-ab4ef9b9077d\" class=\"colab-df-container\">\n",
              "    <div>\n",
              "<style scoped>\n",
              "    .dataframe tbody tr th:only-of-type {\n",
              "        vertical-align: middle;\n",
              "    }\n",
              "\n",
              "    .dataframe tbody tr th {\n",
              "        vertical-align: top;\n",
              "    }\n",
              "\n",
              "    .dataframe thead th {\n",
              "        text-align: right;\n",
              "    }\n",
              "</style>\n",
              "<table border=\"1\" class=\"dataframe\">\n",
              "  <thead>\n",
              "    <tr style=\"text-align: right;\">\n",
              "      <th></th>\n",
              "      <th>Movie_ID</th>\n",
              "      <th>Movie_Title</th>\n",
              "      <th>Movie_Genre</th>\n",
              "      <th>Movie_Language</th>\n",
              "      <th>Movie_Budget</th>\n",
              "      <th>Movie_Popularity</th>\n",
              "      <th>Movie_Release_Date</th>\n",
              "      <th>Movie_Revenue</th>\n",
              "      <th>Movie_Runtime</th>\n",
              "      <th>Movie_Vote</th>\n",
              "      <th>...</th>\n",
              "      <th>Movie_Homepage</th>\n",
              "      <th>Movie_Keywords</th>\n",
              "      <th>Movie_Overview</th>\n",
              "      <th>Movie_Production_House</th>\n",
              "      <th>Movie_Production_Country</th>\n",
              "      <th>Movie_Spoken_Language</th>\n",
              "      <th>Movie_Tagline</th>\n",
              "      <th>Movie_Cast</th>\n",
              "      <th>Movie_Crew</th>\n",
              "      <th>Movie_Director</th>\n",
              "    </tr>\n",
              "  </thead>\n",
              "  <tbody>\n",
              "    <tr>\n",
              "      <th>0</th>\n",
              "      <td>1</td>\n",
              "      <td>Four Rooms</td>\n",
              "      <td>Crime Comedy</td>\n",
              "      <td>en</td>\n",
              "      <td>4000000</td>\n",
              "      <td>22.876230</td>\n",
              "      <td>09-12-1995</td>\n",
              "      <td>4300000</td>\n",
              "      <td>98.0</td>\n",
              "      <td>6.5</td>\n",
              "      <td>...</td>\n",
              "      <td>NaN</td>\n",
              "      <td>hotel new year's eve witch bet hotel room</td>\n",
              "      <td>It's Ted the Bellhop's first night on the job....</td>\n",
              "      <td>[{\"name\": \"Miramax Films\", \"id\": 14}, {\"name\":...</td>\n",
              "      <td>[{\"iso_3166_1\": \"US\", \"name\": \"United States o...</td>\n",
              "      <td>[{\"iso_639_1\": \"en\", \"name\": \"English\"}]</td>\n",
              "      <td>Twelve outrageous guests. Four scandalous requ...</td>\n",
              "      <td>Tim Roth Antonio Banderas Jennifer Beals Madon...</td>\n",
              "      <td>[{'name': 'Allison Anders', 'gender': 1, 'depa...</td>\n",
              "      <td>Allison Anders</td>\n",
              "    </tr>\n",
              "    <tr>\n",
              "      <th>1</th>\n",
              "      <td>2</td>\n",
              "      <td>Star Wars</td>\n",
              "      <td>Adventure Action Science Fiction</td>\n",
              "      <td>en</td>\n",
              "      <td>11000000</td>\n",
              "      <td>126.393695</td>\n",
              "      <td>25-05-1977</td>\n",
              "      <td>775398007</td>\n",
              "      <td>121.0</td>\n",
              "      <td>8.1</td>\n",
              "      <td>...</td>\n",
              "      <td>http://www.starwars.com/films/star-wars-episod...</td>\n",
              "      <td>android galaxy hermit death star lightsaber</td>\n",
              "      <td>Princess Leia is captured and held hostage by ...</td>\n",
              "      <td>[{\"name\": \"Lucasfilm\", \"id\": 1}, {\"name\": \"Twe...</td>\n",
              "      <td>[{\"iso_3166_1\": \"US\", \"name\": \"United States o...</td>\n",
              "      <td>[{\"iso_639_1\": \"en\", \"name\": \"English\"}]</td>\n",
              "      <td>A long time ago in a galaxy far, far away...</td>\n",
              "      <td>Mark Hamill Harrison Ford Carrie Fisher Peter ...</td>\n",
              "      <td>[{'name': 'George Lucas', 'gender': 2, 'depart...</td>\n",
              "      <td>George Lucas</td>\n",
              "    </tr>\n",
              "    <tr>\n",
              "      <th>2</th>\n",
              "      <td>3</td>\n",
              "      <td>Finding Nemo</td>\n",
              "      <td>Animation Family</td>\n",
              "      <td>en</td>\n",
              "      <td>94000000</td>\n",
              "      <td>85.688789</td>\n",
              "      <td>30-05-2003</td>\n",
              "      <td>940335536</td>\n",
              "      <td>100.0</td>\n",
              "      <td>7.6</td>\n",
              "      <td>...</td>\n",
              "      <td>http://movies.disney.com/finding-nemo</td>\n",
              "      <td>father son relationship harbor underwater fish...</td>\n",
              "      <td>Nemo, an adventurous young clownfish, is unexp...</td>\n",
              "      <td>[{\"name\": \"Pixar Animation Studios\", \"id\": 3}]</td>\n",
              "      <td>[{\"iso_3166_1\": \"US\", \"name\": \"United States o...</td>\n",
              "      <td>[{\"iso_639_1\": \"en\", \"name\": \"English\"}]</td>\n",
              "      <td>There are 3.7 trillion fish in the ocean, they...</td>\n",
              "      <td>Albert Brooks Ellen DeGeneres Alexander Gould ...</td>\n",
              "      <td>[{'name': 'Andrew Stanton', 'gender': 2, 'depa...</td>\n",
              "      <td>Andrew Stanton</td>\n",
              "    </tr>\n",
              "    <tr>\n",
              "      <th>3</th>\n",
              "      <td>4</td>\n",
              "      <td>Forrest Gump</td>\n",
              "      <td>Comedy Drama Romance</td>\n",
              "      <td>en</td>\n",
              "      <td>55000000</td>\n",
              "      <td>138.133331</td>\n",
              "      <td>06-07-1994</td>\n",
              "      <td>677945399</td>\n",
              "      <td>142.0</td>\n",
              "      <td>8.2</td>\n",
              "      <td>...</td>\n",
              "      <td>NaN</td>\n",
              "      <td>vietnam veteran hippie mentally disabled runni...</td>\n",
              "      <td>A man with a low IQ has accomplished great thi...</td>\n",
              "      <td>[{\"name\": \"Paramount Pictures\", \"id\": 4}]</td>\n",
              "      <td>[{\"iso_3166_1\": \"US\", \"name\": \"United States o...</td>\n",
              "      <td>[{\"iso_639_1\": \"en\", \"name\": \"English\"}]</td>\n",
              "      <td>The world will never be the same, once you've ...</td>\n",
              "      <td>Tom Hanks Robin Wright Gary Sinise Mykelti Wil...</td>\n",
              "      <td>[{'name': 'Alan Silvestri', 'gender': 2, 'depa...</td>\n",
              "      <td>Robert Zemeckis</td>\n",
              "    </tr>\n",
              "    <tr>\n",
              "      <th>4</th>\n",
              "      <td>5</td>\n",
              "      <td>American Beauty</td>\n",
              "      <td>Drama</td>\n",
              "      <td>en</td>\n",
              "      <td>15000000</td>\n",
              "      <td>80.878605</td>\n",
              "      <td>15-09-1999</td>\n",
              "      <td>356296601</td>\n",
              "      <td>122.0</td>\n",
              "      <td>7.9</td>\n",
              "      <td>...</td>\n",
              "      <td>http://www.dreamworks.com/ab/</td>\n",
              "      <td>male nudity female nudity adultery midlife cri...</td>\n",
              "      <td>Lester Burnham, a depressed suburban father in...</td>\n",
              "      <td>[{\"name\": \"DreamWorks SKG\", \"id\": 27}, {\"name\"...</td>\n",
              "      <td>[{\"iso_3166_1\": \"US\", \"name\": \"United States o...</td>\n",
              "      <td>[{\"iso_639_1\": \"en\", \"name\": \"English\"}]</td>\n",
              "      <td>Look closer.</td>\n",
              "      <td>Kevin Spacey Annette Bening Thora Birch Wes Be...</td>\n",
              "      <td>[{'name': 'Thomas Newman', 'gender': 2, 'depar...</td>\n",
              "      <td>Sam Mendes</td>\n",
              "    </tr>\n",
              "  </tbody>\n",
              "</table>\n",
              "<p>5 rows × 21 columns</p>\n",
              "</div>\n",
              "    <div class=\"colab-df-buttons\">\n",
              "\n",
              "  <div class=\"colab-df-container\">\n",
              "    <button class=\"colab-df-convert\" onclick=\"convertToInteractive('df-edad681e-a95f-48c7-82b5-ab4ef9b9077d')\"\n",
              "            title=\"Convert this dataframe to an interactive table.\"\n",
              "            style=\"display:none;\">\n",
              "\n",
              "  <svg xmlns=\"http://www.w3.org/2000/svg\" height=\"24px\" viewBox=\"0 -960 960 960\">\n",
              "    <path d=\"M120-120v-720h720v720H120Zm60-500h600v-160H180v160Zm220 220h160v-160H400v160Zm0 220h160v-160H400v160ZM180-400h160v-160H180v160Zm440 0h160v-160H620v160ZM180-180h160v-160H180v160Zm440 0h160v-160H620v160Z\"/>\n",
              "  </svg>\n",
              "    </button>\n",
              "\n",
              "  <style>\n",
              "    .colab-df-container {\n",
              "      display:flex;\n",
              "      gap: 12px;\n",
              "    }\n",
              "\n",
              "    .colab-df-convert {\n",
              "      background-color: #E8F0FE;\n",
              "      border: none;\n",
              "      border-radius: 50%;\n",
              "      cursor: pointer;\n",
              "      display: none;\n",
              "      fill: #1967D2;\n",
              "      height: 32px;\n",
              "      padding: 0 0 0 0;\n",
              "      width: 32px;\n",
              "    }\n",
              "\n",
              "    .colab-df-convert:hover {\n",
              "      background-color: #E2EBFA;\n",
              "      box-shadow: 0px 1px 2px rgba(60, 64, 67, 0.3), 0px 1px 3px 1px rgba(60, 64, 67, 0.15);\n",
              "      fill: #174EA6;\n",
              "    }\n",
              "\n",
              "    .colab-df-buttons div {\n",
              "      margin-bottom: 4px;\n",
              "    }\n",
              "\n",
              "    [theme=dark] .colab-df-convert {\n",
              "      background-color: #3B4455;\n",
              "      fill: #D2E3FC;\n",
              "    }\n",
              "\n",
              "    [theme=dark] .colab-df-convert:hover {\n",
              "      background-color: #434B5C;\n",
              "      box-shadow: 0px 1px 3px 1px rgba(0, 0, 0, 0.15);\n",
              "      filter: drop-shadow(0px 1px 2px rgba(0, 0, 0, 0.3));\n",
              "      fill: #FFFFFF;\n",
              "    }\n",
              "  </style>\n",
              "\n",
              "    <script>\n",
              "      const buttonEl =\n",
              "        document.querySelector('#df-edad681e-a95f-48c7-82b5-ab4ef9b9077d button.colab-df-convert');\n",
              "      buttonEl.style.display =\n",
              "        google.colab.kernel.accessAllowed ? 'block' : 'none';\n",
              "\n",
              "      async function convertToInteractive(key) {\n",
              "        const element = document.querySelector('#df-edad681e-a95f-48c7-82b5-ab4ef9b9077d');\n",
              "        const dataTable =\n",
              "          await google.colab.kernel.invokeFunction('convertToInteractive',\n",
              "                                                    [key], {});\n",
              "        if (!dataTable) return;\n",
              "\n",
              "        const docLinkHtml = 'Like what you see? Visit the ' +\n",
              "          '<a target=\"_blank\" href=https://colab.research.google.com/notebooks/data_table.ipynb>data table notebook</a>'\n",
              "          + ' to learn more about interactive tables.';\n",
              "        element.innerHTML = '';\n",
              "        dataTable['output_type'] = 'display_data';\n",
              "        await google.colab.output.renderOutput(dataTable, element);\n",
              "        const docLink = document.createElement('div');\n",
              "        docLink.innerHTML = docLinkHtml;\n",
              "        element.appendChild(docLink);\n",
              "      }\n",
              "    </script>\n",
              "  </div>\n",
              "\n",
              "\n",
              "<div id=\"df-fa9be7de-20e1-42ae-965f-e4f57d2edd8a\">\n",
              "  <button class=\"colab-df-quickchart\" onclick=\"quickchart('df-fa9be7de-20e1-42ae-965f-e4f57d2edd8a')\"\n",
              "            title=\"Suggest charts\"\n",
              "            style=\"display:none;\">\n",
              "\n",
              "<svg xmlns=\"http://www.w3.org/2000/svg\" height=\"24px\"viewBox=\"0 0 24 24\"\n",
              "     width=\"24px\">\n",
              "    <g>\n",
              "        <path d=\"M19 3H5c-1.1 0-2 .9-2 2v14c0 1.1.9 2 2 2h14c1.1 0 2-.9 2-2V5c0-1.1-.9-2-2-2zM9 17H7v-7h2v7zm4 0h-2V7h2v10zm4 0h-2v-4h2v4z\"/>\n",
              "    </g>\n",
              "</svg>\n",
              "  </button>\n",
              "\n",
              "<style>\n",
              "  .colab-df-quickchart {\n",
              "      --bg-color: #E8F0FE;\n",
              "      --fill-color: #1967D2;\n",
              "      --hover-bg-color: #E2EBFA;\n",
              "      --hover-fill-color: #174EA6;\n",
              "      --disabled-fill-color: #AAA;\n",
              "      --disabled-bg-color: #DDD;\n",
              "  }\n",
              "\n",
              "  [theme=dark] .colab-df-quickchart {\n",
              "      --bg-color: #3B4455;\n",
              "      --fill-color: #D2E3FC;\n",
              "      --hover-bg-color: #434B5C;\n",
              "      --hover-fill-color: #FFFFFF;\n",
              "      --disabled-bg-color: #3B4455;\n",
              "      --disabled-fill-color: #666;\n",
              "  }\n",
              "\n",
              "  .colab-df-quickchart {\n",
              "    background-color: var(--bg-color);\n",
              "    border: none;\n",
              "    border-radius: 50%;\n",
              "    cursor: pointer;\n",
              "    display: none;\n",
              "    fill: var(--fill-color);\n",
              "    height: 32px;\n",
              "    padding: 0;\n",
              "    width: 32px;\n",
              "  }\n",
              "\n",
              "  .colab-df-quickchart:hover {\n",
              "    background-color: var(--hover-bg-color);\n",
              "    box-shadow: 0 1px 2px rgba(60, 64, 67, 0.3), 0 1px 3px 1px rgba(60, 64, 67, 0.15);\n",
              "    fill: var(--button-hover-fill-color);\n",
              "  }\n",
              "\n",
              "  .colab-df-quickchart-complete:disabled,\n",
              "  .colab-df-quickchart-complete:disabled:hover {\n",
              "    background-color: var(--disabled-bg-color);\n",
              "    fill: var(--disabled-fill-color);\n",
              "    box-shadow: none;\n",
              "  }\n",
              "\n",
              "  .colab-df-spinner {\n",
              "    border: 2px solid var(--fill-color);\n",
              "    border-color: transparent;\n",
              "    border-bottom-color: var(--fill-color);\n",
              "    animation:\n",
              "      spin 1s steps(1) infinite;\n",
              "  }\n",
              "\n",
              "  @keyframes spin {\n",
              "    0% {\n",
              "      border-color: transparent;\n",
              "      border-bottom-color: var(--fill-color);\n",
              "      border-left-color: var(--fill-color);\n",
              "    }\n",
              "    20% {\n",
              "      border-color: transparent;\n",
              "      border-left-color: var(--fill-color);\n",
              "      border-top-color: var(--fill-color);\n",
              "    }\n",
              "    30% {\n",
              "      border-color: transparent;\n",
              "      border-left-color: var(--fill-color);\n",
              "      border-top-color: var(--fill-color);\n",
              "      border-right-color: var(--fill-color);\n",
              "    }\n",
              "    40% {\n",
              "      border-color: transparent;\n",
              "      border-right-color: var(--fill-color);\n",
              "      border-top-color: var(--fill-color);\n",
              "    }\n",
              "    60% {\n",
              "      border-color: transparent;\n",
              "      border-right-color: var(--fill-color);\n",
              "    }\n",
              "    80% {\n",
              "      border-color: transparent;\n",
              "      border-right-color: var(--fill-color);\n",
              "      border-bottom-color: var(--fill-color);\n",
              "    }\n",
              "    90% {\n",
              "      border-color: transparent;\n",
              "      border-bottom-color: var(--fill-color);\n",
              "    }\n",
              "  }\n",
              "</style>\n",
              "\n",
              "  <script>\n",
              "    async function quickchart(key) {\n",
              "      const quickchartButtonEl =\n",
              "        document.querySelector('#' + key + ' button');\n",
              "      quickchartButtonEl.disabled = true;  // To prevent multiple clicks.\n",
              "      quickchartButtonEl.classList.add('colab-df-spinner');\n",
              "      try {\n",
              "        const charts = await google.colab.kernel.invokeFunction(\n",
              "            'suggestCharts', [key], {});\n",
              "      } catch (error) {\n",
              "        console.error('Error during call to suggestCharts:', error);\n",
              "      }\n",
              "      quickchartButtonEl.classList.remove('colab-df-spinner');\n",
              "      quickchartButtonEl.classList.add('colab-df-quickchart-complete');\n",
              "    }\n",
              "    (() => {\n",
              "      let quickchartButtonEl =\n",
              "        document.querySelector('#df-fa9be7de-20e1-42ae-965f-e4f57d2edd8a button');\n",
              "      quickchartButtonEl.style.display =\n",
              "        google.colab.kernel.accessAllowed ? 'block' : 'none';\n",
              "    })();\n",
              "  </script>\n",
              "</div>\n",
              "\n",
              "    </div>\n",
              "  </div>\n"
            ],
            "application/vnd.google.colaboratory.intrinsic+json": {
              "type": "dataframe",
              "variable_name": "df"
            }
          },
          "metadata": {},
          "execution_count": 5
        }
      ]
    },
    {
      "cell_type": "code",
      "source": [
        "df.describe()"
      ],
      "metadata": {
        "colab": {
          "base_uri": "https://localhost:8080/",
          "height": 300
        },
        "id": "GAf2gAQx7iTr",
        "outputId": "760d9530-062c-4556-85c2-b8b20814405e"
      },
      "execution_count": null,
      "outputs": [
        {
          "output_type": "execute_result",
          "data": {
            "text/plain": [
              "          Movie_ID  Movie_Budget  Movie_Popularity  Movie_Revenue  \\\n",
              "count  4760.000000  4.760000e+03       4760.000000   4.760000e+03   \n",
              "mean   2382.566387  2.920129e+07         21.599510   8.263743e+07   \n",
              "std    1377.270159  4.075620e+07         31.887919   1.630554e+08   \n",
              "min       1.000000  0.000000e+00          0.000372   0.000000e+00   \n",
              "25%    1190.750000  9.257500e+05          4.807074   0.000000e+00   \n",
              "50%    2380.500000  1.500000e+07         13.119058   1.944716e+07   \n",
              "75%    3572.250000  4.000000e+07         28.411929   9.341276e+07   \n",
              "max    4788.000000  3.800000e+08        875.581305   2.787965e+09   \n",
              "\n",
              "       Movie_Runtime   Movie_Vote  Movie_Vote_Count  \n",
              "count    4758.000000  4760.000000       4760.000000  \n",
              "mean      107.184111     6.113866        692.508403  \n",
              "std        21.960332     1.141294       1235.007337  \n",
              "min         0.000000     0.000000          0.000000  \n",
              "25%        94.000000     5.600000         55.000000  \n",
              "50%       104.000000     6.200000        238.000000  \n",
              "75%       118.000000     6.800000        740.250000  \n",
              "max       338.000000    10.000000      13752.000000  "
            ],
            "text/html": [
              "\n",
              "  <div id=\"df-db6a4e78-01d2-4cf3-99f3-b249cae0882c\" class=\"colab-df-container\">\n",
              "    <div>\n",
              "<style scoped>\n",
              "    .dataframe tbody tr th:only-of-type {\n",
              "        vertical-align: middle;\n",
              "    }\n",
              "\n",
              "    .dataframe tbody tr th {\n",
              "        vertical-align: top;\n",
              "    }\n",
              "\n",
              "    .dataframe thead th {\n",
              "        text-align: right;\n",
              "    }\n",
              "</style>\n",
              "<table border=\"1\" class=\"dataframe\">\n",
              "  <thead>\n",
              "    <tr style=\"text-align: right;\">\n",
              "      <th></th>\n",
              "      <th>Movie_ID</th>\n",
              "      <th>Movie_Budget</th>\n",
              "      <th>Movie_Popularity</th>\n",
              "      <th>Movie_Revenue</th>\n",
              "      <th>Movie_Runtime</th>\n",
              "      <th>Movie_Vote</th>\n",
              "      <th>Movie_Vote_Count</th>\n",
              "    </tr>\n",
              "  </thead>\n",
              "  <tbody>\n",
              "    <tr>\n",
              "      <th>count</th>\n",
              "      <td>4760.000000</td>\n",
              "      <td>4.760000e+03</td>\n",
              "      <td>4760.000000</td>\n",
              "      <td>4.760000e+03</td>\n",
              "      <td>4758.000000</td>\n",
              "      <td>4760.000000</td>\n",
              "      <td>4760.000000</td>\n",
              "    </tr>\n",
              "    <tr>\n",
              "      <th>mean</th>\n",
              "      <td>2382.566387</td>\n",
              "      <td>2.920129e+07</td>\n",
              "      <td>21.599510</td>\n",
              "      <td>8.263743e+07</td>\n",
              "      <td>107.184111</td>\n",
              "      <td>6.113866</td>\n",
              "      <td>692.508403</td>\n",
              "    </tr>\n",
              "    <tr>\n",
              "      <th>std</th>\n",
              "      <td>1377.270159</td>\n",
              "      <td>4.075620e+07</td>\n",
              "      <td>31.887919</td>\n",
              "      <td>1.630554e+08</td>\n",
              "      <td>21.960332</td>\n",
              "      <td>1.141294</td>\n",
              "      <td>1235.007337</td>\n",
              "    </tr>\n",
              "    <tr>\n",
              "      <th>min</th>\n",
              "      <td>1.000000</td>\n",
              "      <td>0.000000e+00</td>\n",
              "      <td>0.000372</td>\n",
              "      <td>0.000000e+00</td>\n",
              "      <td>0.000000</td>\n",
              "      <td>0.000000</td>\n",
              "      <td>0.000000</td>\n",
              "    </tr>\n",
              "    <tr>\n",
              "      <th>25%</th>\n",
              "      <td>1190.750000</td>\n",
              "      <td>9.257500e+05</td>\n",
              "      <td>4.807074</td>\n",
              "      <td>0.000000e+00</td>\n",
              "      <td>94.000000</td>\n",
              "      <td>5.600000</td>\n",
              "      <td>55.000000</td>\n",
              "    </tr>\n",
              "    <tr>\n",
              "      <th>50%</th>\n",
              "      <td>2380.500000</td>\n",
              "      <td>1.500000e+07</td>\n",
              "      <td>13.119058</td>\n",
              "      <td>1.944716e+07</td>\n",
              "      <td>104.000000</td>\n",
              "      <td>6.200000</td>\n",
              "      <td>238.000000</td>\n",
              "    </tr>\n",
              "    <tr>\n",
              "      <th>75%</th>\n",
              "      <td>3572.250000</td>\n",
              "      <td>4.000000e+07</td>\n",
              "      <td>28.411929</td>\n",
              "      <td>9.341276e+07</td>\n",
              "      <td>118.000000</td>\n",
              "      <td>6.800000</td>\n",
              "      <td>740.250000</td>\n",
              "    </tr>\n",
              "    <tr>\n",
              "      <th>max</th>\n",
              "      <td>4788.000000</td>\n",
              "      <td>3.800000e+08</td>\n",
              "      <td>875.581305</td>\n",
              "      <td>2.787965e+09</td>\n",
              "      <td>338.000000</td>\n",
              "      <td>10.000000</td>\n",
              "      <td>13752.000000</td>\n",
              "    </tr>\n",
              "  </tbody>\n",
              "</table>\n",
              "</div>\n",
              "    <div class=\"colab-df-buttons\">\n",
              "\n",
              "  <div class=\"colab-df-container\">\n",
              "    <button class=\"colab-df-convert\" onclick=\"convertToInteractive('df-db6a4e78-01d2-4cf3-99f3-b249cae0882c')\"\n",
              "            title=\"Convert this dataframe to an interactive table.\"\n",
              "            style=\"display:none;\">\n",
              "\n",
              "  <svg xmlns=\"http://www.w3.org/2000/svg\" height=\"24px\" viewBox=\"0 -960 960 960\">\n",
              "    <path d=\"M120-120v-720h720v720H120Zm60-500h600v-160H180v160Zm220 220h160v-160H400v160Zm0 220h160v-160H400v160ZM180-400h160v-160H180v160Zm440 0h160v-160H620v160ZM180-180h160v-160H180v160Zm440 0h160v-160H620v160Z\"/>\n",
              "  </svg>\n",
              "    </button>\n",
              "\n",
              "  <style>\n",
              "    .colab-df-container {\n",
              "      display:flex;\n",
              "      gap: 12px;\n",
              "    }\n",
              "\n",
              "    .colab-df-convert {\n",
              "      background-color: #E8F0FE;\n",
              "      border: none;\n",
              "      border-radius: 50%;\n",
              "      cursor: pointer;\n",
              "      display: none;\n",
              "      fill: #1967D2;\n",
              "      height: 32px;\n",
              "      padding: 0 0 0 0;\n",
              "      width: 32px;\n",
              "    }\n",
              "\n",
              "    .colab-df-convert:hover {\n",
              "      background-color: #E2EBFA;\n",
              "      box-shadow: 0px 1px 2px rgba(60, 64, 67, 0.3), 0px 1px 3px 1px rgba(60, 64, 67, 0.15);\n",
              "      fill: #174EA6;\n",
              "    }\n",
              "\n",
              "    .colab-df-buttons div {\n",
              "      margin-bottom: 4px;\n",
              "    }\n",
              "\n",
              "    [theme=dark] .colab-df-convert {\n",
              "      background-color: #3B4455;\n",
              "      fill: #D2E3FC;\n",
              "    }\n",
              "\n",
              "    [theme=dark] .colab-df-convert:hover {\n",
              "      background-color: #434B5C;\n",
              "      box-shadow: 0px 1px 3px 1px rgba(0, 0, 0, 0.15);\n",
              "      filter: drop-shadow(0px 1px 2px rgba(0, 0, 0, 0.3));\n",
              "      fill: #FFFFFF;\n",
              "    }\n",
              "  </style>\n",
              "\n",
              "    <script>\n",
              "      const buttonEl =\n",
              "        document.querySelector('#df-db6a4e78-01d2-4cf3-99f3-b249cae0882c button.colab-df-convert');\n",
              "      buttonEl.style.display =\n",
              "        google.colab.kernel.accessAllowed ? 'block' : 'none';\n",
              "\n",
              "      async function convertToInteractive(key) {\n",
              "        const element = document.querySelector('#df-db6a4e78-01d2-4cf3-99f3-b249cae0882c');\n",
              "        const dataTable =\n",
              "          await google.colab.kernel.invokeFunction('convertToInteractive',\n",
              "                                                    [key], {});\n",
              "        if (!dataTable) return;\n",
              "\n",
              "        const docLinkHtml = 'Like what you see? Visit the ' +\n",
              "          '<a target=\"_blank\" href=https://colab.research.google.com/notebooks/data_table.ipynb>data table notebook</a>'\n",
              "          + ' to learn more about interactive tables.';\n",
              "        element.innerHTML = '';\n",
              "        dataTable['output_type'] = 'display_data';\n",
              "        await google.colab.output.renderOutput(dataTable, element);\n",
              "        const docLink = document.createElement('div');\n",
              "        docLink.innerHTML = docLinkHtml;\n",
              "        element.appendChild(docLink);\n",
              "      }\n",
              "    </script>\n",
              "  </div>\n",
              "\n",
              "\n",
              "<div id=\"df-40b9aa28-abd9-4ab4-8ff5-d0bbbcc9c7d0\">\n",
              "  <button class=\"colab-df-quickchart\" onclick=\"quickchart('df-40b9aa28-abd9-4ab4-8ff5-d0bbbcc9c7d0')\"\n",
              "            title=\"Suggest charts\"\n",
              "            style=\"display:none;\">\n",
              "\n",
              "<svg xmlns=\"http://www.w3.org/2000/svg\" height=\"24px\"viewBox=\"0 0 24 24\"\n",
              "     width=\"24px\">\n",
              "    <g>\n",
              "        <path d=\"M19 3H5c-1.1 0-2 .9-2 2v14c0 1.1.9 2 2 2h14c1.1 0 2-.9 2-2V5c0-1.1-.9-2-2-2zM9 17H7v-7h2v7zm4 0h-2V7h2v10zm4 0h-2v-4h2v4z\"/>\n",
              "    </g>\n",
              "</svg>\n",
              "  </button>\n",
              "\n",
              "<style>\n",
              "  .colab-df-quickchart {\n",
              "      --bg-color: #E8F0FE;\n",
              "      --fill-color: #1967D2;\n",
              "      --hover-bg-color: #E2EBFA;\n",
              "      --hover-fill-color: #174EA6;\n",
              "      --disabled-fill-color: #AAA;\n",
              "      --disabled-bg-color: #DDD;\n",
              "  }\n",
              "\n",
              "  [theme=dark] .colab-df-quickchart {\n",
              "      --bg-color: #3B4455;\n",
              "      --fill-color: #D2E3FC;\n",
              "      --hover-bg-color: #434B5C;\n",
              "      --hover-fill-color: #FFFFFF;\n",
              "      --disabled-bg-color: #3B4455;\n",
              "      --disabled-fill-color: #666;\n",
              "  }\n",
              "\n",
              "  .colab-df-quickchart {\n",
              "    background-color: var(--bg-color);\n",
              "    border: none;\n",
              "    border-radius: 50%;\n",
              "    cursor: pointer;\n",
              "    display: none;\n",
              "    fill: var(--fill-color);\n",
              "    height: 32px;\n",
              "    padding: 0;\n",
              "    width: 32px;\n",
              "  }\n",
              "\n",
              "  .colab-df-quickchart:hover {\n",
              "    background-color: var(--hover-bg-color);\n",
              "    box-shadow: 0 1px 2px rgba(60, 64, 67, 0.3), 0 1px 3px 1px rgba(60, 64, 67, 0.15);\n",
              "    fill: var(--button-hover-fill-color);\n",
              "  }\n",
              "\n",
              "  .colab-df-quickchart-complete:disabled,\n",
              "  .colab-df-quickchart-complete:disabled:hover {\n",
              "    background-color: var(--disabled-bg-color);\n",
              "    fill: var(--disabled-fill-color);\n",
              "    box-shadow: none;\n",
              "  }\n",
              "\n",
              "  .colab-df-spinner {\n",
              "    border: 2px solid var(--fill-color);\n",
              "    border-color: transparent;\n",
              "    border-bottom-color: var(--fill-color);\n",
              "    animation:\n",
              "      spin 1s steps(1) infinite;\n",
              "  }\n",
              "\n",
              "  @keyframes spin {\n",
              "    0% {\n",
              "      border-color: transparent;\n",
              "      border-bottom-color: var(--fill-color);\n",
              "      border-left-color: var(--fill-color);\n",
              "    }\n",
              "    20% {\n",
              "      border-color: transparent;\n",
              "      border-left-color: var(--fill-color);\n",
              "      border-top-color: var(--fill-color);\n",
              "    }\n",
              "    30% {\n",
              "      border-color: transparent;\n",
              "      border-left-color: var(--fill-color);\n",
              "      border-top-color: var(--fill-color);\n",
              "      border-right-color: var(--fill-color);\n",
              "    }\n",
              "    40% {\n",
              "      border-color: transparent;\n",
              "      border-right-color: var(--fill-color);\n",
              "      border-top-color: var(--fill-color);\n",
              "    }\n",
              "    60% {\n",
              "      border-color: transparent;\n",
              "      border-right-color: var(--fill-color);\n",
              "    }\n",
              "    80% {\n",
              "      border-color: transparent;\n",
              "      border-right-color: var(--fill-color);\n",
              "      border-bottom-color: var(--fill-color);\n",
              "    }\n",
              "    90% {\n",
              "      border-color: transparent;\n",
              "      border-bottom-color: var(--fill-color);\n",
              "    }\n",
              "  }\n",
              "</style>\n",
              "\n",
              "  <script>\n",
              "    async function quickchart(key) {\n",
              "      const quickchartButtonEl =\n",
              "        document.querySelector('#' + key + ' button');\n",
              "      quickchartButtonEl.disabled = true;  // To prevent multiple clicks.\n",
              "      quickchartButtonEl.classList.add('colab-df-spinner');\n",
              "      try {\n",
              "        const charts = await google.colab.kernel.invokeFunction(\n",
              "            'suggestCharts', [key], {});\n",
              "      } catch (error) {\n",
              "        console.error('Error during call to suggestCharts:', error);\n",
              "      }\n",
              "      quickchartButtonEl.classList.remove('colab-df-spinner');\n",
              "      quickchartButtonEl.classList.add('colab-df-quickchart-complete');\n",
              "    }\n",
              "    (() => {\n",
              "      let quickchartButtonEl =\n",
              "        document.querySelector('#df-40b9aa28-abd9-4ab4-8ff5-d0bbbcc9c7d0 button');\n",
              "      quickchartButtonEl.style.display =\n",
              "        google.colab.kernel.accessAllowed ? 'block' : 'none';\n",
              "    })();\n",
              "  </script>\n",
              "</div>\n",
              "\n",
              "    </div>\n",
              "  </div>\n"
            ],
            "application/vnd.google.colaboratory.intrinsic+json": {
              "type": "dataframe",
              "summary": "{\n  \"name\": \"df\",\n  \"rows\": 8,\n  \"fields\": [\n    {\n      \"column\": \"Movie_ID\",\n      \"properties\": {\n        \"dtype\": \"number\",\n        \"std\": 1720.2332807214548,\n        \"min\": 1.0,\n        \"max\": 4788.0,\n        \"num_unique_values\": 8,\n        \"samples\": [\n          2382.5663865546217,\n          2380.5,\n          4760.0\n        ],\n        \"semantic_type\": \"\",\n        \"description\": \"\"\n      }\n    },\n    {\n      \"column\": \"Movie_Budget\",\n      \"properties\": {\n        \"dtype\": \"number\",\n        \"std\": 129145160.11869688,\n        \"min\": 0.0,\n        \"max\": 380000000.0,\n        \"num_unique_values\": 8,\n        \"samples\": [\n          29201287.084033612,\n          15000000.0,\n          4760.0\n        ],\n        \"semantic_type\": \"\",\n        \"description\": \"\"\n      }\n    },\n    {\n      \"column\": \"Movie_Popularity\",\n      \"properties\": {\n        \"dtype\": \"number\",\n        \"std\": 1661.104044760524,\n        \"min\": 0.000372,\n        \"max\": 4760.0,\n        \"num_unique_values\": 8,\n        \"samples\": [\n          21.599509934663867,\n          13.119057999999999,\n          4760.0\n        ],\n        \"semantic_type\": \"\",\n        \"description\": \"\"\n      }\n    },\n    {\n      \"column\": \"Movie_Revenue\",\n      \"properties\": {\n        \"dtype\": \"number\",\n        \"std\": 969366059.942302,\n        \"min\": 0.0,\n        \"max\": 2787965087.0,\n        \"num_unique_values\": 7,\n        \"samples\": [\n          4760.0,\n          82637425.44285715,\n          93412759.75\n        ],\n        \"semantic_type\": \"\",\n        \"description\": \"\"\n      }\n    },\n    {\n      \"column\": \"Movie_Runtime\",\n      \"properties\": {\n        \"dtype\": \"number\",\n        \"std\": 1645.7876738678392,\n        \"min\": 0.0,\n        \"max\": 4758.0,\n        \"num_unique_values\": 8,\n        \"samples\": [\n          107.18411097099622,\n          104.0,\n          4758.0\n        ],\n        \"semantic_type\": \"\",\n        \"description\": \"\"\n      }\n    },\n    {\n      \"column\": \"Movie_Vote\",\n      \"properties\": {\n        \"dtype\": \"number\",\n        \"std\": 1681.1061997129445,\n        \"min\": 0.0,\n        \"max\": 4760.0,\n        \"num_unique_values\": 8,\n        \"samples\": [\n          6.113865546218487,\n          6.2,\n          4760.0\n        ],\n        \"semantic_type\": \"\",\n        \"description\": \"\"\n      }\n    },\n    {\n      \"column\": \"Movie_Vote_Count\",\n      \"properties\": {\n        \"dtype\": \"number\",\n        \"std\": 4732.148341860835,\n        \"min\": 0.0,\n        \"max\": 13752.0,\n        \"num_unique_values\": 8,\n        \"samples\": [\n          692.5084033613446,\n          238.0,\n          4760.0\n        ],\n        \"semantic_type\": \"\",\n        \"description\": \"\"\n      }\n    }\n  ]\n}"
            }
          },
          "metadata": {},
          "execution_count": 6
        }
      ]
    },
    {
      "cell_type": "code",
      "source": [
        "df.shape"
      ],
      "metadata": {
        "colab": {
          "base_uri": "https://localhost:8080/"
        },
        "id": "ABpfN_8L81os",
        "outputId": "4be5e436-44b6-436b-dda6-e9da579344c2"
      },
      "execution_count": null,
      "outputs": [
        {
          "output_type": "execute_result",
          "data": {
            "text/plain": [
              "(4760, 21)"
            ]
          },
          "metadata": {},
          "execution_count": 7
        }
      ]
    },
    {
      "cell_type": "code",
      "source": [
        "df.columns"
      ],
      "metadata": {
        "colab": {
          "base_uri": "https://localhost:8080/"
        },
        "id": "nzPhfzJM88Vo",
        "outputId": "346bfded-ab36-42c5-e38b-db9a373ba253"
      },
      "execution_count": null,
      "outputs": [
        {
          "output_type": "execute_result",
          "data": {
            "text/plain": [
              "Index(['Movie_ID', 'Movie_Title', 'Movie_Genre', 'Movie_Language',\n",
              "       'Movie_Budget', 'Movie_Popularity', 'Movie_Release_Date',\n",
              "       'Movie_Revenue', 'Movie_Runtime', 'Movie_Vote', 'Movie_Vote_Count',\n",
              "       'Movie_Homepage', 'Movie_Keywords', 'Movie_Overview',\n",
              "       'Movie_Production_House', 'Movie_Production_Country',\n",
              "       'Movie_Spoken_Language', 'Movie_Tagline', 'Movie_Cast', 'Movie_Crew',\n",
              "       'Movie_Director'],\n",
              "      dtype='object')"
            ]
          },
          "metadata": {},
          "execution_count": 8
        }
      ]
    },
    {
      "cell_type": "markdown",
      "source": [
        "Feature Selection\n"
      ],
      "metadata": {
        "id": "Egkfw-1e9E1j"
      }
    },
    {
      "cell_type": "code",
      "source": [
        "df_feature=df[['Movie_Title', 'Movie_Genre', 'Movie_Language',\n",
        "       'Movie_Budget', 'Movie_Popularity']].fillna('')"
      ],
      "metadata": {
        "id": "fRlw3b3b9IqJ"
      },
      "execution_count": null,
      "outputs": []
    },
    {
      "cell_type": "code",
      "source": [
        "df_feature.shape"
      ],
      "metadata": {
        "colab": {
          "base_uri": "https://localhost:8080/"
        },
        "id": "ioTIt_I69TNb",
        "outputId": "cb175d2d-cb32-41c0-c75c-d064ea1003ff"
      },
      "execution_count": null,
      "outputs": [
        {
          "output_type": "execute_result",
          "data": {
            "text/plain": [
              "(4760, 5)"
            ]
          },
          "metadata": {},
          "execution_count": 10
        }
      ]
    },
    {
      "cell_type": "code",
      "source": [
        "df_feature"
      ],
      "metadata": {
        "colab": {
          "base_uri": "https://localhost:8080/",
          "height": 423
        },
        "id": "B302XqCJ9kH9",
        "outputId": "2f522af4-7da2-4139-e09c-c6cd33326bf8"
      },
      "execution_count": null,
      "outputs": [
        {
          "output_type": "execute_result",
          "data": {
            "text/plain": [
              "                      Movie_Title                       Movie_Genre  \\\n",
              "0                      Four Rooms                      Crime Comedy   \n",
              "1                       Star Wars  Adventure Action Science Fiction   \n",
              "2                    Finding Nemo                  Animation Family   \n",
              "3                    Forrest Gump              Comedy Drama Romance   \n",
              "4                 American Beauty                             Drama   \n",
              "...                           ...                               ...   \n",
              "4755             Midnight Cabaret                            Horror   \n",
              "4756             Growing Up Smith               Comedy Family Drama   \n",
              "4757                       8 Days                    Thriller Drama   \n",
              "4758              Running Forever                            Family   \n",
              "4759  To Be Frank, Sinatra at 100                       Documentary   \n",
              "\n",
              "     Movie_Language  Movie_Budget  Movie_Popularity  \n",
              "0                en       4000000         22.876230  \n",
              "1                en      11000000        126.393695  \n",
              "2                en      94000000         85.688789  \n",
              "3                en      55000000        138.133331  \n",
              "4                en      15000000         80.878605  \n",
              "...             ...           ...               ...  \n",
              "4755             en             0          0.001389  \n",
              "4756             en             0          0.710870  \n",
              "4757             en             0          0.015295  \n",
              "4758             en             0          0.028756  \n",
              "4759             en             2          0.050625  \n",
              "\n",
              "[4760 rows x 5 columns]"
            ],
            "text/html": [
              "\n",
              "  <div id=\"df-ee6865d9-c310-4a2b-9669-f9e02d4d4652\" class=\"colab-df-container\">\n",
              "    <div>\n",
              "<style scoped>\n",
              "    .dataframe tbody tr th:only-of-type {\n",
              "        vertical-align: middle;\n",
              "    }\n",
              "\n",
              "    .dataframe tbody tr th {\n",
              "        vertical-align: top;\n",
              "    }\n",
              "\n",
              "    .dataframe thead th {\n",
              "        text-align: right;\n",
              "    }\n",
              "</style>\n",
              "<table border=\"1\" class=\"dataframe\">\n",
              "  <thead>\n",
              "    <tr style=\"text-align: right;\">\n",
              "      <th></th>\n",
              "      <th>Movie_Title</th>\n",
              "      <th>Movie_Genre</th>\n",
              "      <th>Movie_Language</th>\n",
              "      <th>Movie_Budget</th>\n",
              "      <th>Movie_Popularity</th>\n",
              "    </tr>\n",
              "  </thead>\n",
              "  <tbody>\n",
              "    <tr>\n",
              "      <th>0</th>\n",
              "      <td>Four Rooms</td>\n",
              "      <td>Crime Comedy</td>\n",
              "      <td>en</td>\n",
              "      <td>4000000</td>\n",
              "      <td>22.876230</td>\n",
              "    </tr>\n",
              "    <tr>\n",
              "      <th>1</th>\n",
              "      <td>Star Wars</td>\n",
              "      <td>Adventure Action Science Fiction</td>\n",
              "      <td>en</td>\n",
              "      <td>11000000</td>\n",
              "      <td>126.393695</td>\n",
              "    </tr>\n",
              "    <tr>\n",
              "      <th>2</th>\n",
              "      <td>Finding Nemo</td>\n",
              "      <td>Animation Family</td>\n",
              "      <td>en</td>\n",
              "      <td>94000000</td>\n",
              "      <td>85.688789</td>\n",
              "    </tr>\n",
              "    <tr>\n",
              "      <th>3</th>\n",
              "      <td>Forrest Gump</td>\n",
              "      <td>Comedy Drama Romance</td>\n",
              "      <td>en</td>\n",
              "      <td>55000000</td>\n",
              "      <td>138.133331</td>\n",
              "    </tr>\n",
              "    <tr>\n",
              "      <th>4</th>\n",
              "      <td>American Beauty</td>\n",
              "      <td>Drama</td>\n",
              "      <td>en</td>\n",
              "      <td>15000000</td>\n",
              "      <td>80.878605</td>\n",
              "    </tr>\n",
              "    <tr>\n",
              "      <th>...</th>\n",
              "      <td>...</td>\n",
              "      <td>...</td>\n",
              "      <td>...</td>\n",
              "      <td>...</td>\n",
              "      <td>...</td>\n",
              "    </tr>\n",
              "    <tr>\n",
              "      <th>4755</th>\n",
              "      <td>Midnight Cabaret</td>\n",
              "      <td>Horror</td>\n",
              "      <td>en</td>\n",
              "      <td>0</td>\n",
              "      <td>0.001389</td>\n",
              "    </tr>\n",
              "    <tr>\n",
              "      <th>4756</th>\n",
              "      <td>Growing Up Smith</td>\n",
              "      <td>Comedy Family Drama</td>\n",
              "      <td>en</td>\n",
              "      <td>0</td>\n",
              "      <td>0.710870</td>\n",
              "    </tr>\n",
              "    <tr>\n",
              "      <th>4757</th>\n",
              "      <td>8 Days</td>\n",
              "      <td>Thriller Drama</td>\n",
              "      <td>en</td>\n",
              "      <td>0</td>\n",
              "      <td>0.015295</td>\n",
              "    </tr>\n",
              "    <tr>\n",
              "      <th>4758</th>\n",
              "      <td>Running Forever</td>\n",
              "      <td>Family</td>\n",
              "      <td>en</td>\n",
              "      <td>0</td>\n",
              "      <td>0.028756</td>\n",
              "    </tr>\n",
              "    <tr>\n",
              "      <th>4759</th>\n",
              "      <td>To Be Frank, Sinatra at 100</td>\n",
              "      <td>Documentary</td>\n",
              "      <td>en</td>\n",
              "      <td>2</td>\n",
              "      <td>0.050625</td>\n",
              "    </tr>\n",
              "  </tbody>\n",
              "</table>\n",
              "<p>4760 rows × 5 columns</p>\n",
              "</div>\n",
              "    <div class=\"colab-df-buttons\">\n",
              "\n",
              "  <div class=\"colab-df-container\">\n",
              "    <button class=\"colab-df-convert\" onclick=\"convertToInteractive('df-ee6865d9-c310-4a2b-9669-f9e02d4d4652')\"\n",
              "            title=\"Convert this dataframe to an interactive table.\"\n",
              "            style=\"display:none;\">\n",
              "\n",
              "  <svg xmlns=\"http://www.w3.org/2000/svg\" height=\"24px\" viewBox=\"0 -960 960 960\">\n",
              "    <path d=\"M120-120v-720h720v720H120Zm60-500h600v-160H180v160Zm220 220h160v-160H400v160Zm0 220h160v-160H400v160ZM180-400h160v-160H180v160Zm440 0h160v-160H620v160ZM180-180h160v-160H180v160Zm440 0h160v-160H620v160Z\"/>\n",
              "  </svg>\n",
              "    </button>\n",
              "\n",
              "  <style>\n",
              "    .colab-df-container {\n",
              "      display:flex;\n",
              "      gap: 12px;\n",
              "    }\n",
              "\n",
              "    .colab-df-convert {\n",
              "      background-color: #E8F0FE;\n",
              "      border: none;\n",
              "      border-radius: 50%;\n",
              "      cursor: pointer;\n",
              "      display: none;\n",
              "      fill: #1967D2;\n",
              "      height: 32px;\n",
              "      padding: 0 0 0 0;\n",
              "      width: 32px;\n",
              "    }\n",
              "\n",
              "    .colab-df-convert:hover {\n",
              "      background-color: #E2EBFA;\n",
              "      box-shadow: 0px 1px 2px rgba(60, 64, 67, 0.3), 0px 1px 3px 1px rgba(60, 64, 67, 0.15);\n",
              "      fill: #174EA6;\n",
              "    }\n",
              "\n",
              "    .colab-df-buttons div {\n",
              "      margin-bottom: 4px;\n",
              "    }\n",
              "\n",
              "    [theme=dark] .colab-df-convert {\n",
              "      background-color: #3B4455;\n",
              "      fill: #D2E3FC;\n",
              "    }\n",
              "\n",
              "    [theme=dark] .colab-df-convert:hover {\n",
              "      background-color: #434B5C;\n",
              "      box-shadow: 0px 1px 3px 1px rgba(0, 0, 0, 0.15);\n",
              "      filter: drop-shadow(0px 1px 2px rgba(0, 0, 0, 0.3));\n",
              "      fill: #FFFFFF;\n",
              "    }\n",
              "  </style>\n",
              "\n",
              "    <script>\n",
              "      const buttonEl =\n",
              "        document.querySelector('#df-ee6865d9-c310-4a2b-9669-f9e02d4d4652 button.colab-df-convert');\n",
              "      buttonEl.style.display =\n",
              "        google.colab.kernel.accessAllowed ? 'block' : 'none';\n",
              "\n",
              "      async function convertToInteractive(key) {\n",
              "        const element = document.querySelector('#df-ee6865d9-c310-4a2b-9669-f9e02d4d4652');\n",
              "        const dataTable =\n",
              "          await google.colab.kernel.invokeFunction('convertToInteractive',\n",
              "                                                    [key], {});\n",
              "        if (!dataTable) return;\n",
              "\n",
              "        const docLinkHtml = 'Like what you see? Visit the ' +\n",
              "          '<a target=\"_blank\" href=https://colab.research.google.com/notebooks/data_table.ipynb>data table notebook</a>'\n",
              "          + ' to learn more about interactive tables.';\n",
              "        element.innerHTML = '';\n",
              "        dataTable['output_type'] = 'display_data';\n",
              "        await google.colab.output.renderOutput(dataTable, element);\n",
              "        const docLink = document.createElement('div');\n",
              "        docLink.innerHTML = docLinkHtml;\n",
              "        element.appendChild(docLink);\n",
              "      }\n",
              "    </script>\n",
              "  </div>\n",
              "\n",
              "\n",
              "<div id=\"df-6616d319-2c92-4b24-aef8-154a38f378d6\">\n",
              "  <button class=\"colab-df-quickchart\" onclick=\"quickchart('df-6616d319-2c92-4b24-aef8-154a38f378d6')\"\n",
              "            title=\"Suggest charts\"\n",
              "            style=\"display:none;\">\n",
              "\n",
              "<svg xmlns=\"http://www.w3.org/2000/svg\" height=\"24px\"viewBox=\"0 0 24 24\"\n",
              "     width=\"24px\">\n",
              "    <g>\n",
              "        <path d=\"M19 3H5c-1.1 0-2 .9-2 2v14c0 1.1.9 2 2 2h14c1.1 0 2-.9 2-2V5c0-1.1-.9-2-2-2zM9 17H7v-7h2v7zm4 0h-2V7h2v10zm4 0h-2v-4h2v4z\"/>\n",
              "    </g>\n",
              "</svg>\n",
              "  </button>\n",
              "\n",
              "<style>\n",
              "  .colab-df-quickchart {\n",
              "      --bg-color: #E8F0FE;\n",
              "      --fill-color: #1967D2;\n",
              "      --hover-bg-color: #E2EBFA;\n",
              "      --hover-fill-color: #174EA6;\n",
              "      --disabled-fill-color: #AAA;\n",
              "      --disabled-bg-color: #DDD;\n",
              "  }\n",
              "\n",
              "  [theme=dark] .colab-df-quickchart {\n",
              "      --bg-color: #3B4455;\n",
              "      --fill-color: #D2E3FC;\n",
              "      --hover-bg-color: #434B5C;\n",
              "      --hover-fill-color: #FFFFFF;\n",
              "      --disabled-bg-color: #3B4455;\n",
              "      --disabled-fill-color: #666;\n",
              "  }\n",
              "\n",
              "  .colab-df-quickchart {\n",
              "    background-color: var(--bg-color);\n",
              "    border: none;\n",
              "    border-radius: 50%;\n",
              "    cursor: pointer;\n",
              "    display: none;\n",
              "    fill: var(--fill-color);\n",
              "    height: 32px;\n",
              "    padding: 0;\n",
              "    width: 32px;\n",
              "  }\n",
              "\n",
              "  .colab-df-quickchart:hover {\n",
              "    background-color: var(--hover-bg-color);\n",
              "    box-shadow: 0 1px 2px rgba(60, 64, 67, 0.3), 0 1px 3px 1px rgba(60, 64, 67, 0.15);\n",
              "    fill: var(--button-hover-fill-color);\n",
              "  }\n",
              "\n",
              "  .colab-df-quickchart-complete:disabled,\n",
              "  .colab-df-quickchart-complete:disabled:hover {\n",
              "    background-color: var(--disabled-bg-color);\n",
              "    fill: var(--disabled-fill-color);\n",
              "    box-shadow: none;\n",
              "  }\n",
              "\n",
              "  .colab-df-spinner {\n",
              "    border: 2px solid var(--fill-color);\n",
              "    border-color: transparent;\n",
              "    border-bottom-color: var(--fill-color);\n",
              "    animation:\n",
              "      spin 1s steps(1) infinite;\n",
              "  }\n",
              "\n",
              "  @keyframes spin {\n",
              "    0% {\n",
              "      border-color: transparent;\n",
              "      border-bottom-color: var(--fill-color);\n",
              "      border-left-color: var(--fill-color);\n",
              "    }\n",
              "    20% {\n",
              "      border-color: transparent;\n",
              "      border-left-color: var(--fill-color);\n",
              "      border-top-color: var(--fill-color);\n",
              "    }\n",
              "    30% {\n",
              "      border-color: transparent;\n",
              "      border-left-color: var(--fill-color);\n",
              "      border-top-color: var(--fill-color);\n",
              "      border-right-color: var(--fill-color);\n",
              "    }\n",
              "    40% {\n",
              "      border-color: transparent;\n",
              "      border-right-color: var(--fill-color);\n",
              "      border-top-color: var(--fill-color);\n",
              "    }\n",
              "    60% {\n",
              "      border-color: transparent;\n",
              "      border-right-color: var(--fill-color);\n",
              "    }\n",
              "    80% {\n",
              "      border-color: transparent;\n",
              "      border-right-color: var(--fill-color);\n",
              "      border-bottom-color: var(--fill-color);\n",
              "    }\n",
              "    90% {\n",
              "      border-color: transparent;\n",
              "      border-bottom-color: var(--fill-color);\n",
              "    }\n",
              "  }\n",
              "</style>\n",
              "\n",
              "  <script>\n",
              "    async function quickchart(key) {\n",
              "      const quickchartButtonEl =\n",
              "        document.querySelector('#' + key + ' button');\n",
              "      quickchartButtonEl.disabled = true;  // To prevent multiple clicks.\n",
              "      quickchartButtonEl.classList.add('colab-df-spinner');\n",
              "      try {\n",
              "        const charts = await google.colab.kernel.invokeFunction(\n",
              "            'suggestCharts', [key], {});\n",
              "      } catch (error) {\n",
              "        console.error('Error during call to suggestCharts:', error);\n",
              "      }\n",
              "      quickchartButtonEl.classList.remove('colab-df-spinner');\n",
              "      quickchartButtonEl.classList.add('colab-df-quickchart-complete');\n",
              "    }\n",
              "    (() => {\n",
              "      let quickchartButtonEl =\n",
              "        document.querySelector('#df-6616d319-2c92-4b24-aef8-154a38f378d6 button');\n",
              "      quickchartButtonEl.style.display =\n",
              "        google.colab.kernel.accessAllowed ? 'block' : 'none';\n",
              "    })();\n",
              "  </script>\n",
              "</div>\n",
              "\n",
              "  <div id=\"id_a071fcef-59ae-4cd5-9e41-d26d9b82a196\">\n",
              "    <style>\n",
              "      .colab-df-generate {\n",
              "        background-color: #E8F0FE;\n",
              "        border: none;\n",
              "        border-radius: 50%;\n",
              "        cursor: pointer;\n",
              "        display: none;\n",
              "        fill: #1967D2;\n",
              "        height: 32px;\n",
              "        padding: 0 0 0 0;\n",
              "        width: 32px;\n",
              "      }\n",
              "\n",
              "      .colab-df-generate:hover {\n",
              "        background-color: #E2EBFA;\n",
              "        box-shadow: 0px 1px 2px rgba(60, 64, 67, 0.3), 0px 1px 3px 1px rgba(60, 64, 67, 0.15);\n",
              "        fill: #174EA6;\n",
              "      }\n",
              "\n",
              "      [theme=dark] .colab-df-generate {\n",
              "        background-color: #3B4455;\n",
              "        fill: #D2E3FC;\n",
              "      }\n",
              "\n",
              "      [theme=dark] .colab-df-generate:hover {\n",
              "        background-color: #434B5C;\n",
              "        box-shadow: 0px 1px 3px 1px rgba(0, 0, 0, 0.15);\n",
              "        filter: drop-shadow(0px 1px 2px rgba(0, 0, 0, 0.3));\n",
              "        fill: #FFFFFF;\n",
              "      }\n",
              "    </style>\n",
              "    <button class=\"colab-df-generate\" onclick=\"generateWithVariable('df_feature')\"\n",
              "            title=\"Generate code using this dataframe.\"\n",
              "            style=\"display:none;\">\n",
              "\n",
              "  <svg xmlns=\"http://www.w3.org/2000/svg\" height=\"24px\"viewBox=\"0 0 24 24\"\n",
              "       width=\"24px\">\n",
              "    <path d=\"M7,19H8.4L18.45,9,17,7.55,7,17.6ZM5,21V16.75L18.45,3.32a2,2,0,0,1,2.83,0l1.4,1.43a1.91,1.91,0,0,1,.58,1.4,1.91,1.91,0,0,1-.58,1.4L9.25,21ZM18.45,9,17,7.55Zm-12,3A5.31,5.31,0,0,0,4.9,8.1,5.31,5.31,0,0,0,1,6.5,5.31,5.31,0,0,0,4.9,4.9,5.31,5.31,0,0,0,6.5,1,5.31,5.31,0,0,0,8.1,4.9,5.31,5.31,0,0,0,12,6.5,5.46,5.46,0,0,0,6.5,12Z\"/>\n",
              "  </svg>\n",
              "    </button>\n",
              "    <script>\n",
              "      (() => {\n",
              "      const buttonEl =\n",
              "        document.querySelector('#id_a071fcef-59ae-4cd5-9e41-d26d9b82a196 button.colab-df-generate');\n",
              "      buttonEl.style.display =\n",
              "        google.colab.kernel.accessAllowed ? 'block' : 'none';\n",
              "\n",
              "      buttonEl.onclick = () => {\n",
              "        google.colab.notebook.generateWithVariable('df_feature');\n",
              "      }\n",
              "      })();\n",
              "    </script>\n",
              "  </div>\n",
              "\n",
              "    </div>\n",
              "  </div>\n"
            ],
            "application/vnd.google.colaboratory.intrinsic+json": {
              "type": "dataframe",
              "variable_name": "df_feature",
              "summary": "{\n  \"name\": \"df_feature\",\n  \"rows\": 4760,\n  \"fields\": [\n    {\n      \"column\": \"Movie_Title\",\n      \"properties\": {\n        \"dtype\": \"string\",\n        \"num_unique_values\": 4757,\n        \"samples\": [\n          \"Soul Survivors\",\n          \"For Your Eyes Only\",\n          \"Up\"\n        ],\n        \"semantic_type\": \"\",\n        \"description\": \"\"\n      }\n    },\n    {\n      \"column\": \"Movie_Genre\",\n      \"properties\": {\n        \"dtype\": \"category\",\n        \"num_unique_values\": 1164,\n        \"samples\": [\n          \"Family Animation Adventure\",\n          \"Adventure Science Fiction Action\",\n          \"Action Crime Drama Romance Thriller\"\n        ],\n        \"semantic_type\": \"\",\n        \"description\": \"\"\n      }\n    },\n    {\n      \"column\": \"Movie_Language\",\n      \"properties\": {\n        \"dtype\": \"category\",\n        \"num_unique_values\": 37,\n        \"samples\": [\n          \"he\",\n          \"fr\",\n          \"ja\"\n        ],\n        \"semantic_type\": \"\",\n        \"description\": \"\"\n      }\n    },\n    {\n      \"column\": \"Movie_Budget\",\n      \"properties\": {\n        \"dtype\": \"number\",\n        \"std\": 40756203,\n        \"min\": 0,\n        \"max\": 380000000,\n        \"num_unique_values\": 436,\n        \"samples\": [\n          13300000,\n          300000000,\n          35866397\n        ],\n        \"semantic_type\": \"\",\n        \"description\": \"\"\n      }\n    },\n    {\n      \"column\": \"Movie_Popularity\",\n      \"properties\": {\n        \"dtype\": \"number\",\n        \"std\": 31.887919408553753,\n        \"min\": 0.000372,\n        \"max\": 875.581305,\n        \"num_unique_values\": 4759,\n        \"samples\": [\n          3.231848,\n          26.090746,\n          92.201962\n        ],\n        \"semantic_type\": \"\",\n        \"description\": \"\"\n      }\n    }\n  ]\n}"
            }
          },
          "metadata": {},
          "execution_count": 11
        }
      ]
    },
    {
      "source": [
        "x = df_feature['Movie_Title'].astype(str) + '' + \\\n",
        "    df_feature['Movie_Genre'].astype(str) + '' + \\\n",
        "    df_feature['Movie_Language'].astype(str) + '' + \\\n",
        "    df_feature['Movie_Budget'].astype(str) + '' + \\\n",
        "    df_feature['Movie_Popularity'].astype(str)"
      ],
      "cell_type": "code",
      "metadata": {
        "id": "DmmmSnfS_OPA"
      },
      "execution_count": null,
      "outputs": []
    },
    {
      "cell_type": "code",
      "source": [
        "x"
      ],
      "metadata": {
        "colab": {
          "base_uri": "https://localhost:8080/",
          "height": 458
        },
        "id": "rfYazaWe_VBd",
        "outputId": "f5b34a6f-4958-4f3e-81f1-a4766bdf49be"
      },
      "execution_count": null,
      "outputs": [
        {
          "output_type": "execute_result",
          "data": {
            "text/plain": [
              "0                 Four RoomsCrime Comedyen400000022.87623\n",
              "1       Star WarsAdventure Action Science Fictionen110...\n",
              "2         Finding NemoAnimation Familyen9400000085.688789\n",
              "3       Forrest GumpComedy Drama Romanceen55000000138....\n",
              "4                 American BeautyDramaen1500000080.878605\n",
              "                              ...                        \n",
              "4755                    Midnight CabaretHorroren00.001389\n",
              "4756        Growing Up SmithComedy Family Dramaen00.71087\n",
              "4757                      8 DaysThriller Dramaen00.015295\n",
              "4758                     Running ForeverFamilyen00.028756\n",
              "4759    To Be Frank, Sinatra at 100Documentaryen20.050625\n",
              "Length: 4760, dtype: object"
            ],
            "text/html": [
              "<div>\n",
              "<style scoped>\n",
              "    .dataframe tbody tr th:only-of-type {\n",
              "        vertical-align: middle;\n",
              "    }\n",
              "\n",
              "    .dataframe tbody tr th {\n",
              "        vertical-align: top;\n",
              "    }\n",
              "\n",
              "    .dataframe thead th {\n",
              "        text-align: right;\n",
              "    }\n",
              "</style>\n",
              "<table border=\"1\" class=\"dataframe\">\n",
              "  <thead>\n",
              "    <tr style=\"text-align: right;\">\n",
              "      <th></th>\n",
              "      <th>0</th>\n",
              "    </tr>\n",
              "  </thead>\n",
              "  <tbody>\n",
              "    <tr>\n",
              "      <th>0</th>\n",
              "      <td>Four RoomsCrime Comedyen400000022.87623</td>\n",
              "    </tr>\n",
              "    <tr>\n",
              "      <th>1</th>\n",
              "      <td>Star WarsAdventure Action Science Fictionen110...</td>\n",
              "    </tr>\n",
              "    <tr>\n",
              "      <th>2</th>\n",
              "      <td>Finding NemoAnimation Familyen9400000085.688789</td>\n",
              "    </tr>\n",
              "    <tr>\n",
              "      <th>3</th>\n",
              "      <td>Forrest GumpComedy Drama Romanceen55000000138....</td>\n",
              "    </tr>\n",
              "    <tr>\n",
              "      <th>4</th>\n",
              "      <td>American BeautyDramaen1500000080.878605</td>\n",
              "    </tr>\n",
              "    <tr>\n",
              "      <th>...</th>\n",
              "      <td>...</td>\n",
              "    </tr>\n",
              "    <tr>\n",
              "      <th>4755</th>\n",
              "      <td>Midnight CabaretHorroren00.001389</td>\n",
              "    </tr>\n",
              "    <tr>\n",
              "      <th>4756</th>\n",
              "      <td>Growing Up SmithComedy Family Dramaen00.71087</td>\n",
              "    </tr>\n",
              "    <tr>\n",
              "      <th>4757</th>\n",
              "      <td>8 DaysThriller Dramaen00.015295</td>\n",
              "    </tr>\n",
              "    <tr>\n",
              "      <th>4758</th>\n",
              "      <td>Running ForeverFamilyen00.028756</td>\n",
              "    </tr>\n",
              "    <tr>\n",
              "      <th>4759</th>\n",
              "      <td>To Be Frank, Sinatra at 100Documentaryen20.050625</td>\n",
              "    </tr>\n",
              "  </tbody>\n",
              "</table>\n",
              "<p>4760 rows × 1 columns</p>\n",
              "</div><br><label><b>dtype:</b> object</label>"
            ]
          },
          "metadata": {},
          "execution_count": 13
        }
      ]
    },
    {
      "cell_type": "code",
      "source": [
        "x.shape"
      ],
      "metadata": {
        "colab": {
          "base_uri": "https://localhost:8080/"
        },
        "id": "FyNkqea9_Yj6",
        "outputId": "8b8a3a2b-24af-400e-b2b6-fcb0453fefb3"
      },
      "execution_count": null,
      "outputs": [
        {
          "output_type": "execute_result",
          "data": {
            "text/plain": [
              "(4760,)"
            ]
          },
          "metadata": {},
          "execution_count": 14
        }
      ]
    },
    {
      "cell_type": "markdown",
      "source": [
        "  Get feature text conversion to tokens"
      ],
      "metadata": {
        "id": "kL_JKFIW_oaC"
      }
    },
    {
      "cell_type": "code",
      "source": [
        "from sklearn.feature_extraction.text import TfidfVectorizer"
      ],
      "metadata": {
        "id": "h1DgOw1j_uZi"
      },
      "execution_count": null,
      "outputs": []
    },
    {
      "cell_type": "code",
      "source": [
        "tfidf = TfidfVectorizer()"
      ],
      "metadata": {
        "id": "_dXyMcNjAAlu"
      },
      "execution_count": null,
      "outputs": []
    },
    {
      "cell_type": "code",
      "source": [
        "x= tfidf.fit_transform(x)"
      ],
      "metadata": {
        "id": "WQfuFgs1APH2"
      },
      "execution_count": null,
      "outputs": []
    },
    {
      "cell_type": "code",
      "source": [
        "x.shape"
      ],
      "metadata": {
        "colab": {
          "base_uri": "https://localhost:8080/"
        },
        "id": "_QfO2QgXAU7-",
        "outputId": "a021d175-5d9d-42c3-c886-04c7b7dc4c38"
      },
      "execution_count": null,
      "outputs": [
        {
          "output_type": "execute_result",
          "data": {
            "text/plain": [
              "(4760, 14700)"
            ]
          },
          "metadata": {},
          "execution_count": 18
        }
      ]
    },
    {
      "cell_type": "code",
      "source": [
        "print(x)"
      ],
      "metadata": {
        "colab": {
          "base_uri": "https://localhost:8080/"
        },
        "id": "Swm5NupRAY28",
        "outputId": "a90af738-0440-4e0d-f5f0-f6e9a8b383f8"
      },
      "execution_count": null,
      "outputs": [
        {
          "output_type": "stream",
          "name": "stdout",
          "text": [
            "<Compressed Sparse Row sparse matrix of dtype 'float64'\n",
            "\twith 25439 stored elements and shape (4760, 14700)>\n",
            "  Coords\tValues\n",
            "  (0, 8634)\t0.42644119731598773\n",
            "  (0, 12237)\t0.5222221446956926\n",
            "  (0, 6338)\t0.5222221446956926\n",
            "  (0, 4313)\t0.5222221446956926\n",
            "  (1, 12785)\t0.377397801891299\n",
            "  (1, 14351)\t0.5076341608300441\n",
            "  (1, 4907)\t0.21403732052420651\n",
            "  (1, 12369)\t0.1966763860395162\n",
            "  (1, 8251)\t0.5076341608300441\n",
            "  (1, 2058)\t0.5076341608300441\n",
            "  (2, 8502)\t0.46949608686962174\n",
            "  (2, 10882)\t0.5097625016986219\n",
            "  (2, 8027)\t0.5097625016986219\n",
            "  (2, 3412)\t0.5097625016986219\n",
            "  (3, 8622)\t0.4930801995571393\n",
            "  (3, 8980)\t0.4930801995571393\n",
            "  (3, 7171)\t0.1657940506133042\n",
            "  (3, 12075)\t0.4930801995571393\n",
            "  (3, 727)\t0.4930801995571393\n",
            "  (4, 5216)\t0.4453348480881793\n",
            "  (4, 5541)\t0.6331180273370354\n",
            "  (4, 4329)\t0.6331180273370354\n",
            "  (5, 6846)\t0.4515274701322038\n",
            "  (5, 9553)\t0.25434686608861484\n",
            "  (5, 13104)\t0.12036742815940751\n",
            "  :\t:\n",
            "  (4754, 5729)\t0.4511936259605387\n",
            "  (4754, 8068)\t0.4511936259605387\n",
            "  (4754, 3363)\t0.4511936259605387\n",
            "  (4755, 10413)\t0.5115848560532547\n",
            "  (4755, 5915)\t0.6075693108843512\n",
            "  (4755, 12)\t0.6075693108843512\n",
            "  (4756, 7821)\t0.23072506853479596\n",
            "  (4756, 14061)\t0.389205644258067\n",
            "  (4756, 7175)\t0.33730643152933065\n",
            "  (4756, 8961)\t0.4766232895681263\n",
            "  (4756, 12635)\t0.4766232895681263\n",
            "  (4756, 3527)\t0.4766232895681263\n",
            "  (4757, 7175)\t0.44751380497955373\n",
            "  (4757, 6914)\t0.6323493474151459\n",
            "  (4757, 89)\t0.6323493474151459\n",
            "  (4758, 12286)\t0.5350143883724752\n",
            "  (4758, 8616)\t0.5973941765009206\n",
            "  (4758, 160)\t0.5973941765009206\n",
            "  (4759, 13833)\t0.2351793683343266\n",
            "  (4759, 5380)\t0.310910914388031\n",
            "  (4759, 5518)\t0.34046230168139774\n",
            "  (4759, 8643)\t0.42781727675436115\n",
            "  (4759, 12567)\t0.42781727675436115\n",
            "  (4759, 553)\t0.42781727675436115\n",
            "  (4759, 278)\t0.42781727675436115\n"
          ]
        }
      ]
    },
    {
      "cell_type": "markdown",
      "source": [
        "Get similarity Score using Cosine Similarity"
      ],
      "metadata": {
        "id": "dsV0gTKpAj0s"
      }
    },
    {
      "cell_type": "code",
      "source": [
        "from sklearn.metrics.pairwise import cosine_similarity"
      ],
      "metadata": {
        "id": "DwR1g8C7BElF"
      },
      "execution_count": null,
      "outputs": []
    },
    {
      "cell_type": "code",
      "source": [
        "Similarity_score= cosine_similarity(x)"
      ],
      "metadata": {
        "id": "xUH_86nCBTUQ"
      },
      "execution_count": null,
      "outputs": []
    },
    {
      "cell_type": "code",
      "source": [
        "Similarity_score"
      ],
      "metadata": {
        "colab": {
          "base_uri": "https://localhost:8080/"
        },
        "id": "svLcuaWOBeY5",
        "outputId": "094d6724-94fe-4106-f3b4-e2911e94f461"
      },
      "execution_count": null,
      "outputs": [
        {
          "output_type": "execute_result",
          "data": {
            "text/plain": [
              "array([[1., 0., 0., ..., 0., 0., 0.],\n",
              "       [0., 1., 0., ..., 0., 0., 0.],\n",
              "       [0., 0., 1., ..., 0., 0., 0.],\n",
              "       ...,\n",
              "       [0., 0., 0., ..., 1., 0., 0.],\n",
              "       [0., 0., 0., ..., 0., 1., 0.],\n",
              "       [0., 0., 0., ..., 0., 0., 1.]])"
            ]
          },
          "metadata": {},
          "execution_count": 22
        }
      ]
    },
    {
      "cell_type": "code",
      "source": [
        "Similarity_score.shape"
      ],
      "metadata": {
        "colab": {
          "base_uri": "https://localhost:8080/"
        },
        "id": "LzN1oQvcBqxC",
        "outputId": "0d4e4017-6f88-49d4-c542-0c51739b4069"
      },
      "execution_count": null,
      "outputs": [
        {
          "output_type": "execute_result",
          "data": {
            "text/plain": [
              "(4760, 4760)"
            ]
          },
          "metadata": {},
          "execution_count": 23
        }
      ]
    },
    {
      "cell_type": "markdown",
      "source": [
        "Get movie name as Input from user and Validate for Closest Spelling"
      ],
      "metadata": {
        "id": "vcfwHPzsB91C"
      }
    },
    {
      "cell_type": "code",
      "source": [
        "Favourite_movie_name = input('Enter your favourite movie name: ')"
      ],
      "metadata": {
        "colab": {
          "base_uri": "https://localhost:8080/"
        },
        "id": "uwq7irJ5B-nF",
        "outputId": "7a3e0653-e861-44f4-d920-af1677642d4f"
      },
      "execution_count": null,
      "outputs": [
        {
          "name": "stdout",
          "output_type": "stream",
          "text": [
            "Enter your favourite movie name: Avengers\n"
          ]
        }
      ]
    },
    {
      "cell_type": "code",
      "source": [
        "All_movie_title_list = df['Movie_Title'].tolist()"
      ],
      "metadata": {
        "id": "i9JMJdbtCd2V"
      },
      "execution_count": null,
      "outputs": []
    },
    {
      "cell_type": "code",
      "source": [
        "import difflib"
      ],
      "metadata": {
        "id": "Zjm3nnLoCuM7"
      },
      "execution_count": null,
      "outputs": []
    },
    {
      "cell_type": "code",
      "source": [
        "Movie_Recommandation= difflib.get_close_matches(Favourite_movie_name, All_movie_title_list)\n",
        "print(Movie_Recommandation)"
      ],
      "metadata": {
        "colab": {
          "base_uri": "https://localhost:8080/"
        },
        "id": "0vjR3lCxCy3m",
        "outputId": "5aac0896-8788-4b19-bb5d-dc8313d70669"
      },
      "execution_count": null,
      "outputs": [
        {
          "output_type": "stream",
          "name": "stdout",
          "text": [
            "['The Avengers', 'Swingers']\n"
          ]
        }
      ]
    },
    {
      "cell_type": "code",
      "source": [
        "Close_Match= Movie_Recommandation[0]\n",
        "print(Close_Match)"
      ],
      "metadata": {
        "colab": {
          "base_uri": "https://localhost:8080/"
        },
        "id": "knHnrcXsDI07",
        "outputId": "ee5ec1ba-0234-474d-bdac-be9eac4972ea"
      },
      "execution_count": null,
      "outputs": [
        {
          "output_type": "stream",
          "name": "stdout",
          "text": [
            "The Avengers\n"
          ]
        }
      ]
    },
    {
      "cell_type": "code",
      "source": [
        "Index_of_Close_Match_Movie= df[df.Movie_Title == Close_Match]['Movie_ID'].values[0]\n",
        "print(Index_of_Close_Match_Movie)"
      ],
      "metadata": {
        "colab": {
          "base_uri": "https://localhost:8080/"
        },
        "id": "lv_hhZqME5ck",
        "outputId": "c881ad10-1fdd-435b-cd60-4a1c644172f3"
      },
      "execution_count": null,
      "outputs": [
        {
          "output_type": "stream",
          "name": "stdout",
          "text": [
            "2851\n"
          ]
        }
      ]
    },
    {
      "cell_type": "markdown",
      "source": [
        "Getting list of similar movies\n"
      ],
      "metadata": {
        "id": "W8PVS8urFVJr"
      }
    },
    {
      "cell_type": "code",
      "source": [
        "Recommendation_Score= list(enumerate(Similarity_score[Index_of_Close_Match_Movie]))\n",
        "print(Recommendation_Score)"
      ],
      "metadata": {
        "colab": {
          "base_uri": "https://localhost:8080/"
        },
        "id": "A-1mcYoKFXcw",
        "outputId": "ee8bc8b8-47df-4da0-c574-68f6a5445d17"
      },
      "execution_count": null,
      "outputs": [
        {
          "output_type": "stream",
          "name": "stdout",
          "text": [
            "[(0, np.float64(0.0)), (1, np.float64(0.0)), (2, np.float64(0.0)), (3, np.float64(0.0)), (4, np.float64(0.0)), (5, np.float64(0.0)), (6, np.float64(0.0)), (7, np.float64(0.0)), (8, np.float64(0.0)), (9, np.float64(0.0)), (10, np.float64(0.0)), (11, np.float64(0.0)), (12, np.float64(0.0)), (13, np.float64(0.0)), (14, np.float64(0.0)), (15, np.float64(0.0)), (16, np.float64(0.0)), (17, np.float64(0.0)), (18, np.float64(0.0)), (19, np.float64(0.0)), (20, np.float64(0.0)), (21, np.float64(0.0)), (22, np.float64(0.0)), (23, np.float64(0.0)), (24, np.float64(0.0)), (25, np.float64(0.0)), (26, np.float64(0.0)), (27, np.float64(0.0)), (28, np.float64(0.0)), (29, np.float64(0.0)), (30, np.float64(0.0)), (31, np.float64(0.0)), (32, np.float64(0.0)), (33, np.float64(0.0)), (34, np.float64(0.0)), (35, np.float64(0.0)), (36, np.float64(0.0)), (37, np.float64(0.0)), (38, np.float64(0.0)), (39, np.float64(0.0)), (40, np.float64(0.0)), (41, np.float64(0.0)), (42, np.float64(0.0)), (43, np.float64(0.0)), (44, np.float64(0.0)), (45, np.float64(0.0)), (46, np.float64(0.0)), (47, np.float64(0.0)), (48, np.float64(0.0)), (49, np.float64(0.0)), (50, np.float64(0.0)), (51, np.float64(0.0)), (52, np.float64(0.0)), (53, np.float64(0.0)), (54, np.float64(0.0)), (55, np.float64(0.0)), (56, np.float64(0.0)), (57, np.float64(0.0)), (58, np.float64(0.0)), (59, np.float64(0.0)), (60, np.float64(0.0)), (61, np.float64(0.0)), (62, np.float64(0.0)), (63, np.float64(0.0)), (64, np.float64(0.0)), (65, np.float64(0.0)), (66, np.float64(0.0)), (67, np.float64(0.0)), (68, np.float64(0.0)), (69, np.float64(0.0)), (70, np.float64(0.0)), (71, np.float64(0.0)), (72, np.float64(0.0)), (73, np.float64(0.0)), (74, np.float64(0.0)), (75, np.float64(0.0)), (76, np.float64(0.0)), (77, np.float64(0.0)), (78, np.float64(0.0)), (79, np.float64(0.0)), (80, np.float64(0.0)), (81, np.float64(0.0)), (82, np.float64(0.0)), (83, np.float64(0.0)), (84, np.float64(0.0)), (85, np.float64(0.0)), (86, np.float64(0.0)), (87, np.float64(0.0)), (88, np.float64(0.0)), (89, np.float64(0.0)), (90, np.float64(0.0)), (91, np.float64(0.0)), (92, np.float64(0.0)), (93, np.float64(0.0)), (94, np.float64(0.0)), (95, np.float64(0.0)), (96, np.float64(0.0)), (97, np.float64(0.0)), (98, np.float64(0.0)), (99, np.float64(0.0)), (100, np.float64(0.0)), (101, np.float64(0.0)), (102, np.float64(0.0)), (103, np.float64(0.0)), (104, np.float64(0.0)), (105, np.float64(0.0)), (106, np.float64(0.0)), (107, np.float64(0.0)), (108, np.float64(0.0)), (109, np.float64(0.0)), (110, np.float64(0.0)), (111, np.float64(0.0)), (112, np.float64(0.0)), (113, np.float64(0.0)), (114, np.float64(0.0)), (115, np.float64(0.0)), (116, np.float64(0.0)), (117, np.float64(0.0)), (118, np.float64(0.0)), (119, np.float64(0.0)), (120, np.float64(0.0)), (121, np.float64(0.0)), (122, np.float64(0.0)), (123, np.float64(0.0)), (124, np.float64(0.0)), (125, np.float64(0.0)), (126, np.float64(0.0)), (127, np.float64(0.0)), (128, np.float64(0.0)), (129, np.float64(0.0)), (130, np.float64(0.0)), (131, np.float64(0.0)), (132, np.float64(0.0)), (133, np.float64(0.0)), (134, np.float64(0.0)), (135, np.float64(0.0)), (136, np.float64(0.0)), (137, np.float64(0.0)), (138, np.float64(0.0)), (139, np.float64(0.0)), (140, np.float64(0.0)), (141, np.float64(0.0)), (142, np.float64(0.0)), (143, np.float64(0.0)), (144, np.float64(0.0)), (145, np.float64(0.0)), (146, np.float64(0.0)), (147, np.float64(0.0)), (148, np.float64(0.0)), (149, np.float64(0.0)), (150, np.float64(0.0)), (151, np.float64(0.0)), (152, np.float64(0.0)), (153, np.float64(0.0)), (154, np.float64(0.0)), (155, np.float64(0.0)), (156, np.float64(0.0)), (157, np.float64(0.0)), (158, np.float64(0.0)), (159, np.float64(0.0)), (160, np.float64(0.0)), (161, np.float64(0.0)), (162, np.float64(0.0)), (163, np.float64(0.0)), (164, np.float64(0.0)), (165, np.float64(0.0)), (166, np.float64(0.0)), (167, np.float64(0.0)), (168, np.float64(0.0)), (169, np.float64(0.0)), (170, np.float64(0.0)), (171, np.float64(0.0)), (172, np.float64(0.0)), (173, np.float64(0.0)), (174, np.float64(0.0)), (175, np.float64(0.0)), (176, np.float64(0.0)), (177, np.float64(0.0)), (178, np.float64(0.0)), (179, np.float64(0.0)), (180, np.float64(0.0)), (181, np.float64(0.0)), (182, np.float64(0.0)), (183, np.float64(0.0)), (184, np.float64(0.0)), (185, np.float64(0.0)), (186, np.float64(0.0)), (187, np.float64(0.0)), (188, np.float64(0.0)), (189, np.float64(0.0)), (190, np.float64(0.0)), (191, np.float64(0.0)), (192, np.float64(0.0)), (193, np.float64(0.0)), (194, np.float64(0.0)), (195, np.float64(0.0)), (196, np.float64(0.0)), (197, np.float64(0.0)), (198, np.float64(0.0)), (199, np.float64(0.0)), (200, np.float64(0.0)), (201, np.float64(0.0)), (202, np.float64(0.0)), (203, np.float64(0.0)), (204, np.float64(0.0)), (205, np.float64(0.0)), (206, np.float64(0.0)), (207, np.float64(0.0)), (208, np.float64(0.0)), (209, np.float64(0.0)), (210, np.float64(0.0)), (211, np.float64(0.0)), (212, np.float64(0.0)), (213, np.float64(0.0)), (214, np.float64(0.0)), (215, np.float64(0.0)), (216, np.float64(0.0)), (217, np.float64(0.0)), (218, np.float64(0.0)), (219, np.float64(0.0)), (220, np.float64(0.0)), (221, np.float64(0.0)), (222, np.float64(0.0)), (223, np.float64(0.0)), (224, np.float64(0.0)), (225, np.float64(0.0)), (226, np.float64(0.0)), (227, np.float64(0.0)), (228, np.float64(0.0)), (229, np.float64(0.0)), (230, np.float64(0.0)), (231, np.float64(0.0)), (232, np.float64(0.0)), (233, np.float64(0.0)), (234, np.float64(0.0)), (235, np.float64(0.0)), (236, np.float64(0.0)), (237, np.float64(0.0)), (238, np.float64(0.0)), (239, np.float64(0.0)), (240, np.float64(0.0)), (241, np.float64(0.0)), (242, np.float64(0.0)), (243, np.float64(0.0)), (244, np.float64(0.0)), (245, np.float64(0.0)), (246, np.float64(0.0)), (247, np.float64(0.0)), (248, np.float64(0.0)), (249, np.float64(0.0)), (250, np.float64(0.0)), (251, np.float64(0.0)), (252, np.float64(0.0)), (253, np.float64(0.0)), (254, np.float64(0.0)), (255, np.float64(0.0)), (256, np.float64(0.0)), (257, np.float64(0.0)), (258, np.float64(0.0)), (259, np.float64(0.0)), (260, np.float64(0.0)), (261, np.float64(0.0)), (262, np.float64(0.0)), (263, np.float64(0.0)), (264, np.float64(0.0)), (265, np.float64(0.0)), (266, np.float64(0.0)), (267, np.float64(0.0)), (268, np.float64(0.0)), (269, np.float64(0.0)), (270, np.float64(0.0)), (271, np.float64(0.0)), (272, np.float64(0.0)), (273, np.float64(0.0)), (274, np.float64(0.0)), (275, np.float64(0.0)), (276, np.float64(0.0)), (277, np.float64(0.0)), (278, np.float64(0.0)), (279, np.float64(0.0)), (280, np.float64(0.0)), (281, np.float64(0.0)), (282, np.float64(0.0)), (283, np.float64(0.0)), (284, np.float64(0.0)), (285, np.float64(0.0)), (286, np.float64(0.0)), (287, np.float64(0.0)), (288, np.float64(0.0)), (289, np.float64(0.0)), (290, np.float64(0.0)), (291, np.float64(0.0)), (292, np.float64(0.0)), (293, np.float64(0.0)), (294, np.float64(0.0)), (295, np.float64(0.0)), (296, np.float64(0.0)), (297, np.float64(0.0)), (298, np.float64(0.0)), (299, np.float64(0.0)), (300, np.float64(0.0)), (301, np.float64(0.0)), (302, np.float64(0.0)), (303, np.float64(0.0)), (304, np.float64(0.0)), (305, np.float64(0.0)), (306, np.float64(0.0)), (307, np.float64(0.0)), (308, np.float64(0.0)), (309, np.float64(0.0)), (310, np.float64(0.0)), (311, np.float64(0.0)), (312, np.float64(0.0)), (313, np.float64(0.0)), (314, np.float64(0.0)), (315, np.float64(0.0)), (316, np.float64(0.0)), (317, np.float64(0.0)), (318, np.float64(0.0)), (319, np.float64(0.0)), (320, np.float64(0.0)), (321, np.float64(0.0)), (322, np.float64(0.0)), (323, np.float64(0.0)), (324, np.float64(0.0)), (325, np.float64(0.0)), (326, np.float64(0.0)), (327, np.float64(0.0)), (328, np.float64(0.0)), (329, np.float64(0.0)), (330, np.float64(0.0)), (331, np.float64(0.0)), (332, np.float64(0.0)), (333, np.float64(0.0)), (334, np.float64(0.0)), (335, np.float64(0.0)), (336, np.float64(0.0)), (337, np.float64(0.0)), (338, np.float64(0.0)), (339, np.float64(0.0)), (340, np.float64(0.0)), (341, np.float64(0.0)), (342, np.float64(0.0)), (343, np.float64(0.0)), (344, np.float64(0.0)), (345, np.float64(0.0)), (346, np.float64(0.0)), (347, np.float64(0.0)), (348, np.float64(0.0)), (349, np.float64(0.0)), (350, np.float64(0.0)), (351, np.float64(0.0)), (352, np.float64(0.0)), (353, np.float64(0.0)), (354, np.float64(0.0)), (355, np.float64(0.0)), (356, np.float64(0.0)), (357, np.float64(0.0)), (358, np.float64(0.0)), (359, np.float64(0.0)), (360, np.float64(0.0)), (361, np.float64(0.0)), (362, np.float64(0.0)), (363, np.float64(0.0)), (364, np.float64(0.0)), (365, np.float64(0.0)), (366, np.float64(0.0)), (367, np.float64(0.0)), (368, np.float64(0.0)), (369, np.float64(0.0)), (370, np.float64(0.0)), (371, np.float64(0.0)), (372, np.float64(0.0)), (373, np.float64(0.0)), (374, np.float64(0.0)), (375, np.float64(0.0)), (376, np.float64(0.0)), (377, np.float64(0.0)), (378, np.float64(0.0)), (379, np.float64(0.0)), (380, np.float64(0.0)), (381, np.float64(0.0)), (382, np.float64(0.0)), (383, np.float64(0.0)), (384, np.float64(0.0)), (385, np.float64(0.0)), (386, np.float64(0.0)), (387, np.float64(0.0)), (388, np.float64(0.0)), (389, np.float64(0.0)), (390, np.float64(0.0)), (391, np.float64(0.0)), (392, np.float64(0.0)), (393, np.float64(0.0)), (394, np.float64(0.0)), (395, np.float64(0.0)), (396, np.float64(0.0)), (397, np.float64(0.0)), (398, np.float64(0.0)), (399, np.float64(0.0)), (400, np.float64(0.0)), (401, np.float64(0.0)), (402, np.float64(0.0)), (403, np.float64(0.0)), (404, np.float64(0.0)), (405, np.float64(0.0)), (406, np.float64(0.0)), (407, np.float64(0.0)), (408, np.float64(0.0)), (409, np.float64(0.0)), (410, np.float64(0.0)), (411, np.float64(0.0)), (412, np.float64(0.0)), (413, np.float64(0.0)), (414, np.float64(0.0)), (415, np.float64(0.0)), (416, np.float64(0.0)), (417, np.float64(0.0)), (418, np.float64(0.0)), (419, np.float64(0.0)), (420, np.float64(0.0)), (421, np.float64(0.0)), (422, np.float64(0.0)), (423, np.float64(0.0)), (424, np.float64(0.0)), (425, np.float64(0.0)), (426, np.float64(0.0)), (427, np.float64(0.0)), (428, np.float64(0.0)), (429, np.float64(0.0)), (430, np.float64(0.0)), (431, np.float64(0.0)), (432, np.float64(0.0)), (433, np.float64(0.0)), (434, np.float64(0.0)), (435, np.float64(0.0)), (436, np.float64(0.0)), (437, np.float64(0.0)), (438, np.float64(0.0)), (439, np.float64(0.0)), (440, np.float64(0.0)), (441, np.float64(0.0)), (442, np.float64(0.0)), (443, np.float64(0.0)), (444, np.float64(0.0)), (445, np.float64(0.0)), (446, np.float64(0.0)), (447, np.float64(0.0)), (448, np.float64(0.0)), (449, np.float64(0.0)), (450, np.float64(0.0)), (451, np.float64(0.0)), (452, np.float64(0.0)), (453, np.float64(0.0)), (454, np.float64(0.0)), (455, np.float64(0.0)), (456, np.float64(0.0)), (457, np.float64(0.0)), (458, np.float64(0.0)), (459, np.float64(0.0)), (460, np.float64(0.0)), (461, np.float64(0.0)), (462, np.float64(0.0)), (463, np.float64(0.0)), (464, np.float64(0.0)), (465, np.float64(0.0)), (466, np.float64(0.0)), (467, np.float64(0.0)), (468, np.float64(0.0)), (469, np.float64(0.0)), (470, np.float64(0.0)), (471, np.float64(0.0)), (472, np.float64(0.0)), (473, np.float64(0.0)), (474, np.float64(0.0)), (475, np.float64(0.0)), (476, np.float64(0.0)), (477, np.float64(0.0)), (478, np.float64(0.0)), (479, np.float64(0.0)), (480, np.float64(0.0)), (481, np.float64(0.0)), (482, np.float64(0.0)), (483, np.float64(0.0)), (484, np.float64(0.0)), (485, np.float64(0.0)), (486, np.float64(0.0)), (487, np.float64(0.0)), (488, np.float64(0.0)), (489, np.float64(0.0)), (490, np.float64(0.0)), (491, np.float64(0.0)), (492, np.float64(0.0)), (493, np.float64(0.0)), (494, np.float64(0.0)), (495, np.float64(0.0)), (496, np.float64(0.0)), (497, np.float64(0.0)), (498, np.float64(0.0)), (499, np.float64(0.0)), (500, np.float64(0.0)), (501, np.float64(0.0)), (502, np.float64(0.0)), (503, np.float64(0.0)), (504, np.float64(0.0)), (505, np.float64(0.0)), (506, np.float64(0.0)), (507, np.float64(0.0)), (508, np.float64(0.0)), (509, np.float64(0.0)), (510, np.float64(0.0)), (511, np.float64(0.0)), (512, np.float64(0.0)), (513, np.float64(0.0)), (514, np.float64(0.0)), (515, np.float64(0.0)), (516, np.float64(0.0)), (517, np.float64(0.0)), (518, np.float64(0.0)), (519, np.float64(0.0)), (520, np.float64(0.0)), (521, np.float64(0.0)), (522, np.float64(0.0)), (523, np.float64(0.0)), (524, np.float64(0.0)), (525, np.float64(0.0)), (526, np.float64(0.0)), (527, np.float64(0.0)), (528, np.float64(0.0)), (529, np.float64(0.0)), (530, np.float64(0.0)), (531, np.float64(0.0)), (532, np.float64(0.0)), (533, np.float64(0.0)), (534, np.float64(0.0)), (535, np.float64(0.0)), (536, np.float64(0.0)), (537, np.float64(0.0)), (538, np.float64(0.0)), (539, np.float64(0.0)), (540, np.float64(0.0)), (541, np.float64(0.0)), (542, np.float64(0.0)), (543, np.float64(0.0)), (544, np.float64(0.0)), (545, np.float64(0.0)), (546, np.float64(0.0)), (547, np.float64(0.0)), (548, np.float64(0.0)), (549, np.float64(0.0)), (550, np.float64(0.0)), (551, np.float64(0.0)), (552, np.float64(0.0)), (553, np.float64(0.0)), (554, np.float64(0.0)), (555, np.float64(0.0)), (556, np.float64(0.0)), (557, np.float64(0.0)), (558, np.float64(0.0)), (559, np.float64(0.0)), (560, np.float64(0.0)), (561, np.float64(0.0)), (562, np.float64(0.0)), (563, np.float64(0.0)), (564, np.float64(0.0)), (565, np.float64(0.0)), (566, np.float64(0.0)), (567, np.float64(0.0)), (568, np.float64(0.0)), (569, np.float64(0.0)), (570, np.float64(0.0)), (571, np.float64(0.0)), (572, np.float64(0.0)), (573, np.float64(0.0)), (574, np.float64(0.0)), (575, np.float64(0.0)), (576, np.float64(0.0)), (577, np.float64(0.0)), (578, np.float64(0.0)), (579, np.float64(0.0)), (580, np.float64(0.0)), (581, np.float64(0.0)), (582, np.float64(0.0)), (583, np.float64(0.0)), (584, np.float64(0.0)), (585, np.float64(0.0)), (586, np.float64(0.0)), (587, np.float64(0.0)), (588, np.float64(0.0)), (589, np.float64(0.0)), (590, np.float64(0.0)), (591, np.float64(0.0)), (592, np.float64(0.0)), (593, np.float64(0.0)), (594, np.float64(0.0)), (595, np.float64(0.0)), (596, np.float64(0.0)), (597, np.float64(0.0)), (598, np.float64(0.0)), (599, np.float64(0.0)), (600, np.float64(0.0)), (601, np.float64(0.0)), (602, np.float64(0.0)), (603, np.float64(0.0)), (604, np.float64(0.0)), (605, np.float64(0.0)), (606, np.float64(0.0)), (607, np.float64(0.0)), (608, np.float64(0.0)), (609, np.float64(0.0)), (610, np.float64(0.0)), (611, np.float64(0.0)), (612, np.float64(0.0)), (613, np.float64(0.0)), (614, np.float64(0.0)), (615, np.float64(0.0)), (616, np.float64(0.0)), (617, np.float64(0.0)), (618, np.float64(0.0)), (619, np.float64(0.0)), (620, np.float64(0.0)), (621, np.float64(0.0)), (622, np.float64(0.0)), (623, np.float64(0.0)), (624, np.float64(0.0)), (625, np.float64(0.0)), (626, np.float64(0.0)), (627, np.float64(0.0)), (628, np.float64(0.0)), (629, np.float64(0.0)), (630, np.float64(0.0)), (631, np.float64(0.0)), (632, np.float64(0.0)), (633, np.float64(0.0)), (634, np.float64(0.0)), (635, np.float64(0.0)), (636, np.float64(0.0)), (637, np.float64(0.0)), (638, np.float64(0.0)), (639, np.float64(0.0)), (640, np.float64(0.0)), (641, np.float64(0.0)), (642, np.float64(0.0)), (643, np.float64(0.0)), (644, np.float64(0.0)), (645, np.float64(0.0)), (646, np.float64(0.0)), (647, np.float64(0.0)), (648, np.float64(0.0)), (649, np.float64(0.0)), (650, np.float64(0.0)), (651, np.float64(0.0)), (652, np.float64(0.0)), (653, np.float64(0.0)), (654, np.float64(0.0)), (655, np.float64(0.0)), (656, np.float64(0.0)), (657, np.float64(0.0)), (658, np.float64(0.0)), (659, np.float64(0.0)), (660, np.float64(0.0)), (661, np.float64(0.0)), (662, np.float64(0.0)), (663, np.float64(0.0)), (664, np.float64(0.0)), (665, np.float64(0.0)), (666, np.float64(0.0)), (667, np.float64(0.0)), (668, np.float64(0.0)), (669, np.float64(0.0)), (670, np.float64(0.0)), (671, np.float64(0.0)), (672, np.float64(0.0)), (673, np.float64(0.0)), (674, np.float64(0.0)), (675, np.float64(0.0)), (676, np.float64(0.0)), (677, np.float64(0.0)), (678, np.float64(0.0)), (679, np.float64(0.0)), (680, np.float64(0.0)), (681, np.float64(0.0)), (682, np.float64(0.0)), (683, np.float64(0.0)), (684, np.float64(0.0)), (685, np.float64(0.0)), (686, np.float64(0.0)), (687, np.float64(0.0)), (688, np.float64(0.0)), (689, np.float64(0.0)), (690, np.float64(0.0)), (691, np.float64(0.0)), (692, np.float64(0.0)), (693, np.float64(0.0)), (694, np.float64(0.0)), (695, np.float64(0.0)), (696, np.float64(0.0)), (697, np.float64(0.0)), (698, np.float64(0.0)), (699, np.float64(0.0)), (700, np.float64(0.0)), (701, np.float64(0.0)), (702, np.float64(0.0)), (703, np.float64(0.0)), (704, np.float64(0.0)), (705, np.float64(0.0)), (706, np.float64(0.0)), (707, np.float64(0.0)), (708, np.float64(0.0)), (709, np.float64(0.0)), (710, np.float64(0.0)), (711, np.float64(0.0)), (712, np.float64(0.0)), (713, np.float64(0.0)), (714, np.float64(0.0)), (715, np.float64(0.0)), (716, np.float64(0.0)), (717, np.float64(0.0)), (718, np.float64(0.0)), (719, np.float64(0.0)), (720, np.float64(0.0)), (721, np.float64(0.0)), (722, np.float64(0.0)), (723, np.float64(0.0)), (724, np.float64(0.0)), (725, np.float64(0.0)), (726, np.float64(0.0)), (727, np.float64(0.0)), (728, np.float64(0.0)), (729, np.float64(0.0)), (730, np.float64(0.0)), (731, np.float64(0.0)), (732, np.float64(0.0)), (733, np.float64(0.0)), (734, np.float64(0.0)), (735, np.float64(0.0)), (736, np.float64(0.0)), (737, np.float64(0.0)), (738, np.float64(0.0)), (739, np.float64(0.0)), (740, np.float64(0.0)), (741, np.float64(0.0)), (742, np.float64(0.0)), (743, np.float64(0.0)), (744, np.float64(0.0)), (745, np.float64(0.0)), (746, np.float64(0.0)), (747, np.float64(0.0)), (748, np.float64(0.0)), (749, np.float64(0.0)), (750, np.float64(0.0)), (751, np.float64(0.0)), (752, np.float64(0.0)), (753, np.float64(0.0)), (754, np.float64(0.0)), (755, np.float64(0.0)), (756, np.float64(0.0)), (757, np.float64(0.0)), (758, np.float64(0.0)), (759, np.float64(0.0)), (760, np.float64(0.0)), (761, np.float64(0.0)), (762, np.float64(0.0)), (763, np.float64(0.0)), (764, np.float64(0.0)), (765, np.float64(0.0)), (766, np.float64(0.0)), (767, np.float64(0.0)), (768, np.float64(0.0)), (769, np.float64(0.0)), (770, np.float64(0.0)), (771, np.float64(0.0)), (772, np.float64(0.0)), (773, np.float64(0.0)), (774, np.float64(0.0)), (775, np.float64(0.0)), (776, np.float64(0.0)), (777, np.float64(0.0)), (778, np.float64(0.0)), (779, np.float64(0.0)), (780, np.float64(0.0)), (781, np.float64(0.0)), (782, np.float64(0.0)), (783, np.float64(0.0)), (784, np.float64(0.0)), (785, np.float64(0.0)), (786, np.float64(0.0)), (787, np.float64(0.0)), (788, np.float64(0.0)), (789, np.float64(0.0)), (790, np.float64(0.0)), (791, np.float64(0.0)), (792, np.float64(0.0)), (793, np.float64(0.0)), (794, np.float64(0.0)), (795, np.float64(0.0)), (796, np.float64(0.0)), (797, np.float64(0.0)), (798, np.float64(0.0)), (799, np.float64(0.0)), (800, np.float64(0.0)), (801, np.float64(0.0)), (802, np.float64(0.0)), (803, np.float64(0.0)), (804, np.float64(0.0)), (805, np.float64(0.0)), (806, np.float64(0.0)), (807, np.float64(0.0)), (808, np.float64(0.0)), (809, np.float64(0.0)), (810, np.float64(0.0)), (811, np.float64(0.0)), (812, np.float64(0.0)), (813, np.float64(0.0)), (814, np.float64(0.0)), (815, np.float64(0.0)), (816, np.float64(0.0)), (817, np.float64(0.0)), (818, np.float64(0.0)), (819, np.float64(0.0)), (820, np.float64(0.0)), (821, np.float64(0.0)), (822, np.float64(0.0)), (823, np.float64(0.0)), (824, np.float64(0.0)), (825, np.float64(0.0)), (826, np.float64(0.0)), (827, np.float64(0.0)), (828, np.float64(0.0)), (829, np.float64(0.0)), (830, np.float64(0.0)), (831, np.float64(0.0)), (832, np.float64(0.0)), (833, np.float64(0.0)), (834, np.float64(0.0)), (835, np.float64(0.0)), (836, np.float64(0.0)), (837, np.float64(0.0)), (838, np.float64(0.0)), (839, np.float64(0.0)), (840, np.float64(0.0)), (841, np.float64(0.0)), (842, np.float64(0.0)), (843, np.float64(0.0)), (844, np.float64(0.0)), (845, np.float64(0.0)), (846, np.float64(0.0)), (847, np.float64(0.0)), (848, np.float64(0.0)), (849, np.float64(0.0)), (850, np.float64(0.0)), (851, np.float64(0.0)), (852, np.float64(0.0)), (853, np.float64(0.0)), (854, np.float64(0.0)), (855, np.float64(0.0)), (856, np.float64(0.0)), (857, np.float64(0.0)), (858, np.float64(0.0)), (859, np.float64(0.0)), (860, np.float64(0.0)), (861, np.float64(0.0)), (862, np.float64(0.0)), (863, np.float64(0.0)), (864, np.float64(0.0)), (865, np.float64(0.0)), (866, np.float64(0.0)), (867, np.float64(0.0)), (868, np.float64(0.0)), (869, np.float64(0.0)), (870, np.float64(0.0)), (871, np.float64(0.0)), (872, np.float64(0.0)), (873, np.float64(0.0)), (874, np.float64(0.0)), (875, np.float64(0.0)), (876, np.float64(0.0)), (877, np.float64(0.0)), (878, np.float64(0.0)), (879, np.float64(0.0)), (880, np.float64(0.0)), (881, np.float64(0.0)), (882, np.float64(0.0)), (883, np.float64(0.0)), (884, np.float64(0.0)), (885, np.float64(0.0)), (886, np.float64(0.0)), (887, np.float64(0.0)), (888, np.float64(0.0)), (889, np.float64(0.0)), (890, np.float64(0.0)), (891, np.float64(0.0)), (892, np.float64(0.0)), (893, np.float64(0.0)), (894, np.float64(0.0)), (895, np.float64(0.0)), (896, np.float64(0.0)), (897, np.float64(0.0)), (898, np.float64(0.0)), (899, np.float64(0.0)), (900, np.float64(0.0)), (901, np.float64(0.0)), (902, np.float64(0.0)), (903, np.float64(0.0)), (904, np.float64(0.0)), (905, np.float64(0.0)), (906, np.float64(0.0)), (907, np.float64(0.0)), (908, np.float64(0.0)), (909, np.float64(0.0)), (910, np.float64(0.0)), (911, np.float64(0.0)), (912, np.float64(0.0)), (913, np.float64(0.0)), (914, np.float64(0.0)), (915, np.float64(0.0)), (916, np.float64(0.0)), (917, np.float64(0.0)), (918, np.float64(0.0)), (919, np.float64(0.0)), (920, np.float64(0.0)), (921, np.float64(0.0)), (922, np.float64(0.0)), (923, np.float64(0.0)), (924, np.float64(0.0)), (925, np.float64(0.0)), (926, np.float64(0.0)), (927, np.float64(0.0)), (928, np.float64(0.0)), (929, np.float64(0.0)), (930, np.float64(0.0)), (931, np.float64(0.0)), (932, np.float64(0.0)), (933, np.float64(0.0)), (934, np.float64(0.0)), (935, np.float64(0.0)), (936, np.float64(0.0)), (937, np.float64(0.0)), (938, np.float64(0.0)), (939, np.float64(0.0)), (940, np.float64(0.0)), (941, np.float64(0.0)), (942, np.float64(0.0)), (943, np.float64(0.0)), (944, np.float64(0.0)), (945, np.float64(0.0)), (946, np.float64(0.0)), (947, np.float64(0.0)), (948, np.float64(0.0)), (949, np.float64(0.0)), (950, np.float64(0.0)), (951, np.float64(0.0)), (952, np.float64(0.0)), (953, np.float64(0.0)), (954, np.float64(0.0)), (955, np.float64(0.0)), (956, np.float64(0.0)), (957, np.float64(0.0)), (958, np.float64(0.0)), (959, np.float64(0.0)), (960, np.float64(0.0)), (961, np.float64(0.0)), (962, np.float64(0.0)), (963, np.float64(0.0)), (964, np.float64(0.0)), (965, np.float64(0.0)), (966, np.float64(0.0)), (967, np.float64(0.0)), (968, np.float64(0.0)), (969, np.float64(0.0)), (970, np.float64(0.0)), (971, np.float64(0.0)), (972, np.float64(0.0)), (973, np.float64(0.0)), (974, np.float64(0.0)), (975, np.float64(0.0)), (976, np.float64(0.0)), (977, np.float64(0.0)), (978, np.float64(0.0)), (979, np.float64(0.0)), (980, np.float64(0.0)), (981, np.float64(0.0)), (982, np.float64(0.0)), (983, np.float64(0.0)), (984, np.float64(0.0)), (985, np.float64(0.0)), (986, np.float64(0.0)), (987, np.float64(0.0)), (988, np.float64(0.0)), (989, np.float64(0.0)), (990, np.float64(0.0)), (991, np.float64(0.0)), (992, np.float64(0.0)), (993, np.float64(0.0)), (994, np.float64(0.0)), (995, np.float64(0.0)), (996, np.float64(0.0)), (997, np.float64(0.0)), (998, np.float64(0.0)), (999, np.float64(0.0)), (1000, np.float64(0.0)), (1001, np.float64(0.0)), (1002, np.float64(0.0)), (1003, np.float64(0.0)), (1004, np.float64(0.0)), (1005, np.float64(0.0)), (1006, np.float64(0.0)), (1007, np.float64(0.0)), (1008, np.float64(0.0)), (1009, np.float64(0.0)), (1010, np.float64(0.0)), (1011, np.float64(0.0)), (1012, np.float64(0.0)), (1013, np.float64(0.0)), (1014, np.float64(0.0)), (1015, np.float64(0.0)), (1016, np.float64(0.0)), (1017, np.float64(0.0)), (1018, np.float64(0.0)), (1019, np.float64(0.0)), (1020, np.float64(0.0)), (1021, np.float64(0.0)), (1022, np.float64(0.0)), (1023, np.float64(0.0)), (1024, np.float64(0.0)), (1025, np.float64(0.0)), (1026, np.float64(0.0)), (1027, np.float64(0.0)), (1028, np.float64(0.0)), (1029, np.float64(0.0)), (1030, np.float64(0.0)), (1031, np.float64(0.0)), (1032, np.float64(0.0)), (1033, np.float64(0.0)), (1034, np.float64(0.0)), (1035, np.float64(0.0)), (1036, np.float64(0.0)), (1037, np.float64(0.0)), (1038, np.float64(0.0)), (1039, np.float64(0.0)), (1040, np.float64(0.0)), (1041, np.float64(0.0)), (1042, np.float64(0.0)), (1043, np.float64(0.0)), (1044, np.float64(0.0)), (1045, np.float64(0.0)), (1046, np.float64(0.0)), (1047, np.float64(0.0)), (1048, np.float64(0.0)), (1049, np.float64(0.0)), (1050, np.float64(0.0)), (1051, np.float64(0.0)), (1052, np.float64(0.0)), (1053, np.float64(0.0)), (1054, np.float64(0.0)), (1055, np.float64(0.0)), (1056, np.float64(0.0)), (1057, np.float64(0.0)), (1058, np.float64(0.0)), (1059, np.float64(0.0)), (1060, np.float64(0.0)), (1061, np.float64(0.0)), (1062, np.float64(0.0)), (1063, np.float64(0.0)), (1064, np.float64(0.0)), (1065, np.float64(0.0)), (1066, np.float64(0.0)), (1067, np.float64(0.0)), (1068, np.float64(0.0)), (1069, np.float64(0.0)), (1070, np.float64(0.0)), (1071, np.float64(0.0)), (1072, np.float64(0.0)), (1073, np.float64(0.0)), (1074, np.float64(0.0)), (1075, np.float64(0.0)), (1076, np.float64(0.0)), (1077, np.float64(0.0)), (1078, np.float64(0.0)), (1079, np.float64(0.0)), (1080, np.float64(0.0)), (1081, np.float64(0.0)), (1082, np.float64(0.0)), (1083, np.float64(0.0)), (1084, np.float64(0.0)), (1085, np.float64(0.0)), (1086, np.float64(0.0)), (1087, np.float64(0.0)), (1088, np.float64(0.0)), (1089, np.float64(0.0)), (1090, np.float64(0.0)), (1091, np.float64(0.0)), (1092, np.float64(0.0)), (1093, np.float64(0.0)), (1094, np.float64(0.0)), (1095, np.float64(0.0)), (1096, np.float64(0.0)), (1097, np.float64(0.0)), (1098, np.float64(0.0)), (1099, np.float64(0.0)), (1100, np.float64(0.0)), (1101, np.float64(0.0)), (1102, np.float64(0.0)), (1103, np.float64(0.0)), (1104, np.float64(0.0)), (1105, np.float64(0.0)), (1106, np.float64(0.0)), (1107, np.float64(0.0)), (1108, np.float64(0.0)), (1109, np.float64(0.0)), (1110, np.float64(0.0)), (1111, np.float64(0.0)), (1112, np.float64(0.0)), (1113, np.float64(0.0)), (1114, np.float64(0.0)), (1115, np.float64(0.0)), (1116, np.float64(0.0)), (1117, np.float64(0.0)), (1118, np.float64(0.0)), (1119, np.float64(0.0)), (1120, np.float64(0.0)), (1121, np.float64(0.0)), (1122, np.float64(0.0)), (1123, np.float64(0.0)), (1124, np.float64(0.0)), (1125, np.float64(0.0)), (1126, np.float64(0.0)), (1127, np.float64(0.0)), (1128, np.float64(0.0)), (1129, np.float64(0.0)), (1130, np.float64(0.0)), (1131, np.float64(0.0)), (1132, np.float64(0.0)), (1133, np.float64(0.0)), (1134, np.float64(0.0)), (1135, np.float64(0.0)), (1136, np.float64(0.0)), (1137, np.float64(0.0)), (1138, np.float64(0.0)), (1139, np.float64(0.0)), (1140, np.float64(0.0)), (1141, np.float64(0.0)), (1142, np.float64(0.0)), (1143, np.float64(0.0)), (1144, np.float64(0.0)), (1145, np.float64(0.0)), (1146, np.float64(0.0)), (1147, np.float64(0.0)), (1148, np.float64(0.0)), (1149, np.float64(0.0)), (1150, np.float64(0.0)), (1151, np.float64(0.0)), (1152, np.float64(0.0)), (1153, np.float64(0.0)), (1154, np.float64(0.0)), (1155, np.float64(0.0)), (1156, np.float64(0.0)), (1157, np.float64(0.0)), (1158, np.float64(0.0)), (1159, np.float64(0.0)), (1160, np.float64(0.0)), (1161, np.float64(0.0)), (1162, np.float64(0.0)), (1163, np.float64(0.0)), (1164, np.float64(0.0)), (1165, np.float64(0.0)), (1166, np.float64(0.0)), (1167, np.float64(0.0)), (1168, np.float64(0.0)), (1169, np.float64(0.0)), (1170, np.float64(0.0)), (1171, np.float64(0.0)), (1172, np.float64(0.0)), (1173, np.float64(0.0)), (1174, np.float64(0.0)), (1175, np.float64(0.0)), (1176, np.float64(0.0)), (1177, np.float64(0.0)), (1178, np.float64(0.0)), (1179, np.float64(0.0)), (1180, np.float64(0.0)), (1181, np.float64(0.0)), (1182, np.float64(0.0)), (1183, np.float64(0.0)), (1184, np.float64(0.0)), (1185, np.float64(0.0)), (1186, np.float64(0.0)), (1187, np.float64(0.0)), (1188, np.float64(0.0)), (1189, np.float64(0.0)), (1190, np.float64(0.0)), (1191, np.float64(0.0)), (1192, np.float64(0.0)), (1193, np.float64(0.0)), (1194, np.float64(0.0)), (1195, np.float64(0.0)), (1196, np.float64(0.0)), (1197, np.float64(0.0)), (1198, np.float64(0.0)), (1199, np.float64(0.0)), (1200, np.float64(0.0)), (1201, np.float64(0.0)), (1202, np.float64(0.0)), (1203, np.float64(0.0)), (1204, np.float64(0.0)), (1205, np.float64(0.0)), (1206, np.float64(0.0)), (1207, np.float64(0.0)), (1208, np.float64(0.0)), (1209, np.float64(0.0)), (1210, np.float64(0.0)), (1211, np.float64(0.0)), (1212, np.float64(0.0)), (1213, np.float64(0.0)), (1214, np.float64(0.0)), (1215, np.float64(0.0)), (1216, np.float64(0.0)), (1217, np.float64(0.0)), (1218, np.float64(0.0)), (1219, np.float64(0.0)), (1220, np.float64(0.0)), (1221, np.float64(0.0)), (1222, np.float64(0.0)), (1223, np.float64(0.0)), (1224, np.float64(0.0)), (1225, np.float64(0.0)), (1226, np.float64(0.0)), (1227, np.float64(0.0)), (1228, np.float64(0.0)), (1229, np.float64(0.0)), (1230, np.float64(0.0)), (1231, np.float64(0.0)), (1232, np.float64(0.0)), (1233, np.float64(0.0)), (1234, np.float64(0.0)), (1235, np.float64(0.0)), (1236, np.float64(0.0)), (1237, np.float64(0.0)), (1238, np.float64(0.0)), (1239, np.float64(0.0)), (1240, np.float64(0.0)), (1241, np.float64(0.0)), (1242, np.float64(0.0)), (1243, np.float64(0.0)), (1244, np.float64(0.0)), (1245, np.float64(0.0)), (1246, np.float64(0.0)), (1247, np.float64(0.0)), (1248, np.float64(0.0)), (1249, np.float64(0.0)), (1250, np.float64(0.0)), (1251, np.float64(0.0)), (1252, np.float64(0.0)), (1253, np.float64(0.0)), (1254, np.float64(0.0)), (1255, np.float64(0.0)), (1256, np.float64(0.0)), (1257, np.float64(0.0)), (1258, np.float64(0.0)), (1259, np.float64(0.0)), (1260, np.float64(0.0)), (1261, np.float64(0.0)), (1262, np.float64(0.0)), (1263, np.float64(0.0)), (1264, np.float64(0.0)), (1265, np.float64(0.0)), (1266, np.float64(0.0)), (1267, np.float64(0.0)), (1268, np.float64(0.0)), (1269, np.float64(0.0)), (1270, np.float64(0.0)), (1271, np.float64(0.0)), (1272, np.float64(0.0)), (1273, np.float64(0.0)), (1274, np.float64(0.0)), (1275, np.float64(0.0)), (1276, np.float64(0.0)), (1277, np.float64(0.0)), (1278, np.float64(0.0)), (1279, np.float64(0.0)), (1280, np.float64(0.0)), (1281, np.float64(0.0)), (1282, np.float64(0.0)), (1283, np.float64(0.0)), (1284, np.float64(0.0)), (1285, np.float64(0.0)), (1286, np.float64(0.0)), (1287, np.float64(0.0)), (1288, np.float64(0.0)), (1289, np.float64(0.0)), (1290, np.float64(0.0)), (1291, np.float64(0.0)), (1292, np.float64(0.0)), (1293, np.float64(0.0)), (1294, np.float64(0.0)), (1295, np.float64(0.0)), (1296, np.float64(0.0)), (1297, np.float64(0.0)), (1298, np.float64(0.0)), (1299, np.float64(0.0)), (1300, np.float64(0.0)), (1301, np.float64(0.0)), (1302, np.float64(0.0)), (1303, np.float64(0.0)), (1304, np.float64(0.0)), (1305, np.float64(0.0)), (1306, np.float64(0.0)), (1307, np.float64(0.0)), (1308, np.float64(0.0)), (1309, np.float64(0.0)), (1310, np.float64(0.0)), (1311, np.float64(0.0)), (1312, np.float64(0.0)), (1313, np.float64(0.0)), (1314, np.float64(0.0)), (1315, np.float64(0.0)), (1316, np.float64(0.0)), (1317, np.float64(0.0)), (1318, np.float64(0.0)), (1319, np.float64(0.0)), (1320, np.float64(0.0)), (1321, np.float64(0.0)), (1322, np.float64(0.0)), (1323, np.float64(0.0)), (1324, np.float64(0.0)), (1325, np.float64(0.0)), (1326, np.float64(0.0)), (1327, np.float64(0.0)), (1328, np.float64(0.0)), (1329, np.float64(0.0)), (1330, np.float64(0.0)), (1331, np.float64(0.0)), (1332, np.float64(0.0)), (1333, np.float64(0.0)), (1334, np.float64(0.0)), (1335, np.float64(0.0)), (1336, np.float64(0.0)), (1337, np.float64(0.0)), (1338, np.float64(0.0)), (1339, np.float64(0.0)), (1340, np.float64(0.0)), (1341, np.float64(0.0)), (1342, np.float64(0.0)), (1343, np.float64(0.0)), (1344, np.float64(0.0)), (1345, np.float64(0.0)), (1346, np.float64(0.0)), (1347, np.float64(0.0)), (1348, np.float64(0.0)), (1349, np.float64(0.0)), (1350, np.float64(0.0)), (1351, np.float64(0.0)), (1352, np.float64(0.0)), (1353, np.float64(0.0)), (1354, np.float64(0.0)), (1355, np.float64(0.0)), (1356, np.float64(0.0)), (1357, np.float64(0.0)), (1358, np.float64(0.0)), (1359, np.float64(0.0)), (1360, np.float64(0.0)), (1361, np.float64(0.0)), (1362, np.float64(0.0)), (1363, np.float64(0.0)), (1364, np.float64(0.0)), (1365, np.float64(0.0)), (1366, np.float64(0.0)), (1367, np.float64(0.0)), (1368, np.float64(0.0)), (1369, np.float64(0.0)), (1370, np.float64(0.0)), (1371, np.float64(0.0)), (1372, np.float64(0.0)), (1373, np.float64(0.0)), (1374, np.float64(0.0)), (1375, np.float64(0.0)), (1376, np.float64(0.0)), (1377, np.float64(0.0)), (1378, np.float64(0.0)), (1379, np.float64(0.0)), (1380, np.float64(0.0)), (1381, np.float64(0.0)), (1382, np.float64(0.0)), (1383, np.float64(0.0)), (1384, np.float64(0.0)), (1385, np.float64(0.0)), (1386, np.float64(0.0)), (1387, np.float64(0.0)), (1388, np.float64(0.0)), (1389, np.float64(0.0)), (1390, np.float64(0.0)), (1391, np.float64(0.0)), (1392, np.float64(0.0)), (1393, np.float64(0.0)), (1394, np.float64(0.0)), (1395, np.float64(0.0)), (1396, np.float64(0.0)), (1397, np.float64(0.0)), (1398, np.float64(0.0)), (1399, np.float64(0.0)), (1400, np.float64(0.0)), (1401, np.float64(0.0)), (1402, np.float64(0.0)), (1403, np.float64(0.0)), (1404, np.float64(0.0)), (1405, np.float64(0.0)), (1406, np.float64(0.0)), (1407, np.float64(0.0)), (1408, np.float64(0.0)), (1409, np.float64(0.0)), (1410, np.float64(0.0)), (1411, np.float64(0.0)), (1412, np.float64(0.0)), (1413, np.float64(0.0)), (1414, np.float64(0.0)), (1415, np.float64(0.0)), (1416, np.float64(0.0)), (1417, np.float64(0.0)), (1418, np.float64(0.0)), (1419, np.float64(0.0)), (1420, np.float64(0.0)), (1421, np.float64(0.0)), (1422, np.float64(0.0)), (1423, np.float64(0.0)), (1424, np.float64(0.0)), (1425, np.float64(0.0)), (1426, np.float64(0.0)), (1427, np.float64(0.0)), (1428, np.float64(0.0)), (1429, np.float64(0.0)), (1430, np.float64(0.0)), (1431, np.float64(0.0)), (1432, np.float64(0.0)), (1433, np.float64(0.0)), (1434, np.float64(0.0)), (1435, np.float64(0.0)), (1436, np.float64(0.0)), (1437, np.float64(0.0)), (1438, np.float64(0.0)), (1439, np.float64(0.0)), (1440, np.float64(0.0)), (1441, np.float64(0.0)), (1442, np.float64(0.0)), (1443, np.float64(0.0)), (1444, np.float64(0.0)), (1445, np.float64(0.0)), (1446, np.float64(0.0)), (1447, np.float64(0.0)), (1448, np.float64(0.0)), (1449, np.float64(0.0)), (1450, np.float64(0.0)), (1451, np.float64(0.0)), (1452, np.float64(0.0)), (1453, np.float64(0.0)), (1454, np.float64(0.0)), (1455, np.float64(0.0)), (1456, np.float64(0.0)), (1457, np.float64(0.0)), (1458, np.float64(0.0)), (1459, np.float64(0.0)), (1460, np.float64(0.0)), (1461, np.float64(0.0)), (1462, np.float64(0.0)), (1463, np.float64(0.0)), (1464, np.float64(0.0)), (1465, np.float64(0.0)), (1466, np.float64(0.0)), (1467, np.float64(0.0)), (1468, np.float64(0.0)), (1469, np.float64(0.0)), (1470, np.float64(0.0)), (1471, np.float64(0.0)), (1472, np.float64(0.0)), (1473, np.float64(0.0)), (1474, np.float64(0.0)), (1475, np.float64(0.0)), (1476, np.float64(0.0)), (1477, np.float64(0.0)), (1478, np.float64(0.0)), (1479, np.float64(0.0)), (1480, np.float64(0.0)), (1481, np.float64(0.0)), (1482, np.float64(0.0)), (1483, np.float64(0.0)), (1484, np.float64(0.0)), (1485, np.float64(0.0)), (1486, np.float64(0.0)), (1487, np.float64(0.0)), (1488, np.float64(0.0)), (1489, np.float64(0.0)), (1490, np.float64(0.0)), (1491, np.float64(0.0)), (1492, np.float64(0.0)), (1493, np.float64(0.0)), (1494, np.float64(0.0)), (1495, np.float64(0.0)), (1496, np.float64(0.0)), (1497, np.float64(0.0)), (1498, np.float64(0.0)), (1499, np.float64(0.0)), (1500, np.float64(0.0)), (1501, np.float64(0.0)), (1502, np.float64(0.0)), (1503, np.float64(0.0)), (1504, np.float64(0.0)), (1505, np.float64(0.0)), (1506, np.float64(0.0)), (1507, np.float64(0.0)), (1508, np.float64(0.0)), (1509, np.float64(0.0)), (1510, np.float64(0.0)), (1511, np.float64(0.0)), (1512, np.float64(0.0)), (1513, np.float64(0.0)), (1514, np.float64(0.0)), (1515, np.float64(0.0)), (1516, np.float64(0.0)), (1517, np.float64(0.0)), (1518, np.float64(0.0)), (1519, np.float64(0.0)), (1520, np.float64(0.0)), (1521, np.float64(0.0)), (1522, np.float64(0.0)), (1523, np.float64(0.0)), (1524, np.float64(0.0)), (1525, np.float64(0.0)), (1526, np.float64(0.0)), (1527, np.float64(0.0)), (1528, np.float64(0.0)), (1529, np.float64(0.0)), (1530, np.float64(0.0)), (1531, np.float64(0.0)), (1532, np.float64(0.0)), (1533, np.float64(0.0)), (1534, np.float64(0.0)), (1535, np.float64(0.0)), (1536, np.float64(0.0)), (1537, np.float64(0.0)), (1538, np.float64(0.0)), (1539, np.float64(0.0)), (1540, np.float64(0.0)), (1541, np.float64(0.0)), (1542, np.float64(0.0)), (1543, np.float64(0.0)), (1544, np.float64(0.0)), (1545, np.float64(0.0)), (1546, np.float64(0.0)), (1547, np.float64(0.0)), (1548, np.float64(0.0)), (1549, np.float64(0.0)), (1550, np.float64(0.0)), (1551, np.float64(0.0)), (1552, np.float64(0.0)), (1553, np.float64(0.0)), (1554, np.float64(0.0)), (1555, np.float64(0.0)), (1556, np.float64(0.0)), (1557, np.float64(0.0)), (1558, np.float64(0.0)), (1559, np.float64(0.0)), (1560, np.float64(0.0)), (1561, np.float64(0.0)), (1562, np.float64(0.0)), (1563, np.float64(0.0)), (1564, np.float64(0.0)), (1565, np.float64(0.0)), (1566, np.float64(0.0)), (1567, np.float64(0.0)), (1568, np.float64(0.0)), (1569, np.float64(0.0)), (1570, np.float64(0.0)), (1571, np.float64(0.0)), (1572, np.float64(0.0)), (1573, np.float64(0.0)), (1574, np.float64(0.0)), (1575, np.float64(0.0)), (1576, np.float64(0.0)), (1577, np.float64(0.0)), (1578, np.float64(0.0)), (1579, np.float64(0.0)), (1580, np.float64(0.0)), (1581, np.float64(0.0)), (1582, np.float64(0.0)), (1583, np.float64(0.0)), (1584, np.float64(0.0)), (1585, np.float64(0.0)), (1586, np.float64(0.0)), (1587, np.float64(0.0)), (1588, np.float64(0.0)), (1589, np.float64(0.0)), (1590, np.float64(0.0)), (1591, np.float64(0.0)), (1592, np.float64(0.0)), (1593, np.float64(0.0)), (1594, np.float64(0.0)), (1595, np.float64(0.0)), (1596, np.float64(0.0)), (1597, np.float64(0.0)), (1598, np.float64(0.0)), (1599, np.float64(0.0)), (1600, np.float64(0.0)), (1601, np.float64(0.0)), (1602, np.float64(0.0)), (1603, np.float64(0.0)), (1604, np.float64(0.0)), (1605, np.float64(0.0)), (1606, np.float64(0.0)), (1607, np.float64(0.0)), (1608, np.float64(0.0)), (1609, np.float64(0.0)), (1610, np.float64(0.0)), (1611, np.float64(0.0)), (1612, np.float64(0.0)), (1613, np.float64(0.0)), (1614, np.float64(0.0)), (1615, np.float64(0.0)), (1616, np.float64(0.0)), (1617, np.float64(0.0)), (1618, np.float64(0.0)), (1619, np.float64(0.0)), (1620, np.float64(0.0)), (1621, np.float64(0.0)), (1622, np.float64(0.0)), (1623, np.float64(0.0)), (1624, np.float64(0.0)), (1625, np.float64(0.0)), (1626, np.float64(0.0)), (1627, np.float64(0.0)), (1628, np.float64(0.0)), (1629, np.float64(0.0)), (1630, np.float64(0.0)), (1631, np.float64(0.0)), (1632, np.float64(0.0)), (1633, np.float64(0.0)), (1634, np.float64(0.0)), (1635, np.float64(0.0)), (1636, np.float64(0.0)), (1637, np.float64(0.0)), (1638, np.float64(0.0)), (1639, np.float64(0.0)), (1640, np.float64(0.0)), (1641, np.float64(0.0)), (1642, np.float64(0.0)), (1643, np.float64(0.0)), (1644, np.float64(0.0)), (1645, np.float64(0.0)), (1646, np.float64(0.0)), (1647, np.float64(0.0)), (1648, np.float64(0.0)), (1649, np.float64(0.0)), (1650, np.float64(0.0)), (1651, np.float64(0.0)), (1652, np.float64(0.0)), (1653, np.float64(0.0)), (1654, np.float64(0.0)), (1655, np.float64(0.0)), (1656, np.float64(0.0)), (1657, np.float64(0.0)), (1658, np.float64(0.0)), (1659, np.float64(0.0)), (1660, np.float64(0.0)), (1661, np.float64(0.0)), (1662, np.float64(0.0)), (1663, np.float64(0.0)), (1664, np.float64(0.0)), (1665, np.float64(0.0)), (1666, np.float64(0.0)), (1667, np.float64(0.0)), (1668, np.float64(0.0)), (1669, np.float64(0.0)), (1670, np.float64(0.0)), (1671, np.float64(0.0)), (1672, np.float64(0.0)), (1673, np.float64(0.0)), (1674, np.float64(0.0)), (1675, np.float64(0.0)), (1676, np.float64(0.0)), (1677, np.float64(0.0)), (1678, np.float64(0.0)), (1679, np.float64(0.0)), (1680, np.float64(0.0)), (1681, np.float64(0.0)), (1682, np.float64(0.0)), (1683, np.float64(0.0)), (1684, np.float64(0.0)), (1685, np.float64(0.0)), (1686, np.float64(0.0)), (1687, np.float64(0.0)), (1688, np.float64(0.0)), (1689, np.float64(0.0)), (1690, np.float64(0.0)), (1691, np.float64(0.0)), (1692, np.float64(0.0)), (1693, np.float64(0.0)), (1694, np.float64(0.0)), (1695, np.float64(0.0)), (1696, np.float64(0.0)), (1697, np.float64(0.0)), (1698, np.float64(0.0)), (1699, np.float64(0.0)), (1700, np.float64(0.0)), (1701, np.float64(0.0)), (1702, np.float64(0.0)), (1703, np.float64(0.0)), (1704, np.float64(0.0)), (1705, np.float64(0.0)), (1706, np.float64(0.0)), (1707, np.float64(0.0)), (1708, np.float64(0.0)), (1709, np.float64(0.0)), (1710, np.float64(0.0)), (1711, np.float64(0.0)), (1712, np.float64(0.0)), (1713, np.float64(0.0)), (1714, np.float64(0.0)), (1715, np.float64(0.0)), (1716, np.float64(0.0)), (1717, np.float64(0.0)), (1718, np.float64(0.0)), (1719, np.float64(0.0)), (1720, np.float64(0.0)), (1721, np.float64(0.0)), (1722, np.float64(0.0)), (1723, np.float64(0.0)), (1724, np.float64(0.0)), (1725, np.float64(0.0)), (1726, np.float64(0.0)), (1727, np.float64(0.0)), (1728, np.float64(0.0)), (1729, np.float64(0.0)), (1730, np.float64(0.0)), (1731, np.float64(0.0)), (1732, np.float64(0.0)), (1733, np.float64(0.0)), (1734, np.float64(0.0)), (1735, np.float64(0.0)), (1736, np.float64(0.0)), (1737, np.float64(0.0)), (1738, np.float64(0.0)), (1739, np.float64(0.0)), (1740, np.float64(0.0)), (1741, np.float64(0.0)), (1742, np.float64(0.0)), (1743, np.float64(0.0)), (1744, np.float64(0.0)), (1745, np.float64(0.0)), (1746, np.float64(0.0)), (1747, np.float64(0.0)), (1748, np.float64(0.0)), (1749, np.float64(0.0)), (1750, np.float64(0.0)), (1751, np.float64(0.0)), (1752, np.float64(0.0)), (1753, np.float64(0.0)), (1754, np.float64(0.0)), (1755, np.float64(0.0)), (1756, np.float64(0.0)), (1757, np.float64(0.0)), (1758, np.float64(0.0)), (1759, np.float64(0.0)), (1760, np.float64(0.0)), (1761, np.float64(0.0)), (1762, np.float64(0.0)), (1763, np.float64(0.0)), (1764, np.float64(0.0)), (1765, np.float64(0.0)), (1766, np.float64(0.0)), (1767, np.float64(0.0)), (1768, np.float64(0.0)), (1769, np.float64(0.0)), (1770, np.float64(0.0)), (1771, np.float64(0.0)), (1772, np.float64(0.0)), (1773, np.float64(0.0)), (1774, np.float64(0.0)), (1775, np.float64(0.0)), (1776, np.float64(0.0)), (1777, np.float64(0.0)), (1778, np.float64(0.0)), (1779, np.float64(0.0)), (1780, np.float64(0.0)), (1781, np.float64(0.0)), (1782, np.float64(0.0)), (1783, np.float64(0.0)), (1784, np.float64(0.0)), (1785, np.float64(0.0)), (1786, np.float64(0.0)), (1787, np.float64(0.0)), (1788, np.float64(0.0)), (1789, np.float64(0.0)), (1790, np.float64(0.0)), (1791, np.float64(0.0)), (1792, np.float64(0.0)), (1793, np.float64(0.0)), (1794, np.float64(0.0)), (1795, np.float64(0.0)), (1796, np.float64(0.0)), (1797, np.float64(0.0)), (1798, np.float64(0.0)), (1799, np.float64(0.0)), (1800, np.float64(0.0)), (1801, np.float64(0.0)), (1802, np.float64(0.0)), (1803, np.float64(0.0)), (1804, np.float64(0.0)), (1805, np.float64(0.0)), (1806, np.float64(0.0)), (1807, np.float64(0.0)), (1808, np.float64(0.0)), (1809, np.float64(0.0)), (1810, np.float64(0.0)), (1811, np.float64(0.0)), (1812, np.float64(0.0)), (1813, np.float64(0.0)), (1814, np.float64(0.0)), (1815, np.float64(0.0)), (1816, np.float64(0.0)), (1817, np.float64(0.0)), (1818, np.float64(0.0)), (1819, np.float64(0.0)), (1820, np.float64(0.0)), (1821, np.float64(0.0)), (1822, np.float64(0.0)), (1823, np.float64(0.0)), (1824, np.float64(0.0)), (1825, np.float64(0.0)), (1826, np.float64(0.0)), (1827, np.float64(0.0)), (1828, np.float64(0.0)), (1829, np.float64(0.0)), (1830, np.float64(0.0)), (1831, np.float64(0.0)), (1832, np.float64(0.0)), (1833, np.float64(0.0)), (1834, np.float64(0.0)), (1835, np.float64(0.0)), (1836, np.float64(0.0)), (1837, np.float64(0.0)), (1838, np.float64(0.0)), (1839, np.float64(0.0)), (1840, np.float64(0.0)), (1841, np.float64(0.0)), (1842, np.float64(0.0)), (1843, np.float64(0.0)), (1844, np.float64(0.0)), (1845, np.float64(0.0)), (1846, np.float64(0.0)), (1847, np.float64(0.0)), (1848, np.float64(0.0)), (1849, np.float64(0.0)), (1850, np.float64(0.0)), (1851, np.float64(0.0)), (1852, np.float64(0.0)), (1853, np.float64(0.0)), (1854, np.float64(0.0)), (1855, np.float64(0.0)), (1856, np.float64(0.0)), (1857, np.float64(0.0)), (1858, np.float64(0.0)), (1859, np.float64(0.0)), (1860, np.float64(0.0)), (1861, np.float64(0.0)), (1862, np.float64(0.0)), (1863, np.float64(0.0)), (1864, np.float64(0.0)), (1865, np.float64(0.0)), (1866, np.float64(0.0)), (1867, np.float64(0.0)), (1868, np.float64(0.0)), (1869, np.float64(0.0)), (1870, np.float64(0.0)), (1871, np.float64(0.0)), (1872, np.float64(0.0)), (1873, np.float64(0.0)), (1874, np.float64(0.0)), (1875, np.float64(0.0)), (1876, np.float64(0.0)), (1877, np.float64(0.0)), (1878, np.float64(0.0)), (1879, np.float64(0.0)), (1880, np.float64(0.0)), (1881, np.float64(0.0)), (1882, np.float64(0.0)), (1883, np.float64(0.0)), (1884, np.float64(0.0)), (1885, np.float64(0.0)), (1886, np.float64(0.0)), (1887, np.float64(0.0)), (1888, np.float64(0.0)), (1889, np.float64(0.0)), (1890, np.float64(0.0)), (1891, np.float64(0.0)), (1892, np.float64(0.0)), (1893, np.float64(0.0)), (1894, np.float64(0.0)), (1895, np.float64(0.0)), (1896, np.float64(0.0)), (1897, np.float64(0.0)), (1898, np.float64(0.0)), (1899, np.float64(0.0)), (1900, np.float64(0.0)), (1901, np.float64(0.0)), (1902, np.float64(0.0)), (1903, np.float64(0.0)), (1904, np.float64(0.0)), (1905, np.float64(0.0)), (1906, np.float64(0.0)), (1907, np.float64(0.0)), (1908, np.float64(0.0)), (1909, np.float64(0.0)), (1910, np.float64(0.0)), (1911, np.float64(0.0)), (1912, np.float64(0.0)), (1913, np.float64(0.0)), (1914, np.float64(0.0)), (1915, np.float64(0.0)), (1916, np.float64(0.0)), (1917, np.float64(0.0)), (1918, np.float64(0.0)), (1919, np.float64(0.0)), (1920, np.float64(0.0)), (1921, np.float64(0.0)), (1922, np.float64(0.0)), (1923, np.float64(0.0)), (1924, np.float64(0.0)), (1925, np.float64(0.0)), (1926, np.float64(0.0)), (1927, np.float64(0.0)), (1928, np.float64(0.0)), (1929, np.float64(0.0)), (1930, np.float64(0.0)), (1931, np.float64(0.0)), (1932, np.float64(0.0)), (1933, np.float64(0.0)), (1934, np.float64(0.0)), (1935, np.float64(0.0)), (1936, np.float64(0.0)), (1937, np.float64(0.0)), (1938, np.float64(0.0)), (1939, np.float64(0.0)), (1940, np.float64(0.0)), (1941, np.float64(0.0)), (1942, np.float64(0.0)), (1943, np.float64(0.0)), (1944, np.float64(0.0)), (1945, np.float64(0.0)), (1946, np.float64(0.0)), (1947, np.float64(0.0)), (1948, np.float64(0.0)), (1949, np.float64(0.0)), (1950, np.float64(0.0)), (1951, np.float64(0.0)), (1952, np.float64(0.0)), (1953, np.float64(0.0)), (1954, np.float64(0.0)), (1955, np.float64(0.0)), (1956, np.float64(0.0)), (1957, np.float64(0.0)), (1958, np.float64(0.0)), (1959, np.float64(0.0)), (1960, np.float64(0.0)), (1961, np.float64(0.0)), (1962, np.float64(0.0)), (1963, np.float64(0.0)), (1964, np.float64(0.0)), (1965, np.float64(0.0)), (1966, np.float64(0.0)), (1967, np.float64(0.0)), (1968, np.float64(0.0)), (1969, np.float64(0.0)), (1970, np.float64(0.0)), (1971, np.float64(0.0)), (1972, np.float64(0.0)), (1973, np.float64(0.0)), (1974, np.float64(0.0)), (1975, np.float64(0.0)), (1976, np.float64(0.0)), (1977, np.float64(0.0)), (1978, np.float64(0.0)), (1979, np.float64(0.0)), (1980, np.float64(0.0)), (1981, np.float64(0.0)), (1982, np.float64(0.0)), (1983, np.float64(0.0)), (1984, np.float64(0.0)), (1985, np.float64(0.0)), (1986, np.float64(0.0)), (1987, np.float64(0.0)), (1988, np.float64(0.0)), (1989, np.float64(0.0)), (1990, np.float64(0.0)), (1991, np.float64(0.0)), (1992, np.float64(0.0)), (1993, np.float64(0.0)), (1994, np.float64(0.0)), (1995, np.float64(0.0)), (1996, np.float64(0.0)), (1997, np.float64(0.0)), (1998, np.float64(0.0)), (1999, np.float64(0.0)), (2000, np.float64(0.0)), (2001, np.float64(0.0)), (2002, np.float64(0.0)), (2003, np.float64(0.0)), (2004, np.float64(0.0)), (2005, np.float64(0.0)), (2006, np.float64(0.0)), (2007, np.float64(0.0)), (2008, np.float64(0.0)), (2009, np.float64(0.0)), (2010, np.float64(0.0)), (2011, np.float64(0.0)), (2012, np.float64(0.0)), (2013, np.float64(0.0)), (2014, np.float64(0.0)), (2015, np.float64(0.0)), (2016, np.float64(0.0)), (2017, np.float64(0.0)), (2018, np.float64(0.0)), (2019, np.float64(0.0)), (2020, np.float64(0.0)), (2021, np.float64(0.0)), (2022, np.float64(0.0)), (2023, np.float64(0.0)), (2024, np.float64(0.0)), (2025, np.float64(0.0)), (2026, np.float64(0.0)), (2027, np.float64(0.0)), (2028, np.float64(0.0)), (2029, np.float64(0.0)), (2030, np.float64(0.0)), (2031, np.float64(0.0)), (2032, np.float64(0.0)), (2033, np.float64(0.0)), (2034, np.float64(0.0)), (2035, np.float64(0.0)), (2036, np.float64(0.0)), (2037, np.float64(0.0)), (2038, np.float64(0.0)), (2039, np.float64(0.0)), (2040, np.float64(0.0)), (2041, np.float64(0.0)), (2042, np.float64(0.0)), (2043, np.float64(0.0)), (2044, np.float64(0.0)), (2045, np.float64(0.0)), (2046, np.float64(0.0)), (2047, np.float64(0.0)), (2048, np.float64(0.0)), (2049, np.float64(0.0)), (2050, np.float64(0.0)), (2051, np.float64(0.0)), (2052, np.float64(0.0)), (2053, np.float64(0.0)), (2054, np.float64(0.0)), (2055, np.float64(0.0)), (2056, np.float64(0.0)), (2057, np.float64(0.0)), (2058, np.float64(0.0)), (2059, np.float64(0.0)), (2060, np.float64(0.0)), (2061, np.float64(0.0)), (2062, np.float64(0.0)), (2063, np.float64(0.0)), (2064, np.float64(0.0)), (2065, np.float64(0.0)), (2066, np.float64(0.0)), (2067, np.float64(0.0)), (2068, np.float64(0.0)), (2069, np.float64(0.0)), (2070, np.float64(0.0)), (2071, np.float64(0.0)), (2072, np.float64(0.0)), (2073, np.float64(0.0)), (2074, np.float64(0.0)), (2075, np.float64(0.0)), (2076, np.float64(0.0)), (2077, np.float64(0.0)), (2078, np.float64(0.0)), (2079, np.float64(0.0)), (2080, np.float64(0.0)), (2081, np.float64(0.0)), (2082, np.float64(0.0)), (2083, np.float64(0.0)), (2084, np.float64(0.0)), (2085, np.float64(0.0)), (2086, np.float64(0.0)), (2087, np.float64(0.0)), (2088, np.float64(0.0)), (2089, np.float64(0.0)), (2090, np.float64(0.0)), (2091, np.float64(0.0)), (2092, np.float64(0.0)), (2093, np.float64(0.0)), (2094, np.float64(0.0)), (2095, np.float64(0.0)), (2096, np.float64(0.0)), (2097, np.float64(0.0)), (2098, np.float64(0.0)), (2099, np.float64(0.0)), (2100, np.float64(0.0)), (2101, np.float64(0.0)), (2102, np.float64(0.0)), (2103, np.float64(0.0)), (2104, np.float64(0.0)), (2105, np.float64(0.0)), (2106, np.float64(0.0)), (2107, np.float64(0.0)), (2108, np.float64(0.0)), (2109, np.float64(0.0)), (2110, np.float64(0.0)), (2111, np.float64(0.0)), (2112, np.float64(0.0)), (2113, np.float64(0.0)), (2114, np.float64(0.0)), (2115, np.float64(0.0)), (2116, np.float64(0.0)), (2117, np.float64(0.0)), (2118, np.float64(0.0)), (2119, np.float64(0.0)), (2120, np.float64(0.0)), (2121, np.float64(0.0)), (2122, np.float64(0.0)), (2123, np.float64(0.0)), (2124, np.float64(0.0)), (2125, np.float64(0.0)), (2126, np.float64(0.0)), (2127, np.float64(0.0)), (2128, np.float64(0.0)), (2129, np.float64(0.0)), (2130, np.float64(0.0)), (2131, np.float64(0.0)), (2132, np.float64(0.0)), (2133, np.float64(0.0)), (2134, np.float64(0.0)), (2135, np.float64(0.0)), (2136, np.float64(0.0)), (2137, np.float64(0.0)), (2138, np.float64(0.0)), (2139, np.float64(0.0)), (2140, np.float64(0.0)), (2141, np.float64(0.0)), (2142, np.float64(0.0)), (2143, np.float64(0.0)), (2144, np.float64(0.0)), (2145, np.float64(0.0)), (2146, np.float64(0.0)), (2147, np.float64(0.0)), (2148, np.float64(0.0)), (2149, np.float64(0.0)), (2150, np.float64(0.0)), (2151, np.float64(0.0)), (2152, np.float64(0.0)), (2153, np.float64(0.0)), (2154, np.float64(0.0)), (2155, np.float64(0.0)), (2156, np.float64(0.0)), (2157, np.float64(0.0)), (2158, np.float64(0.0)), (2159, np.float64(0.0)), (2160, np.float64(0.0)), (2161, np.float64(0.0)), (2162, np.float64(0.0)), (2163, np.float64(0.0)), (2164, np.float64(0.0)), (2165, np.float64(0.0)), (2166, np.float64(0.0)), (2167, np.float64(0.0)), (2168, np.float64(0.0)), (2169, np.float64(0.0)), (2170, np.float64(0.0)), (2171, np.float64(0.0)), (2172, np.float64(0.0)), (2173, np.float64(0.0)), (2174, np.float64(0.0)), (2175, np.float64(0.0)), (2176, np.float64(0.0)), (2177, np.float64(0.0)), (2178, np.float64(0.0)), (2179, np.float64(0.0)), (2180, np.float64(0.0)), (2181, np.float64(0.0)), (2182, np.float64(0.0)), (2183, np.float64(0.0)), (2184, np.float64(0.0)), (2185, np.float64(0.0)), (2186, np.float64(0.0)), (2187, np.float64(0.0)), (2188, np.float64(0.0)), (2189, np.float64(0.0)), (2190, np.float64(0.0)), (2191, np.float64(0.0)), (2192, np.float64(0.0)), (2193, np.float64(0.0)), (2194, np.float64(0.0)), (2195, np.float64(0.0)), (2196, np.float64(0.0)), (2197, np.float64(0.0)), (2198, np.float64(0.0)), (2199, np.float64(0.0)), (2200, np.float64(0.0)), (2201, np.float64(0.0)), (2202, np.float64(0.0)), (2203, np.float64(0.0)), (2204, np.float64(0.0)), (2205, np.float64(0.0)), (2206, np.float64(0.0)), (2207, np.float64(0.0)), (2208, np.float64(0.0)), (2209, np.float64(0.0)), (2210, np.float64(0.0)), (2211, np.float64(0.0)), (2212, np.float64(0.0)), (2213, np.float64(0.0)), (2214, np.float64(0.0)), (2215, np.float64(0.0)), (2216, np.float64(0.0)), (2217, np.float64(0.0)), (2218, np.float64(0.0)), (2219, np.float64(0.0)), (2220, np.float64(0.0)), (2221, np.float64(0.0)), (2222, np.float64(0.0)), (2223, np.float64(0.0)), (2224, np.float64(0.0)), (2225, np.float64(0.0)), (2226, np.float64(0.0)), (2227, np.float64(0.0)), (2228, np.float64(0.0)), (2229, np.float64(0.0)), (2230, np.float64(0.0)), (2231, np.float64(0.0)), (2232, np.float64(0.0)), (2233, np.float64(0.0)), (2234, np.float64(0.0)), (2235, np.float64(0.0)), (2236, np.float64(0.0)), (2237, np.float64(0.0)), (2238, np.float64(0.0)), (2239, np.float64(0.0)), (2240, np.float64(0.0)), (2241, np.float64(0.0)), (2242, np.float64(0.0)), (2243, np.float64(0.0)), (2244, np.float64(0.0)), (2245, np.float64(0.0)), (2246, np.float64(0.0)), (2247, np.float64(0.0)), (2248, np.float64(0.0)), (2249, np.float64(0.0)), (2250, np.float64(0.0)), (2251, np.float64(0.0)), (2252, np.float64(0.0)), (2253, np.float64(0.0)), (2254, np.float64(0.0)), (2255, np.float64(0.0)), (2256, np.float64(0.0)), (2257, np.float64(0.0)), (2258, np.float64(0.0)), (2259, np.float64(0.0)), (2260, np.float64(0.0)), (2261, np.float64(0.0)), (2262, np.float64(0.0)), (2263, np.float64(0.0)), (2264, np.float64(0.0)), (2265, np.float64(0.0)), (2266, np.float64(0.0)), (2267, np.float64(0.0)), (2268, np.float64(0.0)), (2269, np.float64(0.0)), (2270, np.float64(0.0)), (2271, np.float64(0.0)), (2272, np.float64(0.0)), (2273, np.float64(0.0)), (2274, np.float64(0.0)), (2275, np.float64(0.0)), (2276, np.float64(0.0)), (2277, np.float64(0.0)), (2278, np.float64(0.0)), (2279, np.float64(0.0)), (2280, np.float64(0.0)), (2281, np.float64(0.0)), (2282, np.float64(0.0)), (2283, np.float64(0.0)), (2284, np.float64(0.0)), (2285, np.float64(0.0)), (2286, np.float64(0.0)), (2287, np.float64(0.0)), (2288, np.float64(0.0)), (2289, np.float64(0.0)), (2290, np.float64(0.0)), (2291, np.float64(0.0)), (2292, np.float64(0.0)), (2293, np.float64(0.0)), (2294, np.float64(0.0)), (2295, np.float64(0.0)), (2296, np.float64(0.0)), (2297, np.float64(0.0)), (2298, np.float64(0.0)), (2299, np.float64(0.0)), (2300, np.float64(0.0)), (2301, np.float64(0.0)), (2302, np.float64(0.0)), (2303, np.float64(0.0)), (2304, np.float64(0.0)), (2305, np.float64(0.0)), (2306, np.float64(0.0)), (2307, np.float64(0.0)), (2308, np.float64(0.0)), (2309, np.float64(0.0)), (2310, np.float64(0.0)), (2311, np.float64(0.0)), (2312, np.float64(0.0)), (2313, np.float64(0.0)), (2314, np.float64(0.0)), (2315, np.float64(0.0)), (2316, np.float64(0.0)), (2317, np.float64(0.0)), (2318, np.float64(0.0)), (2319, np.float64(0.0)), (2320, np.float64(0.0)), (2321, np.float64(0.0)), (2322, np.float64(0.0)), (2323, np.float64(0.0)), (2324, np.float64(0.0)), (2325, np.float64(0.0)), (2326, np.float64(0.0)), (2327, np.float64(0.0)), (2328, np.float64(0.0)), (2329, np.float64(0.0)), (2330, np.float64(0.0)), (2331, np.float64(0.0)), (2332, np.float64(0.0)), (2333, np.float64(0.0)), (2334, np.float64(0.0)), (2335, np.float64(0.0)), (2336, np.float64(0.0)), (2337, np.float64(0.0)), (2338, np.float64(0.0)), (2339, np.float64(0.0)), (2340, np.float64(0.0)), (2341, np.float64(0.0)), (2342, np.float64(0.0)), (2343, np.float64(0.0)), (2344, np.float64(0.0)), (2345, np.float64(0.0)), (2346, np.float64(0.0)), (2347, np.float64(0.0)), (2348, np.float64(0.0)), (2349, np.float64(0.0)), (2350, np.float64(0.0)), (2351, np.float64(0.0)), (2352, np.float64(0.0)), (2353, np.float64(0.0)), (2354, np.float64(0.0)), (2355, np.float64(0.0)), (2356, np.float64(0.0)), (2357, np.float64(0.0)), (2358, np.float64(0.0)), (2359, np.float64(0.0)), (2360, np.float64(0.0)), (2361, np.float64(0.0)), (2362, np.float64(0.0)), (2363, np.float64(0.0)), (2364, np.float64(0.0)), (2365, np.float64(0.0)), (2366, np.float64(0.0)), (2367, np.float64(0.0)), (2368, np.float64(0.0)), (2369, np.float64(0.0)), (2370, np.float64(0.0)), (2371, np.float64(0.0)), (2372, np.float64(0.0)), (2373, np.float64(0.0)), (2374, np.float64(0.0)), (2375, np.float64(0.0)), (2376, np.float64(0.0)), (2377, np.float64(0.0)), (2378, np.float64(0.0)), (2379, np.float64(0.0)), (2380, np.float64(0.0)), (2381, np.float64(0.0)), (2382, np.float64(0.0)), (2383, np.float64(0.0)), (2384, np.float64(0.0)), (2385, np.float64(0.0)), (2386, np.float64(0.0)), (2387, np.float64(0.0)), (2388, np.float64(0.0)), (2389, np.float64(0.0)), (2390, np.float64(0.0)), (2391, np.float64(0.0)), (2392, np.float64(0.0)), (2393, np.float64(0.0)), (2394, np.float64(0.0)), (2395, np.float64(0.0)), (2396, np.float64(0.0)), (2397, np.float64(0.0)), (2398, np.float64(0.0)), (2399, np.float64(0.0)), (2400, np.float64(0.0)), (2401, np.float64(0.0)), (2402, np.float64(0.0)), (2403, np.float64(0.0)), (2404, np.float64(0.0)), (2405, np.float64(0.0)), (2406, np.float64(0.0)), (2407, np.float64(0.0)), (2408, np.float64(0.0)), (2409, np.float64(0.0)), (2410, np.float64(0.0)), (2411, np.float64(0.0)), (2412, np.float64(0.0)), (2413, np.float64(0.0)), (2414, np.float64(0.0)), (2415, np.float64(0.0)), (2416, np.float64(0.0)), (2417, np.float64(0.0)), (2418, np.float64(0.0)), (2419, np.float64(0.0)), (2420, np.float64(0.0)), (2421, np.float64(0.0)), (2422, np.float64(0.0)), (2423, np.float64(0.0)), (2424, np.float64(0.0)), (2425, np.float64(0.0)), (2426, np.float64(0.0)), (2427, np.float64(0.0)), (2428, np.float64(0.0)), (2429, np.float64(0.0)), (2430, np.float64(0.0)), (2431, np.float64(0.0)), (2432, np.float64(0.0)), (2433, np.float64(0.0)), (2434, np.float64(0.0)), (2435, np.float64(0.0)), (2436, np.float64(0.0)), (2437, np.float64(0.0)), (2438, np.float64(0.0)), (2439, np.float64(0.0)), (2440, np.float64(0.0)), (2441, np.float64(0.0)), (2442, np.float64(0.0)), (2443, np.float64(0.0)), (2444, np.float64(0.0)), (2445, np.float64(0.0)), (2446, np.float64(0.0)), (2447, np.float64(0.0)), (2448, np.float64(0.0)), (2449, np.float64(0.0)), (2450, np.float64(0.0)), (2451, np.float64(0.0)), (2452, np.float64(0.0)), (2453, np.float64(0.0)), (2454, np.float64(0.0)), (2455, np.float64(0.0)), (2456, np.float64(0.0)), (2457, np.float64(0.0)), (2458, np.float64(0.0)), (2459, np.float64(0.0)), (2460, np.float64(0.0)), (2461, np.float64(0.0)), (2462, np.float64(0.0)), (2463, np.float64(0.0)), (2464, np.float64(0.0)), (2465, np.float64(0.0)), (2466, np.float64(0.0)), (2467, np.float64(0.0)), (2468, np.float64(0.0)), (2469, np.float64(0.0)), (2470, np.float64(0.0)), (2471, np.float64(0.0)), (2472, np.float64(0.0)), (2473, np.float64(0.0)), (2474, np.float64(0.0)), (2475, np.float64(0.0)), (2476, np.float64(0.0)), (2477, np.float64(0.0)), (2478, np.float64(0.0)), (2479, np.float64(0.0)), (2480, np.float64(0.0)), (2481, np.float64(0.0)), (2482, np.float64(0.0)), (2483, np.float64(0.0)), (2484, np.float64(0.0)), (2485, np.float64(0.0)), (2486, np.float64(0.0)), (2487, np.float64(0.0)), (2488, np.float64(0.0)), (2489, np.float64(0.0)), (2490, np.float64(0.0)), (2491, np.float64(0.0)), (2492, np.float64(0.0)), (2493, np.float64(0.0)), (2494, np.float64(0.0)), (2495, np.float64(0.0)), (2496, np.float64(0.0)), (2497, np.float64(0.0)), (2498, np.float64(0.0)), (2499, np.float64(0.0)), (2500, np.float64(0.0)), (2501, np.float64(0.0)), (2502, np.float64(0.0)), (2503, np.float64(0.0)), (2504, np.float64(0.0)), (2505, np.float64(0.0)), (2506, np.float64(0.0)), (2507, np.float64(0.0)), (2508, np.float64(0.0)), (2509, np.float64(0.0)), (2510, np.float64(0.0)), (2511, np.float64(0.0)), (2512, np.float64(0.0)), (2513, np.float64(0.0)), (2514, np.float64(0.0)), (2515, np.float64(0.0)), (2516, np.float64(0.0)), (2517, np.float64(0.0)), (2518, np.float64(0.0)), (2519, np.float64(0.0)), (2520, np.float64(0.0)), (2521, np.float64(0.0)), (2522, np.float64(0.0)), (2523, np.float64(0.0)), (2524, np.float64(0.0)), (2525, np.float64(0.0)), (2526, np.float64(0.0)), (2527, np.float64(0.0)), (2528, np.float64(0.0)), (2529, np.float64(0.0)), (2530, np.float64(0.0)), (2531, np.float64(0.0)), (2532, np.float64(0.0)), (2533, np.float64(0.0)), (2534, np.float64(0.0)), (2535, np.float64(0.0)), (2536, np.float64(0.0)), (2537, np.float64(0.0)), (2538, np.float64(0.0)), (2539, np.float64(0.0)), (2540, np.float64(0.0)), (2541, np.float64(0.0)), (2542, np.float64(0.0)), (2543, np.float64(0.0)), (2544, np.float64(0.0)), (2545, np.float64(0.0)), (2546, np.float64(0.0)), (2547, np.float64(0.0)), (2548, np.float64(0.0)), (2549, np.float64(0.0)), (2550, np.float64(0.0)), (2551, np.float64(0.0)), (2552, np.float64(0.0)), (2553, np.float64(0.0)), (2554, np.float64(0.0)), (2555, np.float64(0.0)), (2556, np.float64(0.0)), (2557, np.float64(0.0)), (2558, np.float64(0.0)), (2559, np.float64(0.0)), (2560, np.float64(0.0)), (2561, np.float64(0.0)), (2562, np.float64(0.0)), (2563, np.float64(0.0)), (2564, np.float64(0.0)), (2565, np.float64(0.0)), (2566, np.float64(0.0)), (2567, np.float64(0.0)), (2568, np.float64(0.0)), (2569, np.float64(0.0)), (2570, np.float64(0.0)), (2571, np.float64(0.0)), (2572, np.float64(0.0)), (2573, np.float64(0.0)), (2574, np.float64(0.0)), (2575, np.float64(0.0)), (2576, np.float64(0.0)), (2577, np.float64(0.0)), (2578, np.float64(0.0)), (2579, np.float64(0.0)), (2580, np.float64(0.0)), (2581, np.float64(0.0)), (2582, np.float64(0.0)), (2583, np.float64(0.0)), (2584, np.float64(0.0)), (2585, np.float64(0.0)), (2586, np.float64(0.0)), (2587, np.float64(0.0)), (2588, np.float64(0.0)), (2589, np.float64(0.0)), (2590, np.float64(0.0)), (2591, np.float64(0.0)), (2592, np.float64(0.0)), (2593, np.float64(0.0)), (2594, np.float64(0.0)), (2595, np.float64(0.0)), (2596, np.float64(0.0)), (2597, np.float64(0.0)), (2598, np.float64(0.0)), (2599, np.float64(0.0)), (2600, np.float64(0.0)), (2601, np.float64(0.0)), (2602, np.float64(0.0)), (2603, np.float64(0.0)), (2604, np.float64(0.0)), (2605, np.float64(0.0)), (2606, np.float64(0.0)), (2607, np.float64(0.0)), (2608, np.float64(0.0)), (2609, np.float64(0.0)), (2610, np.float64(0.0)), (2611, np.float64(0.0)), (2612, np.float64(0.0)), (2613, np.float64(0.0)), (2614, np.float64(0.0)), (2615, np.float64(0.0)), (2616, np.float64(0.0)), (2617, np.float64(0.0)), (2618, np.float64(0.0)), (2619, np.float64(0.0)), (2620, np.float64(0.0)), (2621, np.float64(0.0)), (2622, np.float64(0.0)), (2623, np.float64(0.0)), (2624, np.float64(0.0)), (2625, np.float64(0.0)), (2626, np.float64(0.0)), (2627, np.float64(0.0)), (2628, np.float64(0.0)), (2629, np.float64(0.0)), (2630, np.float64(0.0)), (2631, np.float64(0.0)), (2632, np.float64(0.0)), (2633, np.float64(0.0)), (2634, np.float64(0.0)), (2635, np.float64(0.0)), (2636, np.float64(0.0)), (2637, np.float64(0.0)), (2638, np.float64(0.0)), (2639, np.float64(0.0)), (2640, np.float64(0.0)), (2641, np.float64(0.0)), (2642, np.float64(0.0)), (2643, np.float64(0.0)), (2644, np.float64(0.0)), (2645, np.float64(0.0)), (2646, np.float64(0.0)), (2647, np.float64(0.0)), (2648, np.float64(0.0)), (2649, np.float64(0.0)), (2650, np.float64(0.0)), (2651, np.float64(0.0)), (2652, np.float64(0.0)), (2653, np.float64(0.0)), (2654, np.float64(0.0)), (2655, np.float64(0.0)), (2656, np.float64(0.0)), (2657, np.float64(0.0)), (2658, np.float64(0.0)), (2659, np.float64(0.0)), (2660, np.float64(0.0)), (2661, np.float64(0.0)), (2662, np.float64(0.0)), (2663, np.float64(0.0)), (2664, np.float64(0.0)), (2665, np.float64(0.0)), (2666, np.float64(0.0)), (2667, np.float64(0.0)), (2668, np.float64(0.0)), (2669, np.float64(0.0)), (2670, np.float64(0.0)), (2671, np.float64(0.0)), (2672, np.float64(0.0)), (2673, np.float64(0.0)), (2674, np.float64(0.0)), (2675, np.float64(0.0)), (2676, np.float64(0.0)), (2677, np.float64(0.0)), (2678, np.float64(0.0)), (2679, np.float64(0.0)), (2680, np.float64(0.0)), (2681, np.float64(0.0)), (2682, np.float64(0.0)), (2683, np.float64(0.0)), (2684, np.float64(0.0)), (2685, np.float64(0.0)), (2686, np.float64(0.0)), (2687, np.float64(0.0)), (2688, np.float64(0.0)), (2689, np.float64(0.0)), (2690, np.float64(0.0)), (2691, np.float64(0.0)), (2692, np.float64(0.0)), (2693, np.float64(0.0)), (2694, np.float64(0.0)), (2695, np.float64(0.0)), (2696, np.float64(0.0)), (2697, np.float64(0.0)), (2698, np.float64(0.0)), (2699, np.float64(0.0)), (2700, np.float64(0.0)), (2701, np.float64(0.0)), (2702, np.float64(0.0)), (2703, np.float64(0.0)), (2704, np.float64(0.0)), (2705, np.float64(0.0)), (2706, np.float64(0.0)), (2707, np.float64(0.0)), (2708, np.float64(0.0)), (2709, np.float64(0.0)), (2710, np.float64(0.0)), (2711, np.float64(0.0)), (2712, np.float64(0.0)), (2713, np.float64(0.0)), (2714, np.float64(0.0)), (2715, np.float64(0.0)), (2716, np.float64(0.0)), (2717, np.float64(0.0)), (2718, np.float64(0.0)), (2719, np.float64(0.0)), (2720, np.float64(0.0)), (2721, np.float64(0.0)), (2722, np.float64(0.0)), (2723, np.float64(0.0)), (2724, np.float64(0.0)), (2725, np.float64(0.0)), (2726, np.float64(0.0)), (2727, np.float64(0.0)), (2728, np.float64(0.0)), (2729, np.float64(0.0)), (2730, np.float64(0.0)), (2731, np.float64(0.0)), (2732, np.float64(0.0)), (2733, np.float64(0.0)), (2734, np.float64(0.0)), (2735, np.float64(0.0)), (2736, np.float64(0.0)), (2737, np.float64(0.0)), (2738, np.float64(0.0)), (2739, np.float64(0.0)), (2740, np.float64(0.0)), (2741, np.float64(0.0)), (2742, np.float64(0.0)), (2743, np.float64(0.0)), (2744, np.float64(0.0)), (2745, np.float64(0.0)), (2746, np.float64(0.0)), (2747, np.float64(0.0)), (2748, np.float64(0.0)), (2749, np.float64(0.0)), (2750, np.float64(0.0)), (2751, np.float64(0.0)), (2752, np.float64(0.0)), (2753, np.float64(0.0)), (2754, np.float64(0.0)), (2755, np.float64(0.0)), (2756, np.float64(0.0)), (2757, np.float64(0.0)), (2758, np.float64(0.0)), (2759, np.float64(0.0)), (2760, np.float64(0.0)), (2761, np.float64(0.0)), (2762, np.float64(0.0)), (2763, np.float64(0.0)), (2764, np.float64(0.0)), (2765, np.float64(0.0)), (2766, np.float64(0.0)), (2767, np.float64(0.0)), (2768, np.float64(0.0)), (2769, np.float64(0.0)), (2770, np.float64(0.0)), (2771, np.float64(0.0)), (2772, np.float64(0.0)), (2773, np.float64(0.0)), (2774, np.float64(0.0)), (2775, np.float64(0.0)), (2776, np.float64(0.0)), (2777, np.float64(0.0)), (2778, np.float64(0.0)), (2779, np.float64(0.0)), (2780, np.float64(0.0)), (2781, np.float64(0.0)), (2782, np.float64(0.0)), (2783, np.float64(0.0)), (2784, np.float64(0.0)), (2785, np.float64(0.0)), (2786, np.float64(0.0)), (2787, np.float64(0.0)), (2788, np.float64(0.0)), (2789, np.float64(0.0)), (2790, np.float64(0.0)), (2791, np.float64(0.0)), (2792, np.float64(0.0)), (2793, np.float64(0.0)), (2794, np.float64(0.0)), (2795, np.float64(0.0)), (2796, np.float64(0.0)), (2797, np.float64(0.0)), (2798, np.float64(0.0)), (2799, np.float64(0.0)), (2800, np.float64(0.0)), (2801, np.float64(0.0)), (2802, np.float64(0.0)), (2803, np.float64(0.0)), (2804, np.float64(0.0)), (2805, np.float64(0.0)), (2806, np.float64(0.0)), (2807, np.float64(0.0)), (2808, np.float64(0.0)), (2809, np.float64(0.0)), (2810, np.float64(0.0)), (2811, np.float64(0.0)), (2812, np.float64(0.0)), (2813, np.float64(0.0)), (2814, np.float64(0.0)), (2815, np.float64(0.0)), (2816, np.float64(0.0)), (2817, np.float64(0.0)), (2818, np.float64(0.0)), (2819, np.float64(0.0)), (2820, np.float64(0.0)), (2821, np.float64(0.0)), (2822, np.float64(0.0)), (2823, np.float64(0.0)), (2824, np.float64(0.0)), (2825, np.float64(0.0)), (2826, np.float64(0.0)), (2827, np.float64(0.0)), (2828, np.float64(0.0)), (2829, np.float64(0.0)), (2830, np.float64(0.0)), (2831, np.float64(0.0)), (2832, np.float64(0.0)), (2833, np.float64(0.0)), (2834, np.float64(0.0)), (2835, np.float64(0.0)), (2836, np.float64(0.0)), (2837, np.float64(0.0)), (2838, np.float64(0.0)), (2839, np.float64(0.0)), (2840, np.float64(0.0)), (2841, np.float64(0.0)), (2842, np.float64(0.0)), (2843, np.float64(0.0)), (2844, np.float64(0.0)), (2845, np.float64(0.0)), (2846, np.float64(0.0)), (2847, np.float64(0.0)), (2848, np.float64(0.0)), (2849, np.float64(0.0)), (2850, np.float64(0.0)), (2851, np.float64(1.0000000000000002)), (2852, np.float64(0.0)), (2853, np.float64(0.0)), (2854, np.float64(0.0)), (2855, np.float64(0.0)), (2856, np.float64(0.0)), (2857, np.float64(0.0)), (2858, np.float64(0.0)), (2859, np.float64(0.0)), (2860, np.float64(0.0)), (2861, np.float64(0.0)), (2862, np.float64(0.0)), (2863, np.float64(0.0)), (2864, np.float64(0.0)), (2865, np.float64(0.0)), (2866, np.float64(0.0)), (2867, np.float64(0.0)), (2868, np.float64(0.0)), (2869, np.float64(0.0)), (2870, np.float64(0.0)), (2871, np.float64(0.0)), (2872, np.float64(0.0)), (2873, np.float64(0.0)), (2874, np.float64(0.0)), (2875, np.float64(0.0)), (2876, np.float64(0.0)), (2877, np.float64(0.0)), (2878, np.float64(0.0)), (2879, np.float64(0.0)), (2880, np.float64(0.0)), (2881, np.float64(0.0)), (2882, np.float64(0.0)), (2883, np.float64(0.0)), (2884, np.float64(0.0)), (2885, np.float64(0.0)), (2886, np.float64(0.0)), (2887, np.float64(0.0)), (2888, np.float64(0.0)), (2889, np.float64(0.0)), (2890, np.float64(0.0)), (2891, np.float64(0.0)), (2892, np.float64(0.0)), (2893, np.float64(0.0)), (2894, np.float64(0.0)), (2895, np.float64(0.0)), (2896, np.float64(0.0)), (2897, np.float64(0.0)), (2898, np.float64(0.0)), (2899, np.float64(0.0)), (2900, np.float64(0.0)), (2901, np.float64(0.0)), (2902, np.float64(0.0)), (2903, np.float64(0.0)), (2904, np.float64(0.0)), (2905, np.float64(0.0)), (2906, np.float64(0.0)), (2907, np.float64(0.0)), (2908, np.float64(0.0)), (2909, np.float64(0.0)), (2910, np.float64(0.0)), (2911, np.float64(0.0)), (2912, np.float64(0.0)), (2913, np.float64(0.0)), (2914, np.float64(0.0)), (2915, np.float64(0.0)), (2916, np.float64(0.0)), (2917, np.float64(0.0)), (2918, np.float64(0.0)), (2919, np.float64(0.0)), (2920, np.float64(0.0)), (2921, np.float64(0.0)), (2922, np.float64(0.0)), (2923, np.float64(0.0)), (2924, np.float64(0.0)), (2925, np.float64(0.0)), (2926, np.float64(0.0)), (2927, np.float64(0.0)), (2928, np.float64(0.0)), (2929, np.float64(0.0)), (2930, np.float64(0.0)), (2931, np.float64(0.0)), (2932, np.float64(0.0)), (2933, np.float64(0.0)), (2934, np.float64(0.0)), (2935, np.float64(0.0)), (2936, np.float64(0.0)), (2937, np.float64(0.0)), (2938, np.float64(0.0)), (2939, np.float64(0.0)), (2940, np.float64(0.0)), (2941, np.float64(0.0)), (2942, np.float64(0.0)), (2943, np.float64(0.0)), (2944, np.float64(0.0)), (2945, np.float64(0.0)), (2946, np.float64(0.0)), (2947, np.float64(0.0)), (2948, np.float64(0.0)), (2949, np.float64(0.0)), (2950, np.float64(0.0)), (2951, np.float64(0.0)), (2952, np.float64(0.0)), (2953, np.float64(0.0)), (2954, np.float64(0.0)), (2955, np.float64(0.0)), (2956, np.float64(0.0)), (2957, np.float64(0.0)), (2958, np.float64(0.0)), (2959, np.float64(0.0)), (2960, np.float64(0.0)), (2961, np.float64(0.0)), (2962, np.float64(0.0)), (2963, np.float64(0.0)), (2964, np.float64(0.0)), (2965, np.float64(0.0)), (2966, np.float64(0.0)), (2967, np.float64(0.0)), (2968, np.float64(0.0)), (2969, np.float64(0.0)), (2970, np.float64(0.0)), (2971, np.float64(0.0)), (2972, np.float64(0.0)), (2973, np.float64(0.0)), (2974, np.float64(0.0)), (2975, np.float64(0.0)), (2976, np.float64(0.0)), (2977, np.float64(0.0)), (2978, np.float64(0.0)), (2979, np.float64(0.0)), (2980, np.float64(0.0)), (2981, np.float64(0.0)), (2982, np.float64(0.0)), (2983, np.float64(0.0)), (2984, np.float64(0.0)), (2985, np.float64(0.0)), (2986, np.float64(0.0)), (2987, np.float64(0.0)), (2988, np.float64(0.0)), (2989, np.float64(0.0)), (2990, np.float64(0.0)), (2991, np.float64(0.0)), (2992, np.float64(0.0)), (2993, np.float64(0.0)), (2994, np.float64(0.0)), (2995, np.float64(0.0)), (2996, np.float64(0.0)), (2997, np.float64(0.0)), (2998, np.float64(0.0)), (2999, np.float64(0.0)), (3000, np.float64(0.0)), (3001, np.float64(0.0)), (3002, np.float64(0.0)), (3003, np.float64(0.0)), (3004, np.float64(0.0)), (3005, np.float64(0.0)), (3006, np.float64(0.0)), (3007, np.float64(0.0)), (3008, np.float64(0.0)), (3009, np.float64(0.0)), (3010, np.float64(0.0)), (3011, np.float64(0.0)), (3012, np.float64(0.0)), (3013, np.float64(0.0)), (3014, np.float64(0.0)), (3015, np.float64(0.0)), (3016, np.float64(0.0)), (3017, np.float64(0.0)), (3018, np.float64(0.0)), (3019, np.float64(0.0)), (3020, np.float64(0.0)), (3021, np.float64(0.0)), (3022, np.float64(0.0)), (3023, np.float64(0.0)), (3024, np.float64(0.0)), (3025, np.float64(0.0)), (3026, np.float64(0.0)), (3027, np.float64(0.0)), (3028, np.float64(0.0)), (3029, np.float64(0.0)), (3030, np.float64(0.0)), (3031, np.float64(0.0)), (3032, np.float64(0.0)), (3033, np.float64(0.0)), (3034, np.float64(0.0)), (3035, np.float64(0.0)), (3036, np.float64(0.0)), (3037, np.float64(0.0)), (3038, np.float64(0.0)), (3039, np.float64(0.0)), (3040, np.float64(0.0)), (3041, np.float64(0.0)), (3042, np.float64(0.0)), (3043, np.float64(0.0)), (3044, np.float64(0.0)), (3045, np.float64(0.0)), (3046, np.float64(0.0)), (3047, np.float64(0.0)), (3048, np.float64(0.0)), (3049, np.float64(0.0)), (3050, np.float64(0.0)), (3051, np.float64(0.0)), (3052, np.float64(0.0)), (3053, np.float64(0.0)), (3054, np.float64(0.0)), (3055, np.float64(0.0)), (3056, np.float64(0.0)), (3057, np.float64(0.0)), (3058, np.float64(0.0)), (3059, np.float64(0.0)), (3060, np.float64(0.0)), (3061, np.float64(0.0)), (3062, np.float64(0.0)), (3063, np.float64(0.0)), (3064, np.float64(0.0)), (3065, np.float64(0.0)), (3066, np.float64(0.0)), (3067, np.float64(0.0)), (3068, np.float64(0.0)), (3069, np.float64(0.0)), (3070, np.float64(0.0)), (3071, np.float64(0.0)), (3072, np.float64(0.0)), (3073, np.float64(0.0)), (3074, np.float64(0.0)), (3075, np.float64(0.0)), (3076, np.float64(0.0)), (3077, np.float64(0.0)), (3078, np.float64(0.0)), (3079, np.float64(0.0)), (3080, np.float64(0.0)), (3081, np.float64(0.0)), (3082, np.float64(0.0)), (3083, np.float64(0.0)), (3084, np.float64(0.0)), (3085, np.float64(0.0)), (3086, np.float64(0.0)), (3087, np.float64(0.0)), (3088, np.float64(0.0)), (3089, np.float64(0.0)), (3090, np.float64(0.0)), (3091, np.float64(0.0)), (3092, np.float64(0.0)), (3093, np.float64(0.0)), (3094, np.float64(0.0)), (3095, np.float64(0.0)), (3096, np.float64(0.0)), (3097, np.float64(0.0)), (3098, np.float64(0.0)), (3099, np.float64(0.0)), (3100, np.float64(0.0)), (3101, np.float64(0.0)), (3102, np.float64(0.0)), (3103, np.float64(0.0)), (3104, np.float64(0.0)), (3105, np.float64(0.0)), (3106, np.float64(0.0)), (3107, np.float64(0.0)), (3108, np.float64(0.0)), (3109, np.float64(0.0)), (3110, np.float64(0.0)), (3111, np.float64(0.0)), (3112, np.float64(0.0)), (3113, np.float64(0.0)), (3114, np.float64(0.0)), (3115, np.float64(0.0)), (3116, np.float64(0.0)), (3117, np.float64(0.0)), (3118, np.float64(0.0)), (3119, np.float64(0.0)), (3120, np.float64(0.0)), (3121, np.float64(0.0)), (3122, np.float64(0.0)), (3123, np.float64(0.0)), (3124, np.float64(0.0)), (3125, np.float64(0.0)), (3126, np.float64(0.0)), (3127, np.float64(0.0)), (3128, np.float64(0.0)), (3129, np.float64(0.0)), (3130, np.float64(0.0)), (3131, np.float64(0.0)), (3132, np.float64(0.0)), (3133, np.float64(0.0)), (3134, np.float64(0.0)), (3135, np.float64(0.0)), (3136, np.float64(0.0)), (3137, np.float64(0.0)), (3138, np.float64(0.0)), (3139, np.float64(0.0)), (3140, np.float64(0.0)), (3141, np.float64(0.0)), (3142, np.float64(0.0)), (3143, np.float64(0.0)), (3144, np.float64(0.0)), (3145, np.float64(0.0)), (3146, np.float64(0.0)), (3147, np.float64(0.0)), (3148, np.float64(0.0)), (3149, np.float64(0.0)), (3150, np.float64(0.0)), (3151, np.float64(0.0)), (3152, np.float64(0.0)), (3153, np.float64(0.0)), (3154, np.float64(0.0)), (3155, np.float64(0.0)), (3156, np.float64(0.0)), (3157, np.float64(0.0)), (3158, np.float64(0.0)), (3159, np.float64(0.0)), (3160, np.float64(0.0)), (3161, np.float64(0.0)), (3162, np.float64(0.0)), (3163, np.float64(0.0)), (3164, np.float64(0.0)), (3165, np.float64(0.0)), (3166, np.float64(0.0)), (3167, np.float64(0.0)), (3168, np.float64(0.0)), (3169, np.float64(0.0)), (3170, np.float64(0.0)), (3171, np.float64(0.0)), (3172, np.float64(0.0)), (3173, np.float64(0.0)), (3174, np.float64(0.0)), (3175, np.float64(0.0)), (3176, np.float64(0.0)), (3177, np.float64(0.0)), (3178, np.float64(0.0)), (3179, np.float64(0.0)), (3180, np.float64(0.0)), (3181, np.float64(0.0)), (3182, np.float64(0.0)), (3183, np.float64(0.0)), (3184, np.float64(0.0)), (3185, np.float64(0.0)), (3186, np.float64(0.0)), (3187, np.float64(0.0)), (3188, np.float64(0.0)), (3189, np.float64(0.0)), (3190, np.float64(0.0)), (3191, np.float64(0.0)), (3192, np.float64(0.0)), (3193, np.float64(0.0)), (3194, np.float64(0.0)), (3195, np.float64(0.0)), (3196, np.float64(0.0)), (3197, np.float64(0.0)), (3198, np.float64(0.0)), (3199, np.float64(0.0)), (3200, np.float64(0.0)), (3201, np.float64(0.0)), (3202, np.float64(0.0)), (3203, np.float64(0.0)), (3204, np.float64(0.0)), (3205, np.float64(0.0)), (3206, np.float64(0.0)), (3207, np.float64(0.0)), (3208, np.float64(0.0)), (3209, np.float64(0.0)), (3210, np.float64(0.0)), (3211, np.float64(0.0)), (3212, np.float64(0.0)), (3213, np.float64(0.0)), (3214, np.float64(0.0)), (3215, np.float64(0.0)), (3216, np.float64(0.0)), (3217, np.float64(0.0)), (3218, np.float64(0.0)), (3219, np.float64(0.0)), (3220, np.float64(0.0)), (3221, np.float64(0.0)), (3222, np.float64(0.0)), (3223, np.float64(0.0)), (3224, np.float64(0.0)), (3225, np.float64(0.0)), (3226, np.float64(0.0)), (3227, np.float64(0.0)), (3228, np.float64(0.0)), (3229, np.float64(0.0)), (3230, np.float64(0.0)), (3231, np.float64(0.0)), (3232, np.float64(0.0)), (3233, np.float64(0.0)), (3234, np.float64(0.0)), (3235, np.float64(0.0)), (3236, np.float64(0.0)), (3237, np.float64(0.0)), (3238, np.float64(0.0)), (3239, np.float64(0.0)), (3240, np.float64(0.0)), (3241, np.float64(0.0)), (3242, np.float64(0.0)), (3243, np.float64(0.0)), (3244, np.float64(0.0)), (3245, np.float64(0.0)), (3246, np.float64(0.0)), (3247, np.float64(0.0)), (3248, np.float64(0.0)), (3249, np.float64(0.0)), (3250, np.float64(0.0)), (3251, np.float64(0.0)), (3252, np.float64(0.0)), (3253, np.float64(0.0)), (3254, np.float64(0.0)), (3255, np.float64(0.0)), (3256, np.float64(0.0)), (3257, np.float64(0.0)), (3258, np.float64(0.0)), (3259, np.float64(0.0)), (3260, np.float64(0.0)), (3261, np.float64(0.0)), (3262, np.float64(0.0)), (3263, np.float64(0.0)), (3264, np.float64(0.0)), (3265, np.float64(0.0)), (3266, np.float64(0.0)), (3267, np.float64(0.0)), (3268, np.float64(0.0)), (3269, np.float64(0.0)), (3270, np.float64(0.0)), (3271, np.float64(0.0)), (3272, np.float64(0.0)), (3273, np.float64(0.0)), (3274, np.float64(0.0)), (3275, np.float64(0.0)), (3276, np.float64(0.0)), (3277, np.float64(0.0)), (3278, np.float64(0.0)), (3279, np.float64(0.0)), (3280, np.float64(0.0)), (3281, np.float64(0.0)), (3282, np.float64(0.0)), (3283, np.float64(0.0)), (3284, np.float64(0.0)), (3285, np.float64(0.0)), (3286, np.float64(0.0)), (3287, np.float64(0.0)), (3288, np.float64(0.0)), (3289, np.float64(0.0)), (3290, np.float64(0.0)), (3291, np.float64(0.0)), (3292, np.float64(0.0)), (3293, np.float64(0.0)), (3294, np.float64(0.0)), (3295, np.float64(0.0)), (3296, np.float64(0.0)), (3297, np.float64(0.0)), (3298, np.float64(0.0)), (3299, np.float64(0.0)), (3300, np.float64(0.0)), (3301, np.float64(0.0)), (3302, np.float64(0.0)), (3303, np.float64(0.0)), (3304, np.float64(0.0)), (3305, np.float64(0.0)), (3306, np.float64(0.0)), (3307, np.float64(0.0)), (3308, np.float64(0.0)), (3309, np.float64(0.0)), (3310, np.float64(0.0)), (3311, np.float64(0.0)), (3312, np.float64(0.0)), (3313, np.float64(0.0)), (3314, np.float64(0.0)), (3315, np.float64(0.0)), (3316, np.float64(0.0)), (3317, np.float64(0.0)), (3318, np.float64(0.0)), (3319, np.float64(0.0)), (3320, np.float64(0.0)), (3321, np.float64(0.0)), (3322, np.float64(0.0)), (3323, np.float64(0.0)), (3324, np.float64(0.0)), (3325, np.float64(0.0)), (3326, np.float64(0.0)), (3327, np.float64(0.0)), (3328, np.float64(0.0)), (3329, np.float64(0.0)), (3330, np.float64(0.0)), (3331, np.float64(0.0)), (3332, np.float64(0.0)), (3333, np.float64(0.0)), (3334, np.float64(0.0)), (3335, np.float64(0.0)), (3336, np.float64(0.0)), (3337, np.float64(0.0)), (3338, np.float64(0.0)), (3339, np.float64(0.0)), (3340, np.float64(0.0)), (3341, np.float64(0.0)), (3342, np.float64(0.0)), (3343, np.float64(0.0)), (3344, np.float64(0.0)), (3345, np.float64(0.0)), (3346, np.float64(0.0)), (3347, np.float64(0.0)), (3348, np.float64(0.0)), (3349, np.float64(0.0)), (3350, np.float64(0.0)), (3351, np.float64(0.0)), (3352, np.float64(0.0)), (3353, np.float64(0.0)), (3354, np.float64(0.0)), (3355, np.float64(0.0)), (3356, np.float64(0.0)), (3357, np.float64(0.0)), (3358, np.float64(0.0)), (3359, np.float64(0.0)), (3360, np.float64(0.0)), (3361, np.float64(0.0)), (3362, np.float64(0.0)), (3363, np.float64(0.0)), (3364, np.float64(0.0)), (3365, np.float64(0.0)), (3366, np.float64(0.0)), (3367, np.float64(0.0)), (3368, np.float64(0.0)), (3369, np.float64(0.0)), (3370, np.float64(0.0)), (3371, np.float64(0.0)), (3372, np.float64(0.0)), (3373, np.float64(0.0)), (3374, np.float64(0.0)), (3375, np.float64(0.0)), (3376, np.float64(0.0)), (3377, np.float64(0.0)), (3378, np.float64(0.0)), (3379, np.float64(0.0)), (3380, np.float64(0.0)), (3381, np.float64(0.0)), (3382, np.float64(0.0)), (3383, np.float64(0.0)), (3384, np.float64(0.0)), (3385, np.float64(0.0)), (3386, np.float64(0.0)), (3387, np.float64(0.0)), (3388, np.float64(0.0)), (3389, np.float64(0.0)), (3390, np.float64(0.0)), (3391, np.float64(0.0)), (3392, np.float64(0.0)), (3393, np.float64(0.0)), (3394, np.float64(0.0)), (3395, np.float64(0.0)), (3396, np.float64(0.0)), (3397, np.float64(0.0)), (3398, np.float64(0.0)), (3399, np.float64(0.0)), (3400, np.float64(0.0)), (3401, np.float64(0.0)), (3402, np.float64(0.0)), (3403, np.float64(0.0)), (3404, np.float64(0.0)), (3405, np.float64(0.0)), (3406, np.float64(0.0)), (3407, np.float64(0.0)), (3408, np.float64(0.0)), (3409, np.float64(0.0)), (3410, np.float64(0.0)), (3411, np.float64(0.0)), (3412, np.float64(0.0)), (3413, np.float64(0.0)), (3414, np.float64(0.0)), (3415, np.float64(0.0)), (3416, np.float64(0.0)), (3417, np.float64(0.0)), (3418, np.float64(0.0)), (3419, np.float64(0.0)), (3420, np.float64(0.0)), (3421, np.float64(0.0)), (3422, np.float64(0.0)), (3423, np.float64(0.0)), (3424, np.float64(0.0)), (3425, np.float64(0.0)), (3426, np.float64(0.0)), (3427, np.float64(0.0)), (3428, np.float64(0.0)), (3429, np.float64(0.0)), (3430, np.float64(0.0)), (3431, np.float64(0.0)), (3432, np.float64(0.0)), (3433, np.float64(0.0)), (3434, np.float64(0.0)), (3435, np.float64(0.0)), (3436, np.float64(0.0)), (3437, np.float64(0.0)), (3438, np.float64(0.0)), (3439, np.float64(0.0)), (3440, np.float64(0.0)), (3441, np.float64(0.0)), (3442, np.float64(0.0)), (3443, np.float64(0.0)), (3444, np.float64(0.0)), (3445, np.float64(0.0)), (3446, np.float64(0.0)), (3447, np.float64(0.0)), (3448, np.float64(0.0)), (3449, np.float64(0.0)), (3450, np.float64(0.0)), (3451, np.float64(0.0)), (3452, np.float64(0.0)), (3453, np.float64(0.0)), (3454, np.float64(0.0)), (3455, np.float64(0.0)), (3456, np.float64(0.0)), (3457, np.float64(0.0)), (3458, np.float64(0.0)), (3459, np.float64(0.0)), (3460, np.float64(0.0)), (3461, np.float64(0.0)), (3462, np.float64(0.0)), (3463, np.float64(0.0)), (3464, np.float64(0.0)), (3465, np.float64(0.0)), (3466, np.float64(0.0)), (3467, np.float64(0.0)), (3468, np.float64(0.0)), (3469, np.float64(0.0)), (3470, np.float64(0.0)), (3471, np.float64(0.0)), (3472, np.float64(0.0)), (3473, np.float64(0.0)), (3474, np.float64(0.0)), (3475, np.float64(0.0)), (3476, np.float64(0.0)), (3477, np.float64(0.0)), (3478, np.float64(0.0)), (3479, np.float64(0.0)), (3480, np.float64(0.0)), (3481, np.float64(0.0)), (3482, np.float64(0.0)), (3483, np.float64(0.0)), (3484, np.float64(0.0)), (3485, np.float64(0.0)), (3486, np.float64(0.0)), (3487, np.float64(0.0)), (3488, np.float64(0.0)), (3489, np.float64(0.0)), (3490, np.float64(0.0)), (3491, np.float64(0.0)), (3492, np.float64(0.0)), (3493, np.float64(0.0)), (3494, np.float64(0.0)), (3495, np.float64(0.0)), (3496, np.float64(0.0)), (3497, np.float64(0.0)), (3498, np.float64(0.0)), (3499, np.float64(0.0)), (3500, np.float64(0.0)), (3501, np.float64(0.0)), (3502, np.float64(0.0)), (3503, np.float64(0.0)), (3504, np.float64(0.0)), (3505, np.float64(0.0)), (3506, np.float64(0.0)), (3507, np.float64(0.0)), (3508, np.float64(0.0)), (3509, np.float64(0.0)), (3510, np.float64(0.0)), (3511, np.float64(0.0)), (3512, np.float64(0.0)), (3513, np.float64(0.0)), (3514, np.float64(0.0)), (3515, np.float64(0.0)), (3516, np.float64(0.0)), (3517, np.float64(0.0)), (3518, np.float64(0.0)), (3519, np.float64(0.0)), (3520, np.float64(0.0)), (3521, np.float64(0.0)), (3522, np.float64(0.0)), (3523, np.float64(0.0)), (3524, np.float64(0.0)), (3525, np.float64(0.0)), (3526, np.float64(0.0)), (3527, np.float64(0.0)), (3528, np.float64(0.0)), (3529, np.float64(0.0)), (3530, np.float64(0.0)), (3531, np.float64(0.0)), (3532, np.float64(0.0)), (3533, np.float64(0.0)), (3534, np.float64(0.0)), (3535, np.float64(0.0)), (3536, np.float64(0.0)), (3537, np.float64(0.0)), (3538, np.float64(0.0)), (3539, np.float64(0.0)), (3540, np.float64(0.0)), (3541, np.float64(0.0)), (3542, np.float64(0.0)), (3543, np.float64(0.0)), (3544, np.float64(0.0)), (3545, np.float64(0.0)), (3546, np.float64(0.0)), (3547, np.float64(0.0)), (3548, np.float64(0.0)), (3549, np.float64(0.0)), (3550, np.float64(0.0)), (3551, np.float64(0.0)), (3552, np.float64(0.0)), (3553, np.float64(0.0)), (3554, np.float64(0.0)), (3555, np.float64(0.0)), (3556, np.float64(0.0)), (3557, np.float64(0.0)), (3558, np.float64(0.0)), (3559, np.float64(0.0)), (3560, np.float64(0.0)), (3561, np.float64(0.0)), (3562, np.float64(0.0)), (3563, np.float64(0.0)), (3564, np.float64(0.0)), (3565, np.float64(0.0)), (3566, np.float64(0.0)), (3567, np.float64(0.0)), (3568, np.float64(0.0)), (3569, np.float64(0.0)), (3570, np.float64(0.0)), (3571, np.float64(0.0)), (3572, np.float64(0.0)), (3573, np.float64(0.0)), (3574, np.float64(0.0)), (3575, np.float64(0.0)), (3576, np.float64(0.0)), (3577, np.float64(0.0)), (3578, np.float64(0.0)), (3579, np.float64(0.0)), (3580, np.float64(0.0)), (3581, np.float64(0.0)), (3582, np.float64(0.0)), (3583, np.float64(0.0)), (3584, np.float64(0.0)), (3585, np.float64(0.0)), (3586, np.float64(0.0)), (3587, np.float64(0.0)), (3588, np.float64(0.0)), (3589, np.float64(0.0)), (3590, np.float64(0.0)), (3591, np.float64(0.0)), (3592, np.float64(0.0)), (3593, np.float64(0.0)), (3594, np.float64(0.0)), (3595, np.float64(0.0)), (3596, np.float64(0.0)), (3597, np.float64(0.0)), (3598, np.float64(0.0)), (3599, np.float64(0.0)), (3600, np.float64(0.0)), (3601, np.float64(0.0)), (3602, np.float64(0.0)), (3603, np.float64(0.0)), (3604, np.float64(0.0)), (3605, np.float64(0.0)), (3606, np.float64(0.0)), (3607, np.float64(0.0)), (3608, np.float64(0.0)), (3609, np.float64(0.0)), (3610, np.float64(0.0)), (3611, np.float64(0.0)), (3612, np.float64(0.0)), (3613, np.float64(0.0)), (3614, np.float64(0.0)), (3615, np.float64(0.0)), (3616, np.float64(0.0)), (3617, np.float64(0.0)), (3618, np.float64(0.0)), (3619, np.float64(0.0)), (3620, np.float64(0.0)), (3621, np.float64(0.0)), (3622, np.float64(0.0)), (3623, np.float64(0.0)), (3624, np.float64(0.0)), (3625, np.float64(0.0)), (3626, np.float64(0.0)), (3627, np.float64(0.0)), (3628, np.float64(0.0)), (3629, np.float64(0.0)), (3630, np.float64(0.0)), (3631, np.float64(0.0)), (3632, np.float64(0.0)), (3633, np.float64(0.0)), (3634, np.float64(0.0)), (3635, np.float64(0.0)), (3636, np.float64(0.0)), (3637, np.float64(0.0)), (3638, np.float64(0.0)), (3639, np.float64(0.0)), (3640, np.float64(0.0)), (3641, np.float64(0.0)), (3642, np.float64(0.0)), (3643, np.float64(0.0)), (3644, np.float64(0.0)), (3645, np.float64(0.0)), (3646, np.float64(0.0)), (3647, np.float64(0.0)), (3648, np.float64(0.0)), (3649, np.float64(0.0)), (3650, np.float64(0.0)), (3651, np.float64(0.0)), (3652, np.float64(0.0)), (3653, np.float64(0.0)), (3654, np.float64(0.0)), (3655, np.float64(0.0)), (3656, np.float64(0.0)), (3657, np.float64(0.0)), (3658, np.float64(0.0)), (3659, np.float64(0.0)), (3660, np.float64(0.0)), (3661, np.float64(0.0)), (3662, np.float64(0.0)), (3663, np.float64(0.0)), (3664, np.float64(0.0)), (3665, np.float64(0.0)), (3666, np.float64(0.0)), (3667, np.float64(0.0)), (3668, np.float64(0.0)), (3669, np.float64(0.0)), (3670, np.float64(0.0)), (3671, np.float64(0.0)), (3672, np.float64(0.0)), (3673, np.float64(0.0)), (3674, np.float64(0.0)), (3675, np.float64(0.0)), (3676, np.float64(0.0)), (3677, np.float64(0.0)), (3678, np.float64(0.0)), (3679, np.float64(0.0)), (3680, np.float64(0.0)), (3681, np.float64(0.0)), (3682, np.float64(0.0)), (3683, np.float64(0.0)), (3684, np.float64(0.0)), (3685, np.float64(0.0)), (3686, np.float64(0.0)), (3687, np.float64(0.0)), (3688, np.float64(0.0)), (3689, np.float64(0.0)), (3690, np.float64(0.0)), (3691, np.float64(0.0)), (3692, np.float64(0.0)), (3693, np.float64(0.0)), (3694, np.float64(0.0)), (3695, np.float64(0.0)), (3696, np.float64(0.0)), (3697, np.float64(0.0)), (3698, np.float64(0.0)), (3699, np.float64(0.0)), (3700, np.float64(0.0)), (3701, np.float64(0.0)), (3702, np.float64(0.0)), (3703, np.float64(0.0)), (3704, np.float64(0.0)), (3705, np.float64(0.0)), (3706, np.float64(0.0)), (3707, np.float64(0.0)), (3708, np.float64(0.0)), (3709, np.float64(0.0)), (3710, np.float64(0.0)), (3711, np.float64(0.0)), (3712, np.float64(0.0)), (3713, np.float64(0.0)), (3714, np.float64(0.0)), (3715, np.float64(0.0)), (3716, np.float64(0.0)), (3717, np.float64(0.0)), (3718, np.float64(0.0)), (3719, np.float64(0.0)), (3720, np.float64(0.0)), (3721, np.float64(0.0)), (3722, np.float64(0.0)), (3723, np.float64(0.0)), (3724, np.float64(0.0)), (3725, np.float64(0.0)), (3726, np.float64(0.0)), (3727, np.float64(0.0)), (3728, np.float64(0.0)), (3729, np.float64(0.0)), (3730, np.float64(0.0)), (3731, np.float64(0.0)), (3732, np.float64(0.0)), (3733, np.float64(0.0)), (3734, np.float64(0.0)), (3735, np.float64(0.0)), (3736, np.float64(0.0)), (3737, np.float64(0.0)), (3738, np.float64(0.0)), (3739, np.float64(0.0)), (3740, np.float64(0.0)), (3741, np.float64(0.0)), (3742, np.float64(0.0)), (3743, np.float64(0.0)), (3744, np.float64(0.0)), (3745, np.float64(0.0)), (3746, np.float64(0.0)), (3747, np.float64(0.0)), (3748, np.float64(0.0)), (3749, np.float64(0.0)), (3750, np.float64(0.0)), (3751, np.float64(0.0)), (3752, np.float64(0.0)), (3753, np.float64(0.0)), (3754, np.float64(0.0)), (3755, np.float64(0.0)), (3756, np.float64(0.0)), (3757, np.float64(0.0)), (3758, np.float64(0.0)), (3759, np.float64(0.0)), (3760, np.float64(0.0)), (3761, np.float64(0.0)), (3762, np.float64(0.0)), (3763, np.float64(0.0)), (3764, np.float64(0.0)), (3765, np.float64(0.0)), (3766, np.float64(0.0)), (3767, np.float64(0.0)), (3768, np.float64(0.0)), (3769, np.float64(0.0)), (3770, np.float64(0.0)), (3771, np.float64(0.0)), (3772, np.float64(0.0)), (3773, np.float64(0.0)), (3774, np.float64(0.0)), (3775, np.float64(0.0)), (3776, np.float64(0.0)), (3777, np.float64(0.0)), (3778, np.float64(0.0)), (3779, np.float64(0.0)), (3780, np.float64(0.0)), (3781, np.float64(0.0)), (3782, np.float64(0.0)), (3783, np.float64(0.0)), (3784, np.float64(0.0)), (3785, np.float64(0.0)), (3786, np.float64(0.0)), (3787, np.float64(0.0)), (3788, np.float64(0.0)), (3789, np.float64(0.0)), (3790, np.float64(0.0)), (3791, np.float64(0.0)), (3792, np.float64(0.0)), (3793, np.float64(0.0)), (3794, np.float64(0.0)), (3795, np.float64(0.0)), (3796, np.float64(0.0)), (3797, np.float64(0.0)), (3798, np.float64(0.0)), (3799, np.float64(0.0)), (3800, np.float64(0.0)), (3801, np.float64(0.0)), (3802, np.float64(0.0)), (3803, np.float64(0.0)), (3804, np.float64(0.0)), (3805, np.float64(0.0)), (3806, np.float64(0.0)), (3807, np.float64(0.0)), (3808, np.float64(0.0)), (3809, np.float64(0.0)), (3810, np.float64(0.0)), (3811, np.float64(0.0)), (3812, np.float64(0.0)), (3813, np.float64(0.0)), (3814, np.float64(0.0)), (3815, np.float64(0.0)), (3816, np.float64(0.0)), (3817, np.float64(0.0)), (3818, np.float64(0.0)), (3819, np.float64(0.0)), (3820, np.float64(0.0)), (3821, np.float64(0.0)), (3822, np.float64(0.0)), (3823, np.float64(0.0)), (3824, np.float64(0.0)), (3825, np.float64(0.0)), (3826, np.float64(0.0)), (3827, np.float64(0.0)), (3828, np.float64(0.0)), (3829, np.float64(0.0)), (3830, np.float64(0.0)), (3831, np.float64(0.0)), (3832, np.float64(0.0)), (3833, np.float64(0.0)), (3834, np.float64(0.0)), (3835, np.float64(0.0)), (3836, np.float64(0.0)), (3837, np.float64(0.0)), (3838, np.float64(0.0)), (3839, np.float64(0.0)), (3840, np.float64(0.0)), (3841, np.float64(0.0)), (3842, np.float64(0.0)), (3843, np.float64(0.0)), (3844, np.float64(0.0)), (3845, np.float64(0.0)), (3846, np.float64(0.0)), (3847, np.float64(0.0)), (3848, np.float64(0.0)), (3849, np.float64(0.0)), (3850, np.float64(0.0)), (3851, np.float64(0.0)), (3852, np.float64(0.0)), (3853, np.float64(0.0)), (3854, np.float64(0.0)), (3855, np.float64(0.0)), (3856, np.float64(0.0)), (3857, np.float64(0.0)), (3858, np.float64(0.0)), (3859, np.float64(0.0)), (3860, np.float64(0.0)), (3861, np.float64(0.0)), (3862, np.float64(0.0)), (3863, np.float64(0.0)), (3864, np.float64(0.0)), (3865, np.float64(0.0)), (3866, np.float64(0.0)), (3867, np.float64(0.0)), (3868, np.float64(0.0)), (3869, np.float64(0.0)), (3870, np.float64(0.0)), (3871, np.float64(0.0)), (3872, np.float64(0.0)), (3873, np.float64(0.0)), (3874, np.float64(0.0)), (3875, np.float64(0.0)), (3876, np.float64(0.0)), (3877, np.float64(0.0)), (3878, np.float64(0.0)), (3879, np.float64(0.0)), (3880, np.float64(0.0)), (3881, np.float64(0.0)), (3882, np.float64(0.0)), (3883, np.float64(0.0)), (3884, np.float64(0.0)), (3885, np.float64(0.0)), (3886, np.float64(0.0)), (3887, np.float64(0.0)), (3888, np.float64(0.0)), (3889, np.float64(0.0)), (3890, np.float64(0.0)), (3891, np.float64(0.0)), (3892, np.float64(0.0)), (3893, np.float64(0.0)), (3894, np.float64(0.0)), (3895, np.float64(0.0)), (3896, np.float64(0.0)), (3897, np.float64(0.0)), (3898, np.float64(0.0)), (3899, np.float64(0.0)), (3900, np.float64(0.0)), (3901, np.float64(0.0)), (3902, np.float64(0.0)), (3903, np.float64(0.0)), (3904, np.float64(0.0)), (3905, np.float64(0.0)), (3906, np.float64(0.0)), (3907, np.float64(0.0)), (3908, np.float64(0.0)), (3909, np.float64(0.0)), (3910, np.float64(0.0)), (3911, np.float64(0.0)), (3912, np.float64(0.0)), (3913, np.float64(0.0)), (3914, np.float64(0.0)), (3915, np.float64(0.0)), (3916, np.float64(0.0)), (3917, np.float64(0.0)), (3918, np.float64(0.0)), (3919, np.float64(0.0)), (3920, np.float64(0.0)), (3921, np.float64(0.0)), (3922, np.float64(0.0)), (3923, np.float64(0.0)), (3924, np.float64(0.0)), (3925, np.float64(0.0)), (3926, np.float64(0.0)), (3927, np.float64(0.0)), (3928, np.float64(0.0)), (3929, np.float64(0.0)), (3930, np.float64(0.0)), (3931, np.float64(0.0)), (3932, np.float64(0.0)), (3933, np.float64(0.0)), (3934, np.float64(0.0)), (3935, np.float64(0.0)), (3936, np.float64(0.0)), (3937, np.float64(0.0)), (3938, np.float64(0.0)), (3939, np.float64(0.0)), (3940, np.float64(0.0)), (3941, np.float64(0.0)), (3942, np.float64(0.0)), (3943, np.float64(0.0)), (3944, np.float64(0.0)), (3945, np.float64(0.0)), (3946, np.float64(0.0)), (3947, np.float64(0.0)), (3948, np.float64(0.0)), (3949, np.float64(0.0)), (3950, np.float64(0.0)), (3951, np.float64(0.0)), (3952, np.float64(0.0)), (3953, np.float64(0.0)), (3954, np.float64(0.0)), (3955, np.float64(0.0)), (3956, np.float64(0.0)), (3957, np.float64(0.0)), (3958, np.float64(0.0)), (3959, np.float64(0.0)), (3960, np.float64(0.0)), (3961, np.float64(0.0)), (3962, np.float64(0.0)), (3963, np.float64(0.0)), (3964, np.float64(0.0)), (3965, np.float64(0.0)), (3966, np.float64(0.0)), (3967, np.float64(0.0)), (3968, np.float64(0.0)), (3969, np.float64(0.0)), (3970, np.float64(0.0)), (3971, np.float64(0.0)), (3972, np.float64(0.0)), (3973, np.float64(0.0)), (3974, np.float64(0.0)), (3975, np.float64(0.0)), (3976, np.float64(0.0)), (3977, np.float64(0.0)), (3978, np.float64(0.0)), (3979, np.float64(0.0)), (3980, np.float64(0.0)), (3981, np.float64(0.0)), (3982, np.float64(0.0)), (3983, np.float64(0.0)), (3984, np.float64(0.0)), (3985, np.float64(0.0)), (3986, np.float64(0.0)), (3987, np.float64(0.0)), (3988, np.float64(0.0)), (3989, np.float64(0.0)), (3990, np.float64(0.0)), (3991, np.float64(0.0)), (3992, np.float64(0.0)), (3993, np.float64(0.0)), (3994, np.float64(0.0)), (3995, np.float64(0.0)), (3996, np.float64(0.0)), (3997, np.float64(0.0)), (3998, np.float64(0.0)), (3999, np.float64(0.0)), (4000, np.float64(0.0)), (4001, np.float64(0.0)), (4002, np.float64(0.0)), (4003, np.float64(0.0)), (4004, np.float64(0.0)), (4005, np.float64(0.0)), (4006, np.float64(0.0)), (4007, np.float64(0.0)), (4008, np.float64(0.0)), (4009, np.float64(0.0)), (4010, np.float64(0.0)), (4011, np.float64(0.0)), (4012, np.float64(0.0)), (4013, np.float64(0.0)), (4014, np.float64(0.0)), (4015, np.float64(0.0)), (4016, np.float64(0.0)), (4017, np.float64(0.0)), (4018, np.float64(0.0)), (4019, np.float64(0.0)), (4020, np.float64(0.0)), (4021, np.float64(0.0)), (4022, np.float64(0.0)), (4023, np.float64(0.0)), (4024, np.float64(0.0)), (4025, np.float64(0.0)), (4026, np.float64(0.0)), (4027, np.float64(0.0)), (4028, np.float64(0.0)), (4029, np.float64(0.0)), (4030, np.float64(0.0)), (4031, np.float64(0.0)), (4032, np.float64(0.0)), (4033, np.float64(0.0)), (4034, np.float64(0.0)), (4035, np.float64(0.0)), (4036, np.float64(0.0)), (4037, np.float64(0.0)), (4038, np.float64(0.0)), (4039, np.float64(0.0)), (4040, np.float64(0.0)), (4041, np.float64(0.0)), (4042, np.float64(0.0)), (4043, np.float64(0.0)), (4044, np.float64(0.0)), (4045, np.float64(0.0)), (4046, np.float64(0.0)), (4047, np.float64(0.0)), (4048, np.float64(0.0)), (4049, np.float64(0.0)), (4050, np.float64(0.0)), (4051, np.float64(0.0)), (4052, np.float64(0.0)), (4053, np.float64(0.0)), (4054, np.float64(0.0)), (4055, np.float64(0.0)), (4056, np.float64(0.0)), (4057, np.float64(0.0)), (4058, np.float64(0.0)), (4059, np.float64(0.0)), (4060, np.float64(0.0)), (4061, np.float64(0.0)), (4062, np.float64(0.0)), (4063, np.float64(0.0)), (4064, np.float64(0.0)), (4065, np.float64(0.0)), (4066, np.float64(0.0)), (4067, np.float64(0.0)), (4068, np.float64(0.0)), (4069, np.float64(0.0)), (4070, np.float64(0.0)), (4071, np.float64(0.0)), (4072, np.float64(0.0)), (4073, np.float64(0.0)), (4074, np.float64(0.0)), (4075, np.float64(0.0)), (4076, np.float64(0.0)), (4077, np.float64(0.0)), (4078, np.float64(0.0)), (4079, np.float64(0.0)), (4080, np.float64(0.0)), (4081, np.float64(0.0)), (4082, np.float64(0.0)), (4083, np.float64(0.0)), (4084, np.float64(0.0)), (4085, np.float64(0.0)), (4086, np.float64(0.0)), (4087, np.float64(0.0)), (4088, np.float64(0.0)), (4089, np.float64(0.0)), (4090, np.float64(0.0)), (4091, np.float64(0.0)), (4092, np.float64(0.0)), (4093, np.float64(0.0)), (4094, np.float64(0.0)), (4095, np.float64(0.0)), (4096, np.float64(0.0)), (4097, np.float64(0.0)), (4098, np.float64(0.0)), (4099, np.float64(0.0)), (4100, np.float64(0.0)), (4101, np.float64(0.0)), (4102, np.float64(0.0)), (4103, np.float64(0.0)), (4104, np.float64(0.0)), (4105, np.float64(0.0)), (4106, np.float64(0.0)), (4107, np.float64(0.0)), (4108, np.float64(0.0)), (4109, np.float64(0.0)), (4110, np.float64(0.0)), (4111, np.float64(0.0)), (4112, np.float64(0.0)), (4113, np.float64(0.0)), (4114, np.float64(0.0)), (4115, np.float64(0.0)), (4116, np.float64(0.0)), (4117, np.float64(0.0)), (4118, np.float64(0.0)), (4119, np.float64(0.0)), (4120, np.float64(0.0)), (4121, np.float64(0.0)), (4122, np.float64(0.0)), (4123, np.float64(0.0)), (4124, np.float64(0.0)), (4125, np.float64(0.0)), (4126, np.float64(0.0)), (4127, np.float64(0.0)), (4128, np.float64(0.0)), (4129, np.float64(0.0)), (4130, np.float64(0.0)), (4131, np.float64(0.0)), (4132, np.float64(0.0)), (4133, np.float64(0.0)), (4134, np.float64(0.0)), (4135, np.float64(0.0)), (4136, np.float64(0.0)), (4137, np.float64(0.0)), (4138, np.float64(0.0)), (4139, np.float64(0.0)), (4140, np.float64(0.0)), (4141, np.float64(0.0)), (4142, np.float64(0.0)), (4143, np.float64(0.0)), (4144, np.float64(0.0)), (4145, np.float64(0.0)), (4146, np.float64(0.0)), (4147, np.float64(0.0)), (4148, np.float64(0.0)), (4149, np.float64(0.0)), (4150, np.float64(0.0)), (4151, np.float64(0.0)), (4152, np.float64(0.0)), (4153, np.float64(0.0)), (4154, np.float64(0.0)), (4155, np.float64(0.0)), (4156, np.float64(0.0)), (4157, np.float64(0.0)), (4158, np.float64(0.0)), (4159, np.float64(0.0)), (4160, np.float64(0.0)), (4161, np.float64(0.0)), (4162, np.float64(0.0)), (4163, np.float64(0.0)), (4164, np.float64(0.0)), (4165, np.float64(0.0)), (4166, np.float64(0.0)), (4167, np.float64(0.0)), (4168, np.float64(0.0)), (4169, np.float64(0.0)), (4170, np.float64(0.0)), (4171, np.float64(0.0)), (4172, np.float64(0.0)), (4173, np.float64(0.0)), (4174, np.float64(0.0)), (4175, np.float64(0.0)), (4176, np.float64(0.0)), (4177, np.float64(0.0)), (4178, np.float64(0.0)), (4179, np.float64(0.0)), (4180, np.float64(0.0)), (4181, np.float64(0.0)), (4182, np.float64(0.0)), (4183, np.float64(0.0)), (4184, np.float64(0.0)), (4185, np.float64(0.0)), (4186, np.float64(0.0)), (4187, np.float64(0.0)), (4188, np.float64(0.0)), (4189, np.float64(0.0)), (4190, np.float64(0.0)), (4191, np.float64(0.0)), (4192, np.float64(0.0)), (4193, np.float64(0.0)), (4194, np.float64(0.0)), (4195, np.float64(0.0)), (4196, np.float64(0.0)), (4197, np.float64(0.0)), (4198, np.float64(0.0)), (4199, np.float64(0.0)), (4200, np.float64(0.0)), (4201, np.float64(0.0)), (4202, np.float64(0.0)), (4203, np.float64(0.0)), (4204, np.float64(0.0)), (4205, np.float64(0.0)), (4206, np.float64(0.0)), (4207, np.float64(0.0)), (4208, np.float64(0.0)), (4209, np.float64(0.0)), (4210, np.float64(0.0)), (4211, np.float64(0.0)), (4212, np.float64(0.0)), (4213, np.float64(0.0)), (4214, np.float64(0.0)), (4215, np.float64(0.0)), (4216, np.float64(0.0)), (4217, np.float64(0.0)), (4218, np.float64(0.0)), (4219, np.float64(0.0)), (4220, np.float64(0.0)), (4221, np.float64(0.0)), (4222, np.float64(0.0)), (4223, np.float64(0.0)), (4224, np.float64(0.0)), (4225, np.float64(0.0)), (4226, np.float64(0.0)), (4227, np.float64(0.0)), (4228, np.float64(0.0)), (4229, np.float64(0.0)), (4230, np.float64(0.0)), (4231, np.float64(0.0)), (4232, np.float64(0.0)), (4233, np.float64(0.0)), (4234, np.float64(0.0)), (4235, np.float64(0.0)), (4236, np.float64(0.0)), (4237, np.float64(0.0)), (4238, np.float64(0.0)), (4239, np.float64(0.0)), (4240, np.float64(0.0)), (4241, np.float64(0.0)), (4242, np.float64(0.0)), (4243, np.float64(0.0)), (4244, np.float64(0.0)), (4245, np.float64(0.0)), (4246, np.float64(0.0)), (4247, np.float64(0.0)), (4248, np.float64(0.0)), (4249, np.float64(0.0)), (4250, np.float64(0.0)), (4251, np.float64(0.0)), (4252, np.float64(0.0)), (4253, np.float64(0.0)), (4254, np.float64(0.0)), (4255, np.float64(0.0)), (4256, np.float64(0.0)), (4257, np.float64(0.0)), (4258, np.float64(0.0)), (4259, np.float64(0.0)), (4260, np.float64(0.0)), (4261, np.float64(0.0)), (4262, np.float64(0.0)), (4263, np.float64(0.0)), (4264, np.float64(0.0)), (4265, np.float64(0.0)), (4266, np.float64(0.0)), (4267, np.float64(0.0)), (4268, np.float64(0.0)), (4269, np.float64(0.0)), (4270, np.float64(0.0)), (4271, np.float64(0.0)), (4272, np.float64(0.0)), (4273, np.float64(0.0)), (4274, np.float64(0.0)), (4275, np.float64(0.0)), (4276, np.float64(0.0)), (4277, np.float64(0.0)), (4278, np.float64(0.0)), (4279, np.float64(0.0)), (4280, np.float64(0.0)), (4281, np.float64(0.0)), (4282, np.float64(0.0)), (4283, np.float64(0.0)), (4284, np.float64(0.0)), (4285, np.float64(0.0)), (4286, np.float64(0.0)), (4287, np.float64(0.0)), (4288, np.float64(0.0)), (4289, np.float64(0.0)), (4290, np.float64(0.0)), (4291, np.float64(0.0)), (4292, np.float64(0.0)), (4293, np.float64(0.0)), (4294, np.float64(0.0)), (4295, np.float64(0.0)), (4296, np.float64(0.0)), (4297, np.float64(0.0)), (4298, np.float64(0.0)), (4299, np.float64(0.0)), (4300, np.float64(0.0)), (4301, np.float64(0.0)), (4302, np.float64(0.0)), (4303, np.float64(0.0)), (4304, np.float64(0.0)), (4305, np.float64(0.0)), (4306, np.float64(0.0)), (4307, np.float64(0.0)), (4308, np.float64(0.0)), (4309, np.float64(0.0)), (4310, np.float64(0.0)), (4311, np.float64(0.0)), (4312, np.float64(0.0)), (4313, np.float64(0.0)), (4314, np.float64(0.0)), (4315, np.float64(0.0)), (4316, np.float64(0.0)), (4317, np.float64(0.0)), (4318, np.float64(0.0)), (4319, np.float64(0.0)), (4320, np.float64(0.0)), (4321, np.float64(0.0)), (4322, np.float64(0.0)), (4323, np.float64(0.0)), (4324, np.float64(0.0)), (4325, np.float64(0.0)), (4326, np.float64(0.0)), (4327, np.float64(0.0)), (4328, np.float64(0.0)), (4329, np.float64(0.0)), (4330, np.float64(0.0)), (4331, np.float64(0.0)), (4332, np.float64(0.0)), (4333, np.float64(0.0)), (4334, np.float64(0.0)), (4335, np.float64(0.0)), (4336, np.float64(0.0)), (4337, np.float64(0.0)), (4338, np.float64(0.0)), (4339, np.float64(0.0)), (4340, np.float64(0.0)), (4341, np.float64(0.0)), (4342, np.float64(0.0)), (4343, np.float64(0.0)), (4344, np.float64(0.0)), (4345, np.float64(0.0)), (4346, np.float64(0.0)), (4347, np.float64(0.0)), (4348, np.float64(0.0)), (4349, np.float64(0.0)), (4350, np.float64(0.0)), (4351, np.float64(0.0)), (4352, np.float64(0.0)), (4353, np.float64(0.0)), (4354, np.float64(0.0)), (4355, np.float64(0.0)), (4356, np.float64(0.0)), (4357, np.float64(0.0)), (4358, np.float64(0.0)), (4359, np.float64(0.0)), (4360, np.float64(0.0)), (4361, np.float64(0.0)), (4362, np.float64(0.0)), (4363, np.float64(0.0)), (4364, np.float64(0.0)), (4365, np.float64(0.0)), (4366, np.float64(0.0)), (4367, np.float64(0.0)), (4368, np.float64(0.0)), (4369, np.float64(0.0)), (4370, np.float64(0.0)), (4371, np.float64(0.0)), (4372, np.float64(0.0)), (4373, np.float64(0.0)), (4374, np.float64(0.0)), (4375, np.float64(0.0)), (4376, np.float64(0.0)), (4377, np.float64(0.0)), (4378, np.float64(0.0)), (4379, np.float64(0.0)), (4380, np.float64(0.0)), (4381, np.float64(0.0)), (4382, np.float64(0.0)), (4383, np.float64(0.0)), (4384, np.float64(0.0)), (4385, np.float64(0.0)), (4386, np.float64(0.0)), (4387, np.float64(0.0)), (4388, np.float64(0.0)), (4389, np.float64(0.0)), (4390, np.float64(0.0)), (4391, np.float64(0.0)), (4392, np.float64(0.0)), (4393, np.float64(0.0)), (4394, np.float64(0.0)), (4395, np.float64(0.0)), (4396, np.float64(0.0)), (4397, np.float64(0.0)), (4398, np.float64(0.0)), (4399, np.float64(0.0)), (4400, np.float64(0.0)), (4401, np.float64(0.0)), (4402, np.float64(0.0)), (4403, np.float64(0.0)), (4404, np.float64(0.0)), (4405, np.float64(0.0)), (4406, np.float64(0.0)), (4407, np.float64(0.0)), (4408, np.float64(0.0)), (4409, np.float64(0.0)), (4410, np.float64(0.0)), (4411, np.float64(0.0)), (4412, np.float64(0.0)), (4413, np.float64(0.0)), (4414, np.float64(0.0)), (4415, np.float64(0.0)), (4416, np.float64(0.0)), (4417, np.float64(0.0)), (4418, np.float64(0.0)), (4419, np.float64(0.0)), (4420, np.float64(0.0)), (4421, np.float64(0.0)), (4422, np.float64(0.0)), (4423, np.float64(0.0)), (4424, np.float64(0.0)), (4425, np.float64(0.0)), (4426, np.float64(0.0)), (4427, np.float64(0.0)), (4428, np.float64(0.0)), (4429, np.float64(0.0)), (4430, np.float64(0.0)), (4431, np.float64(0.0)), (4432, np.float64(0.0)), (4433, np.float64(0.0)), (4434, np.float64(0.0)), (4435, np.float64(0.0)), (4436, np.float64(0.0)), (4437, np.float64(0.0)), (4438, np.float64(0.0)), (4439, np.float64(0.0)), (4440, np.float64(0.0)), (4441, np.float64(0.0)), (4442, np.float64(0.0)), (4443, np.float64(0.0)), (4444, np.float64(0.0)), (4445, np.float64(0.0)), (4446, np.float64(0.0)), (4447, np.float64(0.0)), (4448, np.float64(0.0)), (4449, np.float64(0.0)), (4450, np.float64(0.0)), (4451, np.float64(0.0)), (4452, np.float64(0.0)), (4453, np.float64(0.0)), (4454, np.float64(0.0)), (4455, np.float64(0.0)), (4456, np.float64(0.0)), (4457, np.float64(0.0)), (4458, np.float64(0.0)), (4459, np.float64(0.0)), (4460, np.float64(0.0)), (4461, np.float64(0.0)), (4462, np.float64(0.0)), (4463, np.float64(0.0)), (4464, np.float64(0.0)), (4465, np.float64(0.0)), (4466, np.float64(0.0)), (4467, np.float64(0.0)), (4468, np.float64(0.0)), (4469, np.float64(0.0)), (4470, np.float64(0.0)), (4471, np.float64(0.0)), (4472, np.float64(0.0)), (4473, np.float64(0.0)), (4474, np.float64(0.0)), (4475, np.float64(0.0)), (4476, np.float64(0.0)), (4477, np.float64(0.0)), (4478, np.float64(0.0)), (4479, np.float64(0.0)), (4480, np.float64(0.0)), (4481, np.float64(0.0)), (4482, np.float64(0.0)), (4483, np.float64(0.0)), (4484, np.float64(0.0)), (4485, np.float64(0.0)), (4486, np.float64(0.0)), (4487, np.float64(0.0)), (4488, np.float64(0.0)), (4489, np.float64(0.0)), (4490, np.float64(0.0)), (4491, np.float64(0.0)), (4492, np.float64(0.0)), (4493, np.float64(0.0)), (4494, np.float64(0.0)), (4495, np.float64(0.0)), (4496, np.float64(0.0)), (4497, np.float64(0.0)), (4498, np.float64(0.0)), (4499, np.float64(0.0)), (4500, np.float64(0.0)), (4501, np.float64(0.0)), (4502, np.float64(0.0)), (4503, np.float64(0.0)), (4504, np.float64(0.0)), (4505, np.float64(0.0)), (4506, np.float64(0.0)), (4507, np.float64(0.0)), (4508, np.float64(0.0)), (4509, np.float64(0.0)), (4510, np.float64(0.0)), (4511, np.float64(0.0)), (4512, np.float64(0.0)), (4513, np.float64(0.0)), (4514, np.float64(0.0)), (4515, np.float64(0.0)), (4516, np.float64(0.0)), (4517, np.float64(0.0)), (4518, np.float64(0.0)), (4519, np.float64(0.0)), (4520, np.float64(0.0)), (4521, np.float64(0.0)), (4522, np.float64(0.0)), (4523, np.float64(0.0)), (4524, np.float64(0.0)), (4525, np.float64(0.0)), (4526, np.float64(0.0)), (4527, np.float64(0.0)), (4528, np.float64(0.0)), (4529, np.float64(0.0)), (4530, np.float64(0.0)), (4531, np.float64(0.0)), (4532, np.float64(0.0)), (4533, np.float64(0.0)), (4534, np.float64(0.0)), (4535, np.float64(0.0)), (4536, np.float64(0.0)), (4537, np.float64(0.0)), (4538, np.float64(0.0)), (4539, np.float64(0.0)), (4540, np.float64(0.0)), (4541, np.float64(0.0)), (4542, np.float64(0.0)), (4543, np.float64(0.0)), (4544, np.float64(0.0)), (4545, np.float64(0.0)), (4546, np.float64(0.0)), (4547, np.float64(0.0)), (4548, np.float64(0.0)), (4549, np.float64(0.0)), (4550, np.float64(0.0)), (4551, np.float64(0.0)), (4552, np.float64(0.0)), (4553, np.float64(0.0)), (4554, np.float64(0.0)), (4555, np.float64(0.0)), (4556, np.float64(0.0)), (4557, np.float64(0.0)), (4558, np.float64(0.0)), (4559, np.float64(0.0)), (4560, np.float64(0.0)), (4561, np.float64(0.0)), (4562, np.float64(0.0)), (4563, np.float64(0.0)), (4564, np.float64(0.0)), (4565, np.float64(0.0)), (4566, np.float64(0.0)), (4567, np.float64(0.0)), (4568, np.float64(0.0)), (4569, np.float64(0.0)), (4570, np.float64(0.0)), (4571, np.float64(0.0)), (4572, np.float64(0.0)), (4573, np.float64(0.0)), (4574, np.float64(0.0)), (4575, np.float64(0.0)), (4576, np.float64(0.0)), (4577, np.float64(0.0)), (4578, np.float64(0.0)), (4579, np.float64(0.0)), (4580, np.float64(0.0)), (4581, np.float64(0.0)), (4582, np.float64(0.0)), (4583, np.float64(0.0)), (4584, np.float64(0.0)), (4585, np.float64(0.0)), (4586, np.float64(0.0)), (4587, np.float64(0.0)), (4588, np.float64(0.0)), (4589, np.float64(0.0)), (4590, np.float64(0.0)), (4591, np.float64(0.0)), (4592, np.float64(0.0)), (4593, np.float64(0.0)), (4594, np.float64(0.0)), (4595, np.float64(0.0)), (4596, np.float64(0.0)), (4597, np.float64(0.0)), (4598, np.float64(0.0)), (4599, np.float64(0.0)), (4600, np.float64(0.0)), (4601, np.float64(0.0)), (4602, np.float64(0.0)), (4603, np.float64(0.0)), (4604, np.float64(0.0)), (4605, np.float64(0.0)), (4606, np.float64(0.0)), (4607, np.float64(0.0)), (4608, np.float64(0.0)), (4609, np.float64(0.0)), (4610, np.float64(0.0)), (4611, np.float64(0.0)), (4612, np.float64(0.0)), (4613, np.float64(0.0)), (4614, np.float64(0.0)), (4615, np.float64(0.0)), (4616, np.float64(0.0)), (4617, np.float64(0.0)), (4618, np.float64(0.0)), (4619, np.float64(0.0)), (4620, np.float64(0.0)), (4621, np.float64(0.0)), (4622, np.float64(0.0)), (4623, np.float64(0.0)), (4624, np.float64(0.0)), (4625, np.float64(0.0)), (4626, np.float64(0.0)), (4627, np.float64(0.0)), (4628, np.float64(0.0)), (4629, np.float64(0.0)), (4630, np.float64(0.0)), (4631, np.float64(0.0)), (4632, np.float64(0.0)), (4633, np.float64(0.0)), (4634, np.float64(0.0)), (4635, np.float64(0.0)), (4636, np.float64(0.0)), (4637, np.float64(0.0)), (4638, np.float64(0.0)), (4639, np.float64(0.0)), (4640, np.float64(0.0)), (4641, np.float64(0.0)), (4642, np.float64(0.0)), (4643, np.float64(0.0)), (4644, np.float64(0.0)), (4645, np.float64(0.0)), (4646, np.float64(0.0)), (4647, np.float64(0.0)), (4648, np.float64(0.0)), (4649, np.float64(0.0)), (4650, np.float64(0.0)), (4651, np.float64(0.0)), (4652, np.float64(0.0)), (4653, np.float64(0.0)), (4654, np.float64(0.0)), (4655, np.float64(0.0)), (4656, np.float64(0.0)), (4657, np.float64(0.0)), (4658, np.float64(0.0)), (4659, np.float64(0.0)), (4660, np.float64(0.0)), (4661, np.float64(0.0)), (4662, np.float64(0.0)), (4663, np.float64(0.0)), (4664, np.float64(0.0)), (4665, np.float64(0.0)), (4666, np.float64(0.0)), (4667, np.float64(0.0)), (4668, np.float64(0.0)), (4669, np.float64(0.0)), (4670, np.float64(0.0)), (4671, np.float64(0.0)), (4672, np.float64(0.0)), (4673, np.float64(0.0)), (4674, np.float64(0.0)), (4675, np.float64(0.0)), (4676, np.float64(0.0)), (4677, np.float64(0.0)), (4678, np.float64(0.0)), (4679, np.float64(0.0)), (4680, np.float64(0.0)), (4681, np.float64(0.0)), (4682, np.float64(0.0)), (4683, np.float64(0.0)), (4684, np.float64(0.0)), (4685, np.float64(0.0)), (4686, np.float64(0.0)), (4687, np.float64(0.0)), (4688, np.float64(0.0)), (4689, np.float64(0.0)), (4690, np.float64(0.0)), (4691, np.float64(0.0)), (4692, np.float64(0.0)), (4693, np.float64(0.0)), (4694, np.float64(0.0)), (4695, np.float64(0.0)), (4696, np.float64(0.0)), (4697, np.float64(0.0)), (4698, np.float64(0.0)), (4699, np.float64(0.0)), (4700, np.float64(0.0)), (4701, np.float64(0.0)), (4702, np.float64(0.0)), (4703, np.float64(0.0)), (4704, np.float64(0.0)), (4705, np.float64(0.0)), (4706, np.float64(0.0)), (4707, np.float64(0.0)), (4708, np.float64(0.0)), (4709, np.float64(0.0)), (4710, np.float64(0.0)), (4711, np.float64(0.0)), (4712, np.float64(0.0)), (4713, np.float64(0.0)), (4714, np.float64(0.0)), (4715, np.float64(0.0)), (4716, np.float64(0.0)), (4717, np.float64(0.0)), (4718, np.float64(0.0)), (4719, np.float64(0.0)), (4720, np.float64(0.0)), (4721, np.float64(0.0)), (4722, np.float64(0.0)), (4723, np.float64(0.0)), (4724, np.float64(0.0)), (4725, np.float64(0.0)), (4726, np.float64(0.0)), (4727, np.float64(0.0)), (4728, np.float64(0.0)), (4729, np.float64(0.0)), (4730, np.float64(0.0)), (4731, np.float64(0.0)), (4732, np.float64(0.0)), (4733, np.float64(0.0)), (4734, np.float64(0.0)), (4735, np.float64(0.0)), (4736, np.float64(0.0)), (4737, np.float64(0.0)), (4738, np.float64(0.0)), (4739, np.float64(0.0)), (4740, np.float64(0.0)), (4741, np.float64(0.0)), (4742, np.float64(0.0)), (4743, np.float64(0.0)), (4744, np.float64(0.0)), (4745, np.float64(0.0)), (4746, np.float64(0.0)), (4747, np.float64(0.0)), (4748, np.float64(0.0)), (4749, np.float64(0.0)), (4750, np.float64(0.0)), (4751, np.float64(0.0)), (4752, np.float64(0.0)), (4753, np.float64(0.0)), (4754, np.float64(0.0)), (4755, np.float64(0.0)), (4756, np.float64(0.0)), (4757, np.float64(0.0)), (4758, np.float64(0.0)), (4759, np.float64(0.0))]\n"
          ]
        }
      ]
    },
    {
      "cell_type": "code",
      "source": [
        "len(Recommendation_Score)"
      ],
      "metadata": {
        "colab": {
          "base_uri": "https://localhost:8080/"
        },
        "id": "8hYxFnZmFtlw",
        "outputId": "e6456d66-16ed-42f8-e388-68e0ebfe23ad"
      },
      "execution_count": null,
      "outputs": [
        {
          "output_type": "execute_result",
          "data": {
            "text/plain": [
              "4760"
            ]
          },
          "metadata": {},
          "execution_count": 31
        }
      ]
    },
    {
      "cell_type": "markdown",
      "source": [
        "Get all the movies based on Recommendation Score"
      ],
      "metadata": {
        "id": "liM6HkLTFzVl"
      }
    },
    {
      "cell_type": "code",
      "source": [
        "Sorted_Similar_Movies= sorted(Recommendation_Score, key= lambda x:x[1], reverse= True)\n",
        "print(Sorted_Similar_Movies)"
      ],
      "metadata": {
        "colab": {
          "base_uri": "https://localhost:8080/"
        },
        "id": "BziGntWgF20v",
        "outputId": "3a51266a-4b73-4264-8a32-86515b25b5d3"
      },
      "execution_count": null,
      "outputs": [
        {
          "output_type": "stream",
          "name": "stdout",
          "text": [
            "[(2851, np.float64(1.0000000000000002)), (0, np.float64(0.0)), (1, np.float64(0.0)), (2, np.float64(0.0)), (3, np.float64(0.0)), (4, np.float64(0.0)), (5, np.float64(0.0)), (6, np.float64(0.0)), (7, np.float64(0.0)), (8, np.float64(0.0)), (9, np.float64(0.0)), (10, np.float64(0.0)), (11, np.float64(0.0)), (12, np.float64(0.0)), (13, np.float64(0.0)), (14, np.float64(0.0)), (15, np.float64(0.0)), (16, np.float64(0.0)), (17, np.float64(0.0)), (18, np.float64(0.0)), (19, np.float64(0.0)), (20, np.float64(0.0)), (21, np.float64(0.0)), (22, np.float64(0.0)), (23, np.float64(0.0)), (24, np.float64(0.0)), (25, np.float64(0.0)), (26, np.float64(0.0)), (27, np.float64(0.0)), (28, np.float64(0.0)), (29, np.float64(0.0)), (30, np.float64(0.0)), (31, np.float64(0.0)), (32, np.float64(0.0)), (33, np.float64(0.0)), (34, np.float64(0.0)), (35, np.float64(0.0)), (36, np.float64(0.0)), (37, np.float64(0.0)), (38, np.float64(0.0)), (39, np.float64(0.0)), (40, np.float64(0.0)), (41, np.float64(0.0)), (42, np.float64(0.0)), (43, np.float64(0.0)), (44, np.float64(0.0)), (45, np.float64(0.0)), (46, np.float64(0.0)), (47, np.float64(0.0)), (48, np.float64(0.0)), (49, np.float64(0.0)), (50, np.float64(0.0)), (51, np.float64(0.0)), (52, np.float64(0.0)), (53, np.float64(0.0)), (54, np.float64(0.0)), (55, np.float64(0.0)), (56, np.float64(0.0)), (57, np.float64(0.0)), (58, np.float64(0.0)), (59, np.float64(0.0)), (60, np.float64(0.0)), (61, np.float64(0.0)), (62, np.float64(0.0)), (63, np.float64(0.0)), (64, np.float64(0.0)), (65, np.float64(0.0)), (66, np.float64(0.0)), (67, np.float64(0.0)), (68, np.float64(0.0)), (69, np.float64(0.0)), (70, np.float64(0.0)), (71, np.float64(0.0)), (72, np.float64(0.0)), (73, np.float64(0.0)), (74, np.float64(0.0)), (75, np.float64(0.0)), (76, np.float64(0.0)), (77, np.float64(0.0)), (78, np.float64(0.0)), (79, np.float64(0.0)), (80, np.float64(0.0)), (81, np.float64(0.0)), (82, np.float64(0.0)), (83, np.float64(0.0)), (84, np.float64(0.0)), (85, np.float64(0.0)), (86, np.float64(0.0)), (87, np.float64(0.0)), (88, np.float64(0.0)), (89, np.float64(0.0)), (90, np.float64(0.0)), (91, np.float64(0.0)), (92, np.float64(0.0)), (93, np.float64(0.0)), (94, np.float64(0.0)), (95, np.float64(0.0)), (96, np.float64(0.0)), (97, np.float64(0.0)), (98, np.float64(0.0)), (99, np.float64(0.0)), (100, np.float64(0.0)), (101, np.float64(0.0)), (102, np.float64(0.0)), (103, np.float64(0.0)), (104, np.float64(0.0)), (105, np.float64(0.0)), (106, np.float64(0.0)), (107, np.float64(0.0)), (108, np.float64(0.0)), (109, np.float64(0.0)), (110, np.float64(0.0)), (111, np.float64(0.0)), (112, np.float64(0.0)), (113, np.float64(0.0)), (114, np.float64(0.0)), (115, np.float64(0.0)), (116, np.float64(0.0)), (117, np.float64(0.0)), (118, np.float64(0.0)), (119, np.float64(0.0)), (120, np.float64(0.0)), (121, np.float64(0.0)), (122, np.float64(0.0)), (123, np.float64(0.0)), (124, np.float64(0.0)), (125, np.float64(0.0)), (126, np.float64(0.0)), (127, np.float64(0.0)), (128, np.float64(0.0)), (129, np.float64(0.0)), (130, np.float64(0.0)), (131, np.float64(0.0)), (132, np.float64(0.0)), (133, np.float64(0.0)), (134, np.float64(0.0)), (135, np.float64(0.0)), (136, np.float64(0.0)), (137, np.float64(0.0)), (138, np.float64(0.0)), (139, np.float64(0.0)), (140, np.float64(0.0)), (141, np.float64(0.0)), (142, np.float64(0.0)), (143, np.float64(0.0)), (144, np.float64(0.0)), (145, np.float64(0.0)), (146, np.float64(0.0)), (147, np.float64(0.0)), (148, np.float64(0.0)), (149, np.float64(0.0)), (150, np.float64(0.0)), (151, np.float64(0.0)), (152, np.float64(0.0)), (153, np.float64(0.0)), (154, np.float64(0.0)), (155, np.float64(0.0)), (156, np.float64(0.0)), (157, np.float64(0.0)), (158, np.float64(0.0)), (159, np.float64(0.0)), (160, np.float64(0.0)), (161, np.float64(0.0)), (162, np.float64(0.0)), (163, np.float64(0.0)), (164, np.float64(0.0)), (165, np.float64(0.0)), (166, np.float64(0.0)), (167, np.float64(0.0)), (168, np.float64(0.0)), (169, np.float64(0.0)), (170, np.float64(0.0)), (171, np.float64(0.0)), (172, np.float64(0.0)), (173, np.float64(0.0)), (174, np.float64(0.0)), (175, np.float64(0.0)), (176, np.float64(0.0)), (177, np.float64(0.0)), (178, np.float64(0.0)), (179, np.float64(0.0)), (180, np.float64(0.0)), (181, np.float64(0.0)), (182, np.float64(0.0)), (183, np.float64(0.0)), (184, np.float64(0.0)), (185, np.float64(0.0)), (186, np.float64(0.0)), (187, np.float64(0.0)), (188, np.float64(0.0)), (189, np.float64(0.0)), (190, np.float64(0.0)), (191, np.float64(0.0)), (192, np.float64(0.0)), (193, np.float64(0.0)), (194, np.float64(0.0)), (195, np.float64(0.0)), (196, np.float64(0.0)), (197, np.float64(0.0)), (198, np.float64(0.0)), (199, np.float64(0.0)), (200, np.float64(0.0)), (201, np.float64(0.0)), (202, np.float64(0.0)), (203, np.float64(0.0)), (204, np.float64(0.0)), (205, np.float64(0.0)), (206, np.float64(0.0)), (207, np.float64(0.0)), (208, np.float64(0.0)), (209, np.float64(0.0)), (210, np.float64(0.0)), (211, np.float64(0.0)), (212, np.float64(0.0)), (213, np.float64(0.0)), (214, np.float64(0.0)), (215, np.float64(0.0)), (216, np.float64(0.0)), (217, np.float64(0.0)), (218, np.float64(0.0)), (219, np.float64(0.0)), (220, np.float64(0.0)), (221, np.float64(0.0)), (222, np.float64(0.0)), (223, np.float64(0.0)), (224, np.float64(0.0)), (225, np.float64(0.0)), (226, np.float64(0.0)), (227, np.float64(0.0)), (228, np.float64(0.0)), (229, np.float64(0.0)), (230, np.float64(0.0)), (231, np.float64(0.0)), (232, np.float64(0.0)), (233, np.float64(0.0)), (234, np.float64(0.0)), (235, np.float64(0.0)), (236, np.float64(0.0)), (237, np.float64(0.0)), (238, np.float64(0.0)), (239, np.float64(0.0)), (240, np.float64(0.0)), (241, np.float64(0.0)), (242, np.float64(0.0)), (243, np.float64(0.0)), (244, np.float64(0.0)), (245, np.float64(0.0)), (246, np.float64(0.0)), (247, np.float64(0.0)), (248, np.float64(0.0)), (249, np.float64(0.0)), (250, np.float64(0.0)), (251, np.float64(0.0)), (252, np.float64(0.0)), (253, np.float64(0.0)), (254, np.float64(0.0)), (255, np.float64(0.0)), (256, np.float64(0.0)), (257, np.float64(0.0)), (258, np.float64(0.0)), (259, np.float64(0.0)), (260, np.float64(0.0)), (261, np.float64(0.0)), (262, np.float64(0.0)), (263, np.float64(0.0)), (264, np.float64(0.0)), (265, np.float64(0.0)), (266, np.float64(0.0)), (267, np.float64(0.0)), (268, np.float64(0.0)), (269, np.float64(0.0)), (270, np.float64(0.0)), (271, np.float64(0.0)), (272, np.float64(0.0)), (273, np.float64(0.0)), (274, np.float64(0.0)), (275, np.float64(0.0)), (276, np.float64(0.0)), (277, np.float64(0.0)), (278, np.float64(0.0)), (279, np.float64(0.0)), (280, np.float64(0.0)), (281, np.float64(0.0)), (282, np.float64(0.0)), (283, np.float64(0.0)), (284, np.float64(0.0)), (285, np.float64(0.0)), (286, np.float64(0.0)), (287, np.float64(0.0)), (288, np.float64(0.0)), (289, np.float64(0.0)), (290, np.float64(0.0)), (291, np.float64(0.0)), (292, np.float64(0.0)), (293, np.float64(0.0)), (294, np.float64(0.0)), (295, np.float64(0.0)), (296, np.float64(0.0)), (297, np.float64(0.0)), (298, np.float64(0.0)), (299, np.float64(0.0)), (300, np.float64(0.0)), (301, np.float64(0.0)), (302, np.float64(0.0)), (303, np.float64(0.0)), (304, np.float64(0.0)), (305, np.float64(0.0)), (306, np.float64(0.0)), (307, np.float64(0.0)), (308, np.float64(0.0)), (309, np.float64(0.0)), (310, np.float64(0.0)), (311, np.float64(0.0)), (312, np.float64(0.0)), (313, np.float64(0.0)), (314, np.float64(0.0)), (315, np.float64(0.0)), (316, np.float64(0.0)), (317, np.float64(0.0)), (318, np.float64(0.0)), (319, np.float64(0.0)), (320, np.float64(0.0)), (321, np.float64(0.0)), (322, np.float64(0.0)), (323, np.float64(0.0)), (324, np.float64(0.0)), (325, np.float64(0.0)), (326, np.float64(0.0)), (327, np.float64(0.0)), (328, np.float64(0.0)), (329, np.float64(0.0)), (330, np.float64(0.0)), (331, np.float64(0.0)), (332, np.float64(0.0)), (333, np.float64(0.0)), (334, np.float64(0.0)), (335, np.float64(0.0)), (336, np.float64(0.0)), (337, np.float64(0.0)), (338, np.float64(0.0)), (339, np.float64(0.0)), (340, np.float64(0.0)), (341, np.float64(0.0)), (342, np.float64(0.0)), (343, np.float64(0.0)), (344, np.float64(0.0)), (345, np.float64(0.0)), (346, np.float64(0.0)), (347, np.float64(0.0)), (348, np.float64(0.0)), (349, np.float64(0.0)), (350, np.float64(0.0)), (351, np.float64(0.0)), (352, np.float64(0.0)), (353, np.float64(0.0)), (354, np.float64(0.0)), (355, np.float64(0.0)), (356, np.float64(0.0)), (357, np.float64(0.0)), (358, np.float64(0.0)), (359, np.float64(0.0)), (360, np.float64(0.0)), (361, np.float64(0.0)), (362, np.float64(0.0)), (363, np.float64(0.0)), (364, np.float64(0.0)), (365, np.float64(0.0)), (366, np.float64(0.0)), (367, np.float64(0.0)), (368, np.float64(0.0)), (369, np.float64(0.0)), (370, np.float64(0.0)), (371, np.float64(0.0)), (372, np.float64(0.0)), (373, np.float64(0.0)), (374, np.float64(0.0)), (375, np.float64(0.0)), (376, np.float64(0.0)), (377, np.float64(0.0)), (378, np.float64(0.0)), (379, np.float64(0.0)), (380, np.float64(0.0)), (381, np.float64(0.0)), (382, np.float64(0.0)), (383, np.float64(0.0)), (384, np.float64(0.0)), (385, np.float64(0.0)), (386, np.float64(0.0)), (387, np.float64(0.0)), (388, np.float64(0.0)), (389, np.float64(0.0)), (390, np.float64(0.0)), (391, np.float64(0.0)), (392, np.float64(0.0)), (393, np.float64(0.0)), (394, np.float64(0.0)), (395, np.float64(0.0)), (396, np.float64(0.0)), (397, np.float64(0.0)), (398, np.float64(0.0)), (399, np.float64(0.0)), (400, np.float64(0.0)), (401, np.float64(0.0)), (402, np.float64(0.0)), (403, np.float64(0.0)), (404, np.float64(0.0)), (405, np.float64(0.0)), (406, np.float64(0.0)), (407, np.float64(0.0)), (408, np.float64(0.0)), (409, np.float64(0.0)), (410, np.float64(0.0)), (411, np.float64(0.0)), (412, np.float64(0.0)), (413, np.float64(0.0)), (414, np.float64(0.0)), (415, np.float64(0.0)), (416, np.float64(0.0)), (417, np.float64(0.0)), (418, np.float64(0.0)), (419, np.float64(0.0)), (420, np.float64(0.0)), (421, np.float64(0.0)), (422, np.float64(0.0)), (423, np.float64(0.0)), (424, np.float64(0.0)), (425, np.float64(0.0)), (426, np.float64(0.0)), (427, np.float64(0.0)), (428, np.float64(0.0)), (429, np.float64(0.0)), (430, np.float64(0.0)), (431, np.float64(0.0)), (432, np.float64(0.0)), (433, np.float64(0.0)), (434, np.float64(0.0)), (435, np.float64(0.0)), (436, np.float64(0.0)), (437, np.float64(0.0)), (438, np.float64(0.0)), (439, np.float64(0.0)), (440, np.float64(0.0)), (441, np.float64(0.0)), (442, np.float64(0.0)), (443, np.float64(0.0)), (444, np.float64(0.0)), (445, np.float64(0.0)), (446, np.float64(0.0)), (447, np.float64(0.0)), (448, np.float64(0.0)), (449, np.float64(0.0)), (450, np.float64(0.0)), (451, np.float64(0.0)), (452, np.float64(0.0)), (453, np.float64(0.0)), (454, np.float64(0.0)), (455, np.float64(0.0)), (456, np.float64(0.0)), (457, np.float64(0.0)), (458, np.float64(0.0)), (459, np.float64(0.0)), (460, np.float64(0.0)), (461, np.float64(0.0)), (462, np.float64(0.0)), (463, np.float64(0.0)), (464, np.float64(0.0)), (465, np.float64(0.0)), (466, np.float64(0.0)), (467, np.float64(0.0)), (468, np.float64(0.0)), (469, np.float64(0.0)), (470, np.float64(0.0)), (471, np.float64(0.0)), (472, np.float64(0.0)), (473, np.float64(0.0)), (474, np.float64(0.0)), (475, np.float64(0.0)), (476, np.float64(0.0)), (477, np.float64(0.0)), (478, np.float64(0.0)), (479, np.float64(0.0)), (480, np.float64(0.0)), (481, np.float64(0.0)), (482, np.float64(0.0)), (483, np.float64(0.0)), (484, np.float64(0.0)), (485, np.float64(0.0)), (486, np.float64(0.0)), (487, np.float64(0.0)), (488, np.float64(0.0)), (489, np.float64(0.0)), (490, np.float64(0.0)), (491, np.float64(0.0)), (492, np.float64(0.0)), (493, np.float64(0.0)), (494, np.float64(0.0)), (495, np.float64(0.0)), (496, np.float64(0.0)), (497, np.float64(0.0)), (498, np.float64(0.0)), (499, np.float64(0.0)), (500, np.float64(0.0)), (501, np.float64(0.0)), (502, np.float64(0.0)), (503, np.float64(0.0)), (504, np.float64(0.0)), (505, np.float64(0.0)), (506, np.float64(0.0)), (507, np.float64(0.0)), (508, np.float64(0.0)), (509, np.float64(0.0)), (510, np.float64(0.0)), (511, np.float64(0.0)), (512, np.float64(0.0)), (513, np.float64(0.0)), (514, np.float64(0.0)), (515, np.float64(0.0)), (516, np.float64(0.0)), (517, np.float64(0.0)), (518, np.float64(0.0)), (519, np.float64(0.0)), (520, np.float64(0.0)), (521, np.float64(0.0)), (522, np.float64(0.0)), (523, np.float64(0.0)), (524, np.float64(0.0)), (525, np.float64(0.0)), (526, np.float64(0.0)), (527, np.float64(0.0)), (528, np.float64(0.0)), (529, np.float64(0.0)), (530, np.float64(0.0)), (531, np.float64(0.0)), (532, np.float64(0.0)), (533, np.float64(0.0)), (534, np.float64(0.0)), (535, np.float64(0.0)), (536, np.float64(0.0)), (537, np.float64(0.0)), (538, np.float64(0.0)), (539, np.float64(0.0)), (540, np.float64(0.0)), (541, np.float64(0.0)), (542, np.float64(0.0)), (543, np.float64(0.0)), (544, np.float64(0.0)), (545, np.float64(0.0)), (546, np.float64(0.0)), (547, np.float64(0.0)), (548, np.float64(0.0)), (549, np.float64(0.0)), (550, np.float64(0.0)), (551, np.float64(0.0)), (552, np.float64(0.0)), (553, np.float64(0.0)), (554, np.float64(0.0)), (555, np.float64(0.0)), (556, np.float64(0.0)), (557, np.float64(0.0)), (558, np.float64(0.0)), (559, np.float64(0.0)), (560, np.float64(0.0)), (561, np.float64(0.0)), (562, np.float64(0.0)), (563, np.float64(0.0)), (564, np.float64(0.0)), (565, np.float64(0.0)), (566, np.float64(0.0)), (567, np.float64(0.0)), (568, np.float64(0.0)), (569, np.float64(0.0)), (570, np.float64(0.0)), (571, np.float64(0.0)), (572, np.float64(0.0)), (573, np.float64(0.0)), (574, np.float64(0.0)), (575, np.float64(0.0)), (576, np.float64(0.0)), (577, np.float64(0.0)), (578, np.float64(0.0)), (579, np.float64(0.0)), (580, np.float64(0.0)), (581, np.float64(0.0)), (582, np.float64(0.0)), (583, np.float64(0.0)), (584, np.float64(0.0)), (585, np.float64(0.0)), (586, np.float64(0.0)), (587, np.float64(0.0)), (588, np.float64(0.0)), (589, np.float64(0.0)), (590, np.float64(0.0)), (591, np.float64(0.0)), (592, np.float64(0.0)), (593, np.float64(0.0)), (594, np.float64(0.0)), (595, np.float64(0.0)), (596, np.float64(0.0)), (597, np.float64(0.0)), (598, np.float64(0.0)), (599, np.float64(0.0)), (600, np.float64(0.0)), (601, np.float64(0.0)), (602, np.float64(0.0)), (603, np.float64(0.0)), (604, np.float64(0.0)), (605, np.float64(0.0)), (606, np.float64(0.0)), (607, np.float64(0.0)), (608, np.float64(0.0)), (609, np.float64(0.0)), (610, np.float64(0.0)), (611, np.float64(0.0)), (612, np.float64(0.0)), (613, np.float64(0.0)), (614, np.float64(0.0)), (615, np.float64(0.0)), (616, np.float64(0.0)), (617, np.float64(0.0)), (618, np.float64(0.0)), (619, np.float64(0.0)), (620, np.float64(0.0)), (621, np.float64(0.0)), (622, np.float64(0.0)), (623, np.float64(0.0)), (624, np.float64(0.0)), (625, np.float64(0.0)), (626, np.float64(0.0)), (627, np.float64(0.0)), (628, np.float64(0.0)), (629, np.float64(0.0)), (630, np.float64(0.0)), (631, np.float64(0.0)), (632, np.float64(0.0)), (633, np.float64(0.0)), (634, np.float64(0.0)), (635, np.float64(0.0)), (636, np.float64(0.0)), (637, np.float64(0.0)), (638, np.float64(0.0)), (639, np.float64(0.0)), (640, np.float64(0.0)), (641, np.float64(0.0)), (642, np.float64(0.0)), (643, np.float64(0.0)), (644, np.float64(0.0)), (645, np.float64(0.0)), (646, np.float64(0.0)), (647, np.float64(0.0)), (648, np.float64(0.0)), (649, np.float64(0.0)), (650, np.float64(0.0)), (651, np.float64(0.0)), (652, np.float64(0.0)), (653, np.float64(0.0)), (654, np.float64(0.0)), (655, np.float64(0.0)), (656, np.float64(0.0)), (657, np.float64(0.0)), (658, np.float64(0.0)), (659, np.float64(0.0)), (660, np.float64(0.0)), (661, np.float64(0.0)), (662, np.float64(0.0)), (663, np.float64(0.0)), (664, np.float64(0.0)), (665, np.float64(0.0)), (666, np.float64(0.0)), (667, np.float64(0.0)), (668, np.float64(0.0)), (669, np.float64(0.0)), (670, np.float64(0.0)), (671, np.float64(0.0)), (672, np.float64(0.0)), (673, np.float64(0.0)), (674, np.float64(0.0)), (675, np.float64(0.0)), (676, np.float64(0.0)), (677, np.float64(0.0)), (678, np.float64(0.0)), (679, np.float64(0.0)), (680, np.float64(0.0)), (681, np.float64(0.0)), (682, np.float64(0.0)), (683, np.float64(0.0)), (684, np.float64(0.0)), (685, np.float64(0.0)), (686, np.float64(0.0)), (687, np.float64(0.0)), (688, np.float64(0.0)), (689, np.float64(0.0)), (690, np.float64(0.0)), (691, np.float64(0.0)), (692, np.float64(0.0)), (693, np.float64(0.0)), (694, np.float64(0.0)), (695, np.float64(0.0)), (696, np.float64(0.0)), (697, np.float64(0.0)), (698, np.float64(0.0)), (699, np.float64(0.0)), (700, np.float64(0.0)), (701, np.float64(0.0)), (702, np.float64(0.0)), (703, np.float64(0.0)), (704, np.float64(0.0)), (705, np.float64(0.0)), (706, np.float64(0.0)), (707, np.float64(0.0)), (708, np.float64(0.0)), (709, np.float64(0.0)), (710, np.float64(0.0)), (711, np.float64(0.0)), (712, np.float64(0.0)), (713, np.float64(0.0)), (714, np.float64(0.0)), (715, np.float64(0.0)), (716, np.float64(0.0)), (717, np.float64(0.0)), (718, np.float64(0.0)), (719, np.float64(0.0)), (720, np.float64(0.0)), (721, np.float64(0.0)), (722, np.float64(0.0)), (723, np.float64(0.0)), (724, np.float64(0.0)), (725, np.float64(0.0)), (726, np.float64(0.0)), (727, np.float64(0.0)), (728, np.float64(0.0)), (729, np.float64(0.0)), (730, np.float64(0.0)), (731, np.float64(0.0)), (732, np.float64(0.0)), (733, np.float64(0.0)), (734, np.float64(0.0)), (735, np.float64(0.0)), (736, np.float64(0.0)), (737, np.float64(0.0)), (738, np.float64(0.0)), (739, np.float64(0.0)), (740, np.float64(0.0)), (741, np.float64(0.0)), (742, np.float64(0.0)), (743, np.float64(0.0)), (744, np.float64(0.0)), (745, np.float64(0.0)), (746, np.float64(0.0)), (747, np.float64(0.0)), (748, np.float64(0.0)), (749, np.float64(0.0)), (750, np.float64(0.0)), (751, np.float64(0.0)), (752, np.float64(0.0)), (753, np.float64(0.0)), (754, np.float64(0.0)), (755, np.float64(0.0)), (756, np.float64(0.0)), (757, np.float64(0.0)), (758, np.float64(0.0)), (759, np.float64(0.0)), (760, np.float64(0.0)), (761, np.float64(0.0)), (762, np.float64(0.0)), (763, np.float64(0.0)), (764, np.float64(0.0)), (765, np.float64(0.0)), (766, np.float64(0.0)), (767, np.float64(0.0)), (768, np.float64(0.0)), (769, np.float64(0.0)), (770, np.float64(0.0)), (771, np.float64(0.0)), (772, np.float64(0.0)), (773, np.float64(0.0)), (774, np.float64(0.0)), (775, np.float64(0.0)), (776, np.float64(0.0)), (777, np.float64(0.0)), (778, np.float64(0.0)), (779, np.float64(0.0)), (780, np.float64(0.0)), (781, np.float64(0.0)), (782, np.float64(0.0)), (783, np.float64(0.0)), (784, np.float64(0.0)), (785, np.float64(0.0)), (786, np.float64(0.0)), (787, np.float64(0.0)), (788, np.float64(0.0)), (789, np.float64(0.0)), (790, np.float64(0.0)), (791, np.float64(0.0)), (792, np.float64(0.0)), (793, np.float64(0.0)), (794, np.float64(0.0)), (795, np.float64(0.0)), (796, np.float64(0.0)), (797, np.float64(0.0)), (798, np.float64(0.0)), (799, np.float64(0.0)), (800, np.float64(0.0)), (801, np.float64(0.0)), (802, np.float64(0.0)), (803, np.float64(0.0)), (804, np.float64(0.0)), (805, np.float64(0.0)), (806, np.float64(0.0)), (807, np.float64(0.0)), (808, np.float64(0.0)), (809, np.float64(0.0)), (810, np.float64(0.0)), (811, np.float64(0.0)), (812, np.float64(0.0)), (813, np.float64(0.0)), (814, np.float64(0.0)), (815, np.float64(0.0)), (816, np.float64(0.0)), (817, np.float64(0.0)), (818, np.float64(0.0)), (819, np.float64(0.0)), (820, np.float64(0.0)), (821, np.float64(0.0)), (822, np.float64(0.0)), (823, np.float64(0.0)), (824, np.float64(0.0)), (825, np.float64(0.0)), (826, np.float64(0.0)), (827, np.float64(0.0)), (828, np.float64(0.0)), (829, np.float64(0.0)), (830, np.float64(0.0)), (831, np.float64(0.0)), (832, np.float64(0.0)), (833, np.float64(0.0)), (834, np.float64(0.0)), (835, np.float64(0.0)), (836, np.float64(0.0)), (837, np.float64(0.0)), (838, np.float64(0.0)), (839, np.float64(0.0)), (840, np.float64(0.0)), (841, np.float64(0.0)), (842, np.float64(0.0)), (843, np.float64(0.0)), (844, np.float64(0.0)), (845, np.float64(0.0)), (846, np.float64(0.0)), (847, np.float64(0.0)), (848, np.float64(0.0)), (849, np.float64(0.0)), (850, np.float64(0.0)), (851, np.float64(0.0)), (852, np.float64(0.0)), (853, np.float64(0.0)), (854, np.float64(0.0)), (855, np.float64(0.0)), (856, np.float64(0.0)), (857, np.float64(0.0)), (858, np.float64(0.0)), (859, np.float64(0.0)), (860, np.float64(0.0)), (861, np.float64(0.0)), (862, np.float64(0.0)), (863, np.float64(0.0)), (864, np.float64(0.0)), (865, np.float64(0.0)), (866, np.float64(0.0)), (867, np.float64(0.0)), (868, np.float64(0.0)), (869, np.float64(0.0)), (870, np.float64(0.0)), (871, np.float64(0.0)), (872, np.float64(0.0)), (873, np.float64(0.0)), (874, np.float64(0.0)), (875, np.float64(0.0)), (876, np.float64(0.0)), (877, np.float64(0.0)), (878, np.float64(0.0)), (879, np.float64(0.0)), (880, np.float64(0.0)), (881, np.float64(0.0)), (882, np.float64(0.0)), (883, np.float64(0.0)), (884, np.float64(0.0)), (885, np.float64(0.0)), (886, np.float64(0.0)), (887, np.float64(0.0)), (888, np.float64(0.0)), (889, np.float64(0.0)), (890, np.float64(0.0)), (891, np.float64(0.0)), (892, np.float64(0.0)), (893, np.float64(0.0)), (894, np.float64(0.0)), (895, np.float64(0.0)), (896, np.float64(0.0)), (897, np.float64(0.0)), (898, np.float64(0.0)), (899, np.float64(0.0)), (900, np.float64(0.0)), (901, np.float64(0.0)), (902, np.float64(0.0)), (903, np.float64(0.0)), (904, np.float64(0.0)), (905, np.float64(0.0)), (906, np.float64(0.0)), (907, np.float64(0.0)), (908, np.float64(0.0)), (909, np.float64(0.0)), (910, np.float64(0.0)), (911, np.float64(0.0)), (912, np.float64(0.0)), (913, np.float64(0.0)), (914, np.float64(0.0)), (915, np.float64(0.0)), (916, np.float64(0.0)), (917, np.float64(0.0)), (918, np.float64(0.0)), (919, np.float64(0.0)), (920, np.float64(0.0)), (921, np.float64(0.0)), (922, np.float64(0.0)), (923, np.float64(0.0)), (924, np.float64(0.0)), (925, np.float64(0.0)), (926, np.float64(0.0)), (927, np.float64(0.0)), (928, np.float64(0.0)), (929, np.float64(0.0)), (930, np.float64(0.0)), (931, np.float64(0.0)), (932, np.float64(0.0)), (933, np.float64(0.0)), (934, np.float64(0.0)), (935, np.float64(0.0)), (936, np.float64(0.0)), (937, np.float64(0.0)), (938, np.float64(0.0)), (939, np.float64(0.0)), (940, np.float64(0.0)), (941, np.float64(0.0)), (942, np.float64(0.0)), (943, np.float64(0.0)), (944, np.float64(0.0)), (945, np.float64(0.0)), (946, np.float64(0.0)), (947, np.float64(0.0)), (948, np.float64(0.0)), (949, np.float64(0.0)), (950, np.float64(0.0)), (951, np.float64(0.0)), (952, np.float64(0.0)), (953, np.float64(0.0)), (954, np.float64(0.0)), (955, np.float64(0.0)), (956, np.float64(0.0)), (957, np.float64(0.0)), (958, np.float64(0.0)), (959, np.float64(0.0)), (960, np.float64(0.0)), (961, np.float64(0.0)), (962, np.float64(0.0)), (963, np.float64(0.0)), (964, np.float64(0.0)), (965, np.float64(0.0)), (966, np.float64(0.0)), (967, np.float64(0.0)), (968, np.float64(0.0)), (969, np.float64(0.0)), (970, np.float64(0.0)), (971, np.float64(0.0)), (972, np.float64(0.0)), (973, np.float64(0.0)), (974, np.float64(0.0)), (975, np.float64(0.0)), (976, np.float64(0.0)), (977, np.float64(0.0)), (978, np.float64(0.0)), (979, np.float64(0.0)), (980, np.float64(0.0)), (981, np.float64(0.0)), (982, np.float64(0.0)), (983, np.float64(0.0)), (984, np.float64(0.0)), (985, np.float64(0.0)), (986, np.float64(0.0)), (987, np.float64(0.0)), (988, np.float64(0.0)), (989, np.float64(0.0)), (990, np.float64(0.0)), (991, np.float64(0.0)), (992, np.float64(0.0)), (993, np.float64(0.0)), (994, np.float64(0.0)), (995, np.float64(0.0)), (996, np.float64(0.0)), (997, np.float64(0.0)), (998, np.float64(0.0)), (999, np.float64(0.0)), (1000, np.float64(0.0)), (1001, np.float64(0.0)), (1002, np.float64(0.0)), (1003, np.float64(0.0)), (1004, np.float64(0.0)), (1005, np.float64(0.0)), (1006, np.float64(0.0)), (1007, np.float64(0.0)), (1008, np.float64(0.0)), (1009, np.float64(0.0)), (1010, np.float64(0.0)), (1011, np.float64(0.0)), (1012, np.float64(0.0)), (1013, np.float64(0.0)), (1014, np.float64(0.0)), (1015, np.float64(0.0)), (1016, np.float64(0.0)), (1017, np.float64(0.0)), (1018, np.float64(0.0)), (1019, np.float64(0.0)), (1020, np.float64(0.0)), (1021, np.float64(0.0)), (1022, np.float64(0.0)), (1023, np.float64(0.0)), (1024, np.float64(0.0)), (1025, np.float64(0.0)), (1026, np.float64(0.0)), (1027, np.float64(0.0)), (1028, np.float64(0.0)), (1029, np.float64(0.0)), (1030, np.float64(0.0)), (1031, np.float64(0.0)), (1032, np.float64(0.0)), (1033, np.float64(0.0)), (1034, np.float64(0.0)), (1035, np.float64(0.0)), (1036, np.float64(0.0)), (1037, np.float64(0.0)), (1038, np.float64(0.0)), (1039, np.float64(0.0)), (1040, np.float64(0.0)), (1041, np.float64(0.0)), (1042, np.float64(0.0)), (1043, np.float64(0.0)), (1044, np.float64(0.0)), (1045, np.float64(0.0)), (1046, np.float64(0.0)), (1047, np.float64(0.0)), (1048, np.float64(0.0)), (1049, np.float64(0.0)), (1050, np.float64(0.0)), (1051, np.float64(0.0)), (1052, np.float64(0.0)), (1053, np.float64(0.0)), (1054, np.float64(0.0)), (1055, np.float64(0.0)), (1056, np.float64(0.0)), (1057, np.float64(0.0)), (1058, np.float64(0.0)), (1059, np.float64(0.0)), (1060, np.float64(0.0)), (1061, np.float64(0.0)), (1062, np.float64(0.0)), (1063, np.float64(0.0)), (1064, np.float64(0.0)), (1065, np.float64(0.0)), (1066, np.float64(0.0)), (1067, np.float64(0.0)), (1068, np.float64(0.0)), (1069, np.float64(0.0)), (1070, np.float64(0.0)), (1071, np.float64(0.0)), (1072, np.float64(0.0)), (1073, np.float64(0.0)), (1074, np.float64(0.0)), (1075, np.float64(0.0)), (1076, np.float64(0.0)), (1077, np.float64(0.0)), (1078, np.float64(0.0)), (1079, np.float64(0.0)), (1080, np.float64(0.0)), (1081, np.float64(0.0)), (1082, np.float64(0.0)), (1083, np.float64(0.0)), (1084, np.float64(0.0)), (1085, np.float64(0.0)), (1086, np.float64(0.0)), (1087, np.float64(0.0)), (1088, np.float64(0.0)), (1089, np.float64(0.0)), (1090, np.float64(0.0)), (1091, np.float64(0.0)), (1092, np.float64(0.0)), (1093, np.float64(0.0)), (1094, np.float64(0.0)), (1095, np.float64(0.0)), (1096, np.float64(0.0)), (1097, np.float64(0.0)), (1098, np.float64(0.0)), (1099, np.float64(0.0)), (1100, np.float64(0.0)), (1101, np.float64(0.0)), (1102, np.float64(0.0)), (1103, np.float64(0.0)), (1104, np.float64(0.0)), (1105, np.float64(0.0)), (1106, np.float64(0.0)), (1107, np.float64(0.0)), (1108, np.float64(0.0)), (1109, np.float64(0.0)), (1110, np.float64(0.0)), (1111, np.float64(0.0)), (1112, np.float64(0.0)), (1113, np.float64(0.0)), (1114, np.float64(0.0)), (1115, np.float64(0.0)), (1116, np.float64(0.0)), (1117, np.float64(0.0)), (1118, np.float64(0.0)), (1119, np.float64(0.0)), (1120, np.float64(0.0)), (1121, np.float64(0.0)), (1122, np.float64(0.0)), (1123, np.float64(0.0)), (1124, np.float64(0.0)), (1125, np.float64(0.0)), (1126, np.float64(0.0)), (1127, np.float64(0.0)), (1128, np.float64(0.0)), (1129, np.float64(0.0)), (1130, np.float64(0.0)), (1131, np.float64(0.0)), (1132, np.float64(0.0)), (1133, np.float64(0.0)), (1134, np.float64(0.0)), (1135, np.float64(0.0)), (1136, np.float64(0.0)), (1137, np.float64(0.0)), (1138, np.float64(0.0)), (1139, np.float64(0.0)), (1140, np.float64(0.0)), (1141, np.float64(0.0)), (1142, np.float64(0.0)), (1143, np.float64(0.0)), (1144, np.float64(0.0)), (1145, np.float64(0.0)), (1146, np.float64(0.0)), (1147, np.float64(0.0)), (1148, np.float64(0.0)), (1149, np.float64(0.0)), (1150, np.float64(0.0)), (1151, np.float64(0.0)), (1152, np.float64(0.0)), (1153, np.float64(0.0)), (1154, np.float64(0.0)), (1155, np.float64(0.0)), (1156, np.float64(0.0)), (1157, np.float64(0.0)), (1158, np.float64(0.0)), (1159, np.float64(0.0)), (1160, np.float64(0.0)), (1161, np.float64(0.0)), (1162, np.float64(0.0)), (1163, np.float64(0.0)), (1164, np.float64(0.0)), (1165, np.float64(0.0)), (1166, np.float64(0.0)), (1167, np.float64(0.0)), (1168, np.float64(0.0)), (1169, np.float64(0.0)), (1170, np.float64(0.0)), (1171, np.float64(0.0)), (1172, np.float64(0.0)), (1173, np.float64(0.0)), (1174, np.float64(0.0)), (1175, np.float64(0.0)), (1176, np.float64(0.0)), (1177, np.float64(0.0)), (1178, np.float64(0.0)), (1179, np.float64(0.0)), (1180, np.float64(0.0)), (1181, np.float64(0.0)), (1182, np.float64(0.0)), (1183, np.float64(0.0)), (1184, np.float64(0.0)), (1185, np.float64(0.0)), (1186, np.float64(0.0)), (1187, np.float64(0.0)), (1188, np.float64(0.0)), (1189, np.float64(0.0)), (1190, np.float64(0.0)), (1191, np.float64(0.0)), (1192, np.float64(0.0)), (1193, np.float64(0.0)), (1194, np.float64(0.0)), (1195, np.float64(0.0)), (1196, np.float64(0.0)), (1197, np.float64(0.0)), (1198, np.float64(0.0)), (1199, np.float64(0.0)), (1200, np.float64(0.0)), (1201, np.float64(0.0)), (1202, np.float64(0.0)), (1203, np.float64(0.0)), (1204, np.float64(0.0)), (1205, np.float64(0.0)), (1206, np.float64(0.0)), (1207, np.float64(0.0)), (1208, np.float64(0.0)), (1209, np.float64(0.0)), (1210, np.float64(0.0)), (1211, np.float64(0.0)), (1212, np.float64(0.0)), (1213, np.float64(0.0)), (1214, np.float64(0.0)), (1215, np.float64(0.0)), (1216, np.float64(0.0)), (1217, np.float64(0.0)), (1218, np.float64(0.0)), (1219, np.float64(0.0)), (1220, np.float64(0.0)), (1221, np.float64(0.0)), (1222, np.float64(0.0)), (1223, np.float64(0.0)), (1224, np.float64(0.0)), (1225, np.float64(0.0)), (1226, np.float64(0.0)), (1227, np.float64(0.0)), (1228, np.float64(0.0)), (1229, np.float64(0.0)), (1230, np.float64(0.0)), (1231, np.float64(0.0)), (1232, np.float64(0.0)), (1233, np.float64(0.0)), (1234, np.float64(0.0)), (1235, np.float64(0.0)), (1236, np.float64(0.0)), (1237, np.float64(0.0)), (1238, np.float64(0.0)), (1239, np.float64(0.0)), (1240, np.float64(0.0)), (1241, np.float64(0.0)), (1242, np.float64(0.0)), (1243, np.float64(0.0)), (1244, np.float64(0.0)), (1245, np.float64(0.0)), (1246, np.float64(0.0)), (1247, np.float64(0.0)), (1248, np.float64(0.0)), (1249, np.float64(0.0)), (1250, np.float64(0.0)), (1251, np.float64(0.0)), (1252, np.float64(0.0)), (1253, np.float64(0.0)), (1254, np.float64(0.0)), (1255, np.float64(0.0)), (1256, np.float64(0.0)), (1257, np.float64(0.0)), (1258, np.float64(0.0)), (1259, np.float64(0.0)), (1260, np.float64(0.0)), (1261, np.float64(0.0)), (1262, np.float64(0.0)), (1263, np.float64(0.0)), (1264, np.float64(0.0)), (1265, np.float64(0.0)), (1266, np.float64(0.0)), (1267, np.float64(0.0)), (1268, np.float64(0.0)), (1269, np.float64(0.0)), (1270, np.float64(0.0)), (1271, np.float64(0.0)), (1272, np.float64(0.0)), (1273, np.float64(0.0)), (1274, np.float64(0.0)), (1275, np.float64(0.0)), (1276, np.float64(0.0)), (1277, np.float64(0.0)), (1278, np.float64(0.0)), (1279, np.float64(0.0)), (1280, np.float64(0.0)), (1281, np.float64(0.0)), (1282, np.float64(0.0)), (1283, np.float64(0.0)), (1284, np.float64(0.0)), (1285, np.float64(0.0)), (1286, np.float64(0.0)), (1287, np.float64(0.0)), (1288, np.float64(0.0)), (1289, np.float64(0.0)), (1290, np.float64(0.0)), (1291, np.float64(0.0)), (1292, np.float64(0.0)), (1293, np.float64(0.0)), (1294, np.float64(0.0)), (1295, np.float64(0.0)), (1296, np.float64(0.0)), (1297, np.float64(0.0)), (1298, np.float64(0.0)), (1299, np.float64(0.0)), (1300, np.float64(0.0)), (1301, np.float64(0.0)), (1302, np.float64(0.0)), (1303, np.float64(0.0)), (1304, np.float64(0.0)), (1305, np.float64(0.0)), (1306, np.float64(0.0)), (1307, np.float64(0.0)), (1308, np.float64(0.0)), (1309, np.float64(0.0)), (1310, np.float64(0.0)), (1311, np.float64(0.0)), (1312, np.float64(0.0)), (1313, np.float64(0.0)), (1314, np.float64(0.0)), (1315, np.float64(0.0)), (1316, np.float64(0.0)), (1317, np.float64(0.0)), (1318, np.float64(0.0)), (1319, np.float64(0.0)), (1320, np.float64(0.0)), (1321, np.float64(0.0)), (1322, np.float64(0.0)), (1323, np.float64(0.0)), (1324, np.float64(0.0)), (1325, np.float64(0.0)), (1326, np.float64(0.0)), (1327, np.float64(0.0)), (1328, np.float64(0.0)), (1329, np.float64(0.0)), (1330, np.float64(0.0)), (1331, np.float64(0.0)), (1332, np.float64(0.0)), (1333, np.float64(0.0)), (1334, np.float64(0.0)), (1335, np.float64(0.0)), (1336, np.float64(0.0)), (1337, np.float64(0.0)), (1338, np.float64(0.0)), (1339, np.float64(0.0)), (1340, np.float64(0.0)), (1341, np.float64(0.0)), (1342, np.float64(0.0)), (1343, np.float64(0.0)), (1344, np.float64(0.0)), (1345, np.float64(0.0)), (1346, np.float64(0.0)), (1347, np.float64(0.0)), (1348, np.float64(0.0)), (1349, np.float64(0.0)), (1350, np.float64(0.0)), (1351, np.float64(0.0)), (1352, np.float64(0.0)), (1353, np.float64(0.0)), (1354, np.float64(0.0)), (1355, np.float64(0.0)), (1356, np.float64(0.0)), (1357, np.float64(0.0)), (1358, np.float64(0.0)), (1359, np.float64(0.0)), (1360, np.float64(0.0)), (1361, np.float64(0.0)), (1362, np.float64(0.0)), (1363, np.float64(0.0)), (1364, np.float64(0.0)), (1365, np.float64(0.0)), (1366, np.float64(0.0)), (1367, np.float64(0.0)), (1368, np.float64(0.0)), (1369, np.float64(0.0)), (1370, np.float64(0.0)), (1371, np.float64(0.0)), (1372, np.float64(0.0)), (1373, np.float64(0.0)), (1374, np.float64(0.0)), (1375, np.float64(0.0)), (1376, np.float64(0.0)), (1377, np.float64(0.0)), (1378, np.float64(0.0)), (1379, np.float64(0.0)), (1380, np.float64(0.0)), (1381, np.float64(0.0)), (1382, np.float64(0.0)), (1383, np.float64(0.0)), (1384, np.float64(0.0)), (1385, np.float64(0.0)), (1386, np.float64(0.0)), (1387, np.float64(0.0)), (1388, np.float64(0.0)), (1389, np.float64(0.0)), (1390, np.float64(0.0)), (1391, np.float64(0.0)), (1392, np.float64(0.0)), (1393, np.float64(0.0)), (1394, np.float64(0.0)), (1395, np.float64(0.0)), (1396, np.float64(0.0)), (1397, np.float64(0.0)), (1398, np.float64(0.0)), (1399, np.float64(0.0)), (1400, np.float64(0.0)), (1401, np.float64(0.0)), (1402, np.float64(0.0)), (1403, np.float64(0.0)), (1404, np.float64(0.0)), (1405, np.float64(0.0)), (1406, np.float64(0.0)), (1407, np.float64(0.0)), (1408, np.float64(0.0)), (1409, np.float64(0.0)), (1410, np.float64(0.0)), (1411, np.float64(0.0)), (1412, np.float64(0.0)), (1413, np.float64(0.0)), (1414, np.float64(0.0)), (1415, np.float64(0.0)), (1416, np.float64(0.0)), (1417, np.float64(0.0)), (1418, np.float64(0.0)), (1419, np.float64(0.0)), (1420, np.float64(0.0)), (1421, np.float64(0.0)), (1422, np.float64(0.0)), (1423, np.float64(0.0)), (1424, np.float64(0.0)), (1425, np.float64(0.0)), (1426, np.float64(0.0)), (1427, np.float64(0.0)), (1428, np.float64(0.0)), (1429, np.float64(0.0)), (1430, np.float64(0.0)), (1431, np.float64(0.0)), (1432, np.float64(0.0)), (1433, np.float64(0.0)), (1434, np.float64(0.0)), (1435, np.float64(0.0)), (1436, np.float64(0.0)), (1437, np.float64(0.0)), (1438, np.float64(0.0)), (1439, np.float64(0.0)), (1440, np.float64(0.0)), (1441, np.float64(0.0)), (1442, np.float64(0.0)), (1443, np.float64(0.0)), (1444, np.float64(0.0)), (1445, np.float64(0.0)), (1446, np.float64(0.0)), (1447, np.float64(0.0)), (1448, np.float64(0.0)), (1449, np.float64(0.0)), (1450, np.float64(0.0)), (1451, np.float64(0.0)), (1452, np.float64(0.0)), (1453, np.float64(0.0)), (1454, np.float64(0.0)), (1455, np.float64(0.0)), (1456, np.float64(0.0)), (1457, np.float64(0.0)), (1458, np.float64(0.0)), (1459, np.float64(0.0)), (1460, np.float64(0.0)), (1461, np.float64(0.0)), (1462, np.float64(0.0)), (1463, np.float64(0.0)), (1464, np.float64(0.0)), (1465, np.float64(0.0)), (1466, np.float64(0.0)), (1467, np.float64(0.0)), (1468, np.float64(0.0)), (1469, np.float64(0.0)), (1470, np.float64(0.0)), (1471, np.float64(0.0)), (1472, np.float64(0.0)), (1473, np.float64(0.0)), (1474, np.float64(0.0)), (1475, np.float64(0.0)), (1476, np.float64(0.0)), (1477, np.float64(0.0)), (1478, np.float64(0.0)), (1479, np.float64(0.0)), (1480, np.float64(0.0)), (1481, np.float64(0.0)), (1482, np.float64(0.0)), (1483, np.float64(0.0)), (1484, np.float64(0.0)), (1485, np.float64(0.0)), (1486, np.float64(0.0)), (1487, np.float64(0.0)), (1488, np.float64(0.0)), (1489, np.float64(0.0)), (1490, np.float64(0.0)), (1491, np.float64(0.0)), (1492, np.float64(0.0)), (1493, np.float64(0.0)), (1494, np.float64(0.0)), (1495, np.float64(0.0)), (1496, np.float64(0.0)), (1497, np.float64(0.0)), (1498, np.float64(0.0)), (1499, np.float64(0.0)), (1500, np.float64(0.0)), (1501, np.float64(0.0)), (1502, np.float64(0.0)), (1503, np.float64(0.0)), (1504, np.float64(0.0)), (1505, np.float64(0.0)), (1506, np.float64(0.0)), (1507, np.float64(0.0)), (1508, np.float64(0.0)), (1509, np.float64(0.0)), (1510, np.float64(0.0)), (1511, np.float64(0.0)), (1512, np.float64(0.0)), (1513, np.float64(0.0)), (1514, np.float64(0.0)), (1515, np.float64(0.0)), (1516, np.float64(0.0)), (1517, np.float64(0.0)), (1518, np.float64(0.0)), (1519, np.float64(0.0)), (1520, np.float64(0.0)), (1521, np.float64(0.0)), (1522, np.float64(0.0)), (1523, np.float64(0.0)), (1524, np.float64(0.0)), (1525, np.float64(0.0)), (1526, np.float64(0.0)), (1527, np.float64(0.0)), (1528, np.float64(0.0)), (1529, np.float64(0.0)), (1530, np.float64(0.0)), (1531, np.float64(0.0)), (1532, np.float64(0.0)), (1533, np.float64(0.0)), (1534, np.float64(0.0)), (1535, np.float64(0.0)), (1536, np.float64(0.0)), (1537, np.float64(0.0)), (1538, np.float64(0.0)), (1539, np.float64(0.0)), (1540, np.float64(0.0)), (1541, np.float64(0.0)), (1542, np.float64(0.0)), (1543, np.float64(0.0)), (1544, np.float64(0.0)), (1545, np.float64(0.0)), (1546, np.float64(0.0)), (1547, np.float64(0.0)), (1548, np.float64(0.0)), (1549, np.float64(0.0)), (1550, np.float64(0.0)), (1551, np.float64(0.0)), (1552, np.float64(0.0)), (1553, np.float64(0.0)), (1554, np.float64(0.0)), (1555, np.float64(0.0)), (1556, np.float64(0.0)), (1557, np.float64(0.0)), (1558, np.float64(0.0)), (1559, np.float64(0.0)), (1560, np.float64(0.0)), (1561, np.float64(0.0)), (1562, np.float64(0.0)), (1563, np.float64(0.0)), (1564, np.float64(0.0)), (1565, np.float64(0.0)), (1566, np.float64(0.0)), (1567, np.float64(0.0)), (1568, np.float64(0.0)), (1569, np.float64(0.0)), (1570, np.float64(0.0)), (1571, np.float64(0.0)), (1572, np.float64(0.0)), (1573, np.float64(0.0)), (1574, np.float64(0.0)), (1575, np.float64(0.0)), (1576, np.float64(0.0)), (1577, np.float64(0.0)), (1578, np.float64(0.0)), (1579, np.float64(0.0)), (1580, np.float64(0.0)), (1581, np.float64(0.0)), (1582, np.float64(0.0)), (1583, np.float64(0.0)), (1584, np.float64(0.0)), (1585, np.float64(0.0)), (1586, np.float64(0.0)), (1587, np.float64(0.0)), (1588, np.float64(0.0)), (1589, np.float64(0.0)), (1590, np.float64(0.0)), (1591, np.float64(0.0)), (1592, np.float64(0.0)), (1593, np.float64(0.0)), (1594, np.float64(0.0)), (1595, np.float64(0.0)), (1596, np.float64(0.0)), (1597, np.float64(0.0)), (1598, np.float64(0.0)), (1599, np.float64(0.0)), (1600, np.float64(0.0)), (1601, np.float64(0.0)), (1602, np.float64(0.0)), (1603, np.float64(0.0)), (1604, np.float64(0.0)), (1605, np.float64(0.0)), (1606, np.float64(0.0)), (1607, np.float64(0.0)), (1608, np.float64(0.0)), (1609, np.float64(0.0)), (1610, np.float64(0.0)), (1611, np.float64(0.0)), (1612, np.float64(0.0)), (1613, np.float64(0.0)), (1614, np.float64(0.0)), (1615, np.float64(0.0)), (1616, np.float64(0.0)), (1617, np.float64(0.0)), (1618, np.float64(0.0)), (1619, np.float64(0.0)), (1620, np.float64(0.0)), (1621, np.float64(0.0)), (1622, np.float64(0.0)), (1623, np.float64(0.0)), (1624, np.float64(0.0)), (1625, np.float64(0.0)), (1626, np.float64(0.0)), (1627, np.float64(0.0)), (1628, np.float64(0.0)), (1629, np.float64(0.0)), (1630, np.float64(0.0)), (1631, np.float64(0.0)), (1632, np.float64(0.0)), (1633, np.float64(0.0)), (1634, np.float64(0.0)), (1635, np.float64(0.0)), (1636, np.float64(0.0)), (1637, np.float64(0.0)), (1638, np.float64(0.0)), (1639, np.float64(0.0)), (1640, np.float64(0.0)), (1641, np.float64(0.0)), (1642, np.float64(0.0)), (1643, np.float64(0.0)), (1644, np.float64(0.0)), (1645, np.float64(0.0)), (1646, np.float64(0.0)), (1647, np.float64(0.0)), (1648, np.float64(0.0)), (1649, np.float64(0.0)), (1650, np.float64(0.0)), (1651, np.float64(0.0)), (1652, np.float64(0.0)), (1653, np.float64(0.0)), (1654, np.float64(0.0)), (1655, np.float64(0.0)), (1656, np.float64(0.0)), (1657, np.float64(0.0)), (1658, np.float64(0.0)), (1659, np.float64(0.0)), (1660, np.float64(0.0)), (1661, np.float64(0.0)), (1662, np.float64(0.0)), (1663, np.float64(0.0)), (1664, np.float64(0.0)), (1665, np.float64(0.0)), (1666, np.float64(0.0)), (1667, np.float64(0.0)), (1668, np.float64(0.0)), (1669, np.float64(0.0)), (1670, np.float64(0.0)), (1671, np.float64(0.0)), (1672, np.float64(0.0)), (1673, np.float64(0.0)), (1674, np.float64(0.0)), (1675, np.float64(0.0)), (1676, np.float64(0.0)), (1677, np.float64(0.0)), (1678, np.float64(0.0)), (1679, np.float64(0.0)), (1680, np.float64(0.0)), (1681, np.float64(0.0)), (1682, np.float64(0.0)), (1683, np.float64(0.0)), (1684, np.float64(0.0)), (1685, np.float64(0.0)), (1686, np.float64(0.0)), (1687, np.float64(0.0)), (1688, np.float64(0.0)), (1689, np.float64(0.0)), (1690, np.float64(0.0)), (1691, np.float64(0.0)), (1692, np.float64(0.0)), (1693, np.float64(0.0)), (1694, np.float64(0.0)), (1695, np.float64(0.0)), (1696, np.float64(0.0)), (1697, np.float64(0.0)), (1698, np.float64(0.0)), (1699, np.float64(0.0)), (1700, np.float64(0.0)), (1701, np.float64(0.0)), (1702, np.float64(0.0)), (1703, np.float64(0.0)), (1704, np.float64(0.0)), (1705, np.float64(0.0)), (1706, np.float64(0.0)), (1707, np.float64(0.0)), (1708, np.float64(0.0)), (1709, np.float64(0.0)), (1710, np.float64(0.0)), (1711, np.float64(0.0)), (1712, np.float64(0.0)), (1713, np.float64(0.0)), (1714, np.float64(0.0)), (1715, np.float64(0.0)), (1716, np.float64(0.0)), (1717, np.float64(0.0)), (1718, np.float64(0.0)), (1719, np.float64(0.0)), (1720, np.float64(0.0)), (1721, np.float64(0.0)), (1722, np.float64(0.0)), (1723, np.float64(0.0)), (1724, np.float64(0.0)), (1725, np.float64(0.0)), (1726, np.float64(0.0)), (1727, np.float64(0.0)), (1728, np.float64(0.0)), (1729, np.float64(0.0)), (1730, np.float64(0.0)), (1731, np.float64(0.0)), (1732, np.float64(0.0)), (1733, np.float64(0.0)), (1734, np.float64(0.0)), (1735, np.float64(0.0)), (1736, np.float64(0.0)), (1737, np.float64(0.0)), (1738, np.float64(0.0)), (1739, np.float64(0.0)), (1740, np.float64(0.0)), (1741, np.float64(0.0)), (1742, np.float64(0.0)), (1743, np.float64(0.0)), (1744, np.float64(0.0)), (1745, np.float64(0.0)), (1746, np.float64(0.0)), (1747, np.float64(0.0)), (1748, np.float64(0.0)), (1749, np.float64(0.0)), (1750, np.float64(0.0)), (1751, np.float64(0.0)), (1752, np.float64(0.0)), (1753, np.float64(0.0)), (1754, np.float64(0.0)), (1755, np.float64(0.0)), (1756, np.float64(0.0)), (1757, np.float64(0.0)), (1758, np.float64(0.0)), (1759, np.float64(0.0)), (1760, np.float64(0.0)), (1761, np.float64(0.0)), (1762, np.float64(0.0)), (1763, np.float64(0.0)), (1764, np.float64(0.0)), (1765, np.float64(0.0)), (1766, np.float64(0.0)), (1767, np.float64(0.0)), (1768, np.float64(0.0)), (1769, np.float64(0.0)), (1770, np.float64(0.0)), (1771, np.float64(0.0)), (1772, np.float64(0.0)), (1773, np.float64(0.0)), (1774, np.float64(0.0)), (1775, np.float64(0.0)), (1776, np.float64(0.0)), (1777, np.float64(0.0)), (1778, np.float64(0.0)), (1779, np.float64(0.0)), (1780, np.float64(0.0)), (1781, np.float64(0.0)), (1782, np.float64(0.0)), (1783, np.float64(0.0)), (1784, np.float64(0.0)), (1785, np.float64(0.0)), (1786, np.float64(0.0)), (1787, np.float64(0.0)), (1788, np.float64(0.0)), (1789, np.float64(0.0)), (1790, np.float64(0.0)), (1791, np.float64(0.0)), (1792, np.float64(0.0)), (1793, np.float64(0.0)), (1794, np.float64(0.0)), (1795, np.float64(0.0)), (1796, np.float64(0.0)), (1797, np.float64(0.0)), (1798, np.float64(0.0)), (1799, np.float64(0.0)), (1800, np.float64(0.0)), (1801, np.float64(0.0)), (1802, np.float64(0.0)), (1803, np.float64(0.0)), (1804, np.float64(0.0)), (1805, np.float64(0.0)), (1806, np.float64(0.0)), (1807, np.float64(0.0)), (1808, np.float64(0.0)), (1809, np.float64(0.0)), (1810, np.float64(0.0)), (1811, np.float64(0.0)), (1812, np.float64(0.0)), (1813, np.float64(0.0)), (1814, np.float64(0.0)), (1815, np.float64(0.0)), (1816, np.float64(0.0)), (1817, np.float64(0.0)), (1818, np.float64(0.0)), (1819, np.float64(0.0)), (1820, np.float64(0.0)), (1821, np.float64(0.0)), (1822, np.float64(0.0)), (1823, np.float64(0.0)), (1824, np.float64(0.0)), (1825, np.float64(0.0)), (1826, np.float64(0.0)), (1827, np.float64(0.0)), (1828, np.float64(0.0)), (1829, np.float64(0.0)), (1830, np.float64(0.0)), (1831, np.float64(0.0)), (1832, np.float64(0.0)), (1833, np.float64(0.0)), (1834, np.float64(0.0)), (1835, np.float64(0.0)), (1836, np.float64(0.0)), (1837, np.float64(0.0)), (1838, np.float64(0.0)), (1839, np.float64(0.0)), (1840, np.float64(0.0)), (1841, np.float64(0.0)), (1842, np.float64(0.0)), (1843, np.float64(0.0)), (1844, np.float64(0.0)), (1845, np.float64(0.0)), (1846, np.float64(0.0)), (1847, np.float64(0.0)), (1848, np.float64(0.0)), (1849, np.float64(0.0)), (1850, np.float64(0.0)), (1851, np.float64(0.0)), (1852, np.float64(0.0)), (1853, np.float64(0.0)), (1854, np.float64(0.0)), (1855, np.float64(0.0)), (1856, np.float64(0.0)), (1857, np.float64(0.0)), (1858, np.float64(0.0)), (1859, np.float64(0.0)), (1860, np.float64(0.0)), (1861, np.float64(0.0)), (1862, np.float64(0.0)), (1863, np.float64(0.0)), (1864, np.float64(0.0)), (1865, np.float64(0.0)), (1866, np.float64(0.0)), (1867, np.float64(0.0)), (1868, np.float64(0.0)), (1869, np.float64(0.0)), (1870, np.float64(0.0)), (1871, np.float64(0.0)), (1872, np.float64(0.0)), (1873, np.float64(0.0)), (1874, np.float64(0.0)), (1875, np.float64(0.0)), (1876, np.float64(0.0)), (1877, np.float64(0.0)), (1878, np.float64(0.0)), (1879, np.float64(0.0)), (1880, np.float64(0.0)), (1881, np.float64(0.0)), (1882, np.float64(0.0)), (1883, np.float64(0.0)), (1884, np.float64(0.0)), (1885, np.float64(0.0)), (1886, np.float64(0.0)), (1887, np.float64(0.0)), (1888, np.float64(0.0)), (1889, np.float64(0.0)), (1890, np.float64(0.0)), (1891, np.float64(0.0)), (1892, np.float64(0.0)), (1893, np.float64(0.0)), (1894, np.float64(0.0)), (1895, np.float64(0.0)), (1896, np.float64(0.0)), (1897, np.float64(0.0)), (1898, np.float64(0.0)), (1899, np.float64(0.0)), (1900, np.float64(0.0)), (1901, np.float64(0.0)), (1902, np.float64(0.0)), (1903, np.float64(0.0)), (1904, np.float64(0.0)), (1905, np.float64(0.0)), (1906, np.float64(0.0)), (1907, np.float64(0.0)), (1908, np.float64(0.0)), (1909, np.float64(0.0)), (1910, np.float64(0.0)), (1911, np.float64(0.0)), (1912, np.float64(0.0)), (1913, np.float64(0.0)), (1914, np.float64(0.0)), (1915, np.float64(0.0)), (1916, np.float64(0.0)), (1917, np.float64(0.0)), (1918, np.float64(0.0)), (1919, np.float64(0.0)), (1920, np.float64(0.0)), (1921, np.float64(0.0)), (1922, np.float64(0.0)), (1923, np.float64(0.0)), (1924, np.float64(0.0)), (1925, np.float64(0.0)), (1926, np.float64(0.0)), (1927, np.float64(0.0)), (1928, np.float64(0.0)), (1929, np.float64(0.0)), (1930, np.float64(0.0)), (1931, np.float64(0.0)), (1932, np.float64(0.0)), (1933, np.float64(0.0)), (1934, np.float64(0.0)), (1935, np.float64(0.0)), (1936, np.float64(0.0)), (1937, np.float64(0.0)), (1938, np.float64(0.0)), (1939, np.float64(0.0)), (1940, np.float64(0.0)), (1941, np.float64(0.0)), (1942, np.float64(0.0)), (1943, np.float64(0.0)), (1944, np.float64(0.0)), (1945, np.float64(0.0)), (1946, np.float64(0.0)), (1947, np.float64(0.0)), (1948, np.float64(0.0)), (1949, np.float64(0.0)), (1950, np.float64(0.0)), (1951, np.float64(0.0)), (1952, np.float64(0.0)), (1953, np.float64(0.0)), (1954, np.float64(0.0)), (1955, np.float64(0.0)), (1956, np.float64(0.0)), (1957, np.float64(0.0)), (1958, np.float64(0.0)), (1959, np.float64(0.0)), (1960, np.float64(0.0)), (1961, np.float64(0.0)), (1962, np.float64(0.0)), (1963, np.float64(0.0)), (1964, np.float64(0.0)), (1965, np.float64(0.0)), (1966, np.float64(0.0)), (1967, np.float64(0.0)), (1968, np.float64(0.0)), (1969, np.float64(0.0)), (1970, np.float64(0.0)), (1971, np.float64(0.0)), (1972, np.float64(0.0)), (1973, np.float64(0.0)), (1974, np.float64(0.0)), (1975, np.float64(0.0)), (1976, np.float64(0.0)), (1977, np.float64(0.0)), (1978, np.float64(0.0)), (1979, np.float64(0.0)), (1980, np.float64(0.0)), (1981, np.float64(0.0)), (1982, np.float64(0.0)), (1983, np.float64(0.0)), (1984, np.float64(0.0)), (1985, np.float64(0.0)), (1986, np.float64(0.0)), (1987, np.float64(0.0)), (1988, np.float64(0.0)), (1989, np.float64(0.0)), (1990, np.float64(0.0)), (1991, np.float64(0.0)), (1992, np.float64(0.0)), (1993, np.float64(0.0)), (1994, np.float64(0.0)), (1995, np.float64(0.0)), (1996, np.float64(0.0)), (1997, np.float64(0.0)), (1998, np.float64(0.0)), (1999, np.float64(0.0)), (2000, np.float64(0.0)), (2001, np.float64(0.0)), (2002, np.float64(0.0)), (2003, np.float64(0.0)), (2004, np.float64(0.0)), (2005, np.float64(0.0)), (2006, np.float64(0.0)), (2007, np.float64(0.0)), (2008, np.float64(0.0)), (2009, np.float64(0.0)), (2010, np.float64(0.0)), (2011, np.float64(0.0)), (2012, np.float64(0.0)), (2013, np.float64(0.0)), (2014, np.float64(0.0)), (2015, np.float64(0.0)), (2016, np.float64(0.0)), (2017, np.float64(0.0)), (2018, np.float64(0.0)), (2019, np.float64(0.0)), (2020, np.float64(0.0)), (2021, np.float64(0.0)), (2022, np.float64(0.0)), (2023, np.float64(0.0)), (2024, np.float64(0.0)), (2025, np.float64(0.0)), (2026, np.float64(0.0)), (2027, np.float64(0.0)), (2028, np.float64(0.0)), (2029, np.float64(0.0)), (2030, np.float64(0.0)), (2031, np.float64(0.0)), (2032, np.float64(0.0)), (2033, np.float64(0.0)), (2034, np.float64(0.0)), (2035, np.float64(0.0)), (2036, np.float64(0.0)), (2037, np.float64(0.0)), (2038, np.float64(0.0)), (2039, np.float64(0.0)), (2040, np.float64(0.0)), (2041, np.float64(0.0)), (2042, np.float64(0.0)), (2043, np.float64(0.0)), (2044, np.float64(0.0)), (2045, np.float64(0.0)), (2046, np.float64(0.0)), (2047, np.float64(0.0)), (2048, np.float64(0.0)), (2049, np.float64(0.0)), (2050, np.float64(0.0)), (2051, np.float64(0.0)), (2052, np.float64(0.0)), (2053, np.float64(0.0)), (2054, np.float64(0.0)), (2055, np.float64(0.0)), (2056, np.float64(0.0)), (2057, np.float64(0.0)), (2058, np.float64(0.0)), (2059, np.float64(0.0)), (2060, np.float64(0.0)), (2061, np.float64(0.0)), (2062, np.float64(0.0)), (2063, np.float64(0.0)), (2064, np.float64(0.0)), (2065, np.float64(0.0)), (2066, np.float64(0.0)), (2067, np.float64(0.0)), (2068, np.float64(0.0)), (2069, np.float64(0.0)), (2070, np.float64(0.0)), (2071, np.float64(0.0)), (2072, np.float64(0.0)), (2073, np.float64(0.0)), (2074, np.float64(0.0)), (2075, np.float64(0.0)), (2076, np.float64(0.0)), (2077, np.float64(0.0)), (2078, np.float64(0.0)), (2079, np.float64(0.0)), (2080, np.float64(0.0)), (2081, np.float64(0.0)), (2082, np.float64(0.0)), (2083, np.float64(0.0)), (2084, np.float64(0.0)), (2085, np.float64(0.0)), (2086, np.float64(0.0)), (2087, np.float64(0.0)), (2088, np.float64(0.0)), (2089, np.float64(0.0)), (2090, np.float64(0.0)), (2091, np.float64(0.0)), (2092, np.float64(0.0)), (2093, np.float64(0.0)), (2094, np.float64(0.0)), (2095, np.float64(0.0)), (2096, np.float64(0.0)), (2097, np.float64(0.0)), (2098, np.float64(0.0)), (2099, np.float64(0.0)), (2100, np.float64(0.0)), (2101, np.float64(0.0)), (2102, np.float64(0.0)), (2103, np.float64(0.0)), (2104, np.float64(0.0)), (2105, np.float64(0.0)), (2106, np.float64(0.0)), (2107, np.float64(0.0)), (2108, np.float64(0.0)), (2109, np.float64(0.0)), (2110, np.float64(0.0)), (2111, np.float64(0.0)), (2112, np.float64(0.0)), (2113, np.float64(0.0)), (2114, np.float64(0.0)), (2115, np.float64(0.0)), (2116, np.float64(0.0)), (2117, np.float64(0.0)), (2118, np.float64(0.0)), (2119, np.float64(0.0)), (2120, np.float64(0.0)), (2121, np.float64(0.0)), (2122, np.float64(0.0)), (2123, np.float64(0.0)), (2124, np.float64(0.0)), (2125, np.float64(0.0)), (2126, np.float64(0.0)), (2127, np.float64(0.0)), (2128, np.float64(0.0)), (2129, np.float64(0.0)), (2130, np.float64(0.0)), (2131, np.float64(0.0)), (2132, np.float64(0.0)), (2133, np.float64(0.0)), (2134, np.float64(0.0)), (2135, np.float64(0.0)), (2136, np.float64(0.0)), (2137, np.float64(0.0)), (2138, np.float64(0.0)), (2139, np.float64(0.0)), (2140, np.float64(0.0)), (2141, np.float64(0.0)), (2142, np.float64(0.0)), (2143, np.float64(0.0)), (2144, np.float64(0.0)), (2145, np.float64(0.0)), (2146, np.float64(0.0)), (2147, np.float64(0.0)), (2148, np.float64(0.0)), (2149, np.float64(0.0)), (2150, np.float64(0.0)), (2151, np.float64(0.0)), (2152, np.float64(0.0)), (2153, np.float64(0.0)), (2154, np.float64(0.0)), (2155, np.float64(0.0)), (2156, np.float64(0.0)), (2157, np.float64(0.0)), (2158, np.float64(0.0)), (2159, np.float64(0.0)), (2160, np.float64(0.0)), (2161, np.float64(0.0)), (2162, np.float64(0.0)), (2163, np.float64(0.0)), (2164, np.float64(0.0)), (2165, np.float64(0.0)), (2166, np.float64(0.0)), (2167, np.float64(0.0)), (2168, np.float64(0.0)), (2169, np.float64(0.0)), (2170, np.float64(0.0)), (2171, np.float64(0.0)), (2172, np.float64(0.0)), (2173, np.float64(0.0)), (2174, np.float64(0.0)), (2175, np.float64(0.0)), (2176, np.float64(0.0)), (2177, np.float64(0.0)), (2178, np.float64(0.0)), (2179, np.float64(0.0)), (2180, np.float64(0.0)), (2181, np.float64(0.0)), (2182, np.float64(0.0)), (2183, np.float64(0.0)), (2184, np.float64(0.0)), (2185, np.float64(0.0)), (2186, np.float64(0.0)), (2187, np.float64(0.0)), (2188, np.float64(0.0)), (2189, np.float64(0.0)), (2190, np.float64(0.0)), (2191, np.float64(0.0)), (2192, np.float64(0.0)), (2193, np.float64(0.0)), (2194, np.float64(0.0)), (2195, np.float64(0.0)), (2196, np.float64(0.0)), (2197, np.float64(0.0)), (2198, np.float64(0.0)), (2199, np.float64(0.0)), (2200, np.float64(0.0)), (2201, np.float64(0.0)), (2202, np.float64(0.0)), (2203, np.float64(0.0)), (2204, np.float64(0.0)), (2205, np.float64(0.0)), (2206, np.float64(0.0)), (2207, np.float64(0.0)), (2208, np.float64(0.0)), (2209, np.float64(0.0)), (2210, np.float64(0.0)), (2211, np.float64(0.0)), (2212, np.float64(0.0)), (2213, np.float64(0.0)), (2214, np.float64(0.0)), (2215, np.float64(0.0)), (2216, np.float64(0.0)), (2217, np.float64(0.0)), (2218, np.float64(0.0)), (2219, np.float64(0.0)), (2220, np.float64(0.0)), (2221, np.float64(0.0)), (2222, np.float64(0.0)), (2223, np.float64(0.0)), (2224, np.float64(0.0)), (2225, np.float64(0.0)), (2226, np.float64(0.0)), (2227, np.float64(0.0)), (2228, np.float64(0.0)), (2229, np.float64(0.0)), (2230, np.float64(0.0)), (2231, np.float64(0.0)), (2232, np.float64(0.0)), (2233, np.float64(0.0)), (2234, np.float64(0.0)), (2235, np.float64(0.0)), (2236, np.float64(0.0)), (2237, np.float64(0.0)), (2238, np.float64(0.0)), (2239, np.float64(0.0)), (2240, np.float64(0.0)), (2241, np.float64(0.0)), (2242, np.float64(0.0)), (2243, np.float64(0.0)), (2244, np.float64(0.0)), (2245, np.float64(0.0)), (2246, np.float64(0.0)), (2247, np.float64(0.0)), (2248, np.float64(0.0)), (2249, np.float64(0.0)), (2250, np.float64(0.0)), (2251, np.float64(0.0)), (2252, np.float64(0.0)), (2253, np.float64(0.0)), (2254, np.float64(0.0)), (2255, np.float64(0.0)), (2256, np.float64(0.0)), (2257, np.float64(0.0)), (2258, np.float64(0.0)), (2259, np.float64(0.0)), (2260, np.float64(0.0)), (2261, np.float64(0.0)), (2262, np.float64(0.0)), (2263, np.float64(0.0)), (2264, np.float64(0.0)), (2265, np.float64(0.0)), (2266, np.float64(0.0)), (2267, np.float64(0.0)), (2268, np.float64(0.0)), (2269, np.float64(0.0)), (2270, np.float64(0.0)), (2271, np.float64(0.0)), (2272, np.float64(0.0)), (2273, np.float64(0.0)), (2274, np.float64(0.0)), (2275, np.float64(0.0)), (2276, np.float64(0.0)), (2277, np.float64(0.0)), (2278, np.float64(0.0)), (2279, np.float64(0.0)), (2280, np.float64(0.0)), (2281, np.float64(0.0)), (2282, np.float64(0.0)), (2283, np.float64(0.0)), (2284, np.float64(0.0)), (2285, np.float64(0.0)), (2286, np.float64(0.0)), (2287, np.float64(0.0)), (2288, np.float64(0.0)), (2289, np.float64(0.0)), (2290, np.float64(0.0)), (2291, np.float64(0.0)), (2292, np.float64(0.0)), (2293, np.float64(0.0)), (2294, np.float64(0.0)), (2295, np.float64(0.0)), (2296, np.float64(0.0)), (2297, np.float64(0.0)), (2298, np.float64(0.0)), (2299, np.float64(0.0)), (2300, np.float64(0.0)), (2301, np.float64(0.0)), (2302, np.float64(0.0)), (2303, np.float64(0.0)), (2304, np.float64(0.0)), (2305, np.float64(0.0)), (2306, np.float64(0.0)), (2307, np.float64(0.0)), (2308, np.float64(0.0)), (2309, np.float64(0.0)), (2310, np.float64(0.0)), (2311, np.float64(0.0)), (2312, np.float64(0.0)), (2313, np.float64(0.0)), (2314, np.float64(0.0)), (2315, np.float64(0.0)), (2316, np.float64(0.0)), (2317, np.float64(0.0)), (2318, np.float64(0.0)), (2319, np.float64(0.0)), (2320, np.float64(0.0)), (2321, np.float64(0.0)), (2322, np.float64(0.0)), (2323, np.float64(0.0)), (2324, np.float64(0.0)), (2325, np.float64(0.0)), (2326, np.float64(0.0)), (2327, np.float64(0.0)), (2328, np.float64(0.0)), (2329, np.float64(0.0)), (2330, np.float64(0.0)), (2331, np.float64(0.0)), (2332, np.float64(0.0)), (2333, np.float64(0.0)), (2334, np.float64(0.0)), (2335, np.float64(0.0)), (2336, np.float64(0.0)), (2337, np.float64(0.0)), (2338, np.float64(0.0)), (2339, np.float64(0.0)), (2340, np.float64(0.0)), (2341, np.float64(0.0)), (2342, np.float64(0.0)), (2343, np.float64(0.0)), (2344, np.float64(0.0)), (2345, np.float64(0.0)), (2346, np.float64(0.0)), (2347, np.float64(0.0)), (2348, np.float64(0.0)), (2349, np.float64(0.0)), (2350, np.float64(0.0)), (2351, np.float64(0.0)), (2352, np.float64(0.0)), (2353, np.float64(0.0)), (2354, np.float64(0.0)), (2355, np.float64(0.0)), (2356, np.float64(0.0)), (2357, np.float64(0.0)), (2358, np.float64(0.0)), (2359, np.float64(0.0)), (2360, np.float64(0.0)), (2361, np.float64(0.0)), (2362, np.float64(0.0)), (2363, np.float64(0.0)), (2364, np.float64(0.0)), (2365, np.float64(0.0)), (2366, np.float64(0.0)), (2367, np.float64(0.0)), (2368, np.float64(0.0)), (2369, np.float64(0.0)), (2370, np.float64(0.0)), (2371, np.float64(0.0)), (2372, np.float64(0.0)), (2373, np.float64(0.0)), (2374, np.float64(0.0)), (2375, np.float64(0.0)), (2376, np.float64(0.0)), (2377, np.float64(0.0)), (2378, np.float64(0.0)), (2379, np.float64(0.0)), (2380, np.float64(0.0)), (2381, np.float64(0.0)), (2382, np.float64(0.0)), (2383, np.float64(0.0)), (2384, np.float64(0.0)), (2385, np.float64(0.0)), (2386, np.float64(0.0)), (2387, np.float64(0.0)), (2388, np.float64(0.0)), (2389, np.float64(0.0)), (2390, np.float64(0.0)), (2391, np.float64(0.0)), (2392, np.float64(0.0)), (2393, np.float64(0.0)), (2394, np.float64(0.0)), (2395, np.float64(0.0)), (2396, np.float64(0.0)), (2397, np.float64(0.0)), (2398, np.float64(0.0)), (2399, np.float64(0.0)), (2400, np.float64(0.0)), (2401, np.float64(0.0)), (2402, np.float64(0.0)), (2403, np.float64(0.0)), (2404, np.float64(0.0)), (2405, np.float64(0.0)), (2406, np.float64(0.0)), (2407, np.float64(0.0)), (2408, np.float64(0.0)), (2409, np.float64(0.0)), (2410, np.float64(0.0)), (2411, np.float64(0.0)), (2412, np.float64(0.0)), (2413, np.float64(0.0)), (2414, np.float64(0.0)), (2415, np.float64(0.0)), (2416, np.float64(0.0)), (2417, np.float64(0.0)), (2418, np.float64(0.0)), (2419, np.float64(0.0)), (2420, np.float64(0.0)), (2421, np.float64(0.0)), (2422, np.float64(0.0)), (2423, np.float64(0.0)), (2424, np.float64(0.0)), (2425, np.float64(0.0)), (2426, np.float64(0.0)), (2427, np.float64(0.0)), (2428, np.float64(0.0)), (2429, np.float64(0.0)), (2430, np.float64(0.0)), (2431, np.float64(0.0)), (2432, np.float64(0.0)), (2433, np.float64(0.0)), (2434, np.float64(0.0)), (2435, np.float64(0.0)), (2436, np.float64(0.0)), (2437, np.float64(0.0)), (2438, np.float64(0.0)), (2439, np.float64(0.0)), (2440, np.float64(0.0)), (2441, np.float64(0.0)), (2442, np.float64(0.0)), (2443, np.float64(0.0)), (2444, np.float64(0.0)), (2445, np.float64(0.0)), (2446, np.float64(0.0)), (2447, np.float64(0.0)), (2448, np.float64(0.0)), (2449, np.float64(0.0)), (2450, np.float64(0.0)), (2451, np.float64(0.0)), (2452, np.float64(0.0)), (2453, np.float64(0.0)), (2454, np.float64(0.0)), (2455, np.float64(0.0)), (2456, np.float64(0.0)), (2457, np.float64(0.0)), (2458, np.float64(0.0)), (2459, np.float64(0.0)), (2460, np.float64(0.0)), (2461, np.float64(0.0)), (2462, np.float64(0.0)), (2463, np.float64(0.0)), (2464, np.float64(0.0)), (2465, np.float64(0.0)), (2466, np.float64(0.0)), (2467, np.float64(0.0)), (2468, np.float64(0.0)), (2469, np.float64(0.0)), (2470, np.float64(0.0)), (2471, np.float64(0.0)), (2472, np.float64(0.0)), (2473, np.float64(0.0)), (2474, np.float64(0.0)), (2475, np.float64(0.0)), (2476, np.float64(0.0)), (2477, np.float64(0.0)), (2478, np.float64(0.0)), (2479, np.float64(0.0)), (2480, np.float64(0.0)), (2481, np.float64(0.0)), (2482, np.float64(0.0)), (2483, np.float64(0.0)), (2484, np.float64(0.0)), (2485, np.float64(0.0)), (2486, np.float64(0.0)), (2487, np.float64(0.0)), (2488, np.float64(0.0)), (2489, np.float64(0.0)), (2490, np.float64(0.0)), (2491, np.float64(0.0)), (2492, np.float64(0.0)), (2493, np.float64(0.0)), (2494, np.float64(0.0)), (2495, np.float64(0.0)), (2496, np.float64(0.0)), (2497, np.float64(0.0)), (2498, np.float64(0.0)), (2499, np.float64(0.0)), (2500, np.float64(0.0)), (2501, np.float64(0.0)), (2502, np.float64(0.0)), (2503, np.float64(0.0)), (2504, np.float64(0.0)), (2505, np.float64(0.0)), (2506, np.float64(0.0)), (2507, np.float64(0.0)), (2508, np.float64(0.0)), (2509, np.float64(0.0)), (2510, np.float64(0.0)), (2511, np.float64(0.0)), (2512, np.float64(0.0)), (2513, np.float64(0.0)), (2514, np.float64(0.0)), (2515, np.float64(0.0)), (2516, np.float64(0.0)), (2517, np.float64(0.0)), (2518, np.float64(0.0)), (2519, np.float64(0.0)), (2520, np.float64(0.0)), (2521, np.float64(0.0)), (2522, np.float64(0.0)), (2523, np.float64(0.0)), (2524, np.float64(0.0)), (2525, np.float64(0.0)), (2526, np.float64(0.0)), (2527, np.float64(0.0)), (2528, np.float64(0.0)), (2529, np.float64(0.0)), (2530, np.float64(0.0)), (2531, np.float64(0.0)), (2532, np.float64(0.0)), (2533, np.float64(0.0)), (2534, np.float64(0.0)), (2535, np.float64(0.0)), (2536, np.float64(0.0)), (2537, np.float64(0.0)), (2538, np.float64(0.0)), (2539, np.float64(0.0)), (2540, np.float64(0.0)), (2541, np.float64(0.0)), (2542, np.float64(0.0)), (2543, np.float64(0.0)), (2544, np.float64(0.0)), (2545, np.float64(0.0)), (2546, np.float64(0.0)), (2547, np.float64(0.0)), (2548, np.float64(0.0)), (2549, np.float64(0.0)), (2550, np.float64(0.0)), (2551, np.float64(0.0)), (2552, np.float64(0.0)), (2553, np.float64(0.0)), (2554, np.float64(0.0)), (2555, np.float64(0.0)), (2556, np.float64(0.0)), (2557, np.float64(0.0)), (2558, np.float64(0.0)), (2559, np.float64(0.0)), (2560, np.float64(0.0)), (2561, np.float64(0.0)), (2562, np.float64(0.0)), (2563, np.float64(0.0)), (2564, np.float64(0.0)), (2565, np.float64(0.0)), (2566, np.float64(0.0)), (2567, np.float64(0.0)), (2568, np.float64(0.0)), (2569, np.float64(0.0)), (2570, np.float64(0.0)), (2571, np.float64(0.0)), (2572, np.float64(0.0)), (2573, np.float64(0.0)), (2574, np.float64(0.0)), (2575, np.float64(0.0)), (2576, np.float64(0.0)), (2577, np.float64(0.0)), (2578, np.float64(0.0)), (2579, np.float64(0.0)), (2580, np.float64(0.0)), (2581, np.float64(0.0)), (2582, np.float64(0.0)), (2583, np.float64(0.0)), (2584, np.float64(0.0)), (2585, np.float64(0.0)), (2586, np.float64(0.0)), (2587, np.float64(0.0)), (2588, np.float64(0.0)), (2589, np.float64(0.0)), (2590, np.float64(0.0)), (2591, np.float64(0.0)), (2592, np.float64(0.0)), (2593, np.float64(0.0)), (2594, np.float64(0.0)), (2595, np.float64(0.0)), (2596, np.float64(0.0)), (2597, np.float64(0.0)), (2598, np.float64(0.0)), (2599, np.float64(0.0)), (2600, np.float64(0.0)), (2601, np.float64(0.0)), (2602, np.float64(0.0)), (2603, np.float64(0.0)), (2604, np.float64(0.0)), (2605, np.float64(0.0)), (2606, np.float64(0.0)), (2607, np.float64(0.0)), (2608, np.float64(0.0)), (2609, np.float64(0.0)), (2610, np.float64(0.0)), (2611, np.float64(0.0)), (2612, np.float64(0.0)), (2613, np.float64(0.0)), (2614, np.float64(0.0)), (2615, np.float64(0.0)), (2616, np.float64(0.0)), (2617, np.float64(0.0)), (2618, np.float64(0.0)), (2619, np.float64(0.0)), (2620, np.float64(0.0)), (2621, np.float64(0.0)), (2622, np.float64(0.0)), (2623, np.float64(0.0)), (2624, np.float64(0.0)), (2625, np.float64(0.0)), (2626, np.float64(0.0)), (2627, np.float64(0.0)), (2628, np.float64(0.0)), (2629, np.float64(0.0)), (2630, np.float64(0.0)), (2631, np.float64(0.0)), (2632, np.float64(0.0)), (2633, np.float64(0.0)), (2634, np.float64(0.0)), (2635, np.float64(0.0)), (2636, np.float64(0.0)), (2637, np.float64(0.0)), (2638, np.float64(0.0)), (2639, np.float64(0.0)), (2640, np.float64(0.0)), (2641, np.float64(0.0)), (2642, np.float64(0.0)), (2643, np.float64(0.0)), (2644, np.float64(0.0)), (2645, np.float64(0.0)), (2646, np.float64(0.0)), (2647, np.float64(0.0)), (2648, np.float64(0.0)), (2649, np.float64(0.0)), (2650, np.float64(0.0)), (2651, np.float64(0.0)), (2652, np.float64(0.0)), (2653, np.float64(0.0)), (2654, np.float64(0.0)), (2655, np.float64(0.0)), (2656, np.float64(0.0)), (2657, np.float64(0.0)), (2658, np.float64(0.0)), (2659, np.float64(0.0)), (2660, np.float64(0.0)), (2661, np.float64(0.0)), (2662, np.float64(0.0)), (2663, np.float64(0.0)), (2664, np.float64(0.0)), (2665, np.float64(0.0)), (2666, np.float64(0.0)), (2667, np.float64(0.0)), (2668, np.float64(0.0)), (2669, np.float64(0.0)), (2670, np.float64(0.0)), (2671, np.float64(0.0)), (2672, np.float64(0.0)), (2673, np.float64(0.0)), (2674, np.float64(0.0)), (2675, np.float64(0.0)), (2676, np.float64(0.0)), (2677, np.float64(0.0)), (2678, np.float64(0.0)), (2679, np.float64(0.0)), (2680, np.float64(0.0)), (2681, np.float64(0.0)), (2682, np.float64(0.0)), (2683, np.float64(0.0)), (2684, np.float64(0.0)), (2685, np.float64(0.0)), (2686, np.float64(0.0)), (2687, np.float64(0.0)), (2688, np.float64(0.0)), (2689, np.float64(0.0)), (2690, np.float64(0.0)), (2691, np.float64(0.0)), (2692, np.float64(0.0)), (2693, np.float64(0.0)), (2694, np.float64(0.0)), (2695, np.float64(0.0)), (2696, np.float64(0.0)), (2697, np.float64(0.0)), (2698, np.float64(0.0)), (2699, np.float64(0.0)), (2700, np.float64(0.0)), (2701, np.float64(0.0)), (2702, np.float64(0.0)), (2703, np.float64(0.0)), (2704, np.float64(0.0)), (2705, np.float64(0.0)), (2706, np.float64(0.0)), (2707, np.float64(0.0)), (2708, np.float64(0.0)), (2709, np.float64(0.0)), (2710, np.float64(0.0)), (2711, np.float64(0.0)), (2712, np.float64(0.0)), (2713, np.float64(0.0)), (2714, np.float64(0.0)), (2715, np.float64(0.0)), (2716, np.float64(0.0)), (2717, np.float64(0.0)), (2718, np.float64(0.0)), (2719, np.float64(0.0)), (2720, np.float64(0.0)), (2721, np.float64(0.0)), (2722, np.float64(0.0)), (2723, np.float64(0.0)), (2724, np.float64(0.0)), (2725, np.float64(0.0)), (2726, np.float64(0.0)), (2727, np.float64(0.0)), (2728, np.float64(0.0)), (2729, np.float64(0.0)), (2730, np.float64(0.0)), (2731, np.float64(0.0)), (2732, np.float64(0.0)), (2733, np.float64(0.0)), (2734, np.float64(0.0)), (2735, np.float64(0.0)), (2736, np.float64(0.0)), (2737, np.float64(0.0)), (2738, np.float64(0.0)), (2739, np.float64(0.0)), (2740, np.float64(0.0)), (2741, np.float64(0.0)), (2742, np.float64(0.0)), (2743, np.float64(0.0)), (2744, np.float64(0.0)), (2745, np.float64(0.0)), (2746, np.float64(0.0)), (2747, np.float64(0.0)), (2748, np.float64(0.0)), (2749, np.float64(0.0)), (2750, np.float64(0.0)), (2751, np.float64(0.0)), (2752, np.float64(0.0)), (2753, np.float64(0.0)), (2754, np.float64(0.0)), (2755, np.float64(0.0)), (2756, np.float64(0.0)), (2757, np.float64(0.0)), (2758, np.float64(0.0)), (2759, np.float64(0.0)), (2760, np.float64(0.0)), (2761, np.float64(0.0)), (2762, np.float64(0.0)), (2763, np.float64(0.0)), (2764, np.float64(0.0)), (2765, np.float64(0.0)), (2766, np.float64(0.0)), (2767, np.float64(0.0)), (2768, np.float64(0.0)), (2769, np.float64(0.0)), (2770, np.float64(0.0)), (2771, np.float64(0.0)), (2772, np.float64(0.0)), (2773, np.float64(0.0)), (2774, np.float64(0.0)), (2775, np.float64(0.0)), (2776, np.float64(0.0)), (2777, np.float64(0.0)), (2778, np.float64(0.0)), (2779, np.float64(0.0)), (2780, np.float64(0.0)), (2781, np.float64(0.0)), (2782, np.float64(0.0)), (2783, np.float64(0.0)), (2784, np.float64(0.0)), (2785, np.float64(0.0)), (2786, np.float64(0.0)), (2787, np.float64(0.0)), (2788, np.float64(0.0)), (2789, np.float64(0.0)), (2790, np.float64(0.0)), (2791, np.float64(0.0)), (2792, np.float64(0.0)), (2793, np.float64(0.0)), (2794, np.float64(0.0)), (2795, np.float64(0.0)), (2796, np.float64(0.0)), (2797, np.float64(0.0)), (2798, np.float64(0.0)), (2799, np.float64(0.0)), (2800, np.float64(0.0)), (2801, np.float64(0.0)), (2802, np.float64(0.0)), (2803, np.float64(0.0)), (2804, np.float64(0.0)), (2805, np.float64(0.0)), (2806, np.float64(0.0)), (2807, np.float64(0.0)), (2808, np.float64(0.0)), (2809, np.float64(0.0)), (2810, np.float64(0.0)), (2811, np.float64(0.0)), (2812, np.float64(0.0)), (2813, np.float64(0.0)), (2814, np.float64(0.0)), (2815, np.float64(0.0)), (2816, np.float64(0.0)), (2817, np.float64(0.0)), (2818, np.float64(0.0)), (2819, np.float64(0.0)), (2820, np.float64(0.0)), (2821, np.float64(0.0)), (2822, np.float64(0.0)), (2823, np.float64(0.0)), (2824, np.float64(0.0)), (2825, np.float64(0.0)), (2826, np.float64(0.0)), (2827, np.float64(0.0)), (2828, np.float64(0.0)), (2829, np.float64(0.0)), (2830, np.float64(0.0)), (2831, np.float64(0.0)), (2832, np.float64(0.0)), (2833, np.float64(0.0)), (2834, np.float64(0.0)), (2835, np.float64(0.0)), (2836, np.float64(0.0)), (2837, np.float64(0.0)), (2838, np.float64(0.0)), (2839, np.float64(0.0)), (2840, np.float64(0.0)), (2841, np.float64(0.0)), (2842, np.float64(0.0)), (2843, np.float64(0.0)), (2844, np.float64(0.0)), (2845, np.float64(0.0)), (2846, np.float64(0.0)), (2847, np.float64(0.0)), (2848, np.float64(0.0)), (2849, np.float64(0.0)), (2850, np.float64(0.0)), (2852, np.float64(0.0)), (2853, np.float64(0.0)), (2854, np.float64(0.0)), (2855, np.float64(0.0)), (2856, np.float64(0.0)), (2857, np.float64(0.0)), (2858, np.float64(0.0)), (2859, np.float64(0.0)), (2860, np.float64(0.0)), (2861, np.float64(0.0)), (2862, np.float64(0.0)), (2863, np.float64(0.0)), (2864, np.float64(0.0)), (2865, np.float64(0.0)), (2866, np.float64(0.0)), (2867, np.float64(0.0)), (2868, np.float64(0.0)), (2869, np.float64(0.0)), (2870, np.float64(0.0)), (2871, np.float64(0.0)), (2872, np.float64(0.0)), (2873, np.float64(0.0)), (2874, np.float64(0.0)), (2875, np.float64(0.0)), (2876, np.float64(0.0)), (2877, np.float64(0.0)), (2878, np.float64(0.0)), (2879, np.float64(0.0)), (2880, np.float64(0.0)), (2881, np.float64(0.0)), (2882, np.float64(0.0)), (2883, np.float64(0.0)), (2884, np.float64(0.0)), (2885, np.float64(0.0)), (2886, np.float64(0.0)), (2887, np.float64(0.0)), (2888, np.float64(0.0)), (2889, np.float64(0.0)), (2890, np.float64(0.0)), (2891, np.float64(0.0)), (2892, np.float64(0.0)), (2893, np.float64(0.0)), (2894, np.float64(0.0)), (2895, np.float64(0.0)), (2896, np.float64(0.0)), (2897, np.float64(0.0)), (2898, np.float64(0.0)), (2899, np.float64(0.0)), (2900, np.float64(0.0)), (2901, np.float64(0.0)), (2902, np.float64(0.0)), (2903, np.float64(0.0)), (2904, np.float64(0.0)), (2905, np.float64(0.0)), (2906, np.float64(0.0)), (2907, np.float64(0.0)), (2908, np.float64(0.0)), (2909, np.float64(0.0)), (2910, np.float64(0.0)), (2911, np.float64(0.0)), (2912, np.float64(0.0)), (2913, np.float64(0.0)), (2914, np.float64(0.0)), (2915, np.float64(0.0)), (2916, np.float64(0.0)), (2917, np.float64(0.0)), (2918, np.float64(0.0)), (2919, np.float64(0.0)), (2920, np.float64(0.0)), (2921, np.float64(0.0)), (2922, np.float64(0.0)), (2923, np.float64(0.0)), (2924, np.float64(0.0)), (2925, np.float64(0.0)), (2926, np.float64(0.0)), (2927, np.float64(0.0)), (2928, np.float64(0.0)), (2929, np.float64(0.0)), (2930, np.float64(0.0)), (2931, np.float64(0.0)), (2932, np.float64(0.0)), (2933, np.float64(0.0)), (2934, np.float64(0.0)), (2935, np.float64(0.0)), (2936, np.float64(0.0)), (2937, np.float64(0.0)), (2938, np.float64(0.0)), (2939, np.float64(0.0)), (2940, np.float64(0.0)), (2941, np.float64(0.0)), (2942, np.float64(0.0)), (2943, np.float64(0.0)), (2944, np.float64(0.0)), (2945, np.float64(0.0)), (2946, np.float64(0.0)), (2947, np.float64(0.0)), (2948, np.float64(0.0)), (2949, np.float64(0.0)), (2950, np.float64(0.0)), (2951, np.float64(0.0)), (2952, np.float64(0.0)), (2953, np.float64(0.0)), (2954, np.float64(0.0)), (2955, np.float64(0.0)), (2956, np.float64(0.0)), (2957, np.float64(0.0)), (2958, np.float64(0.0)), (2959, np.float64(0.0)), (2960, np.float64(0.0)), (2961, np.float64(0.0)), (2962, np.float64(0.0)), (2963, np.float64(0.0)), (2964, np.float64(0.0)), (2965, np.float64(0.0)), (2966, np.float64(0.0)), (2967, np.float64(0.0)), (2968, np.float64(0.0)), (2969, np.float64(0.0)), (2970, np.float64(0.0)), (2971, np.float64(0.0)), (2972, np.float64(0.0)), (2973, np.float64(0.0)), (2974, np.float64(0.0)), (2975, np.float64(0.0)), (2976, np.float64(0.0)), (2977, np.float64(0.0)), (2978, np.float64(0.0)), (2979, np.float64(0.0)), (2980, np.float64(0.0)), (2981, np.float64(0.0)), (2982, np.float64(0.0)), (2983, np.float64(0.0)), (2984, np.float64(0.0)), (2985, np.float64(0.0)), (2986, np.float64(0.0)), (2987, np.float64(0.0)), (2988, np.float64(0.0)), (2989, np.float64(0.0)), (2990, np.float64(0.0)), (2991, np.float64(0.0)), (2992, np.float64(0.0)), (2993, np.float64(0.0)), (2994, np.float64(0.0)), (2995, np.float64(0.0)), (2996, np.float64(0.0)), (2997, np.float64(0.0)), (2998, np.float64(0.0)), (2999, np.float64(0.0)), (3000, np.float64(0.0)), (3001, np.float64(0.0)), (3002, np.float64(0.0)), (3003, np.float64(0.0)), (3004, np.float64(0.0)), (3005, np.float64(0.0)), (3006, np.float64(0.0)), (3007, np.float64(0.0)), (3008, np.float64(0.0)), (3009, np.float64(0.0)), (3010, np.float64(0.0)), (3011, np.float64(0.0)), (3012, np.float64(0.0)), (3013, np.float64(0.0)), (3014, np.float64(0.0)), (3015, np.float64(0.0)), (3016, np.float64(0.0)), (3017, np.float64(0.0)), (3018, np.float64(0.0)), (3019, np.float64(0.0)), (3020, np.float64(0.0)), (3021, np.float64(0.0)), (3022, np.float64(0.0)), (3023, np.float64(0.0)), (3024, np.float64(0.0)), (3025, np.float64(0.0)), (3026, np.float64(0.0)), (3027, np.float64(0.0)), (3028, np.float64(0.0)), (3029, np.float64(0.0)), (3030, np.float64(0.0)), (3031, np.float64(0.0)), (3032, np.float64(0.0)), (3033, np.float64(0.0)), (3034, np.float64(0.0)), (3035, np.float64(0.0)), (3036, np.float64(0.0)), (3037, np.float64(0.0)), (3038, np.float64(0.0)), (3039, np.float64(0.0)), (3040, np.float64(0.0)), (3041, np.float64(0.0)), (3042, np.float64(0.0)), (3043, np.float64(0.0)), (3044, np.float64(0.0)), (3045, np.float64(0.0)), (3046, np.float64(0.0)), (3047, np.float64(0.0)), (3048, np.float64(0.0)), (3049, np.float64(0.0)), (3050, np.float64(0.0)), (3051, np.float64(0.0)), (3052, np.float64(0.0)), (3053, np.float64(0.0)), (3054, np.float64(0.0)), (3055, np.float64(0.0)), (3056, np.float64(0.0)), (3057, np.float64(0.0)), (3058, np.float64(0.0)), (3059, np.float64(0.0)), (3060, np.float64(0.0)), (3061, np.float64(0.0)), (3062, np.float64(0.0)), (3063, np.float64(0.0)), (3064, np.float64(0.0)), (3065, np.float64(0.0)), (3066, np.float64(0.0)), (3067, np.float64(0.0)), (3068, np.float64(0.0)), (3069, np.float64(0.0)), (3070, np.float64(0.0)), (3071, np.float64(0.0)), (3072, np.float64(0.0)), (3073, np.float64(0.0)), (3074, np.float64(0.0)), (3075, np.float64(0.0)), (3076, np.float64(0.0)), (3077, np.float64(0.0)), (3078, np.float64(0.0)), (3079, np.float64(0.0)), (3080, np.float64(0.0)), (3081, np.float64(0.0)), (3082, np.float64(0.0)), (3083, np.float64(0.0)), (3084, np.float64(0.0)), (3085, np.float64(0.0)), (3086, np.float64(0.0)), (3087, np.float64(0.0)), (3088, np.float64(0.0)), (3089, np.float64(0.0)), (3090, np.float64(0.0)), (3091, np.float64(0.0)), (3092, np.float64(0.0)), (3093, np.float64(0.0)), (3094, np.float64(0.0)), (3095, np.float64(0.0)), (3096, np.float64(0.0)), (3097, np.float64(0.0)), (3098, np.float64(0.0)), (3099, np.float64(0.0)), (3100, np.float64(0.0)), (3101, np.float64(0.0)), (3102, np.float64(0.0)), (3103, np.float64(0.0)), (3104, np.float64(0.0)), (3105, np.float64(0.0)), (3106, np.float64(0.0)), (3107, np.float64(0.0)), (3108, np.float64(0.0)), (3109, np.float64(0.0)), (3110, np.float64(0.0)), (3111, np.float64(0.0)), (3112, np.float64(0.0)), (3113, np.float64(0.0)), (3114, np.float64(0.0)), (3115, np.float64(0.0)), (3116, np.float64(0.0)), (3117, np.float64(0.0)), (3118, np.float64(0.0)), (3119, np.float64(0.0)), (3120, np.float64(0.0)), (3121, np.float64(0.0)), (3122, np.float64(0.0)), (3123, np.float64(0.0)), (3124, np.float64(0.0)), (3125, np.float64(0.0)), (3126, np.float64(0.0)), (3127, np.float64(0.0)), (3128, np.float64(0.0)), (3129, np.float64(0.0)), (3130, np.float64(0.0)), (3131, np.float64(0.0)), (3132, np.float64(0.0)), (3133, np.float64(0.0)), (3134, np.float64(0.0)), (3135, np.float64(0.0)), (3136, np.float64(0.0)), (3137, np.float64(0.0)), (3138, np.float64(0.0)), (3139, np.float64(0.0)), (3140, np.float64(0.0)), (3141, np.float64(0.0)), (3142, np.float64(0.0)), (3143, np.float64(0.0)), (3144, np.float64(0.0)), (3145, np.float64(0.0)), (3146, np.float64(0.0)), (3147, np.float64(0.0)), (3148, np.float64(0.0)), (3149, np.float64(0.0)), (3150, np.float64(0.0)), (3151, np.float64(0.0)), (3152, np.float64(0.0)), (3153, np.float64(0.0)), (3154, np.float64(0.0)), (3155, np.float64(0.0)), (3156, np.float64(0.0)), (3157, np.float64(0.0)), (3158, np.float64(0.0)), (3159, np.float64(0.0)), (3160, np.float64(0.0)), (3161, np.float64(0.0)), (3162, np.float64(0.0)), (3163, np.float64(0.0)), (3164, np.float64(0.0)), (3165, np.float64(0.0)), (3166, np.float64(0.0)), (3167, np.float64(0.0)), (3168, np.float64(0.0)), (3169, np.float64(0.0)), (3170, np.float64(0.0)), (3171, np.float64(0.0)), (3172, np.float64(0.0)), (3173, np.float64(0.0)), (3174, np.float64(0.0)), (3175, np.float64(0.0)), (3176, np.float64(0.0)), (3177, np.float64(0.0)), (3178, np.float64(0.0)), (3179, np.float64(0.0)), (3180, np.float64(0.0)), (3181, np.float64(0.0)), (3182, np.float64(0.0)), (3183, np.float64(0.0)), (3184, np.float64(0.0)), (3185, np.float64(0.0)), (3186, np.float64(0.0)), (3187, np.float64(0.0)), (3188, np.float64(0.0)), (3189, np.float64(0.0)), (3190, np.float64(0.0)), (3191, np.float64(0.0)), (3192, np.float64(0.0)), (3193, np.float64(0.0)), (3194, np.float64(0.0)), (3195, np.float64(0.0)), (3196, np.float64(0.0)), (3197, np.float64(0.0)), (3198, np.float64(0.0)), (3199, np.float64(0.0)), (3200, np.float64(0.0)), (3201, np.float64(0.0)), (3202, np.float64(0.0)), (3203, np.float64(0.0)), (3204, np.float64(0.0)), (3205, np.float64(0.0)), (3206, np.float64(0.0)), (3207, np.float64(0.0)), (3208, np.float64(0.0)), (3209, np.float64(0.0)), (3210, np.float64(0.0)), (3211, np.float64(0.0)), (3212, np.float64(0.0)), (3213, np.float64(0.0)), (3214, np.float64(0.0)), (3215, np.float64(0.0)), (3216, np.float64(0.0)), (3217, np.float64(0.0)), (3218, np.float64(0.0)), (3219, np.float64(0.0)), (3220, np.float64(0.0)), (3221, np.float64(0.0)), (3222, np.float64(0.0)), (3223, np.float64(0.0)), (3224, np.float64(0.0)), (3225, np.float64(0.0)), (3226, np.float64(0.0)), (3227, np.float64(0.0)), (3228, np.float64(0.0)), (3229, np.float64(0.0)), (3230, np.float64(0.0)), (3231, np.float64(0.0)), (3232, np.float64(0.0)), (3233, np.float64(0.0)), (3234, np.float64(0.0)), (3235, np.float64(0.0)), (3236, np.float64(0.0)), (3237, np.float64(0.0)), (3238, np.float64(0.0)), (3239, np.float64(0.0)), (3240, np.float64(0.0)), (3241, np.float64(0.0)), (3242, np.float64(0.0)), (3243, np.float64(0.0)), (3244, np.float64(0.0)), (3245, np.float64(0.0)), (3246, np.float64(0.0)), (3247, np.float64(0.0)), (3248, np.float64(0.0)), (3249, np.float64(0.0)), (3250, np.float64(0.0)), (3251, np.float64(0.0)), (3252, np.float64(0.0)), (3253, np.float64(0.0)), (3254, np.float64(0.0)), (3255, np.float64(0.0)), (3256, np.float64(0.0)), (3257, np.float64(0.0)), (3258, np.float64(0.0)), (3259, np.float64(0.0)), (3260, np.float64(0.0)), (3261, np.float64(0.0)), (3262, np.float64(0.0)), (3263, np.float64(0.0)), (3264, np.float64(0.0)), (3265, np.float64(0.0)), (3266, np.float64(0.0)), (3267, np.float64(0.0)), (3268, np.float64(0.0)), (3269, np.float64(0.0)), (3270, np.float64(0.0)), (3271, np.float64(0.0)), (3272, np.float64(0.0)), (3273, np.float64(0.0)), (3274, np.float64(0.0)), (3275, np.float64(0.0)), (3276, np.float64(0.0)), (3277, np.float64(0.0)), (3278, np.float64(0.0)), (3279, np.float64(0.0)), (3280, np.float64(0.0)), (3281, np.float64(0.0)), (3282, np.float64(0.0)), (3283, np.float64(0.0)), (3284, np.float64(0.0)), (3285, np.float64(0.0)), (3286, np.float64(0.0)), (3287, np.float64(0.0)), (3288, np.float64(0.0)), (3289, np.float64(0.0)), (3290, np.float64(0.0)), (3291, np.float64(0.0)), (3292, np.float64(0.0)), (3293, np.float64(0.0)), (3294, np.float64(0.0)), (3295, np.float64(0.0)), (3296, np.float64(0.0)), (3297, np.float64(0.0)), (3298, np.float64(0.0)), (3299, np.float64(0.0)), (3300, np.float64(0.0)), (3301, np.float64(0.0)), (3302, np.float64(0.0)), (3303, np.float64(0.0)), (3304, np.float64(0.0)), (3305, np.float64(0.0)), (3306, np.float64(0.0)), (3307, np.float64(0.0)), (3308, np.float64(0.0)), (3309, np.float64(0.0)), (3310, np.float64(0.0)), (3311, np.float64(0.0)), (3312, np.float64(0.0)), (3313, np.float64(0.0)), (3314, np.float64(0.0)), (3315, np.float64(0.0)), (3316, np.float64(0.0)), (3317, np.float64(0.0)), (3318, np.float64(0.0)), (3319, np.float64(0.0)), (3320, np.float64(0.0)), (3321, np.float64(0.0)), (3322, np.float64(0.0)), (3323, np.float64(0.0)), (3324, np.float64(0.0)), (3325, np.float64(0.0)), (3326, np.float64(0.0)), (3327, np.float64(0.0)), (3328, np.float64(0.0)), (3329, np.float64(0.0)), (3330, np.float64(0.0)), (3331, np.float64(0.0)), (3332, np.float64(0.0)), (3333, np.float64(0.0)), (3334, np.float64(0.0)), (3335, np.float64(0.0)), (3336, np.float64(0.0)), (3337, np.float64(0.0)), (3338, np.float64(0.0)), (3339, np.float64(0.0)), (3340, np.float64(0.0)), (3341, np.float64(0.0)), (3342, np.float64(0.0)), (3343, np.float64(0.0)), (3344, np.float64(0.0)), (3345, np.float64(0.0)), (3346, np.float64(0.0)), (3347, np.float64(0.0)), (3348, np.float64(0.0)), (3349, np.float64(0.0)), (3350, np.float64(0.0)), (3351, np.float64(0.0)), (3352, np.float64(0.0)), (3353, np.float64(0.0)), (3354, np.float64(0.0)), (3355, np.float64(0.0)), (3356, np.float64(0.0)), (3357, np.float64(0.0)), (3358, np.float64(0.0)), (3359, np.float64(0.0)), (3360, np.float64(0.0)), (3361, np.float64(0.0)), (3362, np.float64(0.0)), (3363, np.float64(0.0)), (3364, np.float64(0.0)), (3365, np.float64(0.0)), (3366, np.float64(0.0)), (3367, np.float64(0.0)), (3368, np.float64(0.0)), (3369, np.float64(0.0)), (3370, np.float64(0.0)), (3371, np.float64(0.0)), (3372, np.float64(0.0)), (3373, np.float64(0.0)), (3374, np.float64(0.0)), (3375, np.float64(0.0)), (3376, np.float64(0.0)), (3377, np.float64(0.0)), (3378, np.float64(0.0)), (3379, np.float64(0.0)), (3380, np.float64(0.0)), (3381, np.float64(0.0)), (3382, np.float64(0.0)), (3383, np.float64(0.0)), (3384, np.float64(0.0)), (3385, np.float64(0.0)), (3386, np.float64(0.0)), (3387, np.float64(0.0)), (3388, np.float64(0.0)), (3389, np.float64(0.0)), (3390, np.float64(0.0)), (3391, np.float64(0.0)), (3392, np.float64(0.0)), (3393, np.float64(0.0)), (3394, np.float64(0.0)), (3395, np.float64(0.0)), (3396, np.float64(0.0)), (3397, np.float64(0.0)), (3398, np.float64(0.0)), (3399, np.float64(0.0)), (3400, np.float64(0.0)), (3401, np.float64(0.0)), (3402, np.float64(0.0)), (3403, np.float64(0.0)), (3404, np.float64(0.0)), (3405, np.float64(0.0)), (3406, np.float64(0.0)), (3407, np.float64(0.0)), (3408, np.float64(0.0)), (3409, np.float64(0.0)), (3410, np.float64(0.0)), (3411, np.float64(0.0)), (3412, np.float64(0.0)), (3413, np.float64(0.0)), (3414, np.float64(0.0)), (3415, np.float64(0.0)), (3416, np.float64(0.0)), (3417, np.float64(0.0)), (3418, np.float64(0.0)), (3419, np.float64(0.0)), (3420, np.float64(0.0)), (3421, np.float64(0.0)), (3422, np.float64(0.0)), (3423, np.float64(0.0)), (3424, np.float64(0.0)), (3425, np.float64(0.0)), (3426, np.float64(0.0)), (3427, np.float64(0.0)), (3428, np.float64(0.0)), (3429, np.float64(0.0)), (3430, np.float64(0.0)), (3431, np.float64(0.0)), (3432, np.float64(0.0)), (3433, np.float64(0.0)), (3434, np.float64(0.0)), (3435, np.float64(0.0)), (3436, np.float64(0.0)), (3437, np.float64(0.0)), (3438, np.float64(0.0)), (3439, np.float64(0.0)), (3440, np.float64(0.0)), (3441, np.float64(0.0)), (3442, np.float64(0.0)), (3443, np.float64(0.0)), (3444, np.float64(0.0)), (3445, np.float64(0.0)), (3446, np.float64(0.0)), (3447, np.float64(0.0)), (3448, np.float64(0.0)), (3449, np.float64(0.0)), (3450, np.float64(0.0)), (3451, np.float64(0.0)), (3452, np.float64(0.0)), (3453, np.float64(0.0)), (3454, np.float64(0.0)), (3455, np.float64(0.0)), (3456, np.float64(0.0)), (3457, np.float64(0.0)), (3458, np.float64(0.0)), (3459, np.float64(0.0)), (3460, np.float64(0.0)), (3461, np.float64(0.0)), (3462, np.float64(0.0)), (3463, np.float64(0.0)), (3464, np.float64(0.0)), (3465, np.float64(0.0)), (3466, np.float64(0.0)), (3467, np.float64(0.0)), (3468, np.float64(0.0)), (3469, np.float64(0.0)), (3470, np.float64(0.0)), (3471, np.float64(0.0)), (3472, np.float64(0.0)), (3473, np.float64(0.0)), (3474, np.float64(0.0)), (3475, np.float64(0.0)), (3476, np.float64(0.0)), (3477, np.float64(0.0)), (3478, np.float64(0.0)), (3479, np.float64(0.0)), (3480, np.float64(0.0)), (3481, np.float64(0.0)), (3482, np.float64(0.0)), (3483, np.float64(0.0)), (3484, np.float64(0.0)), (3485, np.float64(0.0)), (3486, np.float64(0.0)), (3487, np.float64(0.0)), (3488, np.float64(0.0)), (3489, np.float64(0.0)), (3490, np.float64(0.0)), (3491, np.float64(0.0)), (3492, np.float64(0.0)), (3493, np.float64(0.0)), (3494, np.float64(0.0)), (3495, np.float64(0.0)), (3496, np.float64(0.0)), (3497, np.float64(0.0)), (3498, np.float64(0.0)), (3499, np.float64(0.0)), (3500, np.float64(0.0)), (3501, np.float64(0.0)), (3502, np.float64(0.0)), (3503, np.float64(0.0)), (3504, np.float64(0.0)), (3505, np.float64(0.0)), (3506, np.float64(0.0)), (3507, np.float64(0.0)), (3508, np.float64(0.0)), (3509, np.float64(0.0)), (3510, np.float64(0.0)), (3511, np.float64(0.0)), (3512, np.float64(0.0)), (3513, np.float64(0.0)), (3514, np.float64(0.0)), (3515, np.float64(0.0)), (3516, np.float64(0.0)), (3517, np.float64(0.0)), (3518, np.float64(0.0)), (3519, np.float64(0.0)), (3520, np.float64(0.0)), (3521, np.float64(0.0)), (3522, np.float64(0.0)), (3523, np.float64(0.0)), (3524, np.float64(0.0)), (3525, np.float64(0.0)), (3526, np.float64(0.0)), (3527, np.float64(0.0)), (3528, np.float64(0.0)), (3529, np.float64(0.0)), (3530, np.float64(0.0)), (3531, np.float64(0.0)), (3532, np.float64(0.0)), (3533, np.float64(0.0)), (3534, np.float64(0.0)), (3535, np.float64(0.0)), (3536, np.float64(0.0)), (3537, np.float64(0.0)), (3538, np.float64(0.0)), (3539, np.float64(0.0)), (3540, np.float64(0.0)), (3541, np.float64(0.0)), (3542, np.float64(0.0)), (3543, np.float64(0.0)), (3544, np.float64(0.0)), (3545, np.float64(0.0)), (3546, np.float64(0.0)), (3547, np.float64(0.0)), (3548, np.float64(0.0)), (3549, np.float64(0.0)), (3550, np.float64(0.0)), (3551, np.float64(0.0)), (3552, np.float64(0.0)), (3553, np.float64(0.0)), (3554, np.float64(0.0)), (3555, np.float64(0.0)), (3556, np.float64(0.0)), (3557, np.float64(0.0)), (3558, np.float64(0.0)), (3559, np.float64(0.0)), (3560, np.float64(0.0)), (3561, np.float64(0.0)), (3562, np.float64(0.0)), (3563, np.float64(0.0)), (3564, np.float64(0.0)), (3565, np.float64(0.0)), (3566, np.float64(0.0)), (3567, np.float64(0.0)), (3568, np.float64(0.0)), (3569, np.float64(0.0)), (3570, np.float64(0.0)), (3571, np.float64(0.0)), (3572, np.float64(0.0)), (3573, np.float64(0.0)), (3574, np.float64(0.0)), (3575, np.float64(0.0)), (3576, np.float64(0.0)), (3577, np.float64(0.0)), (3578, np.float64(0.0)), (3579, np.float64(0.0)), (3580, np.float64(0.0)), (3581, np.float64(0.0)), (3582, np.float64(0.0)), (3583, np.float64(0.0)), (3584, np.float64(0.0)), (3585, np.float64(0.0)), (3586, np.float64(0.0)), (3587, np.float64(0.0)), (3588, np.float64(0.0)), (3589, np.float64(0.0)), (3590, np.float64(0.0)), (3591, np.float64(0.0)), (3592, np.float64(0.0)), (3593, np.float64(0.0)), (3594, np.float64(0.0)), (3595, np.float64(0.0)), (3596, np.float64(0.0)), (3597, np.float64(0.0)), (3598, np.float64(0.0)), (3599, np.float64(0.0)), (3600, np.float64(0.0)), (3601, np.float64(0.0)), (3602, np.float64(0.0)), (3603, np.float64(0.0)), (3604, np.float64(0.0)), (3605, np.float64(0.0)), (3606, np.float64(0.0)), (3607, np.float64(0.0)), (3608, np.float64(0.0)), (3609, np.float64(0.0)), (3610, np.float64(0.0)), (3611, np.float64(0.0)), (3612, np.float64(0.0)), (3613, np.float64(0.0)), (3614, np.float64(0.0)), (3615, np.float64(0.0)), (3616, np.float64(0.0)), (3617, np.float64(0.0)), (3618, np.float64(0.0)), (3619, np.float64(0.0)), (3620, np.float64(0.0)), (3621, np.float64(0.0)), (3622, np.float64(0.0)), (3623, np.float64(0.0)), (3624, np.float64(0.0)), (3625, np.float64(0.0)), (3626, np.float64(0.0)), (3627, np.float64(0.0)), (3628, np.float64(0.0)), (3629, np.float64(0.0)), (3630, np.float64(0.0)), (3631, np.float64(0.0)), (3632, np.float64(0.0)), (3633, np.float64(0.0)), (3634, np.float64(0.0)), (3635, np.float64(0.0)), (3636, np.float64(0.0)), (3637, np.float64(0.0)), (3638, np.float64(0.0)), (3639, np.float64(0.0)), (3640, np.float64(0.0)), (3641, np.float64(0.0)), (3642, np.float64(0.0)), (3643, np.float64(0.0)), (3644, np.float64(0.0)), (3645, np.float64(0.0)), (3646, np.float64(0.0)), (3647, np.float64(0.0)), (3648, np.float64(0.0)), (3649, np.float64(0.0)), (3650, np.float64(0.0)), (3651, np.float64(0.0)), (3652, np.float64(0.0)), (3653, np.float64(0.0)), (3654, np.float64(0.0)), (3655, np.float64(0.0)), (3656, np.float64(0.0)), (3657, np.float64(0.0)), (3658, np.float64(0.0)), (3659, np.float64(0.0)), (3660, np.float64(0.0)), (3661, np.float64(0.0)), (3662, np.float64(0.0)), (3663, np.float64(0.0)), (3664, np.float64(0.0)), (3665, np.float64(0.0)), (3666, np.float64(0.0)), (3667, np.float64(0.0)), (3668, np.float64(0.0)), (3669, np.float64(0.0)), (3670, np.float64(0.0)), (3671, np.float64(0.0)), (3672, np.float64(0.0)), (3673, np.float64(0.0)), (3674, np.float64(0.0)), (3675, np.float64(0.0)), (3676, np.float64(0.0)), (3677, np.float64(0.0)), (3678, np.float64(0.0)), (3679, np.float64(0.0)), (3680, np.float64(0.0)), (3681, np.float64(0.0)), (3682, np.float64(0.0)), (3683, np.float64(0.0)), (3684, np.float64(0.0)), (3685, np.float64(0.0)), (3686, np.float64(0.0)), (3687, np.float64(0.0)), (3688, np.float64(0.0)), (3689, np.float64(0.0)), (3690, np.float64(0.0)), (3691, np.float64(0.0)), (3692, np.float64(0.0)), (3693, np.float64(0.0)), (3694, np.float64(0.0)), (3695, np.float64(0.0)), (3696, np.float64(0.0)), (3697, np.float64(0.0)), (3698, np.float64(0.0)), (3699, np.float64(0.0)), (3700, np.float64(0.0)), (3701, np.float64(0.0)), (3702, np.float64(0.0)), (3703, np.float64(0.0)), (3704, np.float64(0.0)), (3705, np.float64(0.0)), (3706, np.float64(0.0)), (3707, np.float64(0.0)), (3708, np.float64(0.0)), (3709, np.float64(0.0)), (3710, np.float64(0.0)), (3711, np.float64(0.0)), (3712, np.float64(0.0)), (3713, np.float64(0.0)), (3714, np.float64(0.0)), (3715, np.float64(0.0)), (3716, np.float64(0.0)), (3717, np.float64(0.0)), (3718, np.float64(0.0)), (3719, np.float64(0.0)), (3720, np.float64(0.0)), (3721, np.float64(0.0)), (3722, np.float64(0.0)), (3723, np.float64(0.0)), (3724, np.float64(0.0)), (3725, np.float64(0.0)), (3726, np.float64(0.0)), (3727, np.float64(0.0)), (3728, np.float64(0.0)), (3729, np.float64(0.0)), (3730, np.float64(0.0)), (3731, np.float64(0.0)), (3732, np.float64(0.0)), (3733, np.float64(0.0)), (3734, np.float64(0.0)), (3735, np.float64(0.0)), (3736, np.float64(0.0)), (3737, np.float64(0.0)), (3738, np.float64(0.0)), (3739, np.float64(0.0)), (3740, np.float64(0.0)), (3741, np.float64(0.0)), (3742, np.float64(0.0)), (3743, np.float64(0.0)), (3744, np.float64(0.0)), (3745, np.float64(0.0)), (3746, np.float64(0.0)), (3747, np.float64(0.0)), (3748, np.float64(0.0)), (3749, np.float64(0.0)), (3750, np.float64(0.0)), (3751, np.float64(0.0)), (3752, np.float64(0.0)), (3753, np.float64(0.0)), (3754, np.float64(0.0)), (3755, np.float64(0.0)), (3756, np.float64(0.0)), (3757, np.float64(0.0)), (3758, np.float64(0.0)), (3759, np.float64(0.0)), (3760, np.float64(0.0)), (3761, np.float64(0.0)), (3762, np.float64(0.0)), (3763, np.float64(0.0)), (3764, np.float64(0.0)), (3765, np.float64(0.0)), (3766, np.float64(0.0)), (3767, np.float64(0.0)), (3768, np.float64(0.0)), (3769, np.float64(0.0)), (3770, np.float64(0.0)), (3771, np.float64(0.0)), (3772, np.float64(0.0)), (3773, np.float64(0.0)), (3774, np.float64(0.0)), (3775, np.float64(0.0)), (3776, np.float64(0.0)), (3777, np.float64(0.0)), (3778, np.float64(0.0)), (3779, np.float64(0.0)), (3780, np.float64(0.0)), (3781, np.float64(0.0)), (3782, np.float64(0.0)), (3783, np.float64(0.0)), (3784, np.float64(0.0)), (3785, np.float64(0.0)), (3786, np.float64(0.0)), (3787, np.float64(0.0)), (3788, np.float64(0.0)), (3789, np.float64(0.0)), (3790, np.float64(0.0)), (3791, np.float64(0.0)), (3792, np.float64(0.0)), (3793, np.float64(0.0)), (3794, np.float64(0.0)), (3795, np.float64(0.0)), (3796, np.float64(0.0)), (3797, np.float64(0.0)), (3798, np.float64(0.0)), (3799, np.float64(0.0)), (3800, np.float64(0.0)), (3801, np.float64(0.0)), (3802, np.float64(0.0)), (3803, np.float64(0.0)), (3804, np.float64(0.0)), (3805, np.float64(0.0)), (3806, np.float64(0.0)), (3807, np.float64(0.0)), (3808, np.float64(0.0)), (3809, np.float64(0.0)), (3810, np.float64(0.0)), (3811, np.float64(0.0)), (3812, np.float64(0.0)), (3813, np.float64(0.0)), (3814, np.float64(0.0)), (3815, np.float64(0.0)), (3816, np.float64(0.0)), (3817, np.float64(0.0)), (3818, np.float64(0.0)), (3819, np.float64(0.0)), (3820, np.float64(0.0)), (3821, np.float64(0.0)), (3822, np.float64(0.0)), (3823, np.float64(0.0)), (3824, np.float64(0.0)), (3825, np.float64(0.0)), (3826, np.float64(0.0)), (3827, np.float64(0.0)), (3828, np.float64(0.0)), (3829, np.float64(0.0)), (3830, np.float64(0.0)), (3831, np.float64(0.0)), (3832, np.float64(0.0)), (3833, np.float64(0.0)), (3834, np.float64(0.0)), (3835, np.float64(0.0)), (3836, np.float64(0.0)), (3837, np.float64(0.0)), (3838, np.float64(0.0)), (3839, np.float64(0.0)), (3840, np.float64(0.0)), (3841, np.float64(0.0)), (3842, np.float64(0.0)), (3843, np.float64(0.0)), (3844, np.float64(0.0)), (3845, np.float64(0.0)), (3846, np.float64(0.0)), (3847, np.float64(0.0)), (3848, np.float64(0.0)), (3849, np.float64(0.0)), (3850, np.float64(0.0)), (3851, np.float64(0.0)), (3852, np.float64(0.0)), (3853, np.float64(0.0)), (3854, np.float64(0.0)), (3855, np.float64(0.0)), (3856, np.float64(0.0)), (3857, np.float64(0.0)), (3858, np.float64(0.0)), (3859, np.float64(0.0)), (3860, np.float64(0.0)), (3861, np.float64(0.0)), (3862, np.float64(0.0)), (3863, np.float64(0.0)), (3864, np.float64(0.0)), (3865, np.float64(0.0)), (3866, np.float64(0.0)), (3867, np.float64(0.0)), (3868, np.float64(0.0)), (3869, np.float64(0.0)), (3870, np.float64(0.0)), (3871, np.float64(0.0)), (3872, np.float64(0.0)), (3873, np.float64(0.0)), (3874, np.float64(0.0)), (3875, np.float64(0.0)), (3876, np.float64(0.0)), (3877, np.float64(0.0)), (3878, np.float64(0.0)), (3879, np.float64(0.0)), (3880, np.float64(0.0)), (3881, np.float64(0.0)), (3882, np.float64(0.0)), (3883, np.float64(0.0)), (3884, np.float64(0.0)), (3885, np.float64(0.0)), (3886, np.float64(0.0)), (3887, np.float64(0.0)), (3888, np.float64(0.0)), (3889, np.float64(0.0)), (3890, np.float64(0.0)), (3891, np.float64(0.0)), (3892, np.float64(0.0)), (3893, np.float64(0.0)), (3894, np.float64(0.0)), (3895, np.float64(0.0)), (3896, np.float64(0.0)), (3897, np.float64(0.0)), (3898, np.float64(0.0)), (3899, np.float64(0.0)), (3900, np.float64(0.0)), (3901, np.float64(0.0)), (3902, np.float64(0.0)), (3903, np.float64(0.0)), (3904, np.float64(0.0)), (3905, np.float64(0.0)), (3906, np.float64(0.0)), (3907, np.float64(0.0)), (3908, np.float64(0.0)), (3909, np.float64(0.0)), (3910, np.float64(0.0)), (3911, np.float64(0.0)), (3912, np.float64(0.0)), (3913, np.float64(0.0)), (3914, np.float64(0.0)), (3915, np.float64(0.0)), (3916, np.float64(0.0)), (3917, np.float64(0.0)), (3918, np.float64(0.0)), (3919, np.float64(0.0)), (3920, np.float64(0.0)), (3921, np.float64(0.0)), (3922, np.float64(0.0)), (3923, np.float64(0.0)), (3924, np.float64(0.0)), (3925, np.float64(0.0)), (3926, np.float64(0.0)), (3927, np.float64(0.0)), (3928, np.float64(0.0)), (3929, np.float64(0.0)), (3930, np.float64(0.0)), (3931, np.float64(0.0)), (3932, np.float64(0.0)), (3933, np.float64(0.0)), (3934, np.float64(0.0)), (3935, np.float64(0.0)), (3936, np.float64(0.0)), (3937, np.float64(0.0)), (3938, np.float64(0.0)), (3939, np.float64(0.0)), (3940, np.float64(0.0)), (3941, np.float64(0.0)), (3942, np.float64(0.0)), (3943, np.float64(0.0)), (3944, np.float64(0.0)), (3945, np.float64(0.0)), (3946, np.float64(0.0)), (3947, np.float64(0.0)), (3948, np.float64(0.0)), (3949, np.float64(0.0)), (3950, np.float64(0.0)), (3951, np.float64(0.0)), (3952, np.float64(0.0)), (3953, np.float64(0.0)), (3954, np.float64(0.0)), (3955, np.float64(0.0)), (3956, np.float64(0.0)), (3957, np.float64(0.0)), (3958, np.float64(0.0)), (3959, np.float64(0.0)), (3960, np.float64(0.0)), (3961, np.float64(0.0)), (3962, np.float64(0.0)), (3963, np.float64(0.0)), (3964, np.float64(0.0)), (3965, np.float64(0.0)), (3966, np.float64(0.0)), (3967, np.float64(0.0)), (3968, np.float64(0.0)), (3969, np.float64(0.0)), (3970, np.float64(0.0)), (3971, np.float64(0.0)), (3972, np.float64(0.0)), (3973, np.float64(0.0)), (3974, np.float64(0.0)), (3975, np.float64(0.0)), (3976, np.float64(0.0)), (3977, np.float64(0.0)), (3978, np.float64(0.0)), (3979, np.float64(0.0)), (3980, np.float64(0.0)), (3981, np.float64(0.0)), (3982, np.float64(0.0)), (3983, np.float64(0.0)), (3984, np.float64(0.0)), (3985, np.float64(0.0)), (3986, np.float64(0.0)), (3987, np.float64(0.0)), (3988, np.float64(0.0)), (3989, np.float64(0.0)), (3990, np.float64(0.0)), (3991, np.float64(0.0)), (3992, np.float64(0.0)), (3993, np.float64(0.0)), (3994, np.float64(0.0)), (3995, np.float64(0.0)), (3996, np.float64(0.0)), (3997, np.float64(0.0)), (3998, np.float64(0.0)), (3999, np.float64(0.0)), (4000, np.float64(0.0)), (4001, np.float64(0.0)), (4002, np.float64(0.0)), (4003, np.float64(0.0)), (4004, np.float64(0.0)), (4005, np.float64(0.0)), (4006, np.float64(0.0)), (4007, np.float64(0.0)), (4008, np.float64(0.0)), (4009, np.float64(0.0)), (4010, np.float64(0.0)), (4011, np.float64(0.0)), (4012, np.float64(0.0)), (4013, np.float64(0.0)), (4014, np.float64(0.0)), (4015, np.float64(0.0)), (4016, np.float64(0.0)), (4017, np.float64(0.0)), (4018, np.float64(0.0)), (4019, np.float64(0.0)), (4020, np.float64(0.0)), (4021, np.float64(0.0)), (4022, np.float64(0.0)), (4023, np.float64(0.0)), (4024, np.float64(0.0)), (4025, np.float64(0.0)), (4026, np.float64(0.0)), (4027, np.float64(0.0)), (4028, np.float64(0.0)), (4029, np.float64(0.0)), (4030, np.float64(0.0)), (4031, np.float64(0.0)), (4032, np.float64(0.0)), (4033, np.float64(0.0)), (4034, np.float64(0.0)), (4035, np.float64(0.0)), (4036, np.float64(0.0)), (4037, np.float64(0.0)), (4038, np.float64(0.0)), (4039, np.float64(0.0)), (4040, np.float64(0.0)), (4041, np.float64(0.0)), (4042, np.float64(0.0)), (4043, np.float64(0.0)), (4044, np.float64(0.0)), (4045, np.float64(0.0)), (4046, np.float64(0.0)), (4047, np.float64(0.0)), (4048, np.float64(0.0)), (4049, np.float64(0.0)), (4050, np.float64(0.0)), (4051, np.float64(0.0)), (4052, np.float64(0.0)), (4053, np.float64(0.0)), (4054, np.float64(0.0)), (4055, np.float64(0.0)), (4056, np.float64(0.0)), (4057, np.float64(0.0)), (4058, np.float64(0.0)), (4059, np.float64(0.0)), (4060, np.float64(0.0)), (4061, np.float64(0.0)), (4062, np.float64(0.0)), (4063, np.float64(0.0)), (4064, np.float64(0.0)), (4065, np.float64(0.0)), (4066, np.float64(0.0)), (4067, np.float64(0.0)), (4068, np.float64(0.0)), (4069, np.float64(0.0)), (4070, np.float64(0.0)), (4071, np.float64(0.0)), (4072, np.float64(0.0)), (4073, np.float64(0.0)), (4074, np.float64(0.0)), (4075, np.float64(0.0)), (4076, np.float64(0.0)), (4077, np.float64(0.0)), (4078, np.float64(0.0)), (4079, np.float64(0.0)), (4080, np.float64(0.0)), (4081, np.float64(0.0)), (4082, np.float64(0.0)), (4083, np.float64(0.0)), (4084, np.float64(0.0)), (4085, np.float64(0.0)), (4086, np.float64(0.0)), (4087, np.float64(0.0)), (4088, np.float64(0.0)), (4089, np.float64(0.0)), (4090, np.float64(0.0)), (4091, np.float64(0.0)), (4092, np.float64(0.0)), (4093, np.float64(0.0)), (4094, np.float64(0.0)), (4095, np.float64(0.0)), (4096, np.float64(0.0)), (4097, np.float64(0.0)), (4098, np.float64(0.0)), (4099, np.float64(0.0)), (4100, np.float64(0.0)), (4101, np.float64(0.0)), (4102, np.float64(0.0)), (4103, np.float64(0.0)), (4104, np.float64(0.0)), (4105, np.float64(0.0)), (4106, np.float64(0.0)), (4107, np.float64(0.0)), (4108, np.float64(0.0)), (4109, np.float64(0.0)), (4110, np.float64(0.0)), (4111, np.float64(0.0)), (4112, np.float64(0.0)), (4113, np.float64(0.0)), (4114, np.float64(0.0)), (4115, np.float64(0.0)), (4116, np.float64(0.0)), (4117, np.float64(0.0)), (4118, np.float64(0.0)), (4119, np.float64(0.0)), (4120, np.float64(0.0)), (4121, np.float64(0.0)), (4122, np.float64(0.0)), (4123, np.float64(0.0)), (4124, np.float64(0.0)), (4125, np.float64(0.0)), (4126, np.float64(0.0)), (4127, np.float64(0.0)), (4128, np.float64(0.0)), (4129, np.float64(0.0)), (4130, np.float64(0.0)), (4131, np.float64(0.0)), (4132, np.float64(0.0)), (4133, np.float64(0.0)), (4134, np.float64(0.0)), (4135, np.float64(0.0)), (4136, np.float64(0.0)), (4137, np.float64(0.0)), (4138, np.float64(0.0)), (4139, np.float64(0.0)), (4140, np.float64(0.0)), (4141, np.float64(0.0)), (4142, np.float64(0.0)), (4143, np.float64(0.0)), (4144, np.float64(0.0)), (4145, np.float64(0.0)), (4146, np.float64(0.0)), (4147, np.float64(0.0)), (4148, np.float64(0.0)), (4149, np.float64(0.0)), (4150, np.float64(0.0)), (4151, np.float64(0.0)), (4152, np.float64(0.0)), (4153, np.float64(0.0)), (4154, np.float64(0.0)), (4155, np.float64(0.0)), (4156, np.float64(0.0)), (4157, np.float64(0.0)), (4158, np.float64(0.0)), (4159, np.float64(0.0)), (4160, np.float64(0.0)), (4161, np.float64(0.0)), (4162, np.float64(0.0)), (4163, np.float64(0.0)), (4164, np.float64(0.0)), (4165, np.float64(0.0)), (4166, np.float64(0.0)), (4167, np.float64(0.0)), (4168, np.float64(0.0)), (4169, np.float64(0.0)), (4170, np.float64(0.0)), (4171, np.float64(0.0)), (4172, np.float64(0.0)), (4173, np.float64(0.0)), (4174, np.float64(0.0)), (4175, np.float64(0.0)), (4176, np.float64(0.0)), (4177, np.float64(0.0)), (4178, np.float64(0.0)), (4179, np.float64(0.0)), (4180, np.float64(0.0)), (4181, np.float64(0.0)), (4182, np.float64(0.0)), (4183, np.float64(0.0)), (4184, np.float64(0.0)), (4185, np.float64(0.0)), (4186, np.float64(0.0)), (4187, np.float64(0.0)), (4188, np.float64(0.0)), (4189, np.float64(0.0)), (4190, np.float64(0.0)), (4191, np.float64(0.0)), (4192, np.float64(0.0)), (4193, np.float64(0.0)), (4194, np.float64(0.0)), (4195, np.float64(0.0)), (4196, np.float64(0.0)), (4197, np.float64(0.0)), (4198, np.float64(0.0)), (4199, np.float64(0.0)), (4200, np.float64(0.0)), (4201, np.float64(0.0)), (4202, np.float64(0.0)), (4203, np.float64(0.0)), (4204, np.float64(0.0)), (4205, np.float64(0.0)), (4206, np.float64(0.0)), (4207, np.float64(0.0)), (4208, np.float64(0.0)), (4209, np.float64(0.0)), (4210, np.float64(0.0)), (4211, np.float64(0.0)), (4212, np.float64(0.0)), (4213, np.float64(0.0)), (4214, np.float64(0.0)), (4215, np.float64(0.0)), (4216, np.float64(0.0)), (4217, np.float64(0.0)), (4218, np.float64(0.0)), (4219, np.float64(0.0)), (4220, np.float64(0.0)), (4221, np.float64(0.0)), (4222, np.float64(0.0)), (4223, np.float64(0.0)), (4224, np.float64(0.0)), (4225, np.float64(0.0)), (4226, np.float64(0.0)), (4227, np.float64(0.0)), (4228, np.float64(0.0)), (4229, np.float64(0.0)), (4230, np.float64(0.0)), (4231, np.float64(0.0)), (4232, np.float64(0.0)), (4233, np.float64(0.0)), (4234, np.float64(0.0)), (4235, np.float64(0.0)), (4236, np.float64(0.0)), (4237, np.float64(0.0)), (4238, np.float64(0.0)), (4239, np.float64(0.0)), (4240, np.float64(0.0)), (4241, np.float64(0.0)), (4242, np.float64(0.0)), (4243, np.float64(0.0)), (4244, np.float64(0.0)), (4245, np.float64(0.0)), (4246, np.float64(0.0)), (4247, np.float64(0.0)), (4248, np.float64(0.0)), (4249, np.float64(0.0)), (4250, np.float64(0.0)), (4251, np.float64(0.0)), (4252, np.float64(0.0)), (4253, np.float64(0.0)), (4254, np.float64(0.0)), (4255, np.float64(0.0)), (4256, np.float64(0.0)), (4257, np.float64(0.0)), (4258, np.float64(0.0)), (4259, np.float64(0.0)), (4260, np.float64(0.0)), (4261, np.float64(0.0)), (4262, np.float64(0.0)), (4263, np.float64(0.0)), (4264, np.float64(0.0)), (4265, np.float64(0.0)), (4266, np.float64(0.0)), (4267, np.float64(0.0)), (4268, np.float64(0.0)), (4269, np.float64(0.0)), (4270, np.float64(0.0)), (4271, np.float64(0.0)), (4272, np.float64(0.0)), (4273, np.float64(0.0)), (4274, np.float64(0.0)), (4275, np.float64(0.0)), (4276, np.float64(0.0)), (4277, np.float64(0.0)), (4278, np.float64(0.0)), (4279, np.float64(0.0)), (4280, np.float64(0.0)), (4281, np.float64(0.0)), (4282, np.float64(0.0)), (4283, np.float64(0.0)), (4284, np.float64(0.0)), (4285, np.float64(0.0)), (4286, np.float64(0.0)), (4287, np.float64(0.0)), (4288, np.float64(0.0)), (4289, np.float64(0.0)), (4290, np.float64(0.0)), (4291, np.float64(0.0)), (4292, np.float64(0.0)), (4293, np.float64(0.0)), (4294, np.float64(0.0)), (4295, np.float64(0.0)), (4296, np.float64(0.0)), (4297, np.float64(0.0)), (4298, np.float64(0.0)), (4299, np.float64(0.0)), (4300, np.float64(0.0)), (4301, np.float64(0.0)), (4302, np.float64(0.0)), (4303, np.float64(0.0)), (4304, np.float64(0.0)), (4305, np.float64(0.0)), (4306, np.float64(0.0)), (4307, np.float64(0.0)), (4308, np.float64(0.0)), (4309, np.float64(0.0)), (4310, np.float64(0.0)), (4311, np.float64(0.0)), (4312, np.float64(0.0)), (4313, np.float64(0.0)), (4314, np.float64(0.0)), (4315, np.float64(0.0)), (4316, np.float64(0.0)), (4317, np.float64(0.0)), (4318, np.float64(0.0)), (4319, np.float64(0.0)), (4320, np.float64(0.0)), (4321, np.float64(0.0)), (4322, np.float64(0.0)), (4323, np.float64(0.0)), (4324, np.float64(0.0)), (4325, np.float64(0.0)), (4326, np.float64(0.0)), (4327, np.float64(0.0)), (4328, np.float64(0.0)), (4329, np.float64(0.0)), (4330, np.float64(0.0)), (4331, np.float64(0.0)), (4332, np.float64(0.0)), (4333, np.float64(0.0)), (4334, np.float64(0.0)), (4335, np.float64(0.0)), (4336, np.float64(0.0)), (4337, np.float64(0.0)), (4338, np.float64(0.0)), (4339, np.float64(0.0)), (4340, np.float64(0.0)), (4341, np.float64(0.0)), (4342, np.float64(0.0)), (4343, np.float64(0.0)), (4344, np.float64(0.0)), (4345, np.float64(0.0)), (4346, np.float64(0.0)), (4347, np.float64(0.0)), (4348, np.float64(0.0)), (4349, np.float64(0.0)), (4350, np.float64(0.0)), (4351, np.float64(0.0)), (4352, np.float64(0.0)), (4353, np.float64(0.0)), (4354, np.float64(0.0)), (4355, np.float64(0.0)), (4356, np.float64(0.0)), (4357, np.float64(0.0)), (4358, np.float64(0.0)), (4359, np.float64(0.0)), (4360, np.float64(0.0)), (4361, np.float64(0.0)), (4362, np.float64(0.0)), (4363, np.float64(0.0)), (4364, np.float64(0.0)), (4365, np.float64(0.0)), (4366, np.float64(0.0)), (4367, np.float64(0.0)), (4368, np.float64(0.0)), (4369, np.float64(0.0)), (4370, np.float64(0.0)), (4371, np.float64(0.0)), (4372, np.float64(0.0)), (4373, np.float64(0.0)), (4374, np.float64(0.0)), (4375, np.float64(0.0)), (4376, np.float64(0.0)), (4377, np.float64(0.0)), (4378, np.float64(0.0)), (4379, np.float64(0.0)), (4380, np.float64(0.0)), (4381, np.float64(0.0)), (4382, np.float64(0.0)), (4383, np.float64(0.0)), (4384, np.float64(0.0)), (4385, np.float64(0.0)), (4386, np.float64(0.0)), (4387, np.float64(0.0)), (4388, np.float64(0.0)), (4389, np.float64(0.0)), (4390, np.float64(0.0)), (4391, np.float64(0.0)), (4392, np.float64(0.0)), (4393, np.float64(0.0)), (4394, np.float64(0.0)), (4395, np.float64(0.0)), (4396, np.float64(0.0)), (4397, np.float64(0.0)), (4398, np.float64(0.0)), (4399, np.float64(0.0)), (4400, np.float64(0.0)), (4401, np.float64(0.0)), (4402, np.float64(0.0)), (4403, np.float64(0.0)), (4404, np.float64(0.0)), (4405, np.float64(0.0)), (4406, np.float64(0.0)), (4407, np.float64(0.0)), (4408, np.float64(0.0)), (4409, np.float64(0.0)), (4410, np.float64(0.0)), (4411, np.float64(0.0)), (4412, np.float64(0.0)), (4413, np.float64(0.0)), (4414, np.float64(0.0)), (4415, np.float64(0.0)), (4416, np.float64(0.0)), (4417, np.float64(0.0)), (4418, np.float64(0.0)), (4419, np.float64(0.0)), (4420, np.float64(0.0)), (4421, np.float64(0.0)), (4422, np.float64(0.0)), (4423, np.float64(0.0)), (4424, np.float64(0.0)), (4425, np.float64(0.0)), (4426, np.float64(0.0)), (4427, np.float64(0.0)), (4428, np.float64(0.0)), (4429, np.float64(0.0)), (4430, np.float64(0.0)), (4431, np.float64(0.0)), (4432, np.float64(0.0)), (4433, np.float64(0.0)), (4434, np.float64(0.0)), (4435, np.float64(0.0)), (4436, np.float64(0.0)), (4437, np.float64(0.0)), (4438, np.float64(0.0)), (4439, np.float64(0.0)), (4440, np.float64(0.0)), (4441, np.float64(0.0)), (4442, np.float64(0.0)), (4443, np.float64(0.0)), (4444, np.float64(0.0)), (4445, np.float64(0.0)), (4446, np.float64(0.0)), (4447, np.float64(0.0)), (4448, np.float64(0.0)), (4449, np.float64(0.0)), (4450, np.float64(0.0)), (4451, np.float64(0.0)), (4452, np.float64(0.0)), (4453, np.float64(0.0)), (4454, np.float64(0.0)), (4455, np.float64(0.0)), (4456, np.float64(0.0)), (4457, np.float64(0.0)), (4458, np.float64(0.0)), (4459, np.float64(0.0)), (4460, np.float64(0.0)), (4461, np.float64(0.0)), (4462, np.float64(0.0)), (4463, np.float64(0.0)), (4464, np.float64(0.0)), (4465, np.float64(0.0)), (4466, np.float64(0.0)), (4467, np.float64(0.0)), (4468, np.float64(0.0)), (4469, np.float64(0.0)), (4470, np.float64(0.0)), (4471, np.float64(0.0)), (4472, np.float64(0.0)), (4473, np.float64(0.0)), (4474, np.float64(0.0)), (4475, np.float64(0.0)), (4476, np.float64(0.0)), (4477, np.float64(0.0)), (4478, np.float64(0.0)), (4479, np.float64(0.0)), (4480, np.float64(0.0)), (4481, np.float64(0.0)), (4482, np.float64(0.0)), (4483, np.float64(0.0)), (4484, np.float64(0.0)), (4485, np.float64(0.0)), (4486, np.float64(0.0)), (4487, np.float64(0.0)), (4488, np.float64(0.0)), (4489, np.float64(0.0)), (4490, np.float64(0.0)), (4491, np.float64(0.0)), (4492, np.float64(0.0)), (4493, np.float64(0.0)), (4494, np.float64(0.0)), (4495, np.float64(0.0)), (4496, np.float64(0.0)), (4497, np.float64(0.0)), (4498, np.float64(0.0)), (4499, np.float64(0.0)), (4500, np.float64(0.0)), (4501, np.float64(0.0)), (4502, np.float64(0.0)), (4503, np.float64(0.0)), (4504, np.float64(0.0)), (4505, np.float64(0.0)), (4506, np.float64(0.0)), (4507, np.float64(0.0)), (4508, np.float64(0.0)), (4509, np.float64(0.0)), (4510, np.float64(0.0)), (4511, np.float64(0.0)), (4512, np.float64(0.0)), (4513, np.float64(0.0)), (4514, np.float64(0.0)), (4515, np.float64(0.0)), (4516, np.float64(0.0)), (4517, np.float64(0.0)), (4518, np.float64(0.0)), (4519, np.float64(0.0)), (4520, np.float64(0.0)), (4521, np.float64(0.0)), (4522, np.float64(0.0)), (4523, np.float64(0.0)), (4524, np.float64(0.0)), (4525, np.float64(0.0)), (4526, np.float64(0.0)), (4527, np.float64(0.0)), (4528, np.float64(0.0)), (4529, np.float64(0.0)), (4530, np.float64(0.0)), (4531, np.float64(0.0)), (4532, np.float64(0.0)), (4533, np.float64(0.0)), (4534, np.float64(0.0)), (4535, np.float64(0.0)), (4536, np.float64(0.0)), (4537, np.float64(0.0)), (4538, np.float64(0.0)), (4539, np.float64(0.0)), (4540, np.float64(0.0)), (4541, np.float64(0.0)), (4542, np.float64(0.0)), (4543, np.float64(0.0)), (4544, np.float64(0.0)), (4545, np.float64(0.0)), (4546, np.float64(0.0)), (4547, np.float64(0.0)), (4548, np.float64(0.0)), (4549, np.float64(0.0)), (4550, np.float64(0.0)), (4551, np.float64(0.0)), (4552, np.float64(0.0)), (4553, np.float64(0.0)), (4554, np.float64(0.0)), (4555, np.float64(0.0)), (4556, np.float64(0.0)), (4557, np.float64(0.0)), (4558, np.float64(0.0)), (4559, np.float64(0.0)), (4560, np.float64(0.0)), (4561, np.float64(0.0)), (4562, np.float64(0.0)), (4563, np.float64(0.0)), (4564, np.float64(0.0)), (4565, np.float64(0.0)), (4566, np.float64(0.0)), (4567, np.float64(0.0)), (4568, np.float64(0.0)), (4569, np.float64(0.0)), (4570, np.float64(0.0)), (4571, np.float64(0.0)), (4572, np.float64(0.0)), (4573, np.float64(0.0)), (4574, np.float64(0.0)), (4575, np.float64(0.0)), (4576, np.float64(0.0)), (4577, np.float64(0.0)), (4578, np.float64(0.0)), (4579, np.float64(0.0)), (4580, np.float64(0.0)), (4581, np.float64(0.0)), (4582, np.float64(0.0)), (4583, np.float64(0.0)), (4584, np.float64(0.0)), (4585, np.float64(0.0)), (4586, np.float64(0.0)), (4587, np.float64(0.0)), (4588, np.float64(0.0)), (4589, np.float64(0.0)), (4590, np.float64(0.0)), (4591, np.float64(0.0)), (4592, np.float64(0.0)), (4593, np.float64(0.0)), (4594, np.float64(0.0)), (4595, np.float64(0.0)), (4596, np.float64(0.0)), (4597, np.float64(0.0)), (4598, np.float64(0.0)), (4599, np.float64(0.0)), (4600, np.float64(0.0)), (4601, np.float64(0.0)), (4602, np.float64(0.0)), (4603, np.float64(0.0)), (4604, np.float64(0.0)), (4605, np.float64(0.0)), (4606, np.float64(0.0)), (4607, np.float64(0.0)), (4608, np.float64(0.0)), (4609, np.float64(0.0)), (4610, np.float64(0.0)), (4611, np.float64(0.0)), (4612, np.float64(0.0)), (4613, np.float64(0.0)), (4614, np.float64(0.0)), (4615, np.float64(0.0)), (4616, np.float64(0.0)), (4617, np.float64(0.0)), (4618, np.float64(0.0)), (4619, np.float64(0.0)), (4620, np.float64(0.0)), (4621, np.float64(0.0)), (4622, np.float64(0.0)), (4623, np.float64(0.0)), (4624, np.float64(0.0)), (4625, np.float64(0.0)), (4626, np.float64(0.0)), (4627, np.float64(0.0)), (4628, np.float64(0.0)), (4629, np.float64(0.0)), (4630, np.float64(0.0)), (4631, np.float64(0.0)), (4632, np.float64(0.0)), (4633, np.float64(0.0)), (4634, np.float64(0.0)), (4635, np.float64(0.0)), (4636, np.float64(0.0)), (4637, np.float64(0.0)), (4638, np.float64(0.0)), (4639, np.float64(0.0)), (4640, np.float64(0.0)), (4641, np.float64(0.0)), (4642, np.float64(0.0)), (4643, np.float64(0.0)), (4644, np.float64(0.0)), (4645, np.float64(0.0)), (4646, np.float64(0.0)), (4647, np.float64(0.0)), (4648, np.float64(0.0)), (4649, np.float64(0.0)), (4650, np.float64(0.0)), (4651, np.float64(0.0)), (4652, np.float64(0.0)), (4653, np.float64(0.0)), (4654, np.float64(0.0)), (4655, np.float64(0.0)), (4656, np.float64(0.0)), (4657, np.float64(0.0)), (4658, np.float64(0.0)), (4659, np.float64(0.0)), (4660, np.float64(0.0)), (4661, np.float64(0.0)), (4662, np.float64(0.0)), (4663, np.float64(0.0)), (4664, np.float64(0.0)), (4665, np.float64(0.0)), (4666, np.float64(0.0)), (4667, np.float64(0.0)), (4668, np.float64(0.0)), (4669, np.float64(0.0)), (4670, np.float64(0.0)), (4671, np.float64(0.0)), (4672, np.float64(0.0)), (4673, np.float64(0.0)), (4674, np.float64(0.0)), (4675, np.float64(0.0)), (4676, np.float64(0.0)), (4677, np.float64(0.0)), (4678, np.float64(0.0)), (4679, np.float64(0.0)), (4680, np.float64(0.0)), (4681, np.float64(0.0)), (4682, np.float64(0.0)), (4683, np.float64(0.0)), (4684, np.float64(0.0)), (4685, np.float64(0.0)), (4686, np.float64(0.0)), (4687, np.float64(0.0)), (4688, np.float64(0.0)), (4689, np.float64(0.0)), (4690, np.float64(0.0)), (4691, np.float64(0.0)), (4692, np.float64(0.0)), (4693, np.float64(0.0)), (4694, np.float64(0.0)), (4695, np.float64(0.0)), (4696, np.float64(0.0)), (4697, np.float64(0.0)), (4698, np.float64(0.0)), (4699, np.float64(0.0)), (4700, np.float64(0.0)), (4701, np.float64(0.0)), (4702, np.float64(0.0)), (4703, np.float64(0.0)), (4704, np.float64(0.0)), (4705, np.float64(0.0)), (4706, np.float64(0.0)), (4707, np.float64(0.0)), (4708, np.float64(0.0)), (4709, np.float64(0.0)), (4710, np.float64(0.0)), (4711, np.float64(0.0)), (4712, np.float64(0.0)), (4713, np.float64(0.0)), (4714, np.float64(0.0)), (4715, np.float64(0.0)), (4716, np.float64(0.0)), (4717, np.float64(0.0)), (4718, np.float64(0.0)), (4719, np.float64(0.0)), (4720, np.float64(0.0)), (4721, np.float64(0.0)), (4722, np.float64(0.0)), (4723, np.float64(0.0)), (4724, np.float64(0.0)), (4725, np.float64(0.0)), (4726, np.float64(0.0)), (4727, np.float64(0.0)), (4728, np.float64(0.0)), (4729, np.float64(0.0)), (4730, np.float64(0.0)), (4731, np.float64(0.0)), (4732, np.float64(0.0)), (4733, np.float64(0.0)), (4734, np.float64(0.0)), (4735, np.float64(0.0)), (4736, np.float64(0.0)), (4737, np.float64(0.0)), (4738, np.float64(0.0)), (4739, np.float64(0.0)), (4740, np.float64(0.0)), (4741, np.float64(0.0)), (4742, np.float64(0.0)), (4743, np.float64(0.0)), (4744, np.float64(0.0)), (4745, np.float64(0.0)), (4746, np.float64(0.0)), (4747, np.float64(0.0)), (4748, np.float64(0.0)), (4749, np.float64(0.0)), (4750, np.float64(0.0)), (4751, np.float64(0.0)), (4752, np.float64(0.0)), (4753, np.float64(0.0)), (4754, np.float64(0.0)), (4755, np.float64(0.0)), (4756, np.float64(0.0)), (4757, np.float64(0.0)), (4758, np.float64(0.0)), (4759, np.float64(0.0))]\n"
          ]
        }
      ]
    },
    {
      "cell_type": "markdown",
      "source": [
        "Print the similar movies based on index"
      ],
      "metadata": {
        "id": "C42kO4FELoTi"
      }
    },
    {
      "cell_type": "code",
      "source": [
        "print('Top 30 Movies suggested for you: \\n')\n",
        "\n",
        "i=1\n",
        "for movie in Sorted_Similar_Movies:\n",
        "  index= movie[0]\n",
        "  title_from_index= movie[1]\n",
        "  if (i<31):\n",
        "    print(i, '.' , movie)\n",
        "    i+=1"
      ],
      "metadata": {
        "colab": {
          "base_uri": "https://localhost:8080/"
        },
        "id": "5SLBFjPNOszf",
        "outputId": "35c3d908-af5e-45d0-d5d0-238b3a31572b"
      },
      "execution_count": null,
      "outputs": [
        {
          "output_type": "stream",
          "name": "stdout",
          "text": [
            "Top 30 Movies suggested for you: \n",
            "\n",
            "1 . (2851, np.float64(1.0000000000000002))\n",
            "2 . (0, np.float64(0.0))\n",
            "3 . (1, np.float64(0.0))\n",
            "4 . (2, np.float64(0.0))\n",
            "5 . (3, np.float64(0.0))\n",
            "6 . (4, np.float64(0.0))\n",
            "7 . (5, np.float64(0.0))\n",
            "8 . (6, np.float64(0.0))\n",
            "9 . (7, np.float64(0.0))\n",
            "10 . (8, np.float64(0.0))\n",
            "11 . (9, np.float64(0.0))\n",
            "12 . (10, np.float64(0.0))\n",
            "13 . (11, np.float64(0.0))\n",
            "14 . (12, np.float64(0.0))\n",
            "15 . (13, np.float64(0.0))\n",
            "16 . (14, np.float64(0.0))\n",
            "17 . (15, np.float64(0.0))\n",
            "18 . (16, np.float64(0.0))\n",
            "19 . (17, np.float64(0.0))\n",
            "20 . (18, np.float64(0.0))\n",
            "21 . (19, np.float64(0.0))\n",
            "22 . (20, np.float64(0.0))\n",
            "23 . (21, np.float64(0.0))\n",
            "24 . (22, np.float64(0.0))\n",
            "25 . (23, np.float64(0.0))\n",
            "26 . (24, np.float64(0.0))\n",
            "27 . (25, np.float64(0.0))\n",
            "28 . (26, np.float64(0.0))\n",
            "29 . (27, np.float64(0.0))\n",
            "30 . (28, np.float64(0.0))\n"
          ]
        }
      ]
    },
    {
      "cell_type": "code",
      "source": [
        "Movie_Name = input(' Enter your favourite movie name : ')\n",
        "\n",
        "list_of_all_titles = df['Movie_Title'].tolist()\n",
        "\n",
        "Find_Close_Match = difflib.get_close_matches(Movie_Name, list_of_all_titles)\n",
        "\n",
        "Close_Match = Find_Close_Match[0]\n",
        "\n",
        "Index_of_Movie = df[df.Movie_Title == Close_Match]['Movie_ID'].values[0]\n",
        "\n",
        "Recommendation_Score = list(enumerate(Similarity_score[Index_of_Movie]))\n",
        "\n",
        "sorted_similar_movies = sorted(Recommendation_Score, key = lambda x:x[1], reverse = True)\n",
        "\n",
        "print('Top 10 Movies suggested for you : \\n')\n",
        "\n",
        "i = 1\n",
        "\n",
        "for movie in sorted_similar_movies:\n",
        "  index = movie[0]\n",
        "  title_from_index = df[df.Movie_ID == index]['Movie_Title'].values\n",
        "  if (i<11):\n",
        "    print(i, '.',title_from_index)\n",
        "    i+=1"
      ],
      "metadata": {
        "colab": {
          "base_uri": "https://localhost:8080/"
        },
        "id": "q5RqzGAqRth5",
        "outputId": "99607279-428e-4900-a553-a29f476797e0"
      },
      "execution_count": null,
      "outputs": [
        {
          "output_type": "stream",
          "name": "stdout",
          "text": [
            " Enter your favourite movie name : Ironman\n",
            "Top 10 Movies suggested for you : \n",
            "\n",
            "1 . ['Iron Man']\n",
            "2 . ['The Imitation Game']\n",
            "3 . ['The Loss of Sexual Innocence']\n",
            "4 . ['Ted']\n",
            "5 . ['Frances Ha']\n",
            "6 . ['Anaconda']\n",
            "7 . ['The Geographer Drank His Globe Away']\n",
            "8 . ['Mortal Kombat']\n",
            "9 . ['The Book Thief']\n",
            "10 . ['The Color of Money']\n"
          ]
        }
      ]
    }
  ]
}